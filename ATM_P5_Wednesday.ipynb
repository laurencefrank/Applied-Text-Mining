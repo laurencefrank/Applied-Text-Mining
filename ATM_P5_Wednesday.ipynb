{
  "nbformat": 4,
  "nbformat_minor": 0,
  "metadata": {
    "colab": {
      "name": "ATM_P5_Wednesday.ipynb",
      "provenance": [],
      "authorship_tag": "ABX9TyPsTBtI/fo1PB9b9LHijNqx",
      "include_colab_link": true
    },
    "kernelspec": {
      "name": "python3",
      "display_name": "Python 3"
    },
    "language_info": {
      "name": "python"
    }
  },
  "cells": [
    {
      "cell_type": "markdown",
      "metadata": {
        "id": "view-in-github",
        "colab_type": "text"
      },
      "source": [
        "<a href=\"https://colab.research.google.com/github/laurencefrank/Applied-Text-Mining/blob/main/ATM_P5_Wednesday.ipynb\" target=\"_parent\"><img src=\"https://colab.research.google.com/assets/colab-badge.svg\" alt=\"Open In Colab\"/></a>"
      ]
    },
    {
      "cell_type": "markdown",
      "metadata": {
        "id": "BnnoImxlT1ke"
      },
      "source": [
        "## Applied Text Mining, Utrecht Summerschool 26 - 29 July 2021\n",
        "\n",
        "Tuesday 28 July, practical 5\n",
        "\n",
        "### Practical 5: Word Embeddings"
      ]
    },
    {
      "cell_type": "markdown",
      "metadata": {
        "id": "HwT03OoLT-l8"
      },
      "source": [
        "If you're using Google Colab, then you should be able to run these commands directly. Otherwise, make sure you have `sklearn`, `matplotlib` and `numpy` installed."
      ]
    },
    {
      "cell_type": "code",
      "metadata": {
        "id": "T4EMHBVL6kSv"
      },
      "source": [
        "%matplotlib inline\n",
        "import matplotlib.pyplot as plt\n",
        "import numpy as np    \n",
        "\n",
        "from sklearn.decomposition import PCA\n",
        "from numpy import linalg as LA"
      ],
      "execution_count": null,
      "outputs": []
    },
    {
      "cell_type": "markdown",
      "metadata": {
        "id": "j-i78MhnUYfk"
      },
      "source": [
        "First install the gensim library\n",
        "In this practical session we're going to use the gensim library. This library offers a variety of methods to read in pre-trained word embeddings as well as train your own.\n",
        "\n",
        "The website contains a lot of documentation, for example here: https://radimrehurek.com/gensim/auto_examples/index.html#documentation\n",
        "\n",
        "If gensim isn't installed yet, you can use the following command:"
      ]
    },
    {
      "cell_type": "code",
      "metadata": {
        "colab": {
          "base_uri": "https://localhost:8080/"
        },
        "id": "4jD7SWS5Ui6r",
        "outputId": "416c97e6-a80d-482d-e649-ee937bc3059e"
      },
      "source": [
        "!pip install gensim"
      ],
      "execution_count": null,
      "outputs": [
        {
          "output_type": "stream",
          "text": [
            "Requirement already satisfied: gensim in /usr/local/lib/python3.7/dist-packages (3.6.0)\n",
            "Requirement already satisfied: numpy>=1.11.3 in /usr/local/lib/python3.7/dist-packages (from gensim) (1.19.5)\n",
            "Requirement already satisfied: six>=1.5.0 in /usr/local/lib/python3.7/dist-packages (from gensim) (1.15.0)\n",
            "Requirement already satisfied: smart-open>=1.2.1 in /usr/local/lib/python3.7/dist-packages (from gensim) (5.1.0)\n",
            "Requirement already satisfied: scipy>=0.18.1 in /usr/local/lib/python3.7/dist-packages (from gensim) (1.4.1)\n"
          ],
          "name": "stdout"
        }
      ]
    },
    {
      "cell_type": "code",
      "metadata": {
        "id": "P2rhdclqUmmo"
      },
      "source": [
        "from gensim.test.utils import datapath"
      ],
      "execution_count": null,
      "outputs": []
    },
    {
      "cell_type": "markdown",
      "metadata": {
        "id": "v45zz2OdUqEN"
      },
      "source": [
        "## Reading in a pre-trained model\n",
        "\n",
        "First we load in a pre-trained GloVe model. Note: this can take around five minutes.\n",
        "\n",
        "See https://github.com/RaRe-Technologies/gensim-data for an overview of the models you can try. For example\n",
        "\n",
        "* word2vec-google-news-300: word2vec trained on Google news. 1662 MB.\n",
        "* glove-twitter-200: trained on Twitter: 758 MB\n",
        "\n",
        "We're going to start with `glove-wiki-gigaword-300` which is 376.1 MB to download. These embeddings are trained on Wikipedia (2014) and the Gigaword corpus, a large collection of newswire text."
      ]
    },
    {
      "cell_type": "code",
      "metadata": {
        "id": "7fLuH08ZVBMu"
      },
      "source": [
        "import gensim.downloader as api\n",
        "wv = api.load('glove-wiki-gigaword-300')"
      ],
      "execution_count": null,
      "outputs": []
    },
    {
      "cell_type": "markdown",
      "metadata": {
        "id": "FeP1hfXrVInJ"
      },
      "source": [
        "## Exploring the vocabulary\n",
        "\n",
        "How many words does the vocabulary contain?"
      ]
    },
    {
      "cell_type": "code",
      "metadata": {
        "colab": {
          "base_uri": "https://localhost:8080/"
        },
        "id": "rwSHE3ChVGfb",
        "outputId": "59746176-bacd-45ad-8581-ada858eeba59"
      },
      "source": [
        "len(wv.vocab)"
      ],
      "execution_count": null,
      "outputs": [
        {
          "output_type": "execute_result",
          "data": {
            "text/plain": [
              "400000"
            ]
          },
          "metadata": {
            "tags": []
          },
          "execution_count": 5
        }
      ]
    },
    {
      "cell_type": "markdown",
      "metadata": {
        "id": "gFS1MOzaWVZl"
      },
      "source": [
        "Is 'utrecht' in the vocabulary?"
      ]
    },
    {
      "cell_type": "code",
      "metadata": {
        "colab": {
          "base_uri": "https://localhost:8080/"
        },
        "id": "J2sg47LOWWNE",
        "outputId": "d573006e-ce0d-43e5-c395-da7700a38ce9"
      },
      "source": [
        "'utrecht' in wv.vocab"
      ],
      "execution_count": null,
      "outputs": [
        {
          "output_type": "execute_result",
          "data": {
            "text/plain": [
              "True"
            ]
          },
          "metadata": {
            "tags": []
          },
          "execution_count": 6
        }
      ]
    },
    {
      "cell_type": "markdown",
      "metadata": {
        "id": "JWyenkNuWaJo"
      },
      "source": [
        "Print a word embedding."
      ]
    },
    {
      "cell_type": "code",
      "metadata": {
        "colab": {
          "base_uri": "https://localhost:8080/"
        },
        "id": "FjKdPVruWbIw",
        "outputId": "db75dc28-612c-4a42-e478-763f43822751"
      },
      "source": [
        "wv[\"utrecht\"]"
      ],
      "execution_count": null,
      "outputs": [
        {
          "output_type": "execute_result",
          "data": {
            "text/plain": [
              "array([ 1.7246e-01, -9.2534e-02,  1.6428e-01,  5.6065e-01,  2.8004e-01,\n",
              "       -1.5202e-02,  2.7825e-01, -6.5038e-01,  6.6932e-03,  1.0561e-01,\n",
              "        7.0731e-01,  3.0788e-02,  1.6741e-02, -5.1297e-02,  3.9779e-02,\n",
              "        5.6926e-01, -2.2903e-01,  3.7331e-01,  3.4440e-01,  2.1143e-01,\n",
              "        1.9787e-01, -2.5727e-01,  2.0160e-01, -2.5648e-02, -4.7996e-01,\n",
              "       -1.4263e-02, -5.5923e-01,  1.0823e-01, -9.0213e-01,  1.9254e-01,\n",
              "        4.6962e-01, -4.2952e-01,  8.1015e-01,  1.1222e+00,  2.8237e-01,\n",
              "       -6.0666e-01,  2.8948e-01,  3.1003e-01, -4.3745e-01, -1.0235e-01,\n",
              "        3.1119e-01, -3.2637e-02, -5.5157e-01, -5.0208e-01,  4.2994e-01,\n",
              "        3.2319e-01,  4.6997e-01,  7.5685e-02, -3.1806e-02,  3.5623e-01,\n",
              "        5.9764e-02,  2.4482e-01,  1.0263e-03,  4.6040e-01,  1.5376e-01,\n",
              "       -2.7841e-01,  2.6469e-02, -1.0785e-01, -4.5553e-01,  2.3964e-01,\n",
              "       -4.4707e-01,  1.1521e-01,  2.1919e-01,  4.9167e-01,  3.4367e-01,\n",
              "       -1.2389e-01,  3.1069e-01,  3.7095e-01,  3.8991e-04, -4.6645e-01,\n",
              "        8.0286e-02,  1.8450e-01,  1.7059e-01, -4.2067e-01, -4.6711e-01,\n",
              "        6.6363e-01, -1.6728e-01, -1.2503e-01,  1.9912e-01, -8.2380e-02,\n",
              "       -1.6341e-01, -3.6798e-01, -1.2205e-01, -5.8729e-02, -6.8966e-01,\n",
              "       -6.4324e-01,  3.2243e-01,  1.3532e-01, -6.3114e-01,  3.8847e-01,\n",
              "        1.9127e-02, -9.1993e-01, -5.7550e-02, -4.5361e-01,  3.2246e-01,\n",
              "       -2.3290e-01,  3.6797e-01, -5.0768e-01, -6.1523e-01, -2.7449e-02,\n",
              "        9.9997e-02, -8.7165e-01,  7.3179e-01,  2.0256e-01, -9.5692e-02,\n",
              "       -1.4106e-02,  3.4639e-01,  6.0384e-01, -2.1368e-01,  4.5634e-01,\n",
              "        3.0276e-01, -2.1606e-01, -5.1111e-02, -8.0779e-02,  5.8191e-02,\n",
              "       -3.4681e-01,  1.4722e-01, -9.8759e-02, -2.3481e-01, -8.1633e-02,\n",
              "       -5.1594e-01, -2.9282e-01,  1.0665e-01, -3.3598e-02,  3.9112e-02,\n",
              "        6.1789e-02, -2.7619e-03,  1.8009e-01,  1.1321e-01,  1.2848e-01,\n",
              "        5.7384e-01,  2.0626e-01, -1.1215e-02,  5.8909e-01,  8.3938e-01,\n",
              "       -2.5339e-01,  4.7566e-01, -5.3437e-01,  7.6082e-02,  1.8165e-01,\n",
              "        5.7592e-01,  1.6382e-01, -2.9846e-02, -2.5505e-01,  2.9101e-01,\n",
              "       -2.4089e-01,  1.1434e-01,  3.5274e-01, -4.2624e-01,  2.4286e-02,\n",
              "        4.4413e-02, -4.6485e-02,  1.9847e-01,  7.0653e-01, -1.7389e-02,\n",
              "        9.8610e-01, -2.3929e-01,  8.0001e-01, -3.6342e-01,  1.1249e-01,\n",
              "       -3.0034e-01,  9.2404e-02, -2.5635e-01, -1.9328e-01, -1.2457e-01,\n",
              "        2.5057e-01, -4.5034e-01, -1.0178e-01,  2.4003e-01, -2.0324e-01,\n",
              "        3.9938e-02, -1.2958e-01, -3.9431e-01, -2.4845e-01, -4.1129e-03,\n",
              "       -3.4170e-03,  3.8176e-01,  2.1570e-01, -7.4349e-01, -3.9406e-03,\n",
              "       -2.1713e-01, -3.9769e-01, -2.8074e-01, -1.7159e-01,  8.7543e-01,\n",
              "       -4.8529e-01, -7.8966e-01, -1.9181e-01,  1.2654e-02,  2.7394e-01,\n",
              "        4.7824e-01, -1.3372e-01,  6.9161e-01, -2.8090e-01,  1.7082e-01,\n",
              "       -6.2932e-01, -7.0490e-01, -1.6360e-01,  3.1653e-01,  3.1181e-01,\n",
              "       -2.5984e-01, -7.1512e-02, -3.5759e-01, -1.2873e-01, -1.0136e-01,\n",
              "       -8.4309e-01,  1.2680e-01,  2.1268e-01, -2.8869e-01,  9.0773e-02,\n",
              "       -2.5738e-01, -1.8303e-01, -1.2904e-01,  4.4565e-01, -5.8736e-01,\n",
              "        7.2059e-01, -3.3435e-01,  1.5862e-01, -9.1833e-02, -5.7568e-01,\n",
              "        3.3082e-01, -1.8949e-01, -4.1058e-01,  2.8824e-01, -3.7240e-01,\n",
              "       -3.2524e-01, -5.9380e-01, -1.9471e-01, -2.3064e-01,  5.9878e-02,\n",
              "       -4.2104e-03,  1.2105e-01,  4.9247e-01, -1.9579e-01, -1.0380e-01,\n",
              "       -2.4607e-01,  7.2958e-01,  1.6426e-02, -8.1131e-02, -3.9744e-02,\n",
              "       -2.0024e-01, -1.0811e-01,  5.1185e-01,  1.2625e-01, -1.0223e-01,\n",
              "        4.4235e-01, -5.3241e-01, -8.0116e-02,  5.3696e-01, -6.7007e-01,\n",
              "        1.0677e-01, -6.4972e-02,  2.8323e-01, -1.1779e-01, -2.0966e-01,\n",
              "        1.6076e-01,  7.3603e-01, -4.5484e-01, -4.4733e-01, -1.2544e-02,\n",
              "        3.2596e-01,  2.9868e-01,  7.2416e-01,  8.8062e-01,  6.8829e-01,\n",
              "        2.2420e-01, -5.9788e-01, -3.2725e-01,  2.0964e-01, -5.4107e-01,\n",
              "       -4.6910e-01, -7.1801e-01, -1.5257e-01,  1.1137e-01,  4.0723e-01,\n",
              "        3.6233e-01,  3.3883e-01, -6.8084e-01, -1.4319e-01,  8.5794e-01,\n",
              "       -4.4418e-01,  5.6938e-01, -1.9381e-01, -8.5069e-01, -2.1100e-01,\n",
              "        1.1303e-01, -3.8039e-01,  6.2520e-01, -4.8425e-02,  4.5813e-02,\n",
              "       -3.5546e-01,  1.8457e-01,  2.1444e-02, -2.9848e-01,  4.2873e-01,\n",
              "       -1.7749e-01,  5.0280e-01, -1.7376e-01,  4.2369e-01, -1.5048e-03],\n",
              "      dtype=float32)"
            ]
          },
          "metadata": {
            "tags": []
          },
          "execution_count": 7
        }
      ]
    },
    {
      "cell_type": "markdown",
      "metadata": {
        "id": "OkNKHLx6Wgsp"
      },
      "source": [
        "How many dimensions does this embedding have?"
      ]
    },
    {
      "cell_type": "code",
      "metadata": {
        "colab": {
          "base_uri": "https://localhost:8080/"
        },
        "id": "URJIxq1kWhj0",
        "outputId": "c598ccb4-0b49-419e-e539-d6d3b522f721"
      },
      "source": [
        "wv[\"utrecht\"].shape"
      ],
      "execution_count": null,
      "outputs": [
        {
          "output_type": "execute_result",
          "data": {
            "text/plain": [
              "(300,)"
            ]
          },
          "metadata": {
            "tags": []
          },
          "execution_count": 8
        }
      ]
    },
    {
      "cell_type": "markdown",
      "metadata": {
        "id": "70bG0d00XCIQ"
      },
      "source": [
        "Question: Explore the embeddings for a few other words. Can you find words that are not in the vocabulary?\n",
        "\n",
        "(For example, think of uncommon words, misspellings, etc.)"
      ]
    },
    {
      "cell_type": "code",
      "metadata": {
        "colab": {
          "base_uri": "https://localhost:8080/",
          "height": 324
        },
        "id": "50Fp0EVAXGM3",
        "outputId": "b1636445-f110-413f-ee9b-7b9fb0050745"
      },
      "source": [
        "wv[\"Laurence\"]"
      ],
      "execution_count": null,
      "outputs": [
        {
          "output_type": "error",
          "ename": "KeyError",
          "evalue": "ignored",
          "traceback": [
            "\u001b[0;31m---------------------------------------------------------------------------\u001b[0m",
            "\u001b[0;31mKeyError\u001b[0m                                  Traceback (most recent call last)",
            "\u001b[0;32m<ipython-input-9-fd40beeb06c0>\u001b[0m in \u001b[0;36m<module>\u001b[0;34m()\u001b[0m\n\u001b[0;32m----> 1\u001b[0;31m \u001b[0mwv\u001b[0m\u001b[0;34m[\u001b[0m\u001b[0;34m\"Laurence\"\u001b[0m\u001b[0;34m]\u001b[0m\u001b[0;34m\u001b[0m\u001b[0;34m\u001b[0m\u001b[0m\n\u001b[0m",
            "\u001b[0;32m/usr/local/lib/python3.7/dist-packages/gensim/models/keyedvectors.py\u001b[0m in \u001b[0;36m__getitem__\u001b[0;34m(self, entities)\u001b[0m\n\u001b[1;32m    335\u001b[0m         \u001b[0;32mif\u001b[0m \u001b[0misinstance\u001b[0m\u001b[0;34m(\u001b[0m\u001b[0mentities\u001b[0m\u001b[0;34m,\u001b[0m \u001b[0mstring_types\u001b[0m\u001b[0;34m)\u001b[0m\u001b[0;34m:\u001b[0m\u001b[0;34m\u001b[0m\u001b[0;34m\u001b[0m\u001b[0m\n\u001b[1;32m    336\u001b[0m             \u001b[0;31m# allow calls like trained_model['office'], as a shorthand for trained_model[['office']]\u001b[0m\u001b[0;34m\u001b[0m\u001b[0;34m\u001b[0m\u001b[0;34m\u001b[0m\u001b[0m\n\u001b[0;32m--> 337\u001b[0;31m             \u001b[0;32mreturn\u001b[0m \u001b[0mself\u001b[0m\u001b[0;34m.\u001b[0m\u001b[0mget_vector\u001b[0m\u001b[0;34m(\u001b[0m\u001b[0mentities\u001b[0m\u001b[0;34m)\u001b[0m\u001b[0;34m\u001b[0m\u001b[0;34m\u001b[0m\u001b[0m\n\u001b[0m\u001b[1;32m    338\u001b[0m \u001b[0;34m\u001b[0m\u001b[0m\n\u001b[1;32m    339\u001b[0m         \u001b[0;32mreturn\u001b[0m \u001b[0mvstack\u001b[0m\u001b[0;34m(\u001b[0m\u001b[0;34m[\u001b[0m\u001b[0mself\u001b[0m\u001b[0;34m.\u001b[0m\u001b[0mget_vector\u001b[0m\u001b[0;34m(\u001b[0m\u001b[0mentity\u001b[0m\u001b[0;34m)\u001b[0m \u001b[0;32mfor\u001b[0m \u001b[0mentity\u001b[0m \u001b[0;32min\u001b[0m \u001b[0mentities\u001b[0m\u001b[0;34m]\u001b[0m\u001b[0;34m)\u001b[0m\u001b[0;34m\u001b[0m\u001b[0;34m\u001b[0m\u001b[0m\n",
            "\u001b[0;32m/usr/local/lib/python3.7/dist-packages/gensim/models/keyedvectors.py\u001b[0m in \u001b[0;36mget_vector\u001b[0;34m(self, word)\u001b[0m\n\u001b[1;32m    453\u001b[0m \u001b[0;34m\u001b[0m\u001b[0m\n\u001b[1;32m    454\u001b[0m     \u001b[0;32mdef\u001b[0m \u001b[0mget_vector\u001b[0m\u001b[0;34m(\u001b[0m\u001b[0mself\u001b[0m\u001b[0;34m,\u001b[0m \u001b[0mword\u001b[0m\u001b[0;34m)\u001b[0m\u001b[0;34m:\u001b[0m\u001b[0;34m\u001b[0m\u001b[0;34m\u001b[0m\u001b[0m\n\u001b[0;32m--> 455\u001b[0;31m         \u001b[0;32mreturn\u001b[0m \u001b[0mself\u001b[0m\u001b[0;34m.\u001b[0m\u001b[0mword_vec\u001b[0m\u001b[0;34m(\u001b[0m\u001b[0mword\u001b[0m\u001b[0;34m)\u001b[0m\u001b[0;34m\u001b[0m\u001b[0;34m\u001b[0m\u001b[0m\n\u001b[0m\u001b[1;32m    456\u001b[0m \u001b[0;34m\u001b[0m\u001b[0m\n\u001b[1;32m    457\u001b[0m     \u001b[0;32mdef\u001b[0m \u001b[0mwords_closer_than\u001b[0m\u001b[0;34m(\u001b[0m\u001b[0mself\u001b[0m\u001b[0;34m,\u001b[0m \u001b[0mw1\u001b[0m\u001b[0;34m,\u001b[0m \u001b[0mw2\u001b[0m\u001b[0;34m)\u001b[0m\u001b[0;34m:\u001b[0m\u001b[0;34m\u001b[0m\u001b[0;34m\u001b[0m\u001b[0m\n",
            "\u001b[0;32m/usr/local/lib/python3.7/dist-packages/gensim/models/keyedvectors.py\u001b[0m in \u001b[0;36mword_vec\u001b[0;34m(self, word, use_norm)\u001b[0m\n\u001b[1;32m    450\u001b[0m             \u001b[0;32mreturn\u001b[0m \u001b[0mresult\u001b[0m\u001b[0;34m\u001b[0m\u001b[0;34m\u001b[0m\u001b[0m\n\u001b[1;32m    451\u001b[0m         \u001b[0;32melse\u001b[0m\u001b[0;34m:\u001b[0m\u001b[0;34m\u001b[0m\u001b[0;34m\u001b[0m\u001b[0m\n\u001b[0;32m--> 452\u001b[0;31m             \u001b[0;32mraise\u001b[0m \u001b[0mKeyError\u001b[0m\u001b[0;34m(\u001b[0m\u001b[0;34m\"word '%s' not in vocabulary\"\u001b[0m \u001b[0;34m%\u001b[0m \u001b[0mword\u001b[0m\u001b[0;34m)\u001b[0m\u001b[0;34m\u001b[0m\u001b[0;34m\u001b[0m\u001b[0m\n\u001b[0m\u001b[1;32m    453\u001b[0m \u001b[0;34m\u001b[0m\u001b[0m\n\u001b[1;32m    454\u001b[0m     \u001b[0;32mdef\u001b[0m \u001b[0mget_vector\u001b[0m\u001b[0;34m(\u001b[0m\u001b[0mself\u001b[0m\u001b[0;34m,\u001b[0m \u001b[0mword\u001b[0m\u001b[0;34m)\u001b[0m\u001b[0;34m:\u001b[0m\u001b[0;34m\u001b[0m\u001b[0;34m\u001b[0m\u001b[0m\n",
            "\u001b[0;31mKeyError\u001b[0m: \"word 'Laurence' not in vocabulary\""
          ]
        }
      ]
    },
    {
      "cell_type": "markdown",
      "metadata": {
        "id": "ruwf_XqIXUzq"
      },
      "source": [
        "## Vector arithmethics\n",
        "\n",
        "We can calculate the [cosine similarity](https://en.wikipedia.org/wiki/Cosine_similarity) between two words in this way:\n"
      ]
    },
    {
      "cell_type": "code",
      "metadata": {
        "colab": {
          "base_uri": "https://localhost:8080/"
        },
        "id": "4wJihXWvXGu7",
        "outputId": "97eee62d-3860-443c-f5ca-d42b23d5860e"
      },
      "source": [
        "wv.similarity('university', 'student')"
      ],
      "execution_count": null,
      "outputs": [
        {
          "output_type": "execute_result",
          "data": {
            "text/plain": [
              "0.5970514"
            ]
          },
          "metadata": {
            "tags": []
          },
          "execution_count": 10
        }
      ]
    },
    {
      "cell_type": "markdown",
      "metadata": {
        "id": "DJ2W5R8sXiYO"
      },
      "source": [
        "Optional: cosine similarity is the same as the dot product between the normalized word embeddings"
      ]
    },
    {
      "cell_type": "code",
      "metadata": {
        "colab": {
          "base_uri": "https://localhost:8080/"
        },
        "id": "-3sKyTxdXq2m",
        "outputId": "d88c070f-7ece-4c88-970e-186a0feecfb2"
      },
      "source": [
        "wv_university_norm = wv['university']/ LA.norm(wv['university'], 2)\n",
        "wv_student_norm = wv['student'] / LA.norm(wv['student'], 2)\n",
        "\n",
        "wv_university_norm.dot(wv_student_norm)"
      ],
      "execution_count": null,
      "outputs": [
        {
          "output_type": "execute_result",
          "data": {
            "text/plain": [
              "0.5970514"
            ]
          },
          "metadata": {
            "tags": []
          },
          "execution_count": 12
        }
      ]
    },
    {
      "cell_type": "markdown",
      "metadata": {
        "id": "V1FxUb0OXvv_"
      },
      "source": [
        "A normalized embedding has a L2 norm (length) of 1"
      ]
    },
    {
      "cell_type": "code",
      "metadata": {
        "colab": {
          "base_uri": "https://localhost:8080/"
        },
        "id": "KP61FBBzXyp9",
        "outputId": "80b99f9f-8346-453e-afa0-17642ee9db82"
      },
      "source": [
        "LA.norm(wv_student_norm)"
      ],
      "execution_count": null,
      "outputs": [
        {
          "output_type": "execute_result",
          "data": {
            "text/plain": [
              "1.0"
            ]
          },
          "metadata": {
            "tags": []
          },
          "execution_count": 13
        }
      ]
    },
    {
      "cell_type": "markdown",
      "metadata": {
        "id": "rT_mzSKEX3Tn"
      },
      "source": [
        "## Similarity analysis\n",
        "\n",
        "Print the top 5 most similar words to car"
      ]
    },
    {
      "cell_type": "code",
      "metadata": {
        "colab": {
          "base_uri": "https://localhost:8080/"
        },
        "id": "eqQcEyi-X9Eq",
        "outputId": "13d77b75-5d72-4895-de5d-9d847c3ecb66"
      },
      "source": [
        "print(wv.most_similar(positive=['car'], topn=5))"
      ],
      "execution_count": null,
      "outputs": [
        {
          "output_type": "stream",
          "text": [
            "[('cars', 0.7827162742614746), ('vehicle', 0.7655367851257324), ('truck', 0.7350621819496155), ('driver', 0.7114784121513367), ('driving', 0.6442224979400635)]\n"
          ],
          "name": "stdout"
        }
      ]
    },
    {
      "cell_type": "markdown",
      "metadata": {
        "id": "NQCMi1GLYMQs"
      },
      "source": [
        "Question: What are the top 5 most similar words to cat? And to king? And to fast? What kind of words often appear in the top?\n"
      ]
    },
    {
      "cell_type": "code",
      "metadata": {
        "colab": {
          "base_uri": "https://localhost:8080/"
        },
        "id": "sdBu7_15YByg",
        "outputId": "b53d9e5f-9783-414c-d1d5-6e675e9d6851"
      },
      "source": [
        "print(wv.most_similar(positive=['cat'], topn=5))"
      ],
      "execution_count": null,
      "outputs": [
        {
          "output_type": "stream",
          "text": [
            "[('dog', 0.6816747188568115), ('cats', 0.6815836429595947), ('pet', 0.5870364904403687), ('dogs', 0.540766716003418), ('feline', 0.48979705572128296)]\n"
          ],
          "name": "stdout"
        }
      ]
    },
    {
      "cell_type": "code",
      "metadata": {
        "colab": {
          "base_uri": "https://localhost:8080/"
        },
        "id": "IrzCth6BYJp4",
        "outputId": "80f96000-d3e8-4050-fa22-6e7cabf40e2d"
      },
      "source": [
        "print(wv.most_similar(positive=['king'], topn=5))"
      ],
      "execution_count": null,
      "outputs": [
        {
          "output_type": "stream",
          "text": [
            "[('queen', 0.6336469054222107), ('prince', 0.619662344455719), ('monarch', 0.5899620652198792), ('kingdom', 0.5791267156600952), ('throne', 0.5606487989425659)]\n"
          ],
          "name": "stdout"
        }
      ]
    },
    {
      "cell_type": "code",
      "metadata": {
        "colab": {
          "base_uri": "https://localhost:8080/"
        },
        "id": "FD11Na5fYdA2",
        "outputId": "58d5b75f-994f-482e-f22e-245f28540778"
      },
      "source": [
        "print(wv.most_similar(positive=['fast'], topn=5))"
      ],
      "execution_count": null,
      "outputs": [
        {
          "output_type": "stream",
          "text": [
            "[('slow', 0.6584279537200928), ('pace', 0.6338279247283936), ('faster', 0.6327128410339355), ('quick', 0.6169959306716919), ('speed', 0.5773069858551025)]\n"
          ],
          "name": "stdout"
        }
      ]
    },
    {
      "cell_type": "markdown",
      "metadata": {
        "id": "rFswzbj8YPtz"
      },
      "source": [
        "Now calculate the similarities between two words."
      ]
    },
    {
      "cell_type": "code",
      "metadata": {
        "colab": {
          "base_uri": "https://localhost:8080/"
        },
        "id": "19PZwc9RYvEd",
        "outputId": "13e8a3b3-bf24-42b1-8ccb-01db4eedd120"
      },
      "source": [
        "wv.similarity('buy', 'purchase')"
      ],
      "execution_count": null,
      "outputs": [
        {
          "output_type": "execute_result",
          "data": {
            "text/plain": [
              "0.77922326"
            ]
          },
          "metadata": {
            "tags": []
          },
          "execution_count": 18
        }
      ]
    },
    {
      "cell_type": "code",
      "metadata": {
        "colab": {
          "base_uri": "https://localhost:8080/"
        },
        "id": "-Ns_bzzxYwpr",
        "outputId": "c0319071-33c5-493c-fd50-cf75cbc11b93"
      },
      "source": [
        "wv.similarity('cat', 'dog')"
      ],
      "execution_count": null,
      "outputs": [
        {
          "output_type": "execute_result",
          "data": {
            "text/plain": [
              "0.68167466"
            ]
          },
          "metadata": {
            "tags": []
          },
          "execution_count": 19
        }
      ]
    },
    {
      "cell_type": "code",
      "metadata": {
        "id": "vx3C2D41Y1SX"
      },
      "source": [
        "wv.similarity('car', 'green')"
      ],
      "execution_count": null,
      "outputs": []
    },
    {
      "cell_type": "markdown",
      "metadata": {
        "id": "9fBuXoFcZCGH"
      },
      "source": [
        "We can calculate the cosine similarity between a list of word pairs and correlate these with human ratings. One such dataset with human ratings is called WordSim353.\n",
        "\n",
        "Goto https://github.com/RaRe-Technologies/gensim/blob/develop/gensim/test/test_data/wordsim353.tsv to get a sense of the data.\n",
        "\n",
        "Gensim already implements a method to evaluate a word embedding model using this data.\n",
        "\n",
        "It calculates the cosine similarity between each word pair\n",
        "It calculates both the Spearman and Pearson correlation coefficient between the cosine similarities and human judgements\n",
        "See https://radimrehurek.com/gensim/models/keyedvectors.html for a description of the methods."
      ]
    },
    {
      "cell_type": "code",
      "metadata": {
        "colab": {
          "base_uri": "https://localhost:8080/"
        },
        "id": "W_hFZ5SlZJy1",
        "outputId": "28eac13d-a3bf-4efd-ddc1-086fac124863"
      },
      "source": [
        "wv.evaluate_word_pairs(datapath('wordsim353.tsv'))"
      ],
      "execution_count": null,
      "outputs": [
        {
          "output_type": "execute_result",
          "data": {
            "text/plain": [
              "((0.6040760940127656, 1.752303459427209e-36),\n",
              " SpearmanrResult(correlation=0.6085349998820805, pvalue=3.879629536780527e-37),\n",
              " 0.0)"
            ]
          },
          "metadata": {
            "tags": []
          },
          "execution_count": 46
        }
      ]
    },
    {
      "cell_type": "markdown",
      "metadata": {
        "id": "kG56z7o0erjp"
      },
      "source": [
        "## Analogies\n",
        "\n",
        "Man is to woman as king is to. ..?\n",
        "\n",
        "This can be converted into vector arithmethics:\n",
        "\n",
        "king - ? = man - woman.\n",
        "\n",
        "king - man + woman = ?"
      ]
    },
    {
      "cell_type": "code",
      "metadata": {
        "colab": {
          "base_uri": "https://localhost:8080/"
        },
        "id": "SDIMFzW_e01d",
        "outputId": "3f880c10-9e31-4f74-937f-21b7b30c7623"
      },
      "source": [
        "wv.most_similar(negative=['man'], positive=['king', 'woman'])"
      ],
      "execution_count": null,
      "outputs": [
        {
          "output_type": "execute_result",
          "data": {
            "text/plain": [
              "[('queen', 0.6713277101516724),\n",
              " ('princess', 0.5432624220848083),\n",
              " ('throne', 0.5386104583740234),\n",
              " ('monarch', 0.5347574949264526),\n",
              " ('daughter', 0.498025119304657),\n",
              " ('mother', 0.4956442713737488),\n",
              " ('elizabeth', 0.4832652509212494),\n",
              " ('kingdom', 0.47747087478637695),\n",
              " ('prince', 0.4668239951133728),\n",
              " ('wife', 0.4647327661514282)]"
            ]
          },
          "metadata": {
            "tags": []
          },
          "execution_count": 21
        }
      ]
    },
    {
      "cell_type": "markdown",
      "metadata": {
        "id": "dInZp2c7e7VS"
      },
      "source": [
        "france - paris + amsterdam = ?"
      ]
    },
    {
      "cell_type": "code",
      "metadata": {
        "colab": {
          "base_uri": "https://localhost:8080/"
        },
        "id": "_5xFQBbTe-_u",
        "outputId": "5f644e95-61fd-41b5-ec05-ec1dfc1bfdc8"
      },
      "source": [
        "wv.most_similar(negative=['paris'], positive=['france', 'amsterdam'])"
      ],
      "execution_count": null,
      "outputs": [
        {
          "output_type": "execute_result",
          "data": {
            "text/plain": [
              "[('netherlands', 0.7304362058639526),\n",
              " ('dutch', 0.5829050540924072),\n",
              " ('belgium', 0.5607961416244507),\n",
              " ('holland', 0.5492807626724243),\n",
              " ('denmark', 0.5330449938774109),\n",
              " ('sweden', 0.4875030517578125),\n",
              " ('germany', 0.47103554010391235),\n",
              " ('utrecht', 0.46798405051231384),\n",
              " ('spain', 0.46100154519081116),\n",
              " ('rotterdam', 0.45599010586738586)]"
            ]
          },
          "metadata": {
            "tags": []
          },
          "execution_count": 22
        }
      ]
    },
    {
      "cell_type": "markdown",
      "metadata": {
        "id": "ncKBhoQXfNEd"
      },
      "source": [
        "Note that if we would just retrieve the most similar words to 'amsterdam' we would receive a different result."
      ]
    },
    {
      "cell_type": "code",
      "metadata": {
        "colab": {
          "base_uri": "https://localhost:8080/"
        },
        "id": "PEjcGNGYfPDr",
        "outputId": "18a388d3-f7f4-443b-a4c1-87c45ecde4a7"
      },
      "source": [
        "print(wv.most_similar(positive=['amsterdam'], topn=5))"
      ],
      "execution_count": null,
      "outputs": [
        {
          "output_type": "stream",
          "text": [
            "[('rotterdam', 0.6485881209373474), ('schiphol', 0.5740087628364563), ('utrecht', 0.5608800053596497), ('netherlands', 0.5472348928451538), ('frankfurt', 0.5457332730293274)]\n"
          ],
          "name": "stdout"
        }
      ]
    },
    {
      "cell_type": "markdown",
      "metadata": {
        "id": "MU5zSmb7fT1i"
      },
      "source": [
        "cat is to cats as girl is to ?\n",
        "\n",
        "girl - ? = cat - cats\n",
        "girl - cat + cats = ?"
      ]
    },
    {
      "cell_type": "code",
      "metadata": {
        "colab": {
          "base_uri": "https://localhost:8080/"
        },
        "id": "KqHDDqagfYmw",
        "outputId": "e1e6cb38-709b-4092-df53-28e225f69307"
      },
      "source": [
        "wv.most_similar(negative=['cat'], positive=['cats', 'girl'])"
      ],
      "execution_count": null,
      "outputs": [
        {
          "output_type": "execute_result",
          "data": {
            "text/plain": [
              "[('girls', 0.6908110976219177),\n",
              " ('boys', 0.6055022478103638),\n",
              " ('boy', 0.5850904583930969),\n",
              " ('teenage', 0.5735770463943481),\n",
              " ('teenagers', 0.5600976943969727),\n",
              " ('teenager', 0.5530085563659668),\n",
              " ('teen', 0.5423318147659302),\n",
              " ('children', 0.5312656164169312),\n",
              " ('woman', 0.5233089327812195),\n",
              " ('babies', 0.516354501247406)]"
            ]
          },
          "metadata": {
            "tags": []
          },
          "execution_count": 24
        }
      ]
    },
    {
      "cell_type": "markdown",
      "metadata": {
        "id": "iCjUoYXJfdue"
      },
      "source": [
        "Compare against a baseline. What if we would just have retrieved the most similar words to 'girl'?"
      ]
    },
    {
      "cell_type": "code",
      "metadata": {
        "colab": {
          "base_uri": "https://localhost:8080/"
        },
        "id": "JCi06BlcfelZ",
        "outputId": "e4399991-39d3-4bf2-d772-cd7e519b5be3"
      },
      "source": [
        "print(wv.most_similar(positive=['girl'], topn=5))"
      ],
      "execution_count": null,
      "outputs": [
        {
          "output_type": "stream",
          "text": [
            "[('boy', 0.8272891044616699), ('woman', 0.729641854763031), ('girls', 0.7227291464805603), ('teenager', 0.650977373123169), ('teenage', 0.6492719650268555)]\n"
          ],
          "name": "stdout"
        }
      ]
    },
    {
      "cell_type": "markdown",
      "metadata": {
        "id": "fYD-wZD7f346"
      },
      "source": [
        "Question: Try a few of your own analogies, do you get the expected answer?"
      ]
    },
    {
      "cell_type": "code",
      "metadata": {
        "id": "vQCZRZOBf706"
      },
      "source": [
        ""
      ],
      "execution_count": null,
      "outputs": []
    },
    {
      "cell_type": "markdown",
      "metadata": {
        "id": "6LTvI5fff7F3"
      },
      "source": [
        "## Visualization\n",
        "\n",
        "We can't visualize embeddings in their raw format, because of their high dimensionality. However, we can use dimensionality reduction techniques such as PCA to project them onto a 2D space."
      ]
    },
    {
      "cell_type": "code",
      "metadata": {
        "id": "HK6iithWgDOQ"
      },
      "source": [
        "def display_scatterplot(wv, words=None, sample=0):\n",
        "        \n",
        "    # first get the word vectors\n",
        "    word_vectors = np.array([wv[w] for w in words])\n",
        "\n",
        "    # transform the data using PCA\n",
        "    wv_PCA = PCA().fit_transform(word_vectors)[:,:2]\n",
        "    \n",
        "    plt.figure(figsize=(10,10))\n",
        "\n",
        "    plt.scatter(wv_PCA[:,0], wv_PCA[:,1], \n",
        "                edgecolors='k', c='r')\n",
        "    \n",
        "    for word, (x,y) in zip(words, wv_PCA):\n",
        "        plt.text(x+0.05, y+0.05, word)"
      ],
      "execution_count": null,
      "outputs": []
    },
    {
      "cell_type": "code",
      "metadata": {
        "colab": {
          "base_uri": "https://localhost:8080/",
          "height": 592
        },
        "id": "mBW3sr0_gHCt",
        "outputId": "9b5b5f02-1c1c-405b-b5f7-b97a927b9ffc"
      },
      "source": [
        "display_scatterplot(wv, \n",
        "                        ['dog', 'cat', 'dogs', 'cats', 'horse', 'tiger',\n",
        "                         'university', 'lesson', 'student', 'students',\n",
        "                         'netherlands', 'amsterdam', 'utrecht', 'belgium', 'spain', 'china',\n",
        "                         'coffee', 'tea', 'pizza', 'sushi', 'sandwich',\n",
        "                         'car', 'train', 'bike', 'bicycle', 'trains'])"
      ],
      "execution_count": null,
      "outputs": [
        {
          "output_type": "display_data",
          "data": {
            "image/png": "[encoded data removed]",
            "text/plain": [
              "<Figure size 720x720 with 1 Axes>"
            ]
          },
          "metadata": {
            "tags": [],
            "needs_background": "light"
          }
        }
      ]
    },
    {
      "cell_type": "markdown",
      "metadata": {
        "id": "PNo_eeuIgLys"
      },
      "source": [
        "Question: What do you notice in this plot? Do the distances between the words make sense? Any surprises? Feel free to add your own words!"
      ]
    },
    {
      "cell_type": "markdown",
      "metadata": {
        "id": "fkYdm0jjgqNL"
      },
      "source": [
        "## Biases\n"
      ]
    },
    {
      "cell_type": "code",
      "metadata": {
        "colab": {
          "base_uri": "https://localhost:8080/",
          "height": 592
        },
        "id": "Im-nfoGygwnP",
        "outputId": "f99d157c-cd95-49e8-83e0-b25f2deb7ba6"
      },
      "source": [
        "display_scatterplot(wv, \n",
        "                        ['he', 'she', 'sister', \n",
        "                         'brother', 'man', 'woman',\n",
        "                         'nurse', 'doctor', 'plumber', 'teacher', 'professor',\n",
        "                         'baker', 'grandfather', 'grandmother',\n",
        "                         'math', 'arts',\n",
        "                         'daughter', 'son'])"
      ],
      "execution_count": null,
      "outputs": [
        {
          "output_type": "display_data",
          "data": {
            "image/png": "[encoded data removed]",
            "text/plain": [
              "<Figure size 720x720 with 1 Axes>"
            ]
          },
          "metadata": {
            "tags": [],
            "needs_background": "light"
          }
        }
      ]
    },
    {
      "cell_type": "code",
      "metadata": {
        "id": "FBkCUySphgQk"
      },
      "source": [
        "def calc_avg_similiarity(wv, attribute_words, target_word):\n",
        "    score = 0\n",
        "\n",
        "    for attribute_word in attribute_words:\n",
        "            score += wv.similarity(attribute_word, target_word)\n",
        "\n",
        "    return score/len(attribute_words)"
      ],
      "execution_count": null,
      "outputs": []
    },
    {
      "cell_type": "code",
      "metadata": {
        "id": "ftu1Qr7khjYe"
      },
      "source": [
        "# set of attribute words\n",
        "attribute_words_m = ['male', 'man', 'boy', 'brother', 'he', 'him', 'his', 'son']\n",
        "attribute_words_f = ['female', 'woman', 'girl', 'sister', 'she', \n",
        "                     'her', 'hers', 'daughter']"
      ],
      "execution_count": null,
      "outputs": []
    },
    {
      "cell_type": "markdown",
      "metadata": {
        "id": "b3JoU078hsrS"
      },
      "source": [
        "Is math more associated with male or female words?\n",
        "\n",
        "Compute the average cosine similarity between the target word and the set of attribute words."
      ]
    },
    {
      "cell_type": "code",
      "metadata": {
        "colab": {
          "base_uri": "https://localhost:8080/"
        },
        "id": "y82tmTjwhtmj",
        "outputId": "8e3cdb04-b681-4712-d0e8-4404517a77aa"
      },
      "source": [
        "print(\"Avg. similarity with male words: %.3f\" % \n",
        "      calc_avg_similiarity(wv, attribute_words_m, 'math'))\n",
        "print(\"Avg. similarity with female words: %.3f\" % \n",
        "      calc_avg_similiarity(wv, attribute_words_f, 'math'))"
      ],
      "execution_count": null,
      "outputs": [
        {
          "output_type": "stream",
          "text": [
            "Avg. similarity with male words: 0.118\n",
            "Avg. similarity with female words: 0.105\n"
          ],
          "name": "stdout"
        }
      ]
    },
    {
      "cell_type": "markdown",
      "metadata": {
        "id": "LLX_AqCxhyOB"
      },
      "source": [
        "What about poetry?"
      ]
    },
    {
      "cell_type": "code",
      "metadata": {
        "colab": {
          "base_uri": "https://localhost:8080/"
        },
        "id": "oxUegxvHhzUn",
        "outputId": "7570ae21-9b44-41a8-93d2-14a9d013ce7d"
      },
      "source": [
        "print(\"Avg. similarity with male words: %.3f\" % \n",
        "      calc_avg_similiarity(wv, attribute_words_m, 'poetry'))\n",
        "print(\"Avg. similarity with female words: %.3f\" % \n",
        "      calc_avg_similiarity(wv, attribute_words_f, 'poetry'))"
      ],
      "execution_count": null,
      "outputs": [
        {
          "output_type": "stream",
          "text": [
            "Avg. similarity with male words: 0.166\n",
            "Avg. similarity with female words: 0.185\n"
          ],
          "name": "stdout"
        }
      ]
    },
    {
      "cell_type": "markdown",
      "metadata": {
        "id": "GcfT0kfeh78N"
      },
      "source": [
        "## Next\n",
        "\n",
        "Repeat this analysis but now with the GloVe model trained on Twitter data, e.g. glove-twitter-50.\n",
        "\n",
        "Which model obtains better performance on the word similarity task? (WordSim353?)\n",
        "What other differences do you observe? (e.g. think of the vocabulary, biases, etc.)"
      ]
    },
    {
      "cell_type": "code",
      "metadata": {
        "colab": {
          "base_uri": "https://localhost:8080/",
          "height": 358
        },
        "id": "Lk7unW3qiV2i",
        "outputId": "f8649e89-c136-44ae-83f1-bb8bcf2516d2"
      },
      "source": [
        "wv.evaluate_word_pairs(datapath('glove-twitter-50.tsv'))"
      ],
      "execution_count": null,
      "outputs": [
        {
          "output_type": "error",
          "ename": "KeyError",
          "evalue": "ignored",
          "traceback": [
            "\u001b[0;31m---------------------------------------------------------------------------\u001b[0m",
            "\u001b[0;31mKeyError\u001b[0m                                  Traceback (most recent call last)",
            "\u001b[0;32m<ipython-input-40-867d60ddc491>\u001b[0m in \u001b[0;36m<module>\u001b[0;34m()\u001b[0m\n\u001b[0;32m----> 1\u001b[0;31m \u001b[0mwv\u001b[0m\u001b[0;34m.\u001b[0m\u001b[0mevaluate_word_pairs\u001b[0m\u001b[0;34m(\u001b[0m\u001b[0mdatapath\u001b[0m\u001b[0;34m(\u001b[0m\u001b[0;34m'glove-twitter-50.tsv'\u001b[0m\u001b[0;34m)\u001b[0m\u001b[0;34m)\u001b[0m\u001b[0;34m\u001b[0m\u001b[0;34m\u001b[0m\u001b[0m\n\u001b[0m",
            "\u001b[0;32m/usr/local/lib/python3.7/dist-packages/gensim/models/keyedvectors.py\u001b[0m in \u001b[0;36mevaluate_word_pairs\u001b[0;34m(self, pairs, delimiter, restrict_vocab, case_insensitive, dummy4unknown)\u001b[0m\n\u001b[1;32m   1287\u001b[0m \u001b[0;34m\u001b[0m\u001b[0m\n\u001b[1;32m   1288\u001b[0m         \"\"\"\n\u001b[0;32m-> 1289\u001b[0;31m         \u001b[0mok_vocab\u001b[0m \u001b[0;34m=\u001b[0m \u001b[0;34m[\u001b[0m\u001b[0;34m(\u001b[0m\u001b[0mw\u001b[0m\u001b[0;34m,\u001b[0m \u001b[0mself\u001b[0m\u001b[0;34m.\u001b[0m\u001b[0mvocab\u001b[0m\u001b[0;34m[\u001b[0m\u001b[0mw\u001b[0m\u001b[0;34m]\u001b[0m\u001b[0;34m)\u001b[0m \u001b[0;32mfor\u001b[0m \u001b[0mw\u001b[0m \u001b[0;32min\u001b[0m \u001b[0mself\u001b[0m\u001b[0;34m.\u001b[0m\u001b[0mindex2word\u001b[0m\u001b[0;34m[\u001b[0m\u001b[0;34m:\u001b[0m\u001b[0mrestrict_vocab\u001b[0m\u001b[0;34m]\u001b[0m\u001b[0;34m]\u001b[0m\u001b[0;34m\u001b[0m\u001b[0;34m\u001b[0m\u001b[0m\n\u001b[0m\u001b[1;32m   1290\u001b[0m         \u001b[0mok_vocab\u001b[0m \u001b[0;34m=\u001b[0m \u001b[0;34m{\u001b[0m\u001b[0mw\u001b[0m\u001b[0;34m.\u001b[0m\u001b[0mupper\u001b[0m\u001b[0;34m(\u001b[0m\u001b[0;34m)\u001b[0m\u001b[0;34m:\u001b[0m \u001b[0mv\u001b[0m \u001b[0;32mfor\u001b[0m \u001b[0mw\u001b[0m\u001b[0;34m,\u001b[0m \u001b[0mv\u001b[0m \u001b[0;32min\u001b[0m \u001b[0mreversed\u001b[0m\u001b[0;34m(\u001b[0m\u001b[0mok_vocab\u001b[0m\u001b[0;34m)\u001b[0m\u001b[0;34m}\u001b[0m \u001b[0;32mif\u001b[0m \u001b[0mcase_insensitive\u001b[0m \u001b[0;32melse\u001b[0m \u001b[0mdict\u001b[0m\u001b[0;34m(\u001b[0m\u001b[0mok_vocab\u001b[0m\u001b[0;34m)\u001b[0m\u001b[0;34m\u001b[0m\u001b[0;34m\u001b[0m\u001b[0m\n\u001b[1;32m   1291\u001b[0m \u001b[0;34m\u001b[0m\u001b[0m\n",
            "\u001b[0;32m/usr/local/lib/python3.7/dist-packages/gensim/models/keyedvectors.py\u001b[0m in \u001b[0;36m<listcomp>\u001b[0;34m(.0)\u001b[0m\n\u001b[1;32m   1287\u001b[0m \u001b[0;34m\u001b[0m\u001b[0m\n\u001b[1;32m   1288\u001b[0m         \"\"\"\n\u001b[0;32m-> 1289\u001b[0;31m         \u001b[0mok_vocab\u001b[0m \u001b[0;34m=\u001b[0m \u001b[0;34m[\u001b[0m\u001b[0;34m(\u001b[0m\u001b[0mw\u001b[0m\u001b[0;34m,\u001b[0m \u001b[0mself\u001b[0m\u001b[0;34m.\u001b[0m\u001b[0mvocab\u001b[0m\u001b[0;34m[\u001b[0m\u001b[0mw\u001b[0m\u001b[0;34m]\u001b[0m\u001b[0;34m)\u001b[0m \u001b[0;32mfor\u001b[0m \u001b[0mw\u001b[0m \u001b[0;32min\u001b[0m \u001b[0mself\u001b[0m\u001b[0;34m.\u001b[0m\u001b[0mindex2word\u001b[0m\u001b[0;34m[\u001b[0m\u001b[0;34m:\u001b[0m\u001b[0mrestrict_vocab\u001b[0m\u001b[0;34m]\u001b[0m\u001b[0;34m]\u001b[0m\u001b[0;34m\u001b[0m\u001b[0;34m\u001b[0m\u001b[0m\n\u001b[0m\u001b[1;32m   1290\u001b[0m         \u001b[0mok_vocab\u001b[0m \u001b[0;34m=\u001b[0m \u001b[0;34m{\u001b[0m\u001b[0mw\u001b[0m\u001b[0;34m.\u001b[0m\u001b[0mupper\u001b[0m\u001b[0;34m(\u001b[0m\u001b[0;34m)\u001b[0m\u001b[0;34m:\u001b[0m \u001b[0mv\u001b[0m \u001b[0;32mfor\u001b[0m \u001b[0mw\u001b[0m\u001b[0;34m,\u001b[0m \u001b[0mv\u001b[0m \u001b[0;32min\u001b[0m \u001b[0mreversed\u001b[0m\u001b[0;34m(\u001b[0m\u001b[0mok_vocab\u001b[0m\u001b[0;34m)\u001b[0m\u001b[0;34m}\u001b[0m \u001b[0;32mif\u001b[0m \u001b[0mcase_insensitive\u001b[0m \u001b[0;32melse\u001b[0m \u001b[0mdict\u001b[0m\u001b[0;34m(\u001b[0m\u001b[0mok_vocab\u001b[0m\u001b[0;34m)\u001b[0m\u001b[0;34m\u001b[0m\u001b[0;34m\u001b[0m\u001b[0m\n\u001b[1;32m   1291\u001b[0m \u001b[0;34m\u001b[0m\u001b[0m\n",
            "\u001b[0;31mKeyError\u001b[0m: 'the'"
          ]
        }
      ]
    },
    {
      "cell_type": "markdown",
      "metadata": {
        "id": "BMr1qsK-i9TX"
      },
      "source": [
        "## FastText\n",
        "\n",
        "(only if you have time, this can take a while (11 min?))\n",
        "\n",
        "Load in a fastText model\n"
      ]
    },
    {
      "cell_type": "code",
      "metadata": {
        "colab": {
          "base_uri": "https://localhost:8080/",
          "height": 324
        },
        "id": "FLdol-XajJOp",
        "outputId": "2e4345ab-7731-43b2-9798-99c98ec4a046"
      },
      "source": [
        "# code werkt niet\n",
        "# wv_f = api.load('fasttext-wiki-news-subwords-300')"
      ],
      "execution_count": null,
      "outputs": [
        {
          "output_type": "stream",
          "text": [
            "[=========-----------------------------------------] 19.8% 189.4/958.4MB downloaded"
          ],
          "name": "stdout"
        },
        {
          "output_type": "error",
          "ename": "ConnectionResetError",
          "evalue": "ignored",
          "traceback": [
            "\u001b[0;31m---------------------------------------------------------------------------\u001b[0m",
            "\u001b[0;31mConnectionResetError\u001b[0m                      Traceback (most recent call last)",
            "\u001b[0;32m<ipython-input-42-6127b15f306b>\u001b[0m in \u001b[0;36m<module>\u001b[0;34m()\u001b[0m\n\u001b[0;32m----> 1\u001b[0;31m \u001b[0mwv_f\u001b[0m \u001b[0;34m=\u001b[0m \u001b[0mapi\u001b[0m\u001b[0;34m.\u001b[0m\u001b[0mload\u001b[0m\u001b[0;34m(\u001b[0m\u001b[0;34m'fasttext-wiki-news-subwords-300'\u001b[0m\u001b[0;34m)\u001b[0m\u001b[0;34m\u001b[0m\u001b[0;34m\u001b[0m\u001b[0m\n\u001b[0m",
            "\u001b[0;32m/usr/local/lib/python3.7/dist-packages/gensim/downloader.py\u001b[0m in \u001b[0;36mload\u001b[0;34m(name, return_path)\u001b[0m\n\u001b[1;32m    415\u001b[0m     \u001b[0mpath\u001b[0m \u001b[0;34m=\u001b[0m \u001b[0mos\u001b[0m\u001b[0;34m.\u001b[0m\u001b[0mpath\u001b[0m\u001b[0;34m.\u001b[0m\u001b[0mjoin\u001b[0m\u001b[0;34m(\u001b[0m\u001b[0mfolder_dir\u001b[0m\u001b[0;34m,\u001b[0m \u001b[0mfile_name\u001b[0m\u001b[0;34m)\u001b[0m\u001b[0;34m\u001b[0m\u001b[0;34m\u001b[0m\u001b[0m\n\u001b[1;32m    416\u001b[0m     \u001b[0;32mif\u001b[0m \u001b[0;32mnot\u001b[0m \u001b[0mos\u001b[0m\u001b[0;34m.\u001b[0m\u001b[0mpath\u001b[0m\u001b[0;34m.\u001b[0m\u001b[0mexists\u001b[0m\u001b[0;34m(\u001b[0m\u001b[0mfolder_dir\u001b[0m\u001b[0;34m)\u001b[0m\u001b[0;34m:\u001b[0m\u001b[0;34m\u001b[0m\u001b[0;34m\u001b[0m\u001b[0m\n\u001b[0;32m--> 417\u001b[0;31m         \u001b[0m_download\u001b[0m\u001b[0;34m(\u001b[0m\u001b[0mname\u001b[0m\u001b[0;34m)\u001b[0m\u001b[0;34m\u001b[0m\u001b[0;34m\u001b[0m\u001b[0m\n\u001b[0m\u001b[1;32m    418\u001b[0m \u001b[0;34m\u001b[0m\u001b[0m\n\u001b[1;32m    419\u001b[0m     \u001b[0;32mif\u001b[0m \u001b[0mreturn_path\u001b[0m\u001b[0;34m:\u001b[0m\u001b[0;34m\u001b[0m\u001b[0;34m\u001b[0m\u001b[0m\n",
            "\u001b[0;32m/usr/local/lib/python3.7/dist-packages/gensim/downloader.py\u001b[0m in \u001b[0;36m_download\u001b[0;34m(name)\u001b[0m\n\u001b[1;32m    322\u001b[0m         \u001b[0mfname\u001b[0m \u001b[0;34m=\u001b[0m \u001b[0;34m\"{fname}.gz\"\u001b[0m\u001b[0;34m.\u001b[0m\u001b[0mformat\u001b[0m\u001b[0;34m(\u001b[0m\u001b[0mfname\u001b[0m\u001b[0;34m=\u001b[0m\u001b[0mname\u001b[0m\u001b[0;34m)\u001b[0m\u001b[0;34m\u001b[0m\u001b[0;34m\u001b[0m\u001b[0m\n\u001b[1;32m    323\u001b[0m         \u001b[0mdst_path\u001b[0m \u001b[0;34m=\u001b[0m \u001b[0mos\u001b[0m\u001b[0;34m.\u001b[0m\u001b[0mpath\u001b[0m\u001b[0;34m.\u001b[0m\u001b[0mjoin\u001b[0m\u001b[0;34m(\u001b[0m\u001b[0mtmp_dir\u001b[0m\u001b[0;34m,\u001b[0m \u001b[0mfname\u001b[0m\u001b[0;34m)\u001b[0m\u001b[0;34m\u001b[0m\u001b[0;34m\u001b[0m\u001b[0m\n\u001b[0;32m--> 324\u001b[0;31m         \u001b[0murllib\u001b[0m\u001b[0;34m.\u001b[0m\u001b[0murlretrieve\u001b[0m\u001b[0;34m(\u001b[0m\u001b[0murl_data\u001b[0m\u001b[0;34m,\u001b[0m \u001b[0mdst_path\u001b[0m\u001b[0;34m,\u001b[0m \u001b[0mreporthook\u001b[0m\u001b[0;34m=\u001b[0m\u001b[0m_progress\u001b[0m\u001b[0;34m)\u001b[0m\u001b[0;34m\u001b[0m\u001b[0;34m\u001b[0m\u001b[0m\n\u001b[0m\u001b[1;32m    325\u001b[0m         \u001b[0;32mif\u001b[0m \u001b[0m_calculate_md5_checksum\u001b[0m\u001b[0;34m(\u001b[0m\u001b[0mdst_path\u001b[0m\u001b[0;34m)\u001b[0m \u001b[0;34m==\u001b[0m \u001b[0m_get_checksum\u001b[0m\u001b[0;34m(\u001b[0m\u001b[0mname\u001b[0m\u001b[0;34m)\u001b[0m\u001b[0;34m:\u001b[0m\u001b[0;34m\u001b[0m\u001b[0;34m\u001b[0m\u001b[0m\n\u001b[1;32m    326\u001b[0m             \u001b[0msys\u001b[0m\u001b[0;34m.\u001b[0m\u001b[0mstdout\u001b[0m\u001b[0;34m.\u001b[0m\u001b[0mwrite\u001b[0m\u001b[0;34m(\u001b[0m\u001b[0;34m\"\\n\"\u001b[0m\u001b[0;34m)\u001b[0m\u001b[0;34m\u001b[0m\u001b[0;34m\u001b[0m\u001b[0m\n",
            "\u001b[0;32m/usr/lib/python3.7/urllib/request.py\u001b[0m in \u001b[0;36murlretrieve\u001b[0;34m(url, filename, reporthook, data)\u001b[0m\n\u001b[1;32m    274\u001b[0m \u001b[0;34m\u001b[0m\u001b[0m\n\u001b[1;32m    275\u001b[0m             \u001b[0;32mwhile\u001b[0m \u001b[0;32mTrue\u001b[0m\u001b[0;34m:\u001b[0m\u001b[0;34m\u001b[0m\u001b[0;34m\u001b[0m\u001b[0m\n\u001b[0;32m--> 276\u001b[0;31m                 \u001b[0mblock\u001b[0m \u001b[0;34m=\u001b[0m \u001b[0mfp\u001b[0m\u001b[0;34m.\u001b[0m\u001b[0mread\u001b[0m\u001b[0;34m(\u001b[0m\u001b[0mbs\u001b[0m\u001b[0;34m)\u001b[0m\u001b[0;34m\u001b[0m\u001b[0;34m\u001b[0m\u001b[0m\n\u001b[0m\u001b[1;32m    277\u001b[0m                 \u001b[0;32mif\u001b[0m \u001b[0;32mnot\u001b[0m \u001b[0mblock\u001b[0m\u001b[0;34m:\u001b[0m\u001b[0;34m\u001b[0m\u001b[0;34m\u001b[0m\u001b[0m\n\u001b[1;32m    278\u001b[0m                     \u001b[0;32mbreak\u001b[0m\u001b[0;34m\u001b[0m\u001b[0;34m\u001b[0m\u001b[0m\n",
            "\u001b[0;32m/usr/lib/python3.7/http/client.py\u001b[0m in \u001b[0;36mread\u001b[0;34m(self, amt)\u001b[0m\n\u001b[1;32m    463\u001b[0m             \u001b[0;31m# Amount is given, implement using readinto\u001b[0m\u001b[0;34m\u001b[0m\u001b[0;34m\u001b[0m\u001b[0;34m\u001b[0m\u001b[0m\n\u001b[1;32m    464\u001b[0m             \u001b[0mb\u001b[0m \u001b[0;34m=\u001b[0m \u001b[0mbytearray\u001b[0m\u001b[0;34m(\u001b[0m\u001b[0mamt\u001b[0m\u001b[0;34m)\u001b[0m\u001b[0;34m\u001b[0m\u001b[0;34m\u001b[0m\u001b[0m\n\u001b[0;32m--> 465\u001b[0;31m             \u001b[0mn\u001b[0m \u001b[0;34m=\u001b[0m \u001b[0mself\u001b[0m\u001b[0;34m.\u001b[0m\u001b[0mreadinto\u001b[0m\u001b[0;34m(\u001b[0m\u001b[0mb\u001b[0m\u001b[0;34m)\u001b[0m\u001b[0;34m\u001b[0m\u001b[0;34m\u001b[0m\u001b[0m\n\u001b[0m\u001b[1;32m    466\u001b[0m             \u001b[0;32mreturn\u001b[0m \u001b[0mmemoryview\u001b[0m\u001b[0;34m(\u001b[0m\u001b[0mb\u001b[0m\u001b[0;34m)\u001b[0m\u001b[0;34m[\u001b[0m\u001b[0;34m:\u001b[0m\u001b[0mn\u001b[0m\u001b[0;34m]\u001b[0m\u001b[0;34m.\u001b[0m\u001b[0mtobytes\u001b[0m\u001b[0;34m(\u001b[0m\u001b[0;34m)\u001b[0m\u001b[0;34m\u001b[0m\u001b[0;34m\u001b[0m\u001b[0m\n\u001b[1;32m    467\u001b[0m         \u001b[0;32melse\u001b[0m\u001b[0;34m:\u001b[0m\u001b[0;34m\u001b[0m\u001b[0;34m\u001b[0m\u001b[0m\n",
            "\u001b[0;32m/usr/lib/python3.7/http/client.py\u001b[0m in \u001b[0;36mreadinto\u001b[0;34m(self, b)\u001b[0m\n\u001b[1;32m    507\u001b[0m         \u001b[0;31m# connection, and the user is reading more bytes than will be provided\u001b[0m\u001b[0;34m\u001b[0m\u001b[0;34m\u001b[0m\u001b[0;34m\u001b[0m\u001b[0m\n\u001b[1;32m    508\u001b[0m         \u001b[0;31m# (for example, reading in 1k chunks)\u001b[0m\u001b[0;34m\u001b[0m\u001b[0;34m\u001b[0m\u001b[0;34m\u001b[0m\u001b[0m\n\u001b[0;32m--> 509\u001b[0;31m         \u001b[0mn\u001b[0m \u001b[0;34m=\u001b[0m \u001b[0mself\u001b[0m\u001b[0;34m.\u001b[0m\u001b[0mfp\u001b[0m\u001b[0;34m.\u001b[0m\u001b[0mreadinto\u001b[0m\u001b[0;34m(\u001b[0m\u001b[0mb\u001b[0m\u001b[0;34m)\u001b[0m\u001b[0;34m\u001b[0m\u001b[0;34m\u001b[0m\u001b[0m\n\u001b[0m\u001b[1;32m    510\u001b[0m         \u001b[0;32mif\u001b[0m \u001b[0;32mnot\u001b[0m \u001b[0mn\u001b[0m \u001b[0;32mand\u001b[0m \u001b[0mb\u001b[0m\u001b[0;34m:\u001b[0m\u001b[0;34m\u001b[0m\u001b[0;34m\u001b[0m\u001b[0m\n\u001b[1;32m    511\u001b[0m             \u001b[0;31m# Ideally, we would raise IncompleteRead if the content-length\u001b[0m\u001b[0;34m\u001b[0m\u001b[0;34m\u001b[0m\u001b[0;34m\u001b[0m\u001b[0m\n",
            "\u001b[0;32m/usr/lib/python3.7/socket.py\u001b[0m in \u001b[0;36mreadinto\u001b[0;34m(self, b)\u001b[0m\n\u001b[1;32m    587\u001b[0m         \u001b[0;32mwhile\u001b[0m \u001b[0;32mTrue\u001b[0m\u001b[0;34m:\u001b[0m\u001b[0;34m\u001b[0m\u001b[0;34m\u001b[0m\u001b[0m\n\u001b[1;32m    588\u001b[0m             \u001b[0;32mtry\u001b[0m\u001b[0;34m:\u001b[0m\u001b[0;34m\u001b[0m\u001b[0;34m\u001b[0m\u001b[0m\n\u001b[0;32m--> 589\u001b[0;31m                 \u001b[0;32mreturn\u001b[0m \u001b[0mself\u001b[0m\u001b[0;34m.\u001b[0m\u001b[0m_sock\u001b[0m\u001b[0;34m.\u001b[0m\u001b[0mrecv_into\u001b[0m\u001b[0;34m(\u001b[0m\u001b[0mb\u001b[0m\u001b[0;34m)\u001b[0m\u001b[0;34m\u001b[0m\u001b[0;34m\u001b[0m\u001b[0m\n\u001b[0m\u001b[1;32m    590\u001b[0m             \u001b[0;32mexcept\u001b[0m \u001b[0mtimeout\u001b[0m\u001b[0;34m:\u001b[0m\u001b[0;34m\u001b[0m\u001b[0;34m\u001b[0m\u001b[0m\n\u001b[1;32m    591\u001b[0m                 \u001b[0mself\u001b[0m\u001b[0;34m.\u001b[0m\u001b[0m_timeout_occurred\u001b[0m \u001b[0;34m=\u001b[0m \u001b[0;32mTrue\u001b[0m\u001b[0;34m\u001b[0m\u001b[0;34m\u001b[0m\u001b[0m\n",
            "\u001b[0;32m/usr/lib/python3.7/ssl.py\u001b[0m in \u001b[0;36mrecv_into\u001b[0;34m(self, buffer, nbytes, flags)\u001b[0m\n\u001b[1;32m   1069\u001b[0m                   \u001b[0;34m\"non-zero flags not allowed in calls to recv_into() on %s\"\u001b[0m \u001b[0;34m%\u001b[0m\u001b[0;34m\u001b[0m\u001b[0;34m\u001b[0m\u001b[0m\n\u001b[1;32m   1070\u001b[0m                   self.__class__)\n\u001b[0;32m-> 1071\u001b[0;31m             \u001b[0;32mreturn\u001b[0m \u001b[0mself\u001b[0m\u001b[0;34m.\u001b[0m\u001b[0mread\u001b[0m\u001b[0;34m(\u001b[0m\u001b[0mnbytes\u001b[0m\u001b[0;34m,\u001b[0m \u001b[0mbuffer\u001b[0m\u001b[0;34m)\u001b[0m\u001b[0;34m\u001b[0m\u001b[0;34m\u001b[0m\u001b[0m\n\u001b[0m\u001b[1;32m   1072\u001b[0m         \u001b[0;32melse\u001b[0m\u001b[0;34m:\u001b[0m\u001b[0;34m\u001b[0m\u001b[0;34m\u001b[0m\u001b[0m\n\u001b[1;32m   1073\u001b[0m             \u001b[0;32mreturn\u001b[0m \u001b[0msuper\u001b[0m\u001b[0;34m(\u001b[0m\u001b[0;34m)\u001b[0m\u001b[0;34m.\u001b[0m\u001b[0mrecv_into\u001b[0m\u001b[0;34m(\u001b[0m\u001b[0mbuffer\u001b[0m\u001b[0;34m,\u001b[0m \u001b[0mnbytes\u001b[0m\u001b[0;34m,\u001b[0m \u001b[0mflags\u001b[0m\u001b[0;34m)\u001b[0m\u001b[0;34m\u001b[0m\u001b[0;34m\u001b[0m\u001b[0m\n",
            "\u001b[0;32m/usr/lib/python3.7/ssl.py\u001b[0m in \u001b[0;36mread\u001b[0;34m(self, len, buffer)\u001b[0m\n\u001b[1;32m    927\u001b[0m         \u001b[0;32mtry\u001b[0m\u001b[0;34m:\u001b[0m\u001b[0;34m\u001b[0m\u001b[0;34m\u001b[0m\u001b[0m\n\u001b[1;32m    928\u001b[0m             \u001b[0;32mif\u001b[0m \u001b[0mbuffer\u001b[0m \u001b[0;32mis\u001b[0m \u001b[0;32mnot\u001b[0m \u001b[0;32mNone\u001b[0m\u001b[0;34m:\u001b[0m\u001b[0;34m\u001b[0m\u001b[0;34m\u001b[0m\u001b[0m\n\u001b[0;32m--> 929\u001b[0;31m                 \u001b[0;32mreturn\u001b[0m \u001b[0mself\u001b[0m\u001b[0;34m.\u001b[0m\u001b[0m_sslobj\u001b[0m\u001b[0;34m.\u001b[0m\u001b[0mread\u001b[0m\u001b[0;34m(\u001b[0m\u001b[0mlen\u001b[0m\u001b[0;34m,\u001b[0m \u001b[0mbuffer\u001b[0m\u001b[0;34m)\u001b[0m\u001b[0;34m\u001b[0m\u001b[0;34m\u001b[0m\u001b[0m\n\u001b[0m\u001b[1;32m    930\u001b[0m             \u001b[0;32melse\u001b[0m\u001b[0;34m:\u001b[0m\u001b[0;34m\u001b[0m\u001b[0;34m\u001b[0m\u001b[0m\n\u001b[1;32m    931\u001b[0m                 \u001b[0;32mreturn\u001b[0m \u001b[0mself\u001b[0m\u001b[0;34m.\u001b[0m\u001b[0m_sslobj\u001b[0m\u001b[0;34m.\u001b[0m\u001b[0mread\u001b[0m\u001b[0;34m(\u001b[0m\u001b[0mlen\u001b[0m\u001b[0;34m)\u001b[0m\u001b[0;34m\u001b[0m\u001b[0;34m\u001b[0m\u001b[0m\n",
            "\u001b[0;31mConnectionResetError\u001b[0m: [Errno 104] Connection reset by peer"
          ]
        }
      ]
    },
    {
      "cell_type": "markdown",
      "metadata": {
        "id": "z4-Qv4C_jNhb"
      },
      "source": [
        "Usage is very similar to before. For example, we can calulcate the similarity between two words"
      ]
    },
    {
      "cell_type": "code",
      "metadata": {
        "id": "L4dFOtngjQ9C"
      },
      "source": [
        "#print(wv_f.similarity(\"dog\", \"dogs\"))"
      ],
      "execution_count": null,
      "outputs": []
    },
    {
      "cell_type": "markdown",
      "metadata": {
        "id": "35uBoo3xjWcr"
      },
      "source": [
        "Question How does this compare to the similarity scores you obtained with the other models you tried?"
      ]
    }
  ]
}