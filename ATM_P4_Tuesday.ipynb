{
  "nbformat": 4,
  "nbformat_minor": 0,
  "metadata": {
    "colab": {
      "name": "ATM_P4_Tuesday.ipynb",
      "provenance": [],
      "collapsed_sections": [],
      "mount_file_id": "1lFNhlusxsX5wYH7qKZ1fG18efEH1RRr0",
      "authorship_tag": "ABX9TyM8cwBSX30pZLqTxHizQ7nk",
      "include_colab_link": true
    },
    "kernelspec": {
      "name": "python3",
      "display_name": "Python 3"
    },
    "language_info": {
      "name": "python"
    }
  },
  "cells": [
    {
      "cell_type": "markdown",
      "metadata": {
        "id": "view-in-github",
        "colab_type": "text"
      },
      "source": [
        "<a href=\"https://colab.research.google.com/github/laurencefrank/Applied-Text-Mining/blob/main/ATM_P4_Tuesday.ipynb\" target=\"_parent\"><img src=\"https://colab.research.google.com/assets/colab-badge.svg\" alt=\"Open In Colab\"/></a>"
      ]
    },
    {
      "cell_type": "markdown",
      "metadata": {
        "id": "2pUKCEBWfBf0"
      },
      "source": [
        "## Applied Text Mining, Utrecht Summerschool 26 - 29 July 2021\n",
        "\n",
        "Tuesday 27 July, practical 4\n",
        "\n",
        "### Practical 4: Text Clustering and Topic Modeling¶\n"
      ]
    },
    {
      "cell_type": "markdown",
      "metadata": {
        "id": "tk6zJZxJfrKa"
      },
      "source": [
        "Welcome to the fourth practical of the course “Applied Text Mining”. In this practical, we are going to apply different clustering algorithms and a topic modeling approach on sport news articles and cluster them into different categories.\n",
        "\n",
        "Today we will use the following libraries. Take care to have them installed!"
      ]
    },
    {
      "cell_type": "code",
      "metadata": {
        "id": "2dvbRMPse5_n"
      },
      "source": [
        "from sklearn.datasets import load_files\n",
        "import pandas as pd\n",
        "import numpy as np\n",
        "\n",
        "from sklearn.feature_extraction.text import TfidfVectorizer\n",
        "\n",
        "from sklearn.decomposition import PCA\n",
        "import matplotlib.pyplot as plt\n",
        "\n",
        "from sklearn.cluster import MiniBatchKMeans\n",
        "from sklearn.cluster import AgglomerativeClustering\n",
        "from scipy.cluster.hierarchy import dendrogram\n",
        "\n",
        "from sklearn import metrics\n",
        "\n",
        "from sklearn.decomposition import NMF\n",
        "from sklearn.decomposition import LatentDirichletAllocation\n",
        "\n",
        "# for reproducibility\n",
        "SEED = 321 "
      ],
      "execution_count": 4,
      "outputs": []
    },
    {
      "cell_type": "markdown",
      "metadata": {
        "id": "1hwuFYdXfxPg"
      },
      "source": [
        "1. Here we are going to use a another set of the BBC news articles, the BBCSport data (http://mlg.ucd.ie/datasets/bbc.html). This data set provided for use as benchmarks for machine learning research. The BBCSport data set consists of 737 documents from the BBC Sport website corresponding to sports news articles from 2004-2005 in five topical areas: athletics, cricket, football, rugby, tennis. Your first task is to load the data set so that you can proceed. Do not forget to import the necessary dependencies, you are going to need. You can import the other ones as you go along."
      ]
    },
    {
      "cell_type": "code",
      "metadata": {
        "colab": {
          "base_uri": "https://localhost:8080/",
          "height": 204
        },
        "id": "SWDhkS4_fyZQ",
        "outputId": "4994c869-0a65-44a8-d68b-5a8069badb85"
      },
      "source": [
        "DATA_DIR = \"/content/drive/MyDrive/Colab Notebooks/AppliedTextMiningSummerschoolUtrechtJuly2021/bbcsport-fulltext/bbcsport\"\n",
        "data = load_files(DATA_DIR, encoding=\"utf-8\", decode_error=\"replace\", random_state=SEED)\n",
        "df = pd.DataFrame(list(zip(data['data'], data['target'])), columns=['text', 'label'])\n",
        "df.head()"
      ],
      "execution_count": 5,
      "outputs": [
        {
          "output_type": "execute_result",
          "data": {
            "text/html": [
              "<div>\n",
              "<style scoped>\n",
              "    .dataframe tbody tr th:only-of-type {\n",
              "        vertical-align: middle;\n",
              "    }\n",
              "\n",
              "    .dataframe tbody tr th {\n",
              "        vertical-align: top;\n",
              "    }\n",
              "\n",
              "    .dataframe thead th {\n",
              "        text-align: right;\n",
              "    }\n",
              "</style>\n",
              "<table border=\"1\" class=\"dataframe\">\n",
              "  <thead>\n",
              "    <tr style=\"text-align: right;\">\n",
              "      <th></th>\n",
              "      <th>text</th>\n",
              "      <th>label</th>\n",
              "    </tr>\n",
              "  </thead>\n",
              "  <tbody>\n",
              "    <tr>\n",
              "      <th>0</th>\n",
              "      <td>Scotland v Italy (Sat)\\n\\nMurrayfield, Edinbur...</td>\n",
              "      <td>3</td>\n",
              "    </tr>\n",
              "    <tr>\n",
              "      <th>1</th>\n",
              "      <td>Wales silent on Grand Slam talk\\n\\nRhys Willia...</td>\n",
              "      <td>3</td>\n",
              "    </tr>\n",
              "    <tr>\n",
              "      <th>2</th>\n",
              "      <td>Arsenal 1-1 Sheff Utd\\n\\nAndy Gray's 90th-minu...</td>\n",
              "      <td>2</td>\n",
              "    </tr>\n",
              "    <tr>\n",
              "      <th>3</th>\n",
              "      <td>Cole refuses to blame van Persie\\n\\nAshley Col...</td>\n",
              "      <td>2</td>\n",
              "    </tr>\n",
              "    <tr>\n",
              "      <th>4</th>\n",
              "      <td>Van Nistelrooy hungry for return\\n\\nManchester...</td>\n",
              "      <td>2</td>\n",
              "    </tr>\n",
              "  </tbody>\n",
              "</table>\n",
              "</div>"
            ],
            "text/plain": [
              "                                                text  label\n",
              "0  Scotland v Italy (Sat)\\n\\nMurrayfield, Edinbur...      3\n",
              "1  Wales silent on Grand Slam talk\\n\\nRhys Willia...      3\n",
              "2  Arsenal 1-1 Sheff Utd\\n\\nAndy Gray's 90th-minu...      2\n",
              "3  Cole refuses to blame van Persie\\n\\nAshley Col...      2\n",
              "4  Van Nistelrooy hungry for return\\n\\nManchester...      2"
            ]
          },
          "metadata": {
            "tags": []
          },
          "execution_count": 5
        }
      ]
    },
    {
      "cell_type": "code",
      "metadata": {
        "colab": {
          "base_uri": "https://localhost:8080/"
        },
        "id": "rUKsMhpywFeM",
        "outputId": "9af7d473-e2a8-40ec-e1cf-4d01aeab1824"
      },
      "source": [
        "labels, counts = np.unique(df['label'], return_counts=True)\n",
        "print(dict(zip(data.target_names, counts)))"
      ],
      "execution_count": 6,
      "outputs": [
        {
          "output_type": "stream",
          "text": [
            "{'athletics': 101, 'cricket': 124, 'football': 265, 'rugby': 147, 'tennis': 100}\n"
          ],
          "name": "stdout"
        }
      ]
    },
    {
      "cell_type": "code",
      "metadata": {
        "colab": {
          "base_uri": "https://localhost:8080/"
        },
        "id": "MQYh0UWpwNm6",
        "outputId": "f019ee74-2016-4d69-8da8-041550543393"
      },
      "source": [
        "data.target_names"
      ],
      "execution_count": 7,
      "outputs": [
        {
          "output_type": "execute_result",
          "data": {
            "text/plain": [
              "['athletics', 'cricket', 'football', 'rugby', 'tennis']"
            ]
          },
          "metadata": {
            "tags": []
          },
          "execution_count": 7
        }
      ]
    },
    {
      "cell_type": "markdown",
      "metadata": {
        "id": "HKP6Xy8fwPyp"
      },
      "source": [
        "2. For text clustering and topic modeling, we will ignore the labels but we will use them while evaluating models. Create a copied dataframe removing the outcome variable."
      ]
    },
    {
      "cell_type": "code",
      "metadata": {
        "colab": {
          "base_uri": "https://localhost:8080/",
          "height": 204
        },
        "id": "JMMVihJbwO1-",
        "outputId": "ba1d2572-8ecb-4848-cb75-ab61a4ab6e3e"
      },
      "source": [
        "bbcsport_text = pd.DataFrame(df['text'])\n",
        "bbcsport_text.head()"
      ],
      "execution_count": 8,
      "outputs": [
        {
          "output_type": "execute_result",
          "data": {
            "text/html": [
              "<div>\n",
              "<style scoped>\n",
              "    .dataframe tbody tr th:only-of-type {\n",
              "        vertical-align: middle;\n",
              "    }\n",
              "\n",
              "    .dataframe tbody tr th {\n",
              "        vertical-align: top;\n",
              "    }\n",
              "\n",
              "    .dataframe thead th {\n",
              "        text-align: right;\n",
              "    }\n",
              "</style>\n",
              "<table border=\"1\" class=\"dataframe\">\n",
              "  <thead>\n",
              "    <tr style=\"text-align: right;\">\n",
              "      <th></th>\n",
              "      <th>text</th>\n",
              "    </tr>\n",
              "  </thead>\n",
              "  <tbody>\n",
              "    <tr>\n",
              "      <th>0</th>\n",
              "      <td>Scotland v Italy (Sat)\\n\\nMurrayfield, Edinbur...</td>\n",
              "    </tr>\n",
              "    <tr>\n",
              "      <th>1</th>\n",
              "      <td>Wales silent on Grand Slam talk\\n\\nRhys Willia...</td>\n",
              "    </tr>\n",
              "    <tr>\n",
              "      <th>2</th>\n",
              "      <td>Arsenal 1-1 Sheff Utd\\n\\nAndy Gray's 90th-minu...</td>\n",
              "    </tr>\n",
              "    <tr>\n",
              "      <th>3</th>\n",
              "      <td>Cole refuses to blame van Persie\\n\\nAshley Col...</td>\n",
              "    </tr>\n",
              "    <tr>\n",
              "      <th>4</th>\n",
              "      <td>Van Nistelrooy hungry for return\\n\\nManchester...</td>\n",
              "    </tr>\n",
              "  </tbody>\n",
              "</table>\n",
              "</div>"
            ],
            "text/plain": [
              "                                                text\n",
              "0  Scotland v Italy (Sat)\\n\\nMurrayfield, Edinbur...\n",
              "1  Wales silent on Grand Slam talk\\n\\nRhys Willia...\n",
              "2  Arsenal 1-1 Sheff Utd\\n\\nAndy Gray's 90th-minu...\n",
              "3  Cole refuses to blame van Persie\\n\\nAshley Col...\n",
              "4  Van Nistelrooy hungry for return\\n\\nManchester..."
            ]
          },
          "metadata": {
            "tags": []
          },
          "execution_count": 8
        }
      ]
    },
    {
      "cell_type": "markdown",
      "metadata": {
        "id": "j9INelaJxIiZ"
      },
      "source": [
        "3. Apply the following pre-processing steps and then convert the data to a dataframe of document-term matrix with term frequencies:\n",
        "\n",
        "\n",
        "* convert to lower\n",
        "* remove stop words\n",
        "* remove numbers\n",
        "* extract uni- and bi-grams\n",
        "* remove terms that occur in less than 2 documents\n",
        "* remove one-letter terms, e.g.'a', or 's'\n",
        "\n"
      ]
    },
    {
      "cell_type": "code",
      "metadata": {
        "colab": {
          "base_uri": "https://localhost:8080/"
        },
        "id": "3_C0J-8exIMR",
        "outputId": "f4d1d58d-c991-4337-a889-b195b93b5756"
      },
      "source": [
        "tfidf_vectorizer = TfidfVectorizer(stop_words='english', \n",
        "                                   lowercase=True,\n",
        "                                   min_df=2,\n",
        "                                   ngram_range=(1,2), \n",
        "                                   token_pattern=r'(?u)\\b[A-Za-z][A-Za-z]+\\b')\n",
        "tfidf_vectorizer.fit(df.text.values)\n",
        "tfidf_matrix = tfidf_vectorizer.transform(df.text.values)\n",
        "tfidf_matrix.shape"
      ],
      "execution_count": 9,
      "outputs": [
        {
          "output_type": "execute_result",
          "data": {
            "text/plain": [
              "(737, 21604)"
            ]
          },
          "metadata": {
            "tags": []
          },
          "execution_count": 9
        }
      ]
    },
    {
      "cell_type": "code",
      "metadata": {
        "colab": {
          "base_uri": "https://localhost:8080/"
        },
        "id": "bPVO4jnVzg6H",
        "outputId": "cc840db9-7714-4b73-b62a-a74dd9c041d2"
      },
      "source": [
        "tfidf_vectorizer.vocabulary_"
      ],
      "execution_count": 10,
      "outputs": [
        {
          "output_type": "execute_result",
          "data": {
            "text/plain": [
              "{'scotland': 16588,\n",
              " 'italy': 9554,\n",
              " 'sat': 16416,\n",
              " 'murrayfield': 12483,\n",
              " 'edinburgh': 5500,\n",
              " 'saturday': 16420,\n",
              " 'february': 6375,\n",
              " 'gmt': 7592,\n",
              " 'live': 10930,\n",
              " 'website': 20649,\n",
              " 'victory': 20246,\n",
              " 'azzurri': 1162,\n",
              " 'rome': 15819,\n",
              " 'year': 21407,\n",
              " 'saw': 16453,\n",
              " 'end': 5635,\n",
              " 'campaign': 2428,\n",
              " 'pressure': 14463,\n",
              " 'coach': 3334,\n",
              " 'matt': 11818,\n",
              " 'williams': 20857,\n",
              " 'seeks': 16838,\n",
              " 'nations': 12557,\n",
              " 'eighth': 5541,\n",
              " 'attempt': 990,\n",
              " 'lost': 11181,\n",
              " 'opening': 13151,\n",
              " 'games': 7288,\n",
              " 'home': 8678,\n",
              " 'ireland': 9450,\n",
              " 'wales': 20390,\n",
              " 'travel': 19657,\n",
              " 'high': 8536,\n",
              " 'hopes': 8748,\n",
              " 'john': 9743,\n",
              " 'kirwan': 10230,\n",
              " 'warned': 20519,\n",
              " 'errors': 5894,\n",
              " 'blighted': 1816,\n",
              " 'loss': 11173,\n",
              " 'risk': 15689,\n",
              " 'suffering': 18370,\n",
              " 'successive': 18351,\n",
              " 'defeat': 4554,\n",
              " 'taught': 18702,\n",
              " 'level': 10734,\n",
              " 'make': 11412,\n",
              " 'mistakes': 12256,\n",
              " 'said': 16105,\n",
              " 'error': 5893,\n",
              " 'come': 3435,\n",
              " 'price': 14500,\n",
              " 'aggressive': 313,\n",
              " 'minutes': 12165,\n",
              " 'calm': 2377,\n",
              " 'situation': 17385,\n",
              " 'display': 5042,\n",
              " 'great': 7885,\n",
              " 'maturity': 11836,\n",
              " 'pitch': 13839,\n",
              " 'fundamental': 7123,\n",
              " 'cool': 3850,\n",
              " 'difficult': 4914,\n",
              " 'moments': 12298,\n",
              " 'key': 10142,\n",
              " 'situations': 17389,\n",
              " 'game': 7169,\n",
              " 'recalled': 15079,\n",
              " 'experienced': 6093,\n",
              " 'cristian': 4067,\n",
              " 'stoica': 18112,\n",
              " 'centre': 2704,\n",
              " 'drafted': 5242,\n",
              " 'david': 4340,\n",
              " 'dal': 4263,\n",
              " 'maso': 11702,\n",
              " 'open': 13095,\n",
              " 'star': 17906,\n",
              " 'flanker': 6719,\n",
              " 'mauro': 11846,\n",
              " 'bergamasco': 1599,\n",
              " 'ruled': 15965,\n",
              " 'rest': 15473,\n",
              " 'tournament': 19572,\n",
              " 'changes': 2900,\n",
              " 'simon': 17333,\n",
              " 'webster': 20652,\n",
              " 'replacing': 15363,\n",
              " 'danielli': 4299,\n",
              " 'wing': 21001,\n",
              " 'taylor': 18706,\n",
              " 'returning': 15561,\n",
              " 'test': 18892,\n",
              " 'injured': 9197,\n",
              " 'jason': 9650,\n",
              " 'white': 20781,\n",
              " 'recovery': 15140,\n",
              " 'knee': 10242,\n",
              " 'injury': 9212,\n",
              " 'major': 11399,\n",
              " 'boost': 1920,\n",
              " 'scottish': 16615,\n",
              " 'world': 21251,\n",
              " 'class': 3167,\n",
              " 'players': 14043,\n",
              " 'want': 20454,\n",
              " 'team': 18717,\n",
              " 'acknowledged': 103,\n",
              " 'despite': 4763,\n",
              " 'record': 15109,\n",
              " 'victories': 20242,\n",
              " 'tests': 18954,\n",
              " 'insists': 9292,\n",
              " 'revelling': 15578,\n",
              " 'actually': 124,\n",
              " 'really': 15024,\n",
              " 'enjoy': 5822,\n",
              " 'seeing': 16830,\n",
              " 'cope': 3858,\n",
              " 'optimistic': 13217,\n",
              " 'defeats': 4580,\n",
              " 'france': 6977,\n",
              " 'confident': 3655,\n",
              " 'beat': 1438,\n",
              " 'added': 137,\n",
              " 'paterson': 13567,\n",
              " 'craig': 3989,\n",
              " 'southwell': 17607,\n",
              " 'lamont': 10377,\n",
              " 'parks': 13481,\n",
              " 'cusiter': 4235,\n",
              " 'smith': 17505,\n",
              " 'bulloch': 2298,\n",
              " 'capt': 2479,\n",
              " 'kerr': 10129,\n",
              " 'grimes': 7971,\n",
              " 'murray': 12479,\n",
              " 'petrie': 13778,\n",
              " 'hogg': 8644,\n",
              " 'russell': 16051,\n",
              " 'douglas': 5227,\n",
              " 'hines': 8580,\n",
              " 'dunbar': 5385,\n",
              " 'blair': 1798,\n",
              " 'ross': 15846,\n",
              " 'hinshelwood': 8585,\n",
              " 'marigny': 11606,\n",
              " 'mirco': 12197,\n",
              " 'masi': 11699,\n",
              " 'nitoglia': 12813,\n",
              " 'orquera': 13255,\n",
              " 'troncon': 19731,\n",
              " 'lo': 11012,\n",
              " 'cicero': 3107,\n",
              " 'ongaro': 13084,\n",
              " 'castrogiovanni': 2640,\n",
              " 'dellape': 4669,\n",
              " 'bortolami': 1940,\n",
              " 'persico': 13737,\n",
              " 'parisse': 13470,\n",
              " 'intoppa': 9394,\n",
              " 'perugini': 13762,\n",
              " 'ca': 2348,\n",
              " 'del': 4637,\n",
              " 'fava': 6335,\n",
              " 'orlando': 13253,\n",
              " 'griffen': 7965,\n",
              " 'pedrazzi': 13624,\n",
              " 'kp': 10319,\n",
              " 'robertson': 15737,\n",
              " 'scotland italy': 16599,\n",
              " 'edinburgh saturday': 5505,\n",
              " 'saturday february': 16426,\n",
              " 'february gmt': 6379,\n",
              " 'campaign victory': 2431,\n",
              " 'pressure scotland': 14473,\n",
              " 'scotland coach': 16592,\n",
              " 'coach matt': 3356,\n",
              " 'matt williams': 11822,\n",
              " 'nations victory': 12586,\n",
              " 'attempt italy': 991,\n",
              " 'italy lost': 9567,\n",
              " 'lost opening': 11194,\n",
              " 'opening games': 13158,\n",
              " 'games home': 7301,\n",
              " 'home ireland': 8692,\n",
              " 'ireland wales': 9491,\n",
              " 'wales travel': 20424,\n",
              " 'travel edinburgh': 19658,\n",
              " 'high hopes': 8541,\n",
              " 'coach john': 3351,\n",
              " 'john kirwan': 9748,\n",
              " 'loss wales': 11177,\n",
              " 'defeat wales': 4574,\n",
              " 'kirwan said': 10231,\n",
              " 'great maturity': 7905,\n",
              " 'difficult moments': 4922,\n",
              " 'experienced cristian': 6094,\n",
              " 'cristian stoica': 4068,\n",
              " 'david dal': 4343,\n",
              " 'dal maso': 4264,\n",
              " 'flanker mauro': 6725,\n",
              " 'mauro bergamasco': 11847,\n",
              " 'ruled rest': 15970,\n",
              " 'rest tournament': 15481,\n",
              " 'changes simon': 2902,\n",
              " 'simon webster': 17338,\n",
              " 'simon danielli': 17334,\n",
              " 'simon taylor': 17337,\n",
              " 'test year': 18946,\n",
              " 'year injured': 21437,\n",
              " 'flanker jason': 6722,\n",
              " 'jason white': 9655,\n",
              " 'knee injury': 10243,\n",
              " 'major boost': 11400,\n",
              " 'world class': 21260,\n",
              " 'class players': 3170,\n",
              " 'want team': 20482,\n",
              " 'williams insists': 20868,\n",
              " 'insists revelling': 9294,\n",
              " 'revelling pressure': 15579,\n",
              " 'actually really': 125,\n",
              " 'really enjoy': 15030,\n",
              " 'enjoy seeing': 5823,\n",
              " 'seeing cope': 16831,\n",
              " 'cope pressure': 3860,\n",
              " 'pressure coach': 14465,\n",
              " 'coach said': 3363,\n",
              " 'despite opening': 4773,\n",
              " 'opening defeats': 13156,\n",
              " 'france ireland': 6991,\n",
              " 'confident games': 3658,\n",
              " 'games confident': 7297,\n",
              " 'confident beat': 3656,\n",
              " 'beat italy': 1450,\n",
              " 'italy added': 9555,\n",
              " 'paterson webster': 13570,\n",
              " 'webster craig': 20653,\n",
              " 'craig southwell': 3993,\n",
              " 'southwell lamont': 17609,\n",
              " 'lamont parks': 10379,\n",
              " 'parks cusiter': 13482,\n",
              " 'cusiter smith': 4237,\n",
              " 'smith bulloch': 17506,\n",
              " 'bulloch capt': 2299,\n",
              " 'capt kerr': 2489,\n",
              " 'kerr grimes': 10130,\n",
              " 'grimes murray': 7972,\n",
              " 'murray taylor': 12482,\n",
              " 'taylor petrie': 18711,\n",
              " 'petrie hogg': 13780,\n",
              " 'hogg russell': 8648,\n",
              " 'russell douglas': 16052,\n",
              " 'douglas hines': 5229,\n",
              " 'hines dunbar': 8581,\n",
              " 'dunbar blair': 5386,\n",
              " 'blair ross': 1800,\n",
              " 'ross hinshelwood': 15847,\n",
              " 'hinshelwood marigny': 8586,\n",
              " 'marigny mirco': 11611,\n",
              " 'mirco bergamasco': 12198,\n",
              " 'bergamasco stoica': 1604,\n",
              " 'stoica masi': 18113,\n",
              " 'masi nitoglia': 11701,\n",
              " 'nitoglia orquera': 12819,\n",
              " 'orquera troncon': 13260,\n",
              " 'troncon lo': 19732,\n",
              " 'lo cicero': 11013,\n",
              " 'cicero ongaro': 3109,\n",
              " 'ongaro castrogiovanni': 13085,\n",
              " 'castrogiovanni dellape': 2641,\n",
              " 'dellape bortolami': 4670,\n",
              " 'bortolami capt': 1942,\n",
              " 'capt persico': 2495,\n",
              " 'persico dal': 13738,\n",
              " 'maso parisse': 11704,\n",
              " 'parisse intoppa': 13471,\n",
              " 'intoppa perugini': 9396,\n",
              " 'perugini ca': 13763,\n",
              " 'ca del': 2349,\n",
              " 'del fava': 4638,\n",
              " 'fava orlando': 6337,\n",
              " 'orlando griffen': 13254,\n",
              " 'griffen pedrazzi': 7967,\n",
              " 'pedrazzi kp': 13625,\n",
              " 'kp robertson': 10320,\n",
              " 'silent': 17314,\n",
              " 'grand': 7860,\n",
              " 'slam': 17430,\n",
              " 'talk': 18659,\n",
              " 'rhys': 15602,\n",
              " 'says': 16484,\n",
              " 'thinking': 19102,\n",
              " 'winning': 21020,\n",
              " 'win': 20903,\n",
              " 'thing': 19009,\n",
              " 'minds': 12136,\n",
              " 'moment': 12292,\n",
              " 'second': 16717,\n",
              " 'half': 8080,\n",
              " 'replacement': 15353,\n",
              " 'paris': 13463,\n",
              " 'realise': 15014,\n",
              " 'task': 18696,\n",
              " 've': 20160,\n",
              " 'couple': 3940,\n",
              " 'times': 19326,\n",
              " 'recently': 15095,\n",
              " 'focus': 6782,\n",
              " 'll': 10984,\n",
              " 'worry': 21302,\n",
              " 'hopefully': 8741,\n",
              " 'beaten': 1465,\n",
              " 'captain': 2503,\n",
              " 'gareth': 7357,\n",
              " 'thomas': 19111,\n",
              " 'broken': 2228,\n",
              " 'thumb': 19180,\n",
              " 'vying': 20376,\n",
              " 'start': 17921,\n",
              " 'championship': 2820,\n",
              " 'far': 6290,\n",
              " 'kevin': 10135,\n",
              " 'morgan': 12373,\n",
              " 'probably': 14525,\n",
              " 'favourite': 6346,\n",
              " 'replace': 15348,\n",
              " 'leaving': 10626,\n",
              " 'hal': 8078,\n",
              " 'luscombe': 11311,\n",
              " 'battle': 1408,\n",
              " 'right': 15632,\n",
              " 'berth': 1618,\n",
              " 'hamstring': 8164,\n",
              " 'denied': 4688,\n",
              " 'opportunity': 13196,\n",
              " 'dragons': 5246,\n",
              " 'winger': 21009,\n",
              " 'expected': 6076,\n",
              " 'fit': 6687,\n",
              " 'trip': 19713,\n",
              " 'march': 11578,\n",
              " 'hooker': 8723,\n",
              " 'robin': 15740,\n",
              " 'mcbryde': 11861,\n",
              " 'doubtful': 5224,\n",
              " 'picking': 13819,\n",
              " 'sonny': 17555,\n",
              " 'parker': 13479,\n",
              " 'colin': 3409,\n",
              " 'charvis': 2955,\n",
              " 'set': 16989,\n",
              " 'recover': 15129,\n",
              " 'contention': 3755,\n",
              " 'selection': 16864,\n",
              " 'assistant': 913,\n",
              " 'scott': 16610,\n",
              " 'johnson': 9758,\n",
              " 'worked': 21238,\n",
              " 'weekend': 20687,\n",
              " 'reports': 15393,\n",
              " 'bit': 1766,\n",
              " 'positive': 14286,\n",
              " 'getting': 7471,\n",
              " 'adds': 188,\n",
              " 'depth': 4725,\n",
              " 'squad': 17802,\n",
              " 'secured': 16794,\n",
              " 'shown': 17260,\n",
              " 'little': 10924,\n",
              " 'attack': 977,\n",
              " 'insisted': 9281,\n",
              " 'scots': 16608,\n",
              " 'opposition': 13212,\n",
              " 'break': 2091,\n",
              " 'brave': 2075,\n",
              " 'hard': 8247,\n",
              " 'ugly': 19873,\n",
              " 'just': 9910,\n",
              " 'effective': 5522,\n",
              " 'point': 14183,\n",
              " 'taking': 18632,\n",
              " 'granted': 7870,\n",
              " 'glory': 7580,\n",
              " 'got': 7796,\n",
              " 'diligent': 4936,\n",
              " 'preparation': 14434,\n",
              " 'job': 9719,\n",
              " 'sure': 18462,\n",
              " 'focused': 6785,\n",
              " 'grand slam': 7863,\n",
              " 'rhys williams': 15603,\n",
              " 'williams says': 20875,\n",
              " 'says wales': 16493,\n",
              " 'thinking winning': 19103,\n",
              " 'winning grand': 21027,\n",
              " 'slam despite': 17432,\n",
              " 'nations win': 12587,\n",
              " 'thing minds': 19018,\n",
              " 'minds moment': 12137,\n",
              " 'moment said': 12295,\n",
              " 'said williams': 16332,\n",
              " 'second half': 16730,\n",
              " 'half replacement': 8118,\n",
              " 'replacement saturday': 15358,\n",
              " 'saturday win': 16436,\n",
              " 'win france': 20928,\n",
              " 'france paris': 6998,\n",
              " 'difficult task': 4927,\n",
              " 've come': 20164,\n",
              " 'couple times': 3950,\n",
              " 'times recently': 19329,\n",
              " 'game ll': 7225,\n",
              " 'hopefully ve': 8746,\n",
              " 've beaten': 20161,\n",
              " 'beaten scotland': 1471,\n",
              " 'scotland captain': 16591,\n",
              " 'captain gareth': 2511,\n",
              " 'gareth thomas': 7360,\n",
              " 'thomas ruled': 19118,\n",
              " 'broken thumb': 2233,\n",
              " 'start championship': 17924,\n",
              " 'championship far': 2822,\n",
              " 'kevin morgan': 10139,\n",
              " 'hal luscombe': 8079,\n",
              " 'right wing': 15665,\n",
              " 'wing berth': 21002,\n",
              " 'hamstring injury': 8166,\n",
              " 'opportunity make': 13200,\n",
              " 'expected fit': 6079,\n",
              " 'hooker robin': 8724,\n",
              " 'robin mcbryde': 15741,\n",
              " 'picking knee': 13820,\n",
              " 'centre sonny': 2719,\n",
              " 'sonny parker': 17556,\n",
              " 'flanker colin': 6721,\n",
              " 'colin charvis': 3410,\n",
              " 'charvis set': 2956,\n",
              " 'said wales': 16322,\n",
              " 'wales assistant': 20391,\n",
              " 'assistant coach': 915,\n",
              " 'coach scott': 3364,\n",
              " 'scott johnson': 16611,\n",
              " 've worked': 20191,\n",
              " 'adds depth': 189,\n",
              " 'squad scotland': 17824,\n",
              " 'win italy': 20940,\n",
              " 'difficult opposition': 4923,\n",
              " 'hard win': 8261,\n",
              " 'win said': 20968,\n",
              " 'win just': 20941,\n",
              " 'victory scotland': 20271,\n",
              " 'taking granted': 18641,\n",
              " 'winning games': 21025,\n",
              " 'games ve': 7325,\n",
              " 've got': 20169,\n",
              " 'job ve': 9727,\n",
              " 'got make': 7815,\n",
              " 'make sure': 11444,\n",
              " 'arsenal': 812,\n",
              " 'sheff': 17154,\n",
              " 'utd': 20116,\n",
              " 'andy': 575,\n",
              " 'gray': 7880,\n",
              " 'minute': 12152,\n",
              " 'penalty': 13647,\n",
              " 'earned': 5453,\n",
              " 'sheffield': 17156,\n",
              " 'united': 19978,\n",
              " 'deserved': 4747,\n",
              " 'fa': 6165,\n",
              " 'cup': 4153,\n",
              " 'replay': 15366,\n",
              " 'man': 11491,\n",
              " 'robert': 15730,\n",
              " 'pires': 13837,\n",
              " 'close': 3252,\n",
              " 'range': 14906,\n",
              " 'finish': 6656,\n",
              " 'looked': 11103,\n",
              " 'sent': 16909,\n",
              " 'gunners': 8039,\n",
              " 'quarter': 14743,\n",
              " 'finals': 6621,\n",
              " 'referee': 15171,\n",
              " 'neale': 12597,\n",
              " 'barry': 1342,\n",
              " 'pointed': 14197,\n",
              " 'spot': 17765,\n",
              " 'philippe': 13794,\n",
              " 'senderos': 16894,\n",
              " 'keeper': 10073,\n",
              " 'wrong': 21351,\n",
              " 'way': 20578,\n",
              " 'incident': 9038,\n",
              " 'packed': 13375,\n",
              " 'dennis': 4704,\n",
              " 'bergkamp': 1606,\n",
              " 'controversially': 3825,\n",
              " 'danny': 4303,\n",
              " 'cullip': 4148,\n",
              " 'subsequently': 18321,\n",
              " 'headed': 8367,\n",
              " 'goal': 7599,\n",
              " 'disallowed': 4986,\n",
              " 'took': 19441,\n",
              " 'advantage': 231,\n",
              " 'makeshift': 11457,\n",
              " 'boss': 1948,\n",
              " 'arsene': 846,\n",
              " 'wenger': 20738,\n",
              " 'sol': 17532,\n",
              " 'campbell': 2432,\n",
              " 'ashley': 868,\n",
              " 'cole': 3400,\n",
              " 'edu': 5510,\n",
              " 'opted': 13214,\n",
              " 'patrick': 13581,\n",
              " 'vieira': 20288,\n",
              " 'thierry': 19005,\n",
              " 'henry': 8481,\n",
              " 'promising': 14587,\n",
              " 'going': 7657,\n",
              " 'forward': 6915,\n",
              " 'defence': 4583,\n",
              " 'comfortable': 3473,\n",
              " 'particularly': 13512,\n",
              " 'pieces': 13825,\n",
              " 'suffered': 18363,\n",
              " 'early': 5432,\n",
              " 'scare': 16507,\n",
              " 'given': 7528,\n",
              " 'free': 7046,\n",
              " 'header': 8371,\n",
              " 'manuel': 11562,\n",
              " 'almunia': 480,\n",
              " 'palmed': 13442,\n",
              " 'away': 1128,\n",
              " 'blades': 1797,\n",
              " 'neil': 12664,\n",
              " 'warnock': 20522,\n",
              " 'earmarked': 5451,\n",
              " 'phil': 13786,\n",
              " 'jagielka': 9608,\n",
              " 'charged': 2924,\n",
              " 'keeping': 10083,\n",
              " 'eye': 6159,\n",
              " 'dutchman': 5404,\n",
              " 'veteran': 20215,\n",
              " 'striker': 18193,\n",
              " 'nonetheless': 12828,\n",
              " 'controlling': 3820,\n",
              " 'attacking': 983,\n",
              " 'play': 13889,\n",
              " 'departure': 4715,\n",
              " 'came': 2383,\n",
              " 'closest': 3269,\n",
              " 'giving': 7554,\n",
              " 'lead': 10523,\n",
              " 'curling': 4219,\n",
              " 'shot': 17221,\n",
              " 'brush': 2263,\n",
              " 'net': 12678,\n",
              " 'influence': 9174,\n",
              " 'brought': 2247,\n",
              " 'began': 1493,\n",
              " 'late': 10448,\n",
              " 'challenge': 2761,\n",
              " 'cesc': 2746,\n",
              " 'fabregas': 6175,\n",
              " 'picked': 13815,\n",
              " 'push': 14700,\n",
              " 'punishment': 14693,\n",
              " 'controversy': 3826,\n",
              " 'continued': 3773,\n",
              " 'frantic': 7032,\n",
              " 'thought': 19137,\n",
              " 'ahead': 343,\n",
              " 'bromby': 2236,\n",
              " 'long': 11063,\n",
              " 'throw': 19176,\n",
              " 'foul': 6938,\n",
              " 'ended': 5662,\n",
              " 'sour': 17582,\n",
              " 'note': 12853,\n",
              " 'left': 10646,\n",
              " 'nick': 12773,\n",
              " 'montgomery': 12330,\n",
              " 'shocking': 17194,\n",
              " 'tackle': 18592,\n",
              " 'lucky': 11285,\n",
              " 'escape': 5896,\n",
              " 'booking': 1917,\n",
              " 'burst': 2315,\n",
              " 'life': 10771,\n",
              " 'reyes': 15596,\n",
              " 'seconds': 16768,\n",
              " 'later': 10460,\n",
              " 'booked': 1915,\n",
              " 'jon': 9795,\n",
              " 'harley': 8280,\n",
              " 'avoided': 1109,\n",
              " 'tapped': 18686,\n",
              " 'paddy': 13383,\n",
              " 'kenny': 10104,\n",
              " 'parried': 13488,\n",
              " 'handled': 8189,\n",
              " 'hooked': 8722,\n",
              " 'chance': 2849,\n",
              " 'equalise': 5874,\n",
              " 'aplomb': 671,\n",
              " 'bramall': 2068,\n",
              " 'lane': 10394,\n",
              " 'tuesday': 19798,\n",
              " 'boys': 2049,\n",
              " 'responded': 15462,\n",
              " 'sending': 16896,\n",
              " 'good': 7728,\n",
              " 'chances': 2877,\n",
              " 'score': 16543,\n",
              " 'caught': 2657,\n",
              " 'overall': 13307,\n",
              " 'performance': 13701,\n",
              " 'young': 21508,\n",
              " 'lads': 10356,\n",
              " 'proud': 14631,\n",
              " 'manager': 11515,\n",
              " 'fantastic': 6285,\n",
              " 'result': 15489,\n",
              " 'personally': 13754,\n",
              " 'club': 3273,\n",
              " 'place': 13849,\n",
              " 'like': 10793,\n",
              " 'didn': 4873,\n",
              " 'think': 19041,\n",
              " 'lose': 11151,\n",
              " 'scored': 16555,\n",
              " 'wrote': 21358,\n",
              " 'lot': 11212,\n",
              " 'character': 2915,\n",
              " 'eboue': 5481,\n",
              " 'toure': 19565,\n",
              " 'clichy': 3225,\n",
              " 'ljungberg': 10983,\n",
              " 'flamini': 6717,\n",
              " 'cygan': 4248,\n",
              " 'van': 20137,\n",
              " 'persie': 13742,\n",
              " 'subs': 18318,\n",
              " 'used': 20094,\n",
              " 'larsson': 10437,\n",
              " 'owusu': 13356,\n",
              " 'abeyie': 21,\n",
              " 'goals': 7638,\n",
              " 'forte': 6905,\n",
              " 'thirlwell': 19108,\n",
              " 'shaw': 17141,\n",
              " 'liddell': 10764,\n",
              " 'francis': 7016,\n",
              " 'tonge': 19434,\n",
              " 'geary': 7411,\n",
              " 'quinn': 14785,\n",
              " 'pen': 13640,\n",
              " 'att': 974,\n",
              " 'ref': 15169,\n",
              " 'lincolnshire': 10852,\n",
              " 'sheff utd': 17155,\n",
              " 'andy gray': 581,\n",
              " 'minute penalty': 12158,\n",
              " 'sheffield united': 17159,\n",
              " 'fa cup': 6169,\n",
              " 'cup replay': 4188,\n",
              " 'replay man': 15368,\n",
              " 'arsenal robert': 838,\n",
              " 'robert pires': 15732,\n",
              " 'close range': 3260,\n",
              " 'range finish': 14908,\n",
              " 'quarter finals': 14745,\n",
              " 'referee neale': 15187,\n",
              " 'neale barry': 12598,\n",
              " 'philippe senderos': 13796,\n",
              " 'wrong way': 21355,\n",
              " 'game arsenal': 7172,\n",
              " 'dennis bergkamp': 4705,\n",
              " 'danny cullip': 4304,\n",
              " 'took advantage': 19442,\n",
              " 'arsenal team': 842,\n",
              " 'gunners boss': 8041,\n",
              " 'boss arsene': 1950,\n",
              " 'arsene wenger': 847,\n",
              " 'sol campbell': 17533,\n",
              " 'ashley cole': 869,\n",
              " 'patrick vieira': 13584,\n",
              " 'thierry henry': 19006,\n",
              " 'going forward': 7668,\n",
              " 'defence looked': 4585,\n",
              " 'looked comfortable': 11105,\n",
              " 'set pieces': 17022,\n",
              " 'suffered early': 18367,\n",
              " 'early scare': 5444,\n",
              " 'free header': 7048,\n",
              " 'keeper manuel': 10077,\n",
              " 'manuel almunia': 11563,\n",
              " 'palmed away': 13443,\n",
              " 'boss neil': 1960,\n",
              " 'neil warnock': 12668,\n",
              " 'key man': 10145,\n",
              " 'phil jagielka': 13788,\n",
              " 'arsenal attacking': 818,\n",
              " 'attacking play': 985,\n",
              " 'half lead': 8110,\n",
              " 'late challenge': 10450,\n",
              " 'cesc fabregas': 2747,\n",
              " 'end half': 5647,\n",
              " 'long throw': 11083,\n",
              " 'half ended': 8095,\n",
              " 'sour note': 17583,\n",
              " 'nick montgomery': 12775,\n",
              " 'late tackle': 10456,\n",
              " 'lucky escape': 11286,\n",
              " 'burst life': 2316,\n",
              " 'jon harley': 9797,\n",
              " 'harley arsenal': 8281,\n",
              " 'minutes end': 12174,\n",
              " 'united keeper': 19993,\n",
              " 'keeper paddy': 10079,\n",
              " 'paddy kenny': 13384,\n",
              " 'chance equalise': 2857,\n",
              " 'bramall lane': 2069,\n",
              " 'tuesday march': 19800,\n",
              " 'arsenal boss': 819,\n",
              " 'half good': 8101,\n",
              " 'good chances': 7733,\n",
              " 'score second': 16553,\n",
              " 'second goal': 16727,\n",
              " 'got caught': 7802,\n",
              " 'overall performance': 13309,\n",
              " 'good young': 7780,\n",
              " 'young lads': 21511,\n",
              " 'united manager': 19998,\n",
              " 'come place': 3453,\n",
              " 'right result': 15653,\n",
              " 'looked like': 11109,\n",
              " 'like going': 10799,\n",
              " 'going bit': 7662,\n",
              " 'didn think': 4897,\n",
              " 'think deserved': 19054,\n",
              " 'got lot': 7814,\n",
              " 'lot character': 11219,\n",
              " 'team arsenal': 18722,\n",
              " 'arsenal almunia': 814,\n",
              " 'bergkamp van': 1608,\n",
              " 'van persie': 20143,\n",
              " 'subs used': 18319,\n",
              " 'owusu abeyie': 13357,\n",
              " 'fabregas reyes': 6176,\n",
              " 'utd kenny': 20118,\n",
              " 'gray subs': 7881,\n",
              " 'att ref': 975,\n",
              " 'ref barry': 15170,\n",
              " 'barry lincolnshire': 1344,\n",
              " 'refuses': 15213,\n",
              " 'blame': 1801,\n",
              " 'refused': 15210,\n",
              " 'fully': 7112,\n",
              " 'strikers': 18207,\n",
              " 'fifth': 6525,\n",
              " 'round': 15861,\n",
              " 'suspended': 18513,\n",
              " 'alongside': 485,\n",
              " 'jose': 9846,\n",
              " 'antonio': 654,\n",
              " 'southampton': 17597,\n",
              " 'achilles': 100,\n",
              " 'tendon': 18844,\n",
              " 'putting': 14708,\n",
              " 'happens': 8219,\n",
              " 'spur': 17796,\n",
              " 'hope': 8728,\n",
              " 'course': 3955,\n",
              " 'learn': 10610,\n",
              " 'things': 19022,\n",
              " 'crazy': 4007,\n",
              " 'freddie': 7039,\n",
              " 'likely': 10830,\n",
              " 'emergency': 5602,\n",
              " 'striking': 18210,\n",
              " 'role': 15803,\n",
              " 'partnered': 13523,\n",
              " 'arturo': 854,\n",
              " 'lupoli': 11304,\n",
              " 'quincy': 14783,\n",
              " 'jeremie': 9693,\n",
              " 'aliadiere': 443,\n",
              " 'option': 13219,\n",
              " 'need': 12618,\n",
              " 'decide': 4481,\n",
              " 'involved': 9423,\n",
              " 'sustained': 18524,\n",
              " 'ankle': 613,\n",
              " 'st': 17840,\n",
              " 'mary': 11685,\n",
              " 'doesn': 5099,\n",
              " 'look': 11090,\n",
              " 'fractured': 6967,\n",
              " 'does': 5090,\n",
              " 'ready': 14997,\n",
              " 'weeks': 20696,\n",
              " 'robin van': 15742,\n",
              " 'arsenal fully': 827,\n",
              " 'fully fit': 7113,\n",
              " 'cup fifth': 4170,\n",
              " 'fifth round': 6529,\n",
              " 'round replay': 15872,\n",
              " 'replay sheffield': 15371,\n",
              " 'jose antonio': 9847,\n",
              " 'antonio reyes': 655,\n",
              " 'achilles tendon': 101,\n",
              " 'tendon injury': 18845,\n",
              " 'just happens': 9939,\n",
              " 'cole added': 3401,\n",
              " 'added ve': 175,\n",
              " 'course ll': 3959,\n",
              " 'just things': 9976,\n",
              " 'things bit': 19024,\n",
              " 'freddie ljungberg': 7040,\n",
              " 'arturo lupoli': 855,\n",
              " 'quincy owusu': 14784,\n",
              " 'jeremie aliadiere': 9694,\n",
              " 'wenger said': 20742,\n",
              " 'ankle injury': 615,\n",
              " 'st mary': 17845,\n",
              " 'wenger added': 20739,\n",
              " 'added doesn': 146,\n",
              " 'doesn look': 5103,\n",
              " 'look like': 11098,\n",
              " 'nistelrooy': 12809,\n",
              " 'hungry': 8859,\n",
              " 'return': 15534,\n",
              " 'manchester': 11550,\n",
              " 'ruud': 16069,\n",
              " 'returned': 15557,\n",
              " 'training': 19624,\n",
              " 'dutch': 5403,\n",
              " 'closing': 3270,\n",
              " 'comeback': 3463,\n",
              " 'nearly': 12605,\n",
              " 'months': 12346,\n",
              " 'wait': 20381,\n",
              " 'meet': 11937,\n",
              " 'mates': 11804,\n",
              " 'told': 19391,\n",
              " 'daily': 4258,\n",
              " 'mirror': 12201,\n",
              " 'newspaper': 12760,\n",
              " 'schedule': 16517,\n",
              " 'progress': 14572,\n",
              " 'physio': 13811,\n",
              " 'holland': 8670,\n",
              " 'time': 19235,\n",
              " 'sir': 17373,\n",
              " 'alex': 434,\n",
              " 'ferguson': 6475,\n",
              " 'hinted': 8589,\n",
              " 'tie': 19204,\n",
              " 'everton': 5981,\n",
              " 'comes': 3466,\n",
              " 'did': 4841,\n",
              " 'form': 6881,\n",
              " 'remained': 15306,\n",
              " 'sidelined': 17271,\n",
              " 'derby': 4729,\n",
              " 'city': 3121,\n",
              " 'sunday': 18412,\n",
              " 'wins': 21056,\n",
              " 'league': 10561,\n",
              " 'scorer': 16574,\n",
              " 'season': 16668,\n",
              " 'west': 20762,\n",
              " 'brom': 2234,\n",
              " 'november': 12869,\n",
              " 'hit': 8603,\n",
              " 'injuries': 9206,\n",
              " 'alan': 410,\n",
              " 'louis': 11250,\n",
              " 'saha': 16103,\n",
              " 'absence': 38,\n",
              " 'meaning': 11901,\n",
              " 'wayne': 20624,\n",
              " 'rooney': 15836,\n",
              " 'lone': 11060,\n",
              " 'teenager': 18812,\n",
              " 'including': 9057,\n",
              " 'van nistelrooy': 20142,\n",
              " 'return manchester': 15549,\n",
              " 'manchester united': 11553,\n",
              " 'united striker': 20007,\n",
              " 'striker ruud': 18204,\n",
              " 'ruud van': 16071,\n",
              " 'training tuesday': 19640,\n",
              " 'nearly months': 12606,\n",
              " 'team mates': 18759,\n",
              " 'told daily': 19396,\n",
              " 'daily mirror': 4260,\n",
              " 'ahead schedule': 358,\n",
              " 'good progress': 7758,\n",
              " 'united long': 19997,\n",
              " 'long time': 11084,\n",
              " 'united boss': 19982,\n",
              " 'boss sir': 1968,\n",
              " 'sir alex': 17374,\n",
              " 'alex ferguson': 436,\n",
              " 'ferguson hinted': 6483,\n",
              " 'return van': 15556,\n",
              " 'round tie': 15874,\n",
              " 'tie everton': 19207,\n",
              " 'everton saturday': 5989,\n",
              " 'said chance': 16129,\n",
              " 'chance involved': 2861,\n",
              " 'involved everton': 9425,\n",
              " 'everton ll': 5986,\n",
              " 'll just': 10993,\n",
              " 'just comes': 9918,\n",
              " 'comes training': 3471,\n",
              " 'lose games': 11155,\n",
              " 'form remained': 6890,\n",
              " 'win manchester': 20946,\n",
              " 'manchester city': 11551,\n",
              " 'city sunday': 3128,\n",
              " 'wins league': 21063,\n",
              " 'league games': 10574,\n",
              " 'club scorer': 3311,\n",
              " 'scorer season': 16575,\n",
              " 'season goals': 16686,\n",
              " 'despite win': 4777,\n",
              " 'win west': 20985,\n",
              " 'west brom': 20763,\n",
              " 'brom november': 2235,\n",
              " 'united hit': 19992,\n",
              " 'hit injuries': 8612,\n",
              " 'injuries alan': 9207,\n",
              " 'alan smith': 414,\n",
              " 'smith louis': 17511,\n",
              " 'louis saha': 11251,\n",
              " 'saha van': 16104,\n",
              " 'nistelrooy absence': 12810,\n",
              " 'absence meaning': 42,\n",
              " 'meaning wayne': 11902,\n",
              " 'wayne rooney': 20626,\n",
              " 'rooney play': 15838,\n",
              " 'play lone': 13935,\n",
              " 'lone role': 11062,\n",
              " 'role teenager': 15808,\n",
              " 'teenager responded': 18813,\n",
              " 'responded goals': 15463,\n",
              " 'goals games': 7641,\n",
              " 'games including': 7303,\n",
              " 'including goal': 9062,\n",
              " 'goal city': 7605,\n",
              " 'wilkinson': 20848,\n",
              " 'unlikely': 20017,\n",
              " 'jonny': 9839,\n",
              " 'looks': 11130,\n",
              " 'miss': 12212,\n",
              " 'rbs': 14965,\n",
              " 'england': 5693,\n",
              " 'fly': 6775,\n",
              " 'week': 20665,\n",
              " 'hoping': 8757,\n",
              " 'latest': 10473,\n",
              " 'rob': 15714,\n",
              " 'andrew': 560,\n",
              " 'newcastle': 12734,\n",
              " 'straight': 18141,\n",
              " 'match': 11713,\n",
              " 'recovering': 15137,\n",
              " 'followed': 6795,\n",
              " 'term': 18874,\n",
              " 'neck': 12615,\n",
              " 'arm': 771,\n",
              " 'played': 13971,\n",
              " 'final': 6556,\n",
              " 'stuttering': 18297,\n",
              " 'champions': 2813,\n",
              " 'matches': 11777,\n",
              " 'aiming': 381,\n",
              " 'zurich': 21601,\n",
              " 'premiership': 14407,\n",
              " 'harlequins': 8279,\n",
              " 'day': 4371,\n",
              " 'days': 4413,\n",
              " 'fortnight': 6907,\n",
              " 'touch': 19505,\n",
              " 'playing': 14113,\n",
              " 'kicking': 10192,\n",
              " 'bench': 1577,\n",
              " 'ridiculous': 15628,\n",
              " 'afford': 247,\n",
              " 'relaxed': 15272,\n",
              " 'lions': 10894,\n",
              " ...}"
            ]
          },
          "metadata": {
            "tags": []
          },
          "execution_count": 10
        }
      ]
    },
    {
      "cell_type": "markdown",
      "metadata": {
        "id": "Y2i7qsh0zqJ9"
      },
      "source": [
        "## K-Means clustering\n",
        "\n",
        "4. Let’s apply a K-Means clustering algorithm. Since the data set contains articles that belong to one of the 5 categories, you may want to choose 5 as the number of clusters. But not always you have such information about your data. Tip: Use the MiniBatchKMeans function from the sklearn package."
      ]
    },
    {
      "cell_type": "code",
      "metadata": {
        "colab": {
          "base_uri": "https://localhost:8080/"
        },
        "id": "PJovfXfvzxQu",
        "outputId": "a14633fa-dde6-40ba-916c-32edb383216e"
      },
      "source": [
        "n_clusters = 5\n",
        "cls = MiniBatchKMeans(n_clusters=n_clusters, random_state=SEED)\n",
        "cls.fit(tfidf_matrix)"
      ],
      "execution_count": 12,
      "outputs": [
        {
          "output_type": "execute_result",
          "data": {
            "text/plain": [
              "MiniBatchKMeans(batch_size=100, compute_labels=True, init='k-means++',\n",
              "                init_size=None, max_iter=100, max_no_improvement=10,\n",
              "                n_clusters=5, n_init=3, random_state=321,\n",
              "                reassignment_ratio=0.01, tol=0.0, verbose=0)"
            ]
          },
          "metadata": {
            "tags": []
          },
          "execution_count": 12
        }
      ]
    },
    {
      "cell_type": "markdown",
      "metadata": {
        "id": "2ALrI5Fa0VWS"
      },
      "source": [
        "5. What are the top terms in each cluster?"
      ]
    },
    {
      "cell_type": "code",
      "metadata": {
        "colab": {
          "base_uri": "https://localhost:8080/"
        },
        "id": "JNvn6_Eo0TPl",
        "outputId": "3a29d0a8-a912-4d0d-af5d-abcedad06b00"
      },
      "source": [
        "print(\"Top terms per cluster:\")\n",
        "\n",
        "order_centroids = cls.cluster_centers_.argsort()[:, ::-1]\n",
        "terms = tfidf_vectorizer.get_feature_names()\n",
        "for i in range(n_clusters):\n",
        "    print(\"Cluster %d:\" % i, end='')\n",
        "    for ind in order_centroids[i, :10]:\n",
        "        print(' %s/' % terms[ind], end='')\n",
        "    print()\n",
        "# https://scikit-learn.org/stable/auto_examples/text/plot_document_clustering.html"
      ],
      "execution_count": 13,
      "outputs": [
        {
          "output_type": "stream",
          "text": [
            "Top terms per cluster:\n",
            "Cluster 0: cricket/ pakistan/ series/ australia/ test/ india/ sri/ day/ zealand/ new zealand/\n",
            "Cluster 1: england/ south/ vaughan/ south africa/ africa/ test/ strauss/ jones/ overs/ day/\n",
            "Cluster 2: said/ chelsea/ club/ united/ arsenal/ game/ league/ cup/ liverpool/ players/\n",
            "Cluster 3: olympic/ indoor/ holmes/ race/ world/ champion/ athletics/ athens/ european/ marathon/\n",
            "Cluster 4: england/ wales/ ireland/ rugby/ france/ nations/ robinson/ half/ scotland/ coach/\n"
          ],
          "name": "stdout"
        }
      ]
    },
    {
      "cell_type": "markdown",
      "metadata": {
        "id": "IcTkGGH70ZdC"
      },
      "source": [
        "Based on these 10 top terms we can manually label our clustering output as:\n",
        "\n",
        "* cluster 0: cricket\n",
        "* cluster 1: tennis\n",
        "* cluster 2: football\n",
        "* cluster 3: athletics\n",
        "* cluster 4: rugby"
      ]
    },
    {
      "cell_type": "markdown",
      "metadata": {
        "id": "vB-nuY4H06Kg"
      },
      "source": [
        "6. Visualize the output of the K-Means clustering: first apply a PCA method to transform the high-dimensional feature space into 2 dimensions, and plot the points using a scatter plot."
      ]
    },
    {
      "cell_type": "code",
      "metadata": {
        "colab": {
          "base_uri": "https://localhost:8080/",
          "height": 282
        },
        "id": "e-32T2Q007HT",
        "outputId": "a1627e8e-41e1-468d-f34a-6f2fd961a442"
      },
      "source": [
        "# reduce the features to 2D\n",
        "pca = PCA(n_components=2, random_state=SEED)\n",
        "reduced_features = pca.fit_transform(tfidf_matrix.toarray())\n",
        "\n",
        "# reduce the cluster centers to 2D\n",
        "reduced_cluster_centers = pca.transform(cls.cluster_centers_)\n",
        "\n",
        "plt.scatter(reduced_features[:,0], reduced_features[:,1], c=cls.predict(tfidf_matrix))\n",
        "plt.scatter(reduced_cluster_centers[:, 0], reduced_cluster_centers[:,1], marker='x', s=150, c='b')"
      ],
      "execution_count": 15,
      "outputs": [
        {
          "output_type": "execute_result",
          "data": {
            "text/plain": [
              "<matplotlib.collections.PathCollection at 0x7f9e31418710>"
            ]
          },
          "metadata": {
            "tags": []
          },
          "execution_count": 15
        },
        {
          "output_type": "display_data",
          "data": {
            "image/png": "[encoded data removed]",
            "text/plain": [
              "<Figure size 432x288 with 1 Axes>"
            ]
          },
          "metadata": {
            "tags": [],
            "needs_background": "light"
          }
        }
      ]
    },
    {
      "cell_type": "markdown",
      "metadata": {
        "id": "GffXZnIl1SB2"
      },
      "source": [
        "7. Evaluate the quality of the K-Means clustering with the sklearn metrics for clustering: homogeneity_score, completeness_score, v_measure_score, adjusted_rand_score, silhouette_score.\n",
        "\n",
        "Evaluation for unsupervised learning algorithms is a bit difficult and requires human judgement but there are some metrics which you might use. There are two kinds of metrics you can use depending on whether or not you have the labels.\n",
        "\n",
        "If you have a labelled data set you can use metrics that give you an idea of how good your clustering model is. For this purpose you can use the sklearn.metrics module, for example `homogeneity_score` is one of the possible metrics. As per the documentation, the score ranges between 0 and 1 where 1 stands for perfectly homogeneous labeling.\n",
        "\n",
        "If you do not have labels for your data set, then you can still evaluate your clustering model with some metrics. One of them is Silhouette Coefficient. From the sklearn's documentation: The Silhouette Coefficient is calculated using the mean intra-cluster distance ($a$) and the mean nearest-cluster distance ($b$) for each sample. The Silhouette Coefficient for a sample is $(b - a) / max(a,b)$. To clarify, $b$ is the distance between a sample and the nearest cluster that the sample is not a part of. The best value is 1 and the worst value is -1. Values near 0 indicate overlapping clusters. Negative values generally indicate that a sample has been assigned to the wrong cluster, as a different cluster is more similar."
      ]
    },
    {
      "cell_type": "code",
      "metadata": {
        "colab": {
          "base_uri": "https://localhost:8080/"
        },
        "id": "N87jj-b-17fz",
        "outputId": "1f70bed9-3120-42ae-8863-d8c229667a6d"
      },
      "source": [
        "print(\"Homogeneity: %0.3f\" % metrics.homogeneity_score(data.target, cls.labels_))\n",
        "print(\"Completeness: %0.3f\" % metrics.completeness_score(data.target, cls.labels_))\n",
        "print(\"V-measure: %0.3f\" % metrics.v_measure_score(data.target, cls.labels_))\n",
        "print(\"Adjusted Rand-Index: %.3f\"\n",
        "      % metrics.adjusted_rand_score(data.target, cls.labels_))\n",
        "print(\"Silhouette Coefficient: %0.3f\"\n",
        "      % metrics.silhouette_score(tfidf_matrix, cls.labels_, sample_size=1000))"
      ],
      "execution_count": 16,
      "outputs": [
        {
          "output_type": "stream",
          "text": [
            "Homogeneity: 0.668\n",
            "Completeness: 0.784\n",
            "V-measure: 0.722\n",
            "Adjusted Rand-Index: 0.600\n",
            "Silhouette Coefficient: 0.014\n"
          ],
          "name": "stdout"
        }
      ]
    },
    {
      "cell_type": "markdown",
      "metadata": {
        "id": "_I4Gs6J2Ba4u"
      },
      "source": [
        "8. Apply the K-Means clustering method on a range of 3 to 7 clusters, and calculate the squared loss obtained in each clustering. Apply the Elbow method to find the optimal k. (Tip: use the cls.inertia_ for the squared loss. Try other metrics as well)"
      ]
    },
    {
      "cell_type": "code",
      "metadata": {
        "id": "Qv4yOt09BflR"
      },
      "source": [
        "num_clus = [x for x in range(3, 7)]\n",
        "squared_errors = []\n",
        "for cluster in num_clus:\n",
        "    cls = MiniBatchKMeans(n_clusters=cluster, random_state=SEED)\n",
        "    cls.fit(tfidf_matrix) # Train Clusters\n",
        "    squared_errors.append(cls.inertia_) # Appending the squared loss obtained in the list"
      ],
      "execution_count": 18,
      "outputs": []
    },
    {
      "cell_type": "code",
      "metadata": {
        "colab": {
          "base_uri": "https://localhost:8080/",
          "height": 329
        },
        "id": "sMfBQrYtBupK",
        "outputId": "fdb52b00-585e-43c9-d3f2-88a86fc0072b"
      },
      "source": [
        "# https://www.kaggle.com/karthik3890/text-clustering\n",
        "# Choosing the best cluster using Elbow Method.\n",
        "# source credit,few parts of min squred loss info is taken from different parts of the stakoverflow answers.\n",
        "# this is used to understand to find the optimal clusters in differen way rather than used in BOW, TFIDF\n",
        "\n",
        "num_clus = [x for x in range(3, 7)]\n",
        "squared_errors = []\n",
        "for cluster in num_clus:\n",
        "    cls = MiniBatchKMeans(n_clusters=cluster, random_state=SEED)\n",
        "    cls.fit(tfidf_matrix) # Train Clusters\n",
        "    squared_errors.append(cls.inertia_) # Appending the squared loss obtained in the list\n",
        "    \n",
        "optimal_clusters = np.argmin(squared_errors) + 2 # As argmin return the index of minimum loss. \n",
        "plt.plot(num_clus, squared_errors)\n",
        "plt.title(\"Elbow Curve to find the no. of clusters.\")\n",
        "plt.xlabel(\"Number of clusters.\")\n",
        "plt.ylabel(\"Squared Loss.\")\n",
        "xy = (optimal_clusters, min(squared_errors))\n",
        "plt.annotate('(%s, %s)' % xy, xy = xy, textcoords='data')\n",
        "plt.show()\n",
        "\n",
        "print (\"The optimal number of clusters obtained is - \", optimal_clusters)\n",
        "print (\"The loss for optimal cluster is - \", min(squared_errors))\n"
      ],
      "execution_count": 20,
      "outputs": [
        {
          "output_type": "display_data",
          "data": {
            "image/png": "[encoded data removed]",
            "text/plain": [
              "<Figure size 432x288 with 1 Axes>"
            ]
          },
          "metadata": {
            "tags": [],
            "needs_background": "light"
          }
        },
        {
          "output_type": "stream",
          "text": [
            "The optimal number of clusters obtained is -  5\n",
            "The loss for optimal cluster is -  691.3969166309307\n"
          ],
          "name": "stdout"
        }
      ]
    },
    {
      "cell_type": "markdown",
      "metadata": {
        "id": "M18ist1pCEZR"
      },
      "source": [
        "9. Use the following two news articles as your test data, and predict cluster labels for your new data set with the best value for K and the K-Means algorithm."
      ]
    },
    {
      "cell_type": "code",
      "metadata": {
        "id": "W7Nx1KEmCKj1"
      },
      "source": [
        "documents = ['Frank de Boer out as Oranje manager after early Euro 2020 exit Dutch men’s football team coach.',\n",
        "             'The time has come for Nadal to be selective in the events that he should and should not play. This is where he can start the difficulty. After a rigorous participation of the clay season, Rafael Nadal definitely wants to conserve his energies for as long as possible.']"
      ],
      "execution_count": 23,
      "outputs": []
    },
    {
      "cell_type": "code",
      "metadata": {
        "colab": {
          "base_uri": "https://localhost:8080/"
        },
        "id": "0zlAerHdCP-2",
        "outputId": "c5576f90-39d6-4a69-cb90-ede3cdaaa324"
      },
      "source": [
        "n_clusters = 5\n",
        "cls = MiniBatchKMeans(n_clusters=n_clusters, random_state=SEED)\n",
        "cls.fit(tfidf_matrix)"
      ],
      "execution_count": 21,
      "outputs": [
        {
          "output_type": "execute_result",
          "data": {
            "text/plain": [
              "MiniBatchKMeans(batch_size=100, compute_labels=True, init='k-means++',\n",
              "                init_size=None, max_iter=100, max_no_improvement=10,\n",
              "                n_clusters=5, n_init=3, random_state=321,\n",
              "                reassignment_ratio=0.01, tol=0.0, verbose=0)"
            ]
          },
          "metadata": {
            "tags": []
          },
          "execution_count": 21
        }
      ]
    },
    {
      "cell_type": "code",
      "metadata": {
        "colab": {
          "base_uri": "https://localhost:8080/"
        },
        "id": "XthxZFsVCkgF",
        "outputId": "915e3006-2085-4a53-fa5c-9abb02b5e33d"
      },
      "source": [
        "tfidf_test = tfidf_vectorizer.transform(documents)\n",
        "tfidf_test.shape"
      ],
      "execution_count": 24,
      "outputs": [
        {
          "output_type": "execute_result",
          "data": {
            "text/plain": [
              "(2, 21604)"
            ]
          },
          "metadata": {
            "tags": []
          },
          "execution_count": 24
        }
      ]
    },
    {
      "cell_type": "code",
      "metadata": {
        "colab": {
          "base_uri": "https://localhost:8080/"
        },
        "id": "Mk2OHYUvCqaI",
        "outputId": "4f1cd4ff-1ecc-4d40-a5df-9a3d4cbb27dc"
      },
      "source": [
        "print(cls.predict(tfidf_test))"
      ],
      "execution_count": 25,
      "outputs": [
        {
          "output_type": "stream",
          "text": [
            "[2 2]\n"
          ],
          "name": "stdout"
        }
      ]
    },
    {
      "cell_type": "markdown",
      "metadata": {
        "id": "7IFsc_PtCtT3"
      },
      "source": [
        "## Hierarchical clustering\n",
        "\n",
        "10. Hierarchical clustering is a type of unsupervised machine learning algorithm used to cluster unlabeled data points. Similar to the K-Means clustering, hierarchical clustering groups together the data points with similar characteristics. Apply the hierarchical clustering with the ward linkage on the Sports news data set. Fit the model with 5 clusters and check the predicted labels."
      ]
    },
    {
      "cell_type": "code",
      "metadata": {
        "id": "HPL6TZ3mCwTh"
      },
      "source": [
        "cls2 = AgglomerativeClustering(n_clusters=5, affinity='euclidean', linkage='ward')\n",
        "cls2 = cls2.fit(tfidf_matrix.toarray())"
      ],
      "execution_count": 26,
      "outputs": []
    },
    {
      "cell_type": "code",
      "metadata": {
        "colab": {
          "base_uri": "https://localhost:8080/"
        },
        "id": "0eCv7r60C1U8",
        "outputId": "26791bf0-8bc2-4a86-ecf1-b5009dc2d1f2"
      },
      "source": [
        "cls2.labels_"
      ],
      "execution_count": 27,
      "outputs": [
        {
          "output_type": "execute_result",
          "data": {
            "text/plain": [
              "array([4, 4, 2, 2, 2, 4, 0, 0, 2, 2, 0, 1, 2, 2, 2, 2, 2, 2, 2, 4, 1, 2,\n",
              "       1, 1, 2, 2, 2, 2, 1, 0, 2, 2, 2, 2, 0, 0, 4, 1, 0, 2, 2, 2, 0, 2,\n",
              "       2, 1, 2, 2, 4, 0, 1, 0, 4, 2, 2, 1, 2, 1, 0, 2, 4, 0, 0, 0, 1, 2,\n",
              "       2, 0, 0, 2, 1, 4, 2, 2, 0, 1, 2, 2, 0, 4, 4, 1, 2, 1, 2, 1, 2, 1,\n",
              "       2, 1, 0, 0, 1, 0, 2, 3, 4, 0, 1, 4, 2, 0, 0, 4, 2, 2, 4, 4, 2, 2,\n",
              "       1, 0, 4, 4, 2, 0, 0, 0, 2, 4, 1, 2, 2, 1, 4, 2, 2, 2, 0, 0, 1, 1,\n",
              "       4, 4, 2, 1, 2, 2, 0, 0, 2, 3, 2, 0, 2, 2, 2, 1, 2, 0, 0, 2, 2, 0,\n",
              "       4, 2, 1, 2, 4, 2, 2, 2, 2, 4, 2, 4, 0, 0, 4, 2, 2, 2, 1, 2, 1, 1,\n",
              "       2, 2, 2, 2, 2, 0, 4, 0, 4, 1, 1, 0, 0, 4, 2, 2, 1, 1, 4, 2, 1, 2,\n",
              "       2, 0, 4, 2, 0, 2, 4, 4, 1, 0, 1, 2, 1, 0, 0, 0, 0, 2, 4, 3, 2, 2,\n",
              "       0, 4, 1, 1, 1, 2, 2, 1, 1, 4, 1, 4, 2, 1, 2, 2, 2, 1, 4, 1, 2, 2,\n",
              "       2, 2, 2, 4, 2, 0, 1, 4, 4, 1, 0, 2, 2, 2, 2, 2, 4, 2, 2, 2, 2, 0,\n",
              "       2, 0, 1, 0, 0, 0, 0, 2, 4, 2, 2, 2, 1, 4, 1, 0, 2, 4, 0, 2, 1, 0,\n",
              "       0, 0, 4, 2, 2, 0, 2, 0, 0, 2, 4, 2, 0, 0, 4, 2, 1, 2, 4, 2, 0, 1,\n",
              "       2, 2, 4, 0, 0, 0, 2, 0, 2, 2, 2, 1, 4, 4, 0, 3, 2, 2, 2, 2, 0, 2,\n",
              "       2, 2, 2, 0, 2, 2, 2, 2, 2, 0, 0, 0, 2, 4, 2, 0, 4, 2, 2, 4, 1, 0,\n",
              "       0, 4, 4, 0, 1, 2, 2, 2, 2, 0, 2, 2, 4, 2, 2, 4, 0, 0, 0, 2, 1, 2,\n",
              "       2, 2, 2, 2, 0, 2, 1, 2, 4, 0, 0, 2, 0, 4, 2, 2, 1, 4, 1, 4, 2, 4,\n",
              "       2, 4, 2, 4, 0, 2, 4, 1, 0, 4, 2, 2, 2, 1, 1, 2, 0, 2, 4, 0, 2, 1,\n",
              "       2, 0, 0, 2, 1, 0, 2, 0, 2, 2, 2, 2, 3, 2, 4, 2, 4, 2, 2, 0, 2, 4,\n",
              "       1, 2, 0, 0, 1, 2, 2, 4, 4, 2, 0, 2, 0, 2, 1, 0, 1, 0, 3, 4, 1, 2,\n",
              "       2, 2, 1, 2, 1, 0, 2, 0, 2, 0, 0, 1, 2, 2, 0, 2, 4, 2, 0, 2, 2, 2,\n",
              "       0, 2, 0, 2, 2, 2, 4, 2, 0, 1, 0, 2, 1, 4, 3, 1, 2, 2, 2, 4, 2, 2,\n",
              "       2, 0, 2, 2, 1, 1, 3, 0, 1, 2, 2, 4, 0, 2, 2, 4, 4, 4, 1, 0, 4, 2,\n",
              "       2, 1, 2, 1, 2, 2, 4, 4, 4, 2, 1, 3, 0, 2, 0, 2, 0, 1, 4, 0, 1, 0,\n",
              "       2, 1, 3, 2, 4, 4, 0, 2, 2, 2, 0, 2, 0, 2, 0, 2, 2, 0, 2, 1, 2, 2,\n",
              "       0, 2, 1, 2, 4, 1, 4, 2, 2, 4, 0, 2, 0, 1, 2, 4, 2, 4, 2, 2, 4, 2,\n",
              "       0, 2, 1, 4, 2, 2, 1, 2, 1, 0, 4, 1, 0, 2, 3, 1, 0, 2, 2, 2, 0, 2,\n",
              "       1, 2, 1, 0, 1, 1, 1, 4, 1, 2, 2, 0, 1, 4, 2, 2, 0, 2, 1, 0, 3, 2,\n",
              "       1, 1, 0, 0, 0, 2, 2, 0, 2, 0, 2, 2, 2, 2, 2, 1, 2, 1, 2, 0, 2, 4,\n",
              "       2, 4, 3, 0, 0, 0, 2, 0, 0, 4, 4, 4, 4, 0, 2, 2, 2, 0, 1, 0, 2, 1,\n",
              "       4, 1, 2, 4, 0, 2, 2, 0, 1, 2, 0, 2, 0, 2, 1, 1, 2, 1, 4, 3, 2, 0,\n",
              "       4, 2, 4, 4, 2, 0, 1, 0, 0, 2, 2, 0, 2, 2, 2, 0, 2, 2, 2, 1, 1, 0,\n",
              "       1, 1, 4, 2, 2, 2, 1, 2, 0, 1, 4])"
            ]
          },
          "metadata": {
            "tags": []
          },
          "execution_count": 27
        }
      ]
    },
    {
      "cell_type": "markdown",
      "metadata": {
        "id": "YbcCrVfaC4bU"
      },
      "source": [
        "11. Plot a dendrogram for your hierarchical clustering model using the function below. To do this, you need to fit the model again without assigning the number of clusters."
      ]
    },
    {
      "cell_type": "code",
      "metadata": {
        "id": "2v6mEj1ZC9iI"
      },
      "source": [
        "def plot_dendrogram(model, **kwargs):\n",
        "    # Create linkage matrix and then plot the dendrogram\n",
        "\n",
        "    # create the counts of samples under each node\n",
        "    counts = np.zeros(model.children_.shape[0])\n",
        "    n_samples = len(model.labels_)\n",
        "    for i, merge in enumerate(model.children_):\n",
        "        current_count = 0\n",
        "        for child_idx in merge:\n",
        "            if child_idx < n_samples:\n",
        "                current_count += 1  # leaf node\n",
        "            else:\n",
        "                current_count += counts[child_idx - n_samples]\n",
        "        counts[i] = current_count\n",
        "\n",
        "    linkage_matrix = np.column_stack([model.children_, model.distances_,\n",
        "                                      counts]).astype(float)\n",
        "\n",
        "    # Plot the corresponding dendrogram\n",
        "    dendrogram(linkage_matrix, **kwargs)"
      ],
      "execution_count": 28,
      "outputs": []
    },
    {
      "cell_type": "code",
      "metadata": {
        "colab": {
          "base_uri": "https://localhost:8080/",
          "height": 302
        },
        "id": "l3AphWkNDBwV",
        "outputId": "c8163ecb-bed7-4772-e214-77cf61761098"
      },
      "source": [
        "# setting distance_threshold=0 ensures we compute the full tree.\n",
        "cls2 = AgglomerativeClustering(n_clusters=None, affinity='euclidean', linkage='ward', distance_threshold=0)\n",
        "cls2 = cls2.fit(tfidf_matrix.toarray())\n",
        "\n",
        "plt.title('Hierarchical Clustering Dendrogram')\n",
        "# plot the top three levels of the dendrogram\n",
        "plot_dendrogram(cls2, truncate_mode='level', p=5)\n",
        "plt.xlabel(\"Number of points in node (or index of point if no parenthesis).\")\n",
        "plt.show()"
      ],
      "execution_count": 29,
      "outputs": [
        {
          "output_type": "display_data",
          "data": {
            "image/png": "[encoded data removed]",
            "text/plain": [
              "<Figure size 432x288 with 1 Axes>"
            ]
          },
          "metadata": {
            "tags": [],
            "needs_background": "light"
          }
        }
      ]
    },
    {
      "cell_type": "code",
      "metadata": {
        "colab": {
          "base_uri": "https://localhost:8080/",
          "height": 444
        },
        "id": "8BNZO2lwDJh4",
        "outputId": "38e5504d-32e2-401a-8950-9397ad3e72af"
      },
      "source": [
        "# here is another way of plotting the hc using the scipy library \n",
        "import scipy.cluster.hierarchy as shc\n",
        "plt.figure(figsize=(10, 7))\n",
        "plt.title(\"Tfidf dendogram for hierarchical clustering\")\n",
        "dend = shc.dendrogram(shc.linkage(tfidf_matrix.toarray(), method='ward'))"
      ],
      "execution_count": 30,
      "outputs": [
        {
          "output_type": "display_data",
          "data": {
            "image/png": "[encoded data removed]",
            "text/plain": [
              "<Figure size 720x504 with 1 Axes>"
            ]
          },
          "metadata": {
            "tags": [],
            "needs_background": "light"
          }
        }
      ]
    },
    {
      "cell_type": "markdown",
      "metadata": {
        "id": "QAdrW3_rDYff"
      },
      "source": [
        "## Topic modeling\n",
        "\n",
        "Topic modeling is another unsupervised method for text mining applications where we want to get an idea of what topics we have in our data set. A topic is a collection of words that describe the overall theme. For example, in case of news articles, you might think of topics as the categories in the data set. Just like clustering algorithms, there are some algorithms that need you to specify the number of topics you want to extract from the data set and some that automatically determine the number of topics. Here, we are going to use the Non-Negative Matrix Factorization (NMF) and Latent Dirichlet Allocation (LDA) methods for topic modeling. You can check sklearn's documentation for more details about NMF and LDA. They are available in sklearn.decomposition module.\n",
        "\n",
        "12. Train a NMF model for topic modeling on a tf-based document-term matrix of the BBCSport data set."
      ]
    },
    {
      "cell_type": "code",
      "metadata": {
        "colab": {
          "base_uri": "https://localhost:8080/"
        },
        "id": "WVRgiLSKDfWT",
        "outputId": "588cab50-6c41-49b5-e70f-2ffe00886238"
      },
      "source": [
        "# number of topics to extract\n",
        "n_topics = 5\n",
        "\n",
        "nmf = NMF(n_components=n_topics, random_state=SEED)\n",
        "nmf.fit(tfidf_matrix)"
      ],
      "execution_count": 32,
      "outputs": [
        {
          "output_type": "execute_result",
          "data": {
            "text/plain": [
              "NMF(alpha=0.0, beta_loss='frobenius', init=None, l1_ratio=0.0, max_iter=200,\n",
              "    n_components=5, random_state=321, shuffle=False, solver='cd', tol=0.0001,\n",
              "    verbose=0)"
            ]
          },
          "metadata": {
            "tags": []
          },
          "execution_count": 32
        }
      ]
    },
    {
      "cell_type": "markdown",
      "metadata": {
        "id": "b3JeJXHAJ-Md"
      },
      "source": [
        "13. Show top 10 words per topic with their probabilities."
      ]
    },
    {
      "cell_type": "code",
      "metadata": {
        "colab": {
          "base_uri": "https://localhost:8080/"
        },
        "id": "RzBTXfOBKC4i",
        "outputId": "8dbdae02-0d2b-4955-e070-4d098c22d863"
      },
      "source": [
        "for i, topic in enumerate(nmf.components_):\n",
        "    print(f'Top 10 words for topic #{i}:')\n",
        "    print([tfidf_vectorizer.get_feature_names()[i] for i in topic.argsort()[-10:]])\n",
        "    print('\\n')"
      ],
      "execution_count": 33,
      "outputs": [
        {
          "output_type": "stream",
          "text": [
            "Top 10 words for topic #0:\n",
            "['champions league', 'cup', 'said', 'mourinho', 'club', 'liverpool', 'united', 'league', 'arsenal', 'chelsea']\n",
            "\n",
            "\n",
            "Top 10 words for topic #1:\n",
            "['england', 'africa', 'india', 'south africa', 'day', 'south', 'series', 'pakistan', 'cricket', 'test']\n",
            "\n",
            "\n",
            "Top 10 words for topic #2:\n",
            "['olympic', 'final', 'seed', 'set', 'race', 'indoor', 'year', 'champion', 'open', 'world']\n",
            "\n",
            "\n",
            "Top 10 words for topic #3:\n",
            "['game', 'scotland', 'half', 'nations', 'france', 'rugby', 'robinson', 'ireland', 'wales', 'england']\n",
            "\n",
            "\n",
            "Top 10 words for topic #4:\n",
            "['charges', 'athletics', 'olympics', 'doping', 'athens', 'drugs', 'iaaf', 'thanou', 'greek', 'kenteris']\n",
            "\n",
            "\n"
          ],
          "name": "stdout"
        }
      ]
    },
    {
      "cell_type": "markdown",
      "metadata": {
        "id": "av9vxZzlKREd"
      },
      "source": [
        "You can again try to manually label these extracted topics.\n",
        "\n",
        "14. Use the NMF model and identify the topic (or cluster) of the new texts in the documents object. Simply call the transform function of the model and it will give you a score of each topic. Choose the topic with the highest score to determine documents' topics."
      ]
    },
    {
      "cell_type": "code",
      "metadata": {
        "colab": {
          "base_uri": "https://localhost:8080/"
        },
        "id": "tR8vbDO8K7rI",
        "outputId": "3cee437b-e1d4-435f-cf62-a9bc04415b8e"
      },
      "source": [
        "# first transform the text into features using tfidf_vectorizer then pass it to transform of nmf\n",
        "# the result will be a matrix of shape [2, 10] then we sort the topic id based on the score using argsort\n",
        "# and take the last one (with the highest score) for each row using `[:,-1]` indexing\n",
        "print(nmf.transform(tfidf_vectorizer.transform(documents)))\n",
        "nmf.transform(tfidf_vectorizer.transform(documents)).argsort(axis=1)[:,-1]"
      ],
      "execution_count": 34,
      "outputs": [
        {
          "output_type": "stream",
          "text": [
            "[[0.03102346 0.00036267 0.01099815 0.00809537 0.00311989]\n",
            " [0.01549877 0.00264124 0.03429618 0.00092925 0.        ]]\n"
          ],
          "name": "stdout"
        },
        {
          "output_type": "execute_result",
          "data": {
            "text/plain": [
              "array([0, 2])"
            ]
          },
          "metadata": {
            "tags": []
          },
          "execution_count": 34
        }
      ]
    },
    {
      "cell_type": "markdown",
      "metadata": {
        "id": "Woj1mnLYLlvF"
      },
      "source": [
        "The first document is allocated to topic one (highest probability = 0.031), which is football (correct)\n",
        "The second document has the highest probability for the third topic (prob. = 0.03), which represents tennis (correct)."
      ]
    },
    {
      "cell_type": "markdown",
      "metadata": {
        "id": "ReCKbTlFK9K6"
      },
      "source": [
        "15. The other mainly used approach for topic modeling is Latent Dirichlet Allocation (LDA). The LDA is based upon two general assumptions:\n",
        "\n",
        "* Documents exhibit multiple topics\n",
        "* A topic is a distribution over a fixed vocabulary\n",
        "\n",
        "Train a LDA model from the sklearn package for topic modeling with 5 components."
      ]
    },
    {
      "cell_type": "code",
      "metadata": {
        "colab": {
          "base_uri": "https://localhost:8080/"
        },
        "id": "FIh9U0Y1ROBm",
        "outputId": "c6502700-d447-4ae9-fed5-64a85d565ab7"
      },
      "source": [
        "LDA = LatentDirichletAllocation(n_components=5, random_state=SEED, evaluate_every=10)\n",
        "LDA.fit(tfidf_matrix)"
      ],
      "execution_count": 35,
      "outputs": [
        {
          "output_type": "execute_result",
          "data": {
            "text/plain": [
              "LatentDirichletAllocation(batch_size=128, doc_topic_prior=None,\n",
              "                          evaluate_every=10, learning_decay=0.7,\n",
              "                          learning_method='batch', learning_offset=10.0,\n",
              "                          max_doc_update_iter=100, max_iter=10,\n",
              "                          mean_change_tol=0.001, n_components=5, n_jobs=None,\n",
              "                          perp_tol=0.1, random_state=321, topic_word_prior=None,\n",
              "                          total_samples=1000000.0, verbose=0)"
            ]
          },
          "metadata": {
            "tags": []
          },
          "execution_count": 35
        }
      ]
    },
    {
      "cell_type": "markdown",
      "metadata": {
        "id": "6gRWpbwhRekS"
      },
      "source": [
        "We used LDA to create topics along with the probability distribution for each word in our vocabulary for each topic. The parameter n_components specifies the number of categories, or topics, that we want our text to be divided into."
      ]
    },
    {
      "cell_type": "markdown",
      "metadata": {
        "id": "Ks-8K3tWRhFe"
      },
      "source": [
        "16. Print the 10 words with highest probabilities for all the five topics."
      ]
    },
    {
      "cell_type": "code",
      "metadata": {
        "colab": {
          "base_uri": "https://localhost:8080/"
        },
        "id": "Dg9r0sMjRiT1",
        "outputId": "ef009495-4ed1-4ed1-f9a7-f480027cbf32"
      },
      "source": [
        "for i,topic in enumerate(LDA.components_):\n",
        "    print(f'Top 10 words for topic #{i}:')\n",
        "    print([tfidf_vectorizer.get_feature_names()[i] for i in topic.argsort()[-10:]])\n",
        "    print('\\n')"
      ],
      "execution_count": 36,
      "outputs": [
        {
          "output_type": "stream",
          "text": [
            "Top 10 words for topic #0:\n",
            "['play', 'cup', 'players', 'team', 'win', 'world', 'year', 'game', 'england', 'said']\n",
            "\n",
            "\n",
            "Top 10 words for topic #1:\n",
            "['maurice', 'holmes', 'capriati', 'mauresmo', 'isinbayeva', 'sharapova', 'greene', 'lewis francis', 'francis', 'mirza']\n",
            "\n",
            "\n",
            "Top 10 words for topic #2:\n",
            "['gregory lamboley', 'imanol', 'half replacement', 'valbon', 'harinordoquy', 'stade', 'bortolami', 'bourgoin', 'toulousain', 'stade toulousain']\n",
            "\n",
            "\n",
            "Top 10 words for topic #3:\n",
            "['tribunal', 'charges', 'balco', 'conte', 'drugs', 'doping', 'thanou', 'greek', 'iaaf', 'kenteris']\n",
            "\n",
            "\n",
            "Top 10 words for topic #4:\n",
            "['money women', 'rod', 'aus', 'ind', 'pattaya', 'prize money', 'kafer', 'martinez', 'umaga', 'hingis']\n",
            "\n",
            "\n"
          ],
          "name": "stdout"
        }
      ]
    },
    {
      "cell_type": "markdown",
      "metadata": {
        "id": "rXqLFUMQR33T"
      },
      "source": [
        "You can also use the following function for this purpose:"
      ]
    },
    {
      "cell_type": "code",
      "metadata": {
        "id": "7FT_VtRfR2Mk"
      },
      "source": [
        "def display_topics(model, feature_names, no_top_words):\n",
        "    topic_dict = {}\n",
        "    for topic_idx, topic in enumerate(model.components_):\n",
        "        topic_dict[\"Topic %d words\" % (topic_idx)]= ['{}'.format(feature_names[i])\n",
        "                        for i in topic.argsort()[:-no_top_words - 1:-1]]\n",
        "        topic_dict[\"Topic %d weights\" % (topic_idx)]= ['{:.1f}'.format(topic[i])\n",
        "                        for i in topic.argsort()[:-no_top_words - 1:-1]]\n",
        "    return pd.DataFrame(topic_dict)"
      ],
      "execution_count": 38,
      "outputs": []
    },
    {
      "cell_type": "code",
      "metadata": {
        "colab": {
          "base_uri": "https://localhost:8080/",
          "height": 427
        },
        "id": "sxa1m_HyR8TA",
        "outputId": "064664c9-cdcf-4b4a-c61b-1f122ad76a0b"
      },
      "source": [
        "no_top_words = 10\n",
        "display_topics(LDA, tfidf_vectorizer.get_feature_names(), no_top_words=10)"
      ],
      "execution_count": 40,
      "outputs": [
        {
          "output_type": "execute_result",
          "data": {
            "text/html": [
              "<div>\n",
              "<style scoped>\n",
              "    .dataframe tbody tr th:only-of-type {\n",
              "        vertical-align: middle;\n",
              "    }\n",
              "\n",
              "    .dataframe tbody tr th {\n",
              "        vertical-align: top;\n",
              "    }\n",
              "\n",
              "    .dataframe thead th {\n",
              "        text-align: right;\n",
              "    }\n",
              "</style>\n",
              "<table border=\"1\" class=\"dataframe\">\n",
              "  <thead>\n",
              "    <tr style=\"text-align: right;\">\n",
              "      <th></th>\n",
              "      <th>Topic 0 words</th>\n",
              "      <th>Topic 0 weights</th>\n",
              "      <th>Topic 1 words</th>\n",
              "      <th>Topic 1 weights</th>\n",
              "      <th>Topic 2 words</th>\n",
              "      <th>Topic 2 weights</th>\n",
              "      <th>Topic 3 words</th>\n",
              "      <th>Topic 3 weights</th>\n",
              "      <th>Topic 4 words</th>\n",
              "      <th>Topic 4 weights</th>\n",
              "    </tr>\n",
              "  </thead>\n",
              "  <tbody>\n",
              "    <tr>\n",
              "      <th>0</th>\n",
              "      <td>said</td>\n",
              "      <td>21.1</td>\n",
              "      <td>mirza</td>\n",
              "      <td>2.2</td>\n",
              "      <td>stade toulousain</td>\n",
              "      <td>1.0</td>\n",
              "      <td>kenteris</td>\n",
              "      <td>3.5</td>\n",
              "      <td>hingis</td>\n",
              "      <td>1.0</td>\n",
              "    </tr>\n",
              "    <tr>\n",
              "      <th>1</th>\n",
              "      <td>england</td>\n",
              "      <td>18.2</td>\n",
              "      <td>francis</td>\n",
              "      <td>2.0</td>\n",
              "      <td>toulousain</td>\n",
              "      <td>1.0</td>\n",
              "      <td>iaaf</td>\n",
              "      <td>3.1</td>\n",
              "      <td>umaga</td>\n",
              "      <td>1.0</td>\n",
              "    </tr>\n",
              "    <tr>\n",
              "      <th>2</th>\n",
              "      <td>game</td>\n",
              "      <td>13.8</td>\n",
              "      <td>lewis francis</td>\n",
              "      <td>2.0</td>\n",
              "      <td>bourgoin</td>\n",
              "      <td>0.6</td>\n",
              "      <td>greek</td>\n",
              "      <td>3.1</td>\n",
              "      <td>martinez</td>\n",
              "      <td>0.9</td>\n",
              "    </tr>\n",
              "    <tr>\n",
              "      <th>3</th>\n",
              "      <td>year</td>\n",
              "      <td>13.6</td>\n",
              "      <td>greene</td>\n",
              "      <td>1.7</td>\n",
              "      <td>bortolami</td>\n",
              "      <td>0.6</td>\n",
              "      <td>thanou</td>\n",
              "      <td>3.1</td>\n",
              "      <td>kafer</td>\n",
              "      <td>0.8</td>\n",
              "    </tr>\n",
              "    <tr>\n",
              "      <th>4</th>\n",
              "      <td>world</td>\n",
              "      <td>12.6</td>\n",
              "      <td>sharapova</td>\n",
              "      <td>1.3</td>\n",
              "      <td>stade</td>\n",
              "      <td>0.6</td>\n",
              "      <td>doping</td>\n",
              "      <td>2.5</td>\n",
              "      <td>prize money</td>\n",
              "      <td>0.7</td>\n",
              "    </tr>\n",
              "    <tr>\n",
              "      <th>5</th>\n",
              "      <td>win</td>\n",
              "      <td>12.3</td>\n",
              "      <td>isinbayeva</td>\n",
              "      <td>1.2</td>\n",
              "      <td>harinordoquy</td>\n",
              "      <td>0.6</td>\n",
              "      <td>drugs</td>\n",
              "      <td>2.3</td>\n",
              "      <td>pattaya</td>\n",
              "      <td>0.7</td>\n",
              "    </tr>\n",
              "    <tr>\n",
              "      <th>6</th>\n",
              "      <td>team</td>\n",
              "      <td>11.9</td>\n",
              "      <td>mauresmo</td>\n",
              "      <td>1.0</td>\n",
              "      <td>valbon</td>\n",
              "      <td>0.5</td>\n",
              "      <td>conte</td>\n",
              "      <td>2.2</td>\n",
              "      <td>ind</td>\n",
              "      <td>0.7</td>\n",
              "    </tr>\n",
              "    <tr>\n",
              "      <th>7</th>\n",
              "      <td>players</td>\n",
              "      <td>11.5</td>\n",
              "      <td>capriati</td>\n",
              "      <td>1.0</td>\n",
              "      <td>half replacement</td>\n",
              "      <td>0.4</td>\n",
              "      <td>balco</td>\n",
              "      <td>1.8</td>\n",
              "      <td>aus</td>\n",
              "      <td>0.7</td>\n",
              "    </tr>\n",
              "    <tr>\n",
              "      <th>8</th>\n",
              "      <td>cup</td>\n",
              "      <td>11.4</td>\n",
              "      <td>holmes</td>\n",
              "      <td>1.0</td>\n",
              "      <td>imanol</td>\n",
              "      <td>0.4</td>\n",
              "      <td>charges</td>\n",
              "      <td>1.5</td>\n",
              "      <td>rod</td>\n",
              "      <td>0.6</td>\n",
              "    </tr>\n",
              "    <tr>\n",
              "      <th>9</th>\n",
              "      <td>play</td>\n",
              "      <td>11.4</td>\n",
              "      <td>maurice</td>\n",
              "      <td>1.0</td>\n",
              "      <td>gregory lamboley</td>\n",
              "      <td>0.4</td>\n",
              "      <td>tribunal</td>\n",
              "      <td>1.4</td>\n",
              "      <td>money women</td>\n",
              "      <td>0.6</td>\n",
              "    </tr>\n",
              "  </tbody>\n",
              "</table>\n",
              "</div>"
            ],
            "text/plain": [
              "  Topic 0 words Topic 0 weights  ... Topic 4 words Topic 4 weights\n",
              "0          said            21.1  ...        hingis             1.0\n",
              "1       england            18.2  ...         umaga             1.0\n",
              "2          game            13.8  ...      martinez             0.9\n",
              "3          year            13.6  ...         kafer             0.8\n",
              "4         world            12.6  ...   prize money             0.7\n",
              "5           win            12.3  ...       pattaya             0.7\n",
              "6          team            11.9  ...           ind             0.7\n",
              "7       players            11.5  ...           aus             0.7\n",
              "8           cup            11.4  ...           rod             0.6\n",
              "9          play            11.4  ...   money women             0.6\n",
              "\n",
              "[10 rows x 10 columns]"
            ]
          },
          "metadata": {
            "tags": []
          },
          "execution_count": 40
        }
      ]
    },
    {
      "cell_type": "markdown",
      "metadata": {
        "id": "LYXbAMs_SWbJ"
      },
      "source": [
        "17. Transform the learned topics into your data. Check the shape of the output. What can be the use of this output?"
      ]
    },
    {
      "cell_type": "code",
      "metadata": {
        "colab": {
          "base_uri": "https://localhost:8080/"
        },
        "id": "SDewn5nNSX9u",
        "outputId": "57353720-7324-4e25-fc01-163a1a36b351"
      },
      "source": [
        "topic_values = LDA.transform(tfidf_matrix)\n",
        "topic_values.shape"
      ],
      "execution_count": 41,
      "outputs": [
        {
          "output_type": "execute_result",
          "data": {
            "text/plain": [
              "(737, 5)"
            ]
          },
          "metadata": {
            "tags": []
          },
          "execution_count": 41
        }
      ]
    },
    {
      "cell_type": "code",
      "metadata": {
        "colab": {
          "base_uri": "https://localhost:8080/"
        },
        "id": "GOIWpvcqScut",
        "outputId": "60282a74-ed30-4165-a492-5902766ecb8a"
      },
      "source": [
        "topic_values"
      ],
      "execution_count": 42,
      "outputs": [
        {
          "output_type": "execute_result",
          "data": {
            "text/plain": [
              "array([[0.95297704, 0.01175449, 0.01175873, 0.01175444, 0.01175529],\n",
              "       [0.94455696, 0.01385469, 0.01387983, 0.0138542 , 0.01385432],\n",
              "       [0.94949035, 0.01264149, 0.01261802, 0.01263226, 0.01261788],\n",
              "       ...,\n",
              "       [0.92571628, 0.01857336, 0.01856985, 0.01857083, 0.01856967],\n",
              "       [0.4823713 , 0.48677254, 0.01028672, 0.01028405, 0.0102854 ],\n",
              "       [0.363303  , 0.01191515, 0.60094594, 0.01191983, 0.01191608]])"
            ]
          },
          "metadata": {
            "tags": []
          },
          "execution_count": 42
        }
      ]
    },
    {
      "cell_type": "markdown",
      "metadata": {
        "id": "qHZW9XdYSfvt"
      },
      "source": [
        "This output can be used as our new observations and features for further tasks.\n",
        "\n",
        "First select the best number of topics using different methods (NMF, LDA, with different number of topics).\n",
        "Then, add the topics of the best solution as features to your document-feature matrix. Then use a classifier to perform the prediction task. \n"
      ]
    },
    {
      "cell_type": "markdown",
      "metadata": {
        "id": "Tbl5zPE8dvr-"
      },
      "source": [
        "18. Use the score function for LDA to calculate the log likelihood for your data. Compare two LDA models with 5 and 10 topics."
      ]
    },
    {
      "cell_type": "code",
      "metadata": {
        "colab": {
          "base_uri": "https://localhost:8080/"
        },
        "id": "hW1s2z_rSzHS",
        "outputId": "21573fab-7550-4875-fdd8-55b837416a68"
      },
      "source": [
        "LDA10 = LatentDirichletAllocation(n_components=10, random_state=321, evaluate_every=10)\n",
        "LDA10.fit(tfidf_matrix)\n",
        "print(\"The log likelihood for the LDA model with 5 topics:\", LDA.score(tfidf_matrix))\n",
        "print(\"The log likelihood for the LDA model with 10 topics:\", LDA10.score(tfidf_matrix))"
      ],
      "execution_count": 43,
      "outputs": [
        {
          "output_type": "stream",
          "text": [
            "The log likelihood for the LDA model with 5 topics: -91498.09007139166\n",
            "The log likelihood for the LDA model with 10 topics: -106388.86181536071\n"
          ],
          "name": "stdout"
        }
      ]
    },
    {
      "cell_type": "markdown",
      "metadata": {
        "id": "Y8nRrKMBS9PU"
      },
      "source": [
        "Many procedures use the log of the likelihood, rather than the likelihood itself, because it is easier to work with. The log likelihood (i.e., the log of the likelihood) will always be negative, with higher values (closer to zero) indicating a better fitting model. Here this belongs to the model with 5 topics."
      ]
    }
  ]
}