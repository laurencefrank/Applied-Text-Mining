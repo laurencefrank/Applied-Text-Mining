{
  "nbformat": 4,
  "nbformat_minor": 0,
  "metadata": {
    "colab": {
      "name": "ATM_P1_Monday",
      "provenance": [],
      "authorship_tag": "ABX9TyNC2YLjrk+3BWl6dKNqys6q",
      "include_colab_link": true
    },
    "kernelspec": {
      "name": "python3",
      "display_name": "Python 3"
    },
    "language_info": {
      "name": "python"
    }
  },
  "cells": [
    {
      "cell_type": "markdown",
      "metadata": {
        "id": "view-in-github",
        "colab_type": "text"
      },
      "source": [
        "<a href=\"https://colab.research.google.com/github/laurencefrank/Applied-Text-Mining/blob/main/ATM_P1_Monday.ipynb\" target=\"_parent\"><img src=\"https://colab.research.google.com/assets/colab-badge.svg\" alt=\"Open In Colab\"/></a>"
      ]
    },
    {
      "cell_type": "code",
      "metadata": {
        "id": "lYI-V1CBed3f"
      },
      "source": [
        ""
      ],
      "execution_count": null,
      "outputs": []
    },
    {
      "cell_type": "markdown",
      "metadata": {
        "id": "lZraDlBNhsDN"
      },
      "source": [
        "## Applied Text Mining, Utrecht Summerschool 26 - 29 July 2021\n",
        "\n",
        "\n",
        "### Monday 26 July, practical 1"
      ]
    },
    {
      "cell_type": "code",
      "metadata": {
        "id": "cG9H2AhEiLJz"
      },
      "source": [
        "a = \"Hello @Text Mining World! I'm here to learn everything, right?\""
      ],
      "execution_count": 1,
      "outputs": []
    },
    {
      "cell_type": "code",
      "metadata": {
        "colab": {
          "base_uri": "https://localhost:8080/"
        },
        "id": "sY6uESUViqLw",
        "outputId": "25f4e6e8-a503-4d4f-9abe-bfd849c46a15"
      },
      "source": [
        "print(a)"
      ],
      "execution_count": 2,
      "outputs": [
        {
          "output_type": "stream",
          "text": [
            "Hello @Text Mining World! I'm here to learn everything, right?\n"
          ],
          "name": "stdout"
        }
      ]
    },
    {
      "cell_type": "code",
      "metadata": {
        "colab": {
          "base_uri": "https://localhost:8080/"
        },
        "id": "XGokAiaAitzy",
        "outputId": "5d32072d-ec2f-447e-ebcd-f9fba6ed0a81"
      },
      "source": [
        "print(a[0])"
      ],
      "execution_count": 3,
      "outputs": [
        {
          "output_type": "stream",
          "text": [
            "H\n"
          ],
          "name": "stdout"
        }
      ]
    },
    {
      "cell_type": "code",
      "metadata": {
        "colab": {
          "base_uri": "https://localhost:8080/"
        },
        "id": "ZxsZf3Brm1BW",
        "outputId": "05055391-60e1-44be-b344-819dd4347866"
      },
      "source": [
        "print(a[-1])"
      ],
      "execution_count": 4,
      "outputs": [
        {
          "output_type": "stream",
          "text": [
            "?\n"
          ],
          "name": "stdout"
        }
      ]
    },
    {
      "cell_type": "code",
      "metadata": {
        "colab": {
          "base_uri": "https://localhost:8080/"
        },
        "id": "btmW8FfNnAIi",
        "outputId": "693a6d21-3589-4050-c6fc-abe3f2369cca"
      },
      "source": [
        "!pip install numpy "
      ],
      "execution_count": 6,
      "outputs": [
        {
          "output_type": "stream",
          "text": [
            "Requirement already satisfied: numpy in /usr/local/lib/python3.7/dist-packages (1.19.5)\n"
          ],
          "name": "stdout"
        }
      ]
    },
    {
      "cell_type": "code",
      "metadata": {
        "colab": {
          "base_uri": "https://localhost:8080/"
        },
        "id": "n2TK0lU3n2Ow",
        "outputId": "556d1397-beb1-4ead-e816-3cbe12ce5933"
      },
      "source": [
        "! pip install string "
      ],
      "execution_count": 8,
      "outputs": [
        {
          "output_type": "stream",
          "text": [
            "\u001b[31mERROR: Could not find a version that satisfies the requirement string (from versions: none)\u001b[0m\n",
            "\u001b[31mERROR: No matching distribution found for string\u001b[0m\n"
          ],
          "name": "stdout"
        }
      ]
    },
    {
      "cell_type": "code",
      "metadata": {
        "colab": {
          "base_uri": "https://localhost:8080/"
        },
        "id": "1Sfpjd-boPBu",
        "outputId": "75dd44ef-b0a9-4e68-a3e6-08fad6007c83"
      },
      "source": [
        "!pip install nltk\n",
        "!pip install gensim\n",
        "!pip install spacy"
      ],
      "execution_count": 9,
      "outputs": [
        {
          "output_type": "stream",
          "text": [
            "Requirement already satisfied: nltk in /usr/local/lib/python3.7/dist-packages (3.2.5)\n",
            "Requirement already satisfied: six in /usr/local/lib/python3.7/dist-packages (from nltk) (1.15.0)\n",
            "Requirement already satisfied: gensim in /usr/local/lib/python3.7/dist-packages (3.6.0)\n",
            "Requirement already satisfied: smart-open>=1.2.1 in /usr/local/lib/python3.7/dist-packages (from gensim) (5.1.0)\n",
            "Requirement already satisfied: six>=1.5.0 in /usr/local/lib/python3.7/dist-packages (from gensim) (1.15.0)\n",
            "Requirement already satisfied: numpy>=1.11.3 in /usr/local/lib/python3.7/dist-packages (from gensim) (1.19.5)\n",
            "Requirement already satisfied: scipy>=0.18.1 in /usr/local/lib/python3.7/dist-packages (from gensim) (1.4.1)\n",
            "Requirement already satisfied: spacy in /usr/local/lib/python3.7/dist-packages (2.2.4)\n",
            "Requirement already satisfied: blis<0.5.0,>=0.4.0 in /usr/local/lib/python3.7/dist-packages (from spacy) (0.4.1)\n",
            "Requirement already satisfied: setuptools in /usr/local/lib/python3.7/dist-packages (from spacy) (57.2.0)\n",
            "Requirement already satisfied: wasabi<1.1.0,>=0.4.0 in /usr/local/lib/python3.7/dist-packages (from spacy) (0.8.2)\n",
            "Requirement already satisfied: tqdm<5.0.0,>=4.38.0 in /usr/local/lib/python3.7/dist-packages (from spacy) (4.41.1)\n",
            "Requirement already satisfied: thinc==7.4.0 in /usr/local/lib/python3.7/dist-packages (from spacy) (7.4.0)\n",
            "Requirement already satisfied: catalogue<1.1.0,>=0.0.7 in /usr/local/lib/python3.7/dist-packages (from spacy) (1.0.0)\n",
            "Requirement already satisfied: cymem<2.1.0,>=2.0.2 in /usr/local/lib/python3.7/dist-packages (from spacy) (2.0.5)\n",
            "Requirement already satisfied: requests<3.0.0,>=2.13.0 in /usr/local/lib/python3.7/dist-packages (from spacy) (2.23.0)\n",
            "Requirement already satisfied: numpy>=1.15.0 in /usr/local/lib/python3.7/dist-packages (from spacy) (1.19.5)\n",
            "Requirement already satisfied: murmurhash<1.1.0,>=0.28.0 in /usr/local/lib/python3.7/dist-packages (from spacy) (1.0.5)\n",
            "Requirement already satisfied: preshed<3.1.0,>=3.0.2 in /usr/local/lib/python3.7/dist-packages (from spacy) (3.0.5)\n",
            "Requirement already satisfied: plac<1.2.0,>=0.9.6 in /usr/local/lib/python3.7/dist-packages (from spacy) (1.1.3)\n",
            "Requirement already satisfied: srsly<1.1.0,>=1.0.2 in /usr/local/lib/python3.7/dist-packages (from spacy) (1.0.5)\n",
            "Requirement already satisfied: importlib-metadata>=0.20 in /usr/local/lib/python3.7/dist-packages (from catalogue<1.1.0,>=0.0.7->spacy) (4.6.1)\n",
            "Requirement already satisfied: typing-extensions>=3.6.4 in /usr/local/lib/python3.7/dist-packages (from importlib-metadata>=0.20->catalogue<1.1.0,>=0.0.7->spacy) (3.7.4.3)\n",
            "Requirement already satisfied: zipp>=0.5 in /usr/local/lib/python3.7/dist-packages (from importlib-metadata>=0.20->catalogue<1.1.0,>=0.0.7->spacy) (3.5.0)\n",
            "Requirement already satisfied: urllib3!=1.25.0,!=1.25.1,<1.26,>=1.21.1 in /usr/local/lib/python3.7/dist-packages (from requests<3.0.0,>=2.13.0->spacy) (1.24.3)\n",
            "Requirement already satisfied: chardet<4,>=3.0.2 in /usr/local/lib/python3.7/dist-packages (from requests<3.0.0,>=2.13.0->spacy) (3.0.4)\n",
            "Requirement already satisfied: certifi>=2017.4.17 in /usr/local/lib/python3.7/dist-packages (from requests<3.0.0,>=2.13.0->spacy) (2021.5.30)\n",
            "Requirement already satisfied: idna<3,>=2.5 in /usr/local/lib/python3.7/dist-packages (from requests<3.0.0,>=2.13.0->spacy) (2.10)\n"
          ],
          "name": "stdout"
        }
      ]
    },
    {
      "cell_type": "code",
      "metadata": {
        "id": "9hzC5XAzorXH"
      },
      "source": [
        "import numpy as np\n",
        "import nltk\n",
        "import gensim\n",
        "import spacy\n",
        "import string"
      ],
      "execution_count": 12,
      "outputs": []
    },
    {
      "cell_type": "code",
      "metadata": {
        "colab": {
          "base_uri": "https://localhost:8080/"
        },
        "id": "vuncmYfcpmhY",
        "outputId": "ab812164-7e02-4453-cba0-9b19b42d8d26"
      },
      "source": [
        "print(a)\n",
        "b = a.lower()\n",
        "print(b)"
      ],
      "execution_count": 25,
      "outputs": [
        {
          "output_type": "stream",
          "text": [
            "Hello @Text Mining World! I'm here to learn everything, right?\n",
            "hello @text mining world! i'm here to learn everything, right?\n"
          ],
          "name": "stdout"
        }
      ]
    },
    {
      "cell_type": "code",
      "metadata": {
        "colab": {
          "base_uri": "https://localhost:8080/"
        },
        "id": "gkOCqyAL6IsV",
        "outputId": "c96437c6-a518-4d58-df8a-47d91dba4730"
      },
      "source": [
        "q = []\n",
        "print(string.punctuation)\n",
        "for i in b:\n",
        "  if i in string.punctuation:\n",
        "    q.append(i)\n",
        "print(q)"
      ],
      "execution_count": 27,
      "outputs": [
        {
          "output_type": "stream",
          "text": [
            "['@', '!', \"'\", ',', '?']\n"
          ],
          "name": "stdout"
        }
      ]
    },
    {
      "cell_type": "code",
      "metadata": {
        "colab": {
          "base_uri": "https://localhost:8080/"
        },
        "id": "jomjATwZCM-6",
        "outputId": "3ebb1048-9f32-4eac-81f6-46cb4d05d458"
      },
      "source": [
        "c = \"\"\n",
        "for x in b:\n",
        "    if x not in q:\n",
        "        c=c+x\n",
        "\n",
        "print(c)\n",
        "# Note that I'm becomes im !?"
      ],
      "execution_count": 30,
      "outputs": [
        {
          "output_type": "stream",
          "text": [
            "hello text mining world im here to learn everything right\n"
          ],
          "name": "stdout"
        }
      ]
    },
    {
      "cell_type": "code",
      "metadata": {
        "colab": {
          "base_uri": "https://localhost:8080/"
        },
        "id": "PzFUdGn-CM9I",
        "outputId": "68793178-4e4d-4292-af5a-9143841aaea4"
      },
      "source": [
        "# Now with list comprehension\n",
        "c = \"\".join([punct for punct in b if punct not in string.punctuation])\n",
        "print(c)"
      ],
      "execution_count": 39,
      "outputs": [
        {
          "output_type": "stream",
          "text": [
            "hello text mining world im here to learn everything right\n"
          ],
          "name": "stdout"
        }
      ]
    },
    {
      "cell_type": "code",
      "metadata": {
        "id": "PScTfLo5G8TM"
      },
      "source": [
        "#from nltk.tokenize import word_tokenize"
      ],
      "execution_count": 33,
      "outputs": []
    },
    {
      "cell_type": "code",
      "metadata": {
        "id": "myHtwVFxH2nq"
      },
      "source": [
        "from nltk.tokenize import word_tokenize\n",
        "# download the punkt model\n",
        "nltk.download('punkt')"
      ],
      "execution_count": 37,
      "outputs": []
    },
    {
      "cell_type": "code",
      "metadata": {
        "colab": {
          "base_uri": "https://localhost:8080/"
        },
        "id": "v0xmB1ICHhU-",
        "outputId": "96f845e8-9382-4cb4-b284-e74637f85538"
      },
      "source": [
        "print(word_tokenize(b))\n",
        "print(word_tokenize(c))"
      ],
      "execution_count": 38,
      "outputs": [
        {
          "output_type": "stream",
          "text": [
            "[nltk_data] Downloading package punkt to /root/nltk_data...\n",
            "[nltk_data]   Unzipping tokenizers/punkt.zip.\n",
            "['hello', '@', 'text', 'mining', 'world', '!', 'i', \"'m\", 'here', 'to', 'learn', 'everything', ',', 'right', '?']\n",
            "['hello', 'text', 'mining', 'world', 'im', 'here', 'to', 'learn', 'everything', 'right']\n"
          ],
          "name": "stdout"
        }
      ]
    },
    {
      "cell_type": "code",
      "metadata": {
        "id": "rATWLt_dIUut"
      },
      "source": [
        "from nltk.tokenize import RegexpTokenizer"
      ],
      "execution_count": 41,
      "outputs": []
    },
    {
      "cell_type": "code",
      "metadata": {
        "colab": {
          "base_uri": "https://localhost:8080/"
        },
        "id": "nPKTX-nVJAXp",
        "outputId": "f0c74465-1844-475b-c5e7-9887a0bf19ee"
      },
      "source": [
        "tokenizer = RegexpTokenizer(r'\\w+')\n",
        "tokenizer.tokenize(b)"
      ],
      "execution_count": 42,
      "outputs": [
        {
          "output_type": "execute_result",
          "data": {
            "text/plain": [
              "['hello',\n",
              " 'text',\n",
              " 'mining',\n",
              " 'world',\n",
              " 'i',\n",
              " 'm',\n",
              " 'here',\n",
              " 'to',\n",
              " 'learn',\n",
              " 'everything',\n",
              " 'right']"
            ]
          },
          "metadata": {
            "tags": []
          },
          "execution_count": 42
        }
      ]
    },
    {
      "cell_type": "code",
      "metadata": {
        "colab": {
          "base_uri": "https://localhost:8080/"
        },
        "id": "SRCvduU4JsFX",
        "outputId": "1f8ce124-cf50-47ac-da8d-1b14116ad04e"
      },
      "source": [
        "from nltk.tokenize import sent_tokenize\n",
        "print(sent_tokenize(b))\n",
        "print(sent_tokenize(c))"
      ],
      "execution_count": 43,
      "outputs": [
        {
          "output_type": "stream",
          "text": [
            "['hello @text mining world!', \"i'm here to learn everything, right?\"]\n",
            "['hello text mining world im here to learn everything right']\n"
          ],
          "name": "stdout"
        }
      ]
    },
    {
      "cell_type": "code",
      "metadata": {
        "id": "IKQlUHouJ6p_"
      },
      "source": [
        ""
      ],
      "execution_count": null,
      "outputs": []
    },
    {
      "cell_type": "markdown",
      "metadata": {
        "id": "9WV85Z2aKCEf"
      },
      "source": [
        "## Pre-processing a text corpus (data set)\n",
        "\n",
        "Pre-processing a data set is similar to pre-processing simple text strings. First, we need to get some data. For this, we can use our own data set, or we can scrape data from web or use social media APIs. There are also some websites with publicly available data sets:\n",
        "\n",
        "CLARIN Resource Families: https://www.clarin.eu/portal\n",
        "UCI Machine Learning Repository: https://archive.ics.uci.edu/ml/datasets.php?format=&task=&att=&area=&numAtt=&numIns=&type=text&sort=nameUp&view=table\n",
        "Kaggle: https://www.kaggle.com/\n",
        "Here, we want to analyze and pre-process the Taylor Swift song lyrics data from all her albums. We downloaded this data set from the Kaggle website and put that already in the data folder. Here is the link to the original data set: https://www.kaggle.com/PromptCloudHQ/taylor-swift-song-lyrics-from-all-the-albums"
      ]
    },
    {
      "cell_type": "code",
      "metadata": {
        "id": "mkpGrqy2KHs7"
      },
      "source": [
        "import pandas as pd "
      ],
      "execution_count": 50,
      "outputs": []
    },
    {
      "cell_type": "code",
      "metadata": {
        "colab": {
          "resources": {
            "http://localhost:8080/nbextensions/google.colab/files.js": {
              "data": "Ly8gQ29weXJpZ2h0IDIwMTcgR29vZ2xlIExMQwovLwovLyBMaWNlbnNlZCB1bmRlciB0aGUgQXBhY2hlIExpY2Vuc2UsIFZlcnNpb24gMi4wICh0aGUgIkxpY2Vuc2UiKTsKLy8geW91IG1heSBub3QgdXNlIHRoaXMgZmlsZSBleGNlcHQgaW4gY29tcGxpYW5jZSB3aXRoIHRoZSBMaWNlbnNlLgovLyBZb3UgbWF5IG9idGFpbiBhIGNvcHkgb2YgdGhlIExpY2Vuc2UgYXQKLy8KLy8gICAgICBodHRwOi8vd3d3LmFwYWNoZS5vcmcvbGljZW5zZXMvTElDRU5TRS0yLjAKLy8KLy8gVW5sZXNzIHJlcXVpcmVkIGJ5IGFwcGxpY2FibGUgbGF3IG9yIGFncmVlZCB0byBpbiB3cml0aW5nLCBzb2Z0d2FyZQovLyBkaXN0cmlidXRlZCB1bmRlciB0aGUgTGljZW5zZSBpcyBkaXN0cmlidXRlZCBvbiBhbiAiQVMgSVMiIEJBU0lTLAovLyBXSVRIT1VUIFdBUlJBTlRJRVMgT1IgQ09ORElUSU9OUyBPRiBBTlkgS0lORCwgZWl0aGVyIGV4cHJlc3Mgb3IgaW1wbGllZC4KLy8gU2VlIHRoZSBMaWNlbnNlIGZvciB0aGUgc3BlY2lmaWMgbGFuZ3VhZ2UgZ292ZXJuaW5nIHBlcm1pc3Npb25zIGFuZAovLyBsaW1pdGF0aW9ucyB1bmRlciB0aGUgTGljZW5zZS4KCi8qKgogKiBAZmlsZW92ZXJ2aWV3IEhlbHBlcnMgZm9yIGdvb2dsZS5jb2xhYiBQeXRob24gbW9kdWxlLgogKi8KKGZ1bmN0aW9uKHNjb3BlKSB7CmZ1bmN0aW9uIHNwYW4odGV4dCwgc3R5bGVBdHRyaWJ1dGVzID0ge30pIHsKICBjb25zdCBlbGVtZW50ID0gZG9jdW1lbnQuY3JlYXRlRWxlbWVudCgnc3BhbicpOwogIGVsZW1lbnQudGV4dENvbnRlbnQgPSB0ZXh0OwogIGZvciAoY29uc3Qga2V5IG9mIE9iamVjdC5rZXlzKHN0eWxlQXR0cmlidXRlcykpIHsKICAgIGVsZW1lbnQuc3R5bGVba2V5XSA9IHN0eWxlQXR0cmlidXRlc1trZXldOwogIH0KICByZXR1cm4gZWxlbWVudDsKfQoKLy8gTWF4IG51bWJlciBvZiBieXRlcyB3aGljaCB3aWxsIGJlIHVwbG9hZGVkIGF0IGEgdGltZS4KY29uc3QgTUFYX1BBWUxPQURfU0laRSA9IDEwMCAqIDEwMjQ7CgpmdW5jdGlvbiBfdXBsb2FkRmlsZXMoaW5wdXRJZCwgb3V0cHV0SWQpIHsKICBjb25zdCBzdGVwcyA9IHVwbG9hZEZpbGVzU3RlcChpbnB1dElkLCBvdXRwdXRJZCk7CiAgY29uc3Qgb3V0cHV0RWxlbWVudCA9IGRvY3VtZW50LmdldEVsZW1lbnRCeUlkKG91dHB1dElkKTsKICAvLyBDYWNoZSBzdGVwcyBvbiB0aGUgb3V0cHV0RWxlbWVudCB0byBtYWtlIGl0IGF2YWlsYWJsZSBmb3IgdGhlIG5leHQgY2FsbAogIC8vIHRvIHVwbG9hZEZpbGVzQ29udGludWUgZnJvbSBQeXRob24uCiAgb3V0cHV0RWxlbWVudC5zdGVwcyA9IHN0ZXBzOwoKICByZXR1cm4gX3VwbG9hZEZpbGVzQ29udGludWUob3V0cHV0SWQpOwp9CgovLyBUaGlzIGlzIHJvdWdobHkgYW4gYXN5bmMgZ2VuZXJhdG9yIChub3Qgc3VwcG9ydGVkIGluIHRoZSBicm93c2VyIHlldCksCi8vIHdoZXJlIHRoZXJlIGFyZSBtdWx0aXBsZSBhc3luY2hyb25vdXMgc3RlcHMgYW5kIHRoZSBQeXRob24gc2lkZSBpcyBnb2luZwovLyB0byBwb2xsIGZvciBjb21wbGV0aW9uIG9mIGVhY2ggc3RlcC4KLy8gVGhpcyB1c2VzIGEgUHJvbWlzZSB0byBibG9jayB0aGUgcHl0aG9uIHNpZGUgb24gY29tcGxldGlvbiBvZiBlYWNoIHN0ZXAsCi8vIHRoZW4gcGFzc2VzIHRoZSByZXN1bHQgb2YgdGhlIHByZXZpb3VzIHN0ZXAgYXMgdGhlIGlucHV0IHRvIHRoZSBuZXh0IHN0ZXAuCmZ1bmN0aW9uIF91cGxvYWRGaWxlc0NvbnRpbnVlKG91dHB1dElkKSB7CiAgY29uc3Qgb3V0cHV0RWxlbWVudCA9IGRvY3VtZW50LmdldEVsZW1lbnRCeUlkKG91dHB1dElkKTsKICBjb25zdCBzdGVwcyA9IG91dHB1dEVsZW1lbnQuc3RlcHM7CgogIGNvbnN0IG5leHQgPSBzdGVwcy5uZXh0KG91dHB1dEVsZW1lbnQubGFzdFByb21pc2VWYWx1ZSk7CiAgcmV0dXJuIFByb21pc2UucmVzb2x2ZShuZXh0LnZhbHVlLnByb21pc2UpLnRoZW4oKHZhbHVlKSA9PiB7CiAgICAvLyBDYWNoZSB0aGUgbGFzdCBwcm9taXNlIHZhbHVlIHRvIG1ha2UgaXQgYXZhaWxhYmxlIHRvIHRoZSBuZXh0CiAgICAvLyBzdGVwIG9mIHRoZSBnZW5lcmF0b3IuCiAgICBvdXRwdXRFbGVtZW50Lmxhc3RQcm9taXNlVmFsdWUgPSB2YWx1ZTsKICAgIHJldHVybiBuZXh0LnZhbHVlLnJlc3BvbnNlOwogIH0pOwp9CgovKioKICogR2VuZXJhdG9yIGZ1bmN0aW9uIHdoaWNoIGlzIGNhbGxlZCBiZXR3ZWVuIGVhY2ggYXN5bmMgc3RlcCBvZiB0aGUgdXBsb2FkCiAqIHByb2Nlc3MuCiAqIEBwYXJhbSB7c3RyaW5nfSBpbnB1dElkIEVsZW1lbnQgSUQgb2YgdGhlIGlucHV0IGZpbGUgcGlja2VyIGVsZW1lbnQuCiAqIEBwYXJhbSB7c3RyaW5nfSBvdXRwdXRJZCBFbGVtZW50IElEIG9mIHRoZSBvdXRwdXQgZGlzcGxheS4KICogQHJldHVybiB7IUl0ZXJhYmxlPCFPYmplY3Q+fSBJdGVyYWJsZSBvZiBuZXh0IHN0ZXBzLgogKi8KZnVuY3Rpb24qIHVwbG9hZEZpbGVzU3RlcChpbnB1dElkLCBvdXRwdXRJZCkgewogIGNvbnN0IGlucHV0RWxlbWVudCA9IGRvY3VtZW50LmdldEVsZW1lbnRCeUlkKGlucHV0SWQpOwogIGlucHV0RWxlbWVudC5kaXNhYmxlZCA9IGZhbHNlOwoKICBjb25zdCBvdXRwdXRFbGVtZW50ID0gZG9jdW1lbnQuZ2V0RWxlbWVudEJ5SWQob3V0cHV0SWQpOwogIG91dHB1dEVsZW1lbnQuaW5uZXJIVE1MID0gJyc7CgogIGNvbnN0IHBpY2tlZFByb21pc2UgPSBuZXcgUHJvbWlzZSgocmVzb2x2ZSkgPT4gewogICAgaW5wdXRFbGVtZW50LmFkZEV2ZW50TGlzdGVuZXIoJ2NoYW5nZScsIChlKSA9PiB7CiAgICAgIHJlc29sdmUoZS50YXJnZXQuZmlsZXMpOwogICAgfSk7CiAgfSk7CgogIGNvbnN0IGNhbmNlbCA9IGRvY3VtZW50LmNyZWF0ZUVsZW1lbnQoJ2J1dHRvbicpOwogIGlucHV0RWxlbWVudC5wYXJlbnRFbGVtZW50LmFwcGVuZENoaWxkKGNhbmNlbCk7CiAgY2FuY2VsLnRleHRDb250ZW50ID0gJ0NhbmNlbCB1cGxvYWQnOwogIGNvbnN0IGNhbmNlbFByb21pc2UgPSBuZXcgUHJvbWlzZSgocmVzb2x2ZSkgPT4gewogICAgY2FuY2VsLm9uY2xpY2sgPSAoKSA9PiB7CiAgICAgIHJlc29sdmUobnVsbCk7CiAgICB9OwogIH0pOwoKICAvLyBXYWl0IGZvciB0aGUgdXNlciB0byBwaWNrIHRoZSBmaWxlcy4KICBjb25zdCBmaWxlcyA9IHlpZWxkIHsKICAgIHByb21pc2U6IFByb21pc2UucmFjZShbcGlja2VkUHJvbWlzZSwgY2FuY2VsUHJvbWlzZV0pLAogICAgcmVzcG9uc2U6IHsKICAgICAgYWN0aW9uOiAnc3RhcnRpbmcnLAogICAgfQogIH07CgogIGNhbmNlbC5yZW1vdmUoKTsKCiAgLy8gRGlzYWJsZSB0aGUgaW5wdXQgZWxlbWVudCBzaW5jZSBmdXJ0aGVyIHBpY2tzIGFyZSBub3QgYWxsb3dlZC4KICBpbnB1dEVsZW1lbnQuZGlzYWJsZWQgPSB0cnVlOwoKICBpZiAoIWZpbGVzKSB7CiAgICByZXR1cm4gewogICAgICByZXNwb25zZTogewogICAgICAgIGFjdGlvbjogJ2NvbXBsZXRlJywKICAgICAgfQogICAgfTsKICB9CgogIGZvciAoY29uc3QgZmlsZSBvZiBmaWxlcykgewogICAgY29uc3QgbGkgPSBkb2N1bWVudC5jcmVhdGVFbGVtZW50KCdsaScpOwogICAgbGkuYXBwZW5kKHNwYW4oZmlsZS5uYW1lLCB7Zm9udFdlaWdodDogJ2JvbGQnfSkpOwogICAgbGkuYXBwZW5kKHNwYW4oCiAgICAgICAgYCgke2ZpbGUudHlwZSB8fCAnbi9hJ30pIC0gJHtmaWxlLnNpemV9IGJ5dGVzLCBgICsKICAgICAgICBgbGFzdCBtb2RpZmllZDogJHsKICAgICAgICAgICAgZmlsZS5sYXN0TW9kaWZpZWREYXRlID8gZmlsZS5sYXN0TW9kaWZpZWREYXRlLnRvTG9jYWxlRGF0ZVN0cmluZygpIDoKICAgICAgICAgICAgICAgICAgICAgICAgICAgICAgICAgICAgJ24vYSd9IC0gYCkpOwogICAgY29uc3QgcGVyY2VudCA9IHNwYW4oJzAlIGRvbmUnKTsKICAgIGxpLmFwcGVuZENoaWxkKHBlcmNlbnQpOwoKICAgIG91dHB1dEVsZW1lbnQuYXBwZW5kQ2hpbGQobGkpOwoKICAgIGNvbnN0IGZpbGVEYXRhUHJvbWlzZSA9IG5ldyBQcm9taXNlKChyZXNvbHZlKSA9PiB7CiAgICAgIGNvbnN0IHJlYWRlciA9IG5ldyBGaWxlUmVhZGVyKCk7CiAgICAgIHJlYWRlci5vbmxvYWQgPSAoZSkgPT4gewogICAgICAgIHJlc29sdmUoZS50YXJnZXQucmVzdWx0KTsKICAgICAgfTsKICAgICAgcmVhZGVyLnJlYWRBc0FycmF5QnVmZmVyKGZpbGUpOwogICAgfSk7CiAgICAvLyBXYWl0IGZvciB0aGUgZGF0YSB0byBiZSByZWFkeS4KICAgIGxldCBmaWxlRGF0YSA9IHlpZWxkIHsKICAgICAgcHJvbWlzZTogZmlsZURhdGFQcm9taXNlLAogICAgICByZXNwb25zZTogewogICAgICAgIGFjdGlvbjogJ2NvbnRpbnVlJywKICAgICAgfQogICAgfTsKCiAgICAvLyBVc2UgYSBjaHVua2VkIHNlbmRpbmcgdG8gYXZvaWQgbWVzc2FnZSBzaXplIGxpbWl0cy4gU2VlIGIvNjIxMTU2NjAuCiAgICBsZXQgcG9zaXRpb24gPSAwOwogICAgZG8gewogICAgICBjb25zdCBsZW5ndGggPSBNYXRoLm1pbihmaWxlRGF0YS5ieXRlTGVuZ3RoIC0gcG9zaXRpb24sIE1BWF9QQVlMT0FEX1NJWkUpOwogICAgICBjb25zdCBjaHVuayA9IG5ldyBVaW50OEFycmF5KGZpbGVEYXRhLCBwb3NpdGlvbiwgbGVuZ3RoKTsKICAgICAgcG9zaXRpb24gKz0gbGVuZ3RoOwoKICAgICAgY29uc3QgYmFzZTY0ID0gYnRvYShTdHJpbmcuZnJvbUNoYXJDb2RlLmFwcGx5KG51bGwsIGNodW5rKSk7CiAgICAgIHlpZWxkIHsKICAgICAgICByZXNwb25zZTogewogICAgICAgICAgYWN0aW9uOiAnYXBwZW5kJywKICAgICAgICAgIGZpbGU6IGZpbGUubmFtZSwKICAgICAgICAgIGRhdGE6IGJhc2U2NCwKICAgICAgICB9LAogICAgICB9OwoKICAgICAgbGV0IHBlcmNlbnREb25lID0gZmlsZURhdGEuYnl0ZUxlbmd0aCA9PT0gMCA/CiAgICAgICAgICAxMDAgOgogICAgICAgICAgTWF0aC5yb3VuZCgocG9zaXRpb24gLyBmaWxlRGF0YS5ieXRlTGVuZ3RoKSAqIDEwMCk7CiAgICAgIHBlcmNlbnQudGV4dENvbnRlbnQgPSBgJHtwZXJjZW50RG9uZX0lIGRvbmVgOwoKICAgIH0gd2hpbGUgKHBvc2l0aW9uIDwgZmlsZURhdGEuYnl0ZUxlbmd0aCk7CiAgfQoKICAvLyBBbGwgZG9uZS4KICB5aWVsZCB7CiAgICByZXNwb25zZTogewogICAgICBhY3Rpb246ICdjb21wbGV0ZScsCiAgICB9CiAgfTsKfQoKc2NvcGUuZ29vZ2xlID0gc2NvcGUuZ29vZ2xlIHx8IHt9OwpzY29wZS5nb29nbGUuY29sYWIgPSBzY29wZS5nb29nbGUuY29sYWIgfHwge307CnNjb3BlLmdvb2dsZS5jb2xhYi5fZmlsZXMgPSB7CiAgX3VwbG9hZEZpbGVzLAogIF91cGxvYWRGaWxlc0NvbnRpbnVlLAp9Owp9KShzZWxmKTsK",
              "ok": true,
              "headers": [
                [
                  "content-type",
                  "application/javascript"
                ]
              ],
              "status": 200,
              "status_text": ""
            }
          },
          "base_uri": "https://localhost:8080/",
          "height": 72
        },
        "id": "BRObXNeMLxNW",
        "outputId": "d682d500-c1e8-4b1c-c88c-ac03303c73a8"
      },
      "source": [
        "from google.colab import files\n",
        "uploaded = files.upload()"
      ],
      "execution_count": 51,
      "outputs": [
        {
          "output_type": "display_data",
          "data": {
            "text/html": [
              "\n",
              "     <input type=\"file\" id=\"files-86f74e71-4f7a-4d7b-97a4-19ab0d832c26\" name=\"files[]\" multiple disabled\n",
              "        style=\"border:none\" />\n",
              "     <output id=\"result-86f74e71-4f7a-4d7b-97a4-19ab0d832c26\">\n",
              "      Upload widget is only available when the cell has been executed in the\n",
              "      current browser session. Please rerun this cell to enable.\n",
              "      </output>\n",
              "      <script src=\"/nbextensions/google.colab/files.js\"></script> "
            ],
            "text/plain": [
              "<IPython.core.display.HTML object>"
            ]
          },
          "metadata": {
            "tags": []
          }
        },
        {
          "output_type": "stream",
          "text": [
            "Saving taylor_swift_lyrics.csv to taylor_swift_lyrics.csv\n"
          ],
          "name": "stdout"
        }
      ]
    },
    {
      "cell_type": "code",
      "metadata": {
        "id": "1zucrTN4MBLS"
      },
      "source": [
        "import io\n",
        "ts_lyrics = pd.read_csv(io.BytesIO(uploaded['taylor_swift_lyrics.csv']))"
      ],
      "execution_count": 52,
      "outputs": []
    },
    {
      "cell_type": "code",
      "metadata": {
        "colab": {
          "base_uri": "https://localhost:8080/",
          "height": 204
        },
        "id": "XgLSlja0MJbx",
        "outputId": "2e936332-5a28-4f19-d725-5efb6e5c03cd"
      },
      "source": [
        "ts_lyrics.head()"
      ],
      "execution_count": 53,
      "outputs": [
        {
          "output_type": "execute_result",
          "data": {
            "text/html": [
              "<div>\n",
              "<style scoped>\n",
              "    .dataframe tbody tr th:only-of-type {\n",
              "        vertical-align: middle;\n",
              "    }\n",
              "\n",
              "    .dataframe tbody tr th {\n",
              "        vertical-align: top;\n",
              "    }\n",
              "\n",
              "    .dataframe thead th {\n",
              "        text-align: right;\n",
              "    }\n",
              "</style>\n",
              "<table border=\"1\" class=\"dataframe\">\n",
              "  <thead>\n",
              "    <tr style=\"text-align: right;\">\n",
              "      <th></th>\n",
              "      <th>Artist</th>\n",
              "      <th>Album</th>\n",
              "      <th>Title</th>\n",
              "      <th>Lyrics</th>\n",
              "    </tr>\n",
              "  </thead>\n",
              "  <tbody>\n",
              "    <tr>\n",
              "      <th>0</th>\n",
              "      <td>Taylor Swift</td>\n",
              "      <td>Taylor Swift</td>\n",
              "      <td>Tim McGraw</td>\n",
              "      <td>He said the way my blue eyes shinx\\nPut those ...</td>\n",
              "    </tr>\n",
              "    <tr>\n",
              "      <th>1</th>\n",
              "      <td>Taylor Swift</td>\n",
              "      <td>Taylor Swift</td>\n",
              "      <td>Picture to Burn</td>\n",
              "      <td>State the obvious, I didn't get my perfect fan...</td>\n",
              "    </tr>\n",
              "    <tr>\n",
              "      <th>2</th>\n",
              "      <td>Taylor Swift</td>\n",
              "      <td>Taylor Swift</td>\n",
              "      <td>Teardrops on my Guitar</td>\n",
              "      <td>Drew looks at me,\\nI fake a smile so he won't ...</td>\n",
              "    </tr>\n",
              "    <tr>\n",
              "      <th>3</th>\n",
              "      <td>Taylor Swift</td>\n",
              "      <td>Taylor Swift</td>\n",
              "      <td>A Place in This World</td>\n",
              "      <td>I don't know what I want, so don't ask me\\n'Ca...</td>\n",
              "    </tr>\n",
              "    <tr>\n",
              "      <th>4</th>\n",
              "      <td>Taylor Swift</td>\n",
              "      <td>Taylor Swift</td>\n",
              "      <td>Cold As You</td>\n",
              "      <td>You have a way of coming easily to me\\nAnd whe...</td>\n",
              "    </tr>\n",
              "  </tbody>\n",
              "</table>\n",
              "</div>"
            ],
            "text/plain": [
              "         Artist   ...                                             Lyrics\n",
              "0  Taylor Swift   ...  He said the way my blue eyes shinx\\nPut those ...\n",
              "1  Taylor Swift   ...  State the obvious, I didn't get my perfect fan...\n",
              "2  Taylor Swift   ...  Drew looks at me,\\nI fake a smile so he won't ...\n",
              "3  Taylor Swift   ...  I don't know what I want, so don't ask me\\n'Ca...\n",
              "4  Taylor Swift   ...  You have a way of coming easily to me\\nAnd whe...\n",
              "\n",
              "[5 rows x 4 columns]"
            ]
          },
          "metadata": {
            "tags": []
          },
          "execution_count": 53
        }
      ]
    },
    {
      "cell_type": "code",
      "metadata": {
        "colab": {
          "base_uri": "https://localhost:8080/",
          "height": 204
        },
        "id": "EJ2RwuaxMuju",
        "outputId": "ed5af65a-fb11-4b89-d278-3b2c1be7ebe3"
      },
      "source": [
        "ts_lyrics.tail()"
      ],
      "execution_count": 54,
      "outputs": [
        {
          "output_type": "execute_result",
          "data": {
            "text/html": [
              "<div>\n",
              "<style scoped>\n",
              "    .dataframe tbody tr th:only-of-type {\n",
              "        vertical-align: middle;\n",
              "    }\n",
              "\n",
              "    .dataframe tbody tr th {\n",
              "        vertical-align: top;\n",
              "    }\n",
              "\n",
              "    .dataframe thead th {\n",
              "        text-align: right;\n",
              "    }\n",
              "</style>\n",
              "<table border=\"1\" class=\"dataframe\">\n",
              "  <thead>\n",
              "    <tr style=\"text-align: right;\">\n",
              "      <th></th>\n",
              "      <th>Artist</th>\n",
              "      <th>Album</th>\n",
              "      <th>Title</th>\n",
              "      <th>Lyrics</th>\n",
              "    </tr>\n",
              "  </thead>\n",
              "  <tbody>\n",
              "    <tr>\n",
              "      <th>127</th>\n",
              "      <td>Taylor Swift</td>\n",
              "      <td>folklore</td>\n",
              "      <td>mad woman</td>\n",
              "      <td>What did you think I'd say to that?\\nDoes a sc...</td>\n",
              "    </tr>\n",
              "    <tr>\n",
              "      <th>128</th>\n",
              "      <td>Taylor Swift</td>\n",
              "      <td>folklore</td>\n",
              "      <td>epiphany</td>\n",
              "      <td>Keep your helmet\\nKeep your life, son\\nJust a ...</td>\n",
              "    </tr>\n",
              "    <tr>\n",
              "      <th>129</th>\n",
              "      <td>Taylor Swift</td>\n",
              "      <td>folklore</td>\n",
              "      <td>betty</td>\n",
              "      <td>Betty, I won't make assumptions about why you ...</td>\n",
              "    </tr>\n",
              "    <tr>\n",
              "      <th>130</th>\n",
              "      <td>Taylor Swift</td>\n",
              "      <td>folklore</td>\n",
              "      <td>peace</td>\n",
              "      <td>Our coming of age has come and gone\\nSuddenly ...</td>\n",
              "    </tr>\n",
              "    <tr>\n",
              "      <th>131</th>\n",
              "      <td>Taylor Swift</td>\n",
              "      <td>folklore</td>\n",
              "      <td>hoax</td>\n",
              "      <td>My only one\\nMy smoking gun\\nMy eclipsed sun\\n...</td>\n",
              "    </tr>\n",
              "  </tbody>\n",
              "</table>\n",
              "</div>"
            ],
            "text/plain": [
              "           Artist   ...                                             Lyrics\n",
              "127  Taylor Swift   ...  What did you think I'd say to that?\\nDoes a sc...\n",
              "128  Taylor Swift   ...  Keep your helmet\\nKeep your life, son\\nJust a ...\n",
              "129  Taylor Swift   ...  Betty, I won't make assumptions about why you ...\n",
              "130  Taylor Swift   ...  Our coming of age has come and gone\\nSuddenly ...\n",
              "131  Taylor Swift   ...  My only one\\nMy smoking gun\\nMy eclipsed sun\\n...\n",
              "\n",
              "[5 rows x 4 columns]"
            ]
          },
          "metadata": {
            "tags": []
          },
          "execution_count": 54
        }
      ]
    },
    {
      "cell_type": "code",
      "metadata": {
        "colab": {
          "base_uri": "https://localhost:8080/"
        },
        "id": "Pj-5F3_mOBzE",
        "outputId": "1948a55b-2a60-42c0-da2c-1f9a16f0767c"
      },
      "source": [
        "ts_lyrics.iloc[0]"
      ],
      "execution_count": 55,
      "outputs": [
        {
          "output_type": "execute_result",
          "data": {
            "text/plain": [
              "Artist                                         Taylor Swift \n",
              "Album                                          Taylor Swift \n",
              "Title                                             Tim McGraw\n",
              "Lyrics     He said the way my blue eyes shinx\\nPut those ...\n",
              "Name: 0, dtype: object"
            ]
          },
          "metadata": {
            "tags": []
          },
          "execution_count": 55
        }
      ]
    },
    {
      "cell_type": "code",
      "metadata": {
        "colab": {
          "base_uri": "https://localhost:8080/",
          "height": 80
        },
        "id": "YyGxjwJ1RFCb",
        "outputId": "5a0f4dcb-46e9-4c70-cd19-7c86f250a3f5"
      },
      "source": [
        "ts_lyrics.head(1)"
      ],
      "execution_count": 56,
      "outputs": [
        {
          "output_type": "execute_result",
          "data": {
            "text/html": [
              "<div>\n",
              "<style scoped>\n",
              "    .dataframe tbody tr th:only-of-type {\n",
              "        vertical-align: middle;\n",
              "    }\n",
              "\n",
              "    .dataframe tbody tr th {\n",
              "        vertical-align: top;\n",
              "    }\n",
              "\n",
              "    .dataframe thead th {\n",
              "        text-align: right;\n",
              "    }\n",
              "</style>\n",
              "<table border=\"1\" class=\"dataframe\">\n",
              "  <thead>\n",
              "    <tr style=\"text-align: right;\">\n",
              "      <th></th>\n",
              "      <th>Artist</th>\n",
              "      <th>Album</th>\n",
              "      <th>Title</th>\n",
              "      <th>Lyrics</th>\n",
              "    </tr>\n",
              "  </thead>\n",
              "  <tbody>\n",
              "    <tr>\n",
              "      <th>0</th>\n",
              "      <td>Taylor Swift</td>\n",
              "      <td>Taylor Swift</td>\n",
              "      <td>Tim McGraw</td>\n",
              "      <td>He said the way my blue eyes shinx\\nPut those ...</td>\n",
              "    </tr>\n",
              "  </tbody>\n",
              "</table>\n",
              "</div>"
            ],
            "text/plain": [
              "         Artist   ...                                             Lyrics\n",
              "0  Taylor Swift   ...  He said the way my blue eyes shinx\\nPut those ...\n",
              "\n",
              "[1 rows x 4 columns]"
            ]
          },
          "metadata": {
            "tags": []
          },
          "execution_count": 56
        }
      ]
    },
    {
      "cell_type": "code",
      "metadata": {
        "colab": {
          "base_uri": "https://localhost:8080/",
          "height": 289
        },
        "id": "kp5Hkin_RIQt",
        "outputId": "6e2fdd21-a70e-4b64-d24e-059b0694bee9"
      },
      "source": [
        "import re\n",
        "def remove_linebreaks(text):\n",
        "    \"\"\"custom function to remove the line breaks\"\"\"\n",
        "    return re.sub(r'\\n', ' ', text)\n",
        "\n",
        "ts_lyrics[\"Preprocessed Lyrics\"] = ts_lyrics[\"Lyrics\"].apply(lambda text: remove_linebreaks(text))\n",
        "ts_lyrics.head()"
      ],
      "execution_count": 57,
      "outputs": [
        {
          "output_type": "execute_result",
          "data": {
            "text/html": [
              "<div>\n",
              "<style scoped>\n",
              "    .dataframe tbody tr th:only-of-type {\n",
              "        vertical-align: middle;\n",
              "    }\n",
              "\n",
              "    .dataframe tbody tr th {\n",
              "        vertical-align: top;\n",
              "    }\n",
              "\n",
              "    .dataframe thead th {\n",
              "        text-align: right;\n",
              "    }\n",
              "</style>\n",
              "<table border=\"1\" class=\"dataframe\">\n",
              "  <thead>\n",
              "    <tr style=\"text-align: right;\">\n",
              "      <th></th>\n",
              "      <th>Artist</th>\n",
              "      <th>Album</th>\n",
              "      <th>Title</th>\n",
              "      <th>Lyrics</th>\n",
              "      <th>Preprocessed Lyrics</th>\n",
              "    </tr>\n",
              "  </thead>\n",
              "  <tbody>\n",
              "    <tr>\n",
              "      <th>0</th>\n",
              "      <td>Taylor Swift</td>\n",
              "      <td>Taylor Swift</td>\n",
              "      <td>Tim McGraw</td>\n",
              "      <td>He said the way my blue eyes shinx\\nPut those ...</td>\n",
              "      <td>He said the way my blue eyes shinx Put those G...</td>\n",
              "    </tr>\n",
              "    <tr>\n",
              "      <th>1</th>\n",
              "      <td>Taylor Swift</td>\n",
              "      <td>Taylor Swift</td>\n",
              "      <td>Picture to Burn</td>\n",
              "      <td>State the obvious, I didn't get my perfect fan...</td>\n",
              "      <td>State the obvious, I didn't get my perfect fan...</td>\n",
              "    </tr>\n",
              "    <tr>\n",
              "      <th>2</th>\n",
              "      <td>Taylor Swift</td>\n",
              "      <td>Taylor Swift</td>\n",
              "      <td>Teardrops on my Guitar</td>\n",
              "      <td>Drew looks at me,\\nI fake a smile so he won't ...</td>\n",
              "      <td>Drew looks at me, I fake a smile so he won't s...</td>\n",
              "    </tr>\n",
              "    <tr>\n",
              "      <th>3</th>\n",
              "      <td>Taylor Swift</td>\n",
              "      <td>Taylor Swift</td>\n",
              "      <td>A Place in This World</td>\n",
              "      <td>I don't know what I want, so don't ask me\\n'Ca...</td>\n",
              "      <td>I don't know what I want, so don't ask me 'Cau...</td>\n",
              "    </tr>\n",
              "    <tr>\n",
              "      <th>4</th>\n",
              "      <td>Taylor Swift</td>\n",
              "      <td>Taylor Swift</td>\n",
              "      <td>Cold As You</td>\n",
              "      <td>You have a way of coming easily to me\\nAnd whe...</td>\n",
              "      <td>You have a way of coming easily to me And when...</td>\n",
              "    </tr>\n",
              "  </tbody>\n",
              "</table>\n",
              "</div>"
            ],
            "text/plain": [
              "         Artist   ...                                Preprocessed Lyrics\n",
              "0  Taylor Swift   ...  He said the way my blue eyes shinx Put those G...\n",
              "1  Taylor Swift   ...  State the obvious, I didn't get my perfect fan...\n",
              "2  Taylor Swift   ...  Drew looks at me, I fake a smile so he won't s...\n",
              "3  Taylor Swift   ...  I don't know what I want, so don't ask me 'Cau...\n",
              "4  Taylor Swift   ...  You have a way of coming easily to me And when...\n",
              "\n",
              "[5 rows x 5 columns]"
            ]
          },
          "metadata": {
            "tags": []
          },
          "execution_count": 57
        }
      ]
    },
    {
      "cell_type": "code",
      "metadata": {
        "colab": {
          "base_uri": "https://localhost:8080/",
          "height": 204
        },
        "id": "evZTxVUMRVN1",
        "outputId": "408cfbef-a8dc-44a2-8d31-e27ab5c7eae8"
      },
      "source": [
        "def remove_punctuation(text):\n",
        "    \"\"\"custom function to remove the punctuation\"\"\"\n",
        "    return text.translate(str.maketrans('', '', string.punctuation))\n",
        "\n",
        "ts_lyrics[\"Preprocessed Lyrics\"] = ts_lyrics[\"Preprocessed Lyrics\"].apply(lambda text: remove_punctuation(text))\n",
        "ts_lyrics.head()"
      ],
      "execution_count": 58,
      "outputs": [
        {
          "output_type": "execute_result",
          "data": {
            "text/html": [
              "<div>\n",
              "<style scoped>\n",
              "    .dataframe tbody tr th:only-of-type {\n",
              "        vertical-align: middle;\n",
              "    }\n",
              "\n",
              "    .dataframe tbody tr th {\n",
              "        vertical-align: top;\n",
              "    }\n",
              "\n",
              "    .dataframe thead th {\n",
              "        text-align: right;\n",
              "    }\n",
              "</style>\n",
              "<table border=\"1\" class=\"dataframe\">\n",
              "  <thead>\n",
              "    <tr style=\"text-align: right;\">\n",
              "      <th></th>\n",
              "      <th>Artist</th>\n",
              "      <th>Album</th>\n",
              "      <th>Title</th>\n",
              "      <th>Lyrics</th>\n",
              "      <th>Preprocessed Lyrics</th>\n",
              "    </tr>\n",
              "  </thead>\n",
              "  <tbody>\n",
              "    <tr>\n",
              "      <th>0</th>\n",
              "      <td>Taylor Swift</td>\n",
              "      <td>Taylor Swift</td>\n",
              "      <td>Tim McGraw</td>\n",
              "      <td>He said the way my blue eyes shinx\\nPut those ...</td>\n",
              "      <td>He said the way my blue eyes shinx Put those G...</td>\n",
              "    </tr>\n",
              "    <tr>\n",
              "      <th>1</th>\n",
              "      <td>Taylor Swift</td>\n",
              "      <td>Taylor Swift</td>\n",
              "      <td>Picture to Burn</td>\n",
              "      <td>State the obvious, I didn't get my perfect fan...</td>\n",
              "      <td>State the obvious I didnt get my perfect fanta...</td>\n",
              "    </tr>\n",
              "    <tr>\n",
              "      <th>2</th>\n",
              "      <td>Taylor Swift</td>\n",
              "      <td>Taylor Swift</td>\n",
              "      <td>Teardrops on my Guitar</td>\n",
              "      <td>Drew looks at me,\\nI fake a smile so he won't ...</td>\n",
              "      <td>Drew looks at me I fake a smile so he wont see...</td>\n",
              "    </tr>\n",
              "    <tr>\n",
              "      <th>3</th>\n",
              "      <td>Taylor Swift</td>\n",
              "      <td>Taylor Swift</td>\n",
              "      <td>A Place in This World</td>\n",
              "      <td>I don't know what I want, so don't ask me\\n'Ca...</td>\n",
              "      <td>I dont know what I want so dont ask me Cause I...</td>\n",
              "    </tr>\n",
              "    <tr>\n",
              "      <th>4</th>\n",
              "      <td>Taylor Swift</td>\n",
              "      <td>Taylor Swift</td>\n",
              "      <td>Cold As You</td>\n",
              "      <td>You have a way of coming easily to me\\nAnd whe...</td>\n",
              "      <td>You have a way of coming easily to me And when...</td>\n",
              "    </tr>\n",
              "  </tbody>\n",
              "</table>\n",
              "</div>"
            ],
            "text/plain": [
              "         Artist   ...                                Preprocessed Lyrics\n",
              "0  Taylor Swift   ...  He said the way my blue eyes shinx Put those G...\n",
              "1  Taylor Swift   ...  State the obvious I didnt get my perfect fanta...\n",
              "2  Taylor Swift   ...  Drew looks at me I fake a smile so he wont see...\n",
              "3  Taylor Swift   ...  I dont know what I want so dont ask me Cause I...\n",
              "4  Taylor Swift   ...  You have a way of coming easily to me And when...\n",
              "\n",
              "[5 rows x 5 columns]"
            ]
          },
          "metadata": {
            "tags": []
          },
          "execution_count": 58
        }
      ]
    },
    {
      "cell_type": "code",
      "metadata": {
        "colab": {
          "base_uri": "https://localhost:8080/",
          "height": 204
        },
        "id": "Arx_pTuARet7",
        "outputId": "559ba67b-851a-468a-eae2-a26943a89c32"
      },
      "source": [
        "ts_lyrics[\"Preprocessed Lyrics\"] = ts_lyrics[\"Preprocessed Lyrics\"].str.lower()\n",
        "ts_lyrics.head()"
      ],
      "execution_count": 59,
      "outputs": [
        {
          "output_type": "execute_result",
          "data": {
            "text/html": [
              "<div>\n",
              "<style scoped>\n",
              "    .dataframe tbody tr th:only-of-type {\n",
              "        vertical-align: middle;\n",
              "    }\n",
              "\n",
              "    .dataframe tbody tr th {\n",
              "        vertical-align: top;\n",
              "    }\n",
              "\n",
              "    .dataframe thead th {\n",
              "        text-align: right;\n",
              "    }\n",
              "</style>\n",
              "<table border=\"1\" class=\"dataframe\">\n",
              "  <thead>\n",
              "    <tr style=\"text-align: right;\">\n",
              "      <th></th>\n",
              "      <th>Artist</th>\n",
              "      <th>Album</th>\n",
              "      <th>Title</th>\n",
              "      <th>Lyrics</th>\n",
              "      <th>Preprocessed Lyrics</th>\n",
              "    </tr>\n",
              "  </thead>\n",
              "  <tbody>\n",
              "    <tr>\n",
              "      <th>0</th>\n",
              "      <td>Taylor Swift</td>\n",
              "      <td>Taylor Swift</td>\n",
              "      <td>Tim McGraw</td>\n",
              "      <td>He said the way my blue eyes shinx\\nPut those ...</td>\n",
              "      <td>he said the way my blue eyes shinx put those g...</td>\n",
              "    </tr>\n",
              "    <tr>\n",
              "      <th>1</th>\n",
              "      <td>Taylor Swift</td>\n",
              "      <td>Taylor Swift</td>\n",
              "      <td>Picture to Burn</td>\n",
              "      <td>State the obvious, I didn't get my perfect fan...</td>\n",
              "      <td>state the obvious i didnt get my perfect fanta...</td>\n",
              "    </tr>\n",
              "    <tr>\n",
              "      <th>2</th>\n",
              "      <td>Taylor Swift</td>\n",
              "      <td>Taylor Swift</td>\n",
              "      <td>Teardrops on my Guitar</td>\n",
              "      <td>Drew looks at me,\\nI fake a smile so he won't ...</td>\n",
              "      <td>drew looks at me i fake a smile so he wont see...</td>\n",
              "    </tr>\n",
              "    <tr>\n",
              "      <th>3</th>\n",
              "      <td>Taylor Swift</td>\n",
              "      <td>Taylor Swift</td>\n",
              "      <td>A Place in This World</td>\n",
              "      <td>I don't know what I want, so don't ask me\\n'Ca...</td>\n",
              "      <td>i dont know what i want so dont ask me cause i...</td>\n",
              "    </tr>\n",
              "    <tr>\n",
              "      <th>4</th>\n",
              "      <td>Taylor Swift</td>\n",
              "      <td>Taylor Swift</td>\n",
              "      <td>Cold As You</td>\n",
              "      <td>You have a way of coming easily to me\\nAnd whe...</td>\n",
              "      <td>you have a way of coming easily to me and when...</td>\n",
              "    </tr>\n",
              "  </tbody>\n",
              "</table>\n",
              "</div>"
            ],
            "text/plain": [
              "         Artist   ...                                Preprocessed Lyrics\n",
              "0  Taylor Swift   ...  he said the way my blue eyes shinx put those g...\n",
              "1  Taylor Swift   ...  state the obvious i didnt get my perfect fanta...\n",
              "2  Taylor Swift   ...  drew looks at me i fake a smile so he wont see...\n",
              "3  Taylor Swift   ...  i dont know what i want so dont ask me cause i...\n",
              "4  Taylor Swift   ...  you have a way of coming easily to me and when...\n",
              "\n",
              "[5 rows x 5 columns]"
            ]
          },
          "metadata": {
            "tags": []
          },
          "execution_count": 59
        }
      ]
    },
    {
      "cell_type": "code",
      "metadata": {
        "colab": {
          "base_uri": "https://localhost:8080/"
        },
        "id": "bDUm9RiNRo5u",
        "outputId": "86036b76-2046-484a-ef21-1670331fa408"
      },
      "source": [
        "from collections import Counter\n",
        "\n",
        "# To get all lyrics in one text, you can concatenate all of them using the \" \".join(list) syntax, \n",
        "# which joins all elements in a list separating them by whitespace.\n",
        "text = \" \".join(lyric for lyric in ts_lyrics[\"Preprocessed Lyrics\"])\n",
        "\n",
        "# split() returns list of all the words in the string\n",
        "split_it = text.split()\n",
        "  \n",
        "# Pass the split_it list to instance of Counter class.\n",
        "Counter = Counter(split_it)\n",
        "  \n",
        "# most_common() produces k frequently encountered input values and their respective counts.\n",
        "most_occur = Counter.most_common(20)\n",
        "  \n",
        "print(most_occur)"
      ],
      "execution_count": 60,
      "outputs": [
        {
          "output_type": "stream",
          "text": [
            "[('i', 2377), ('you', 2319), ('the', 1623), ('and', 1403), ('me', 885), ('to', 843), ('a', 787), ('in', 686), ('it', 674), ('my', 642), ('of', 492), ('your', 475), ('we', 441), ('that', 436), ('all', 436), ('but', 428), ('like', 406), ('im', 404), ('this', 394), ('know', 380)]\n"
          ],
          "name": "stdout"
        }
      ]
    },
    {
      "cell_type": "code",
      "metadata": {
        "colab": {
          "base_uri": "https://localhost:8080/"
        },
        "id": "LIh7xVsrRn9e",
        "outputId": "4a0aba0d-1381-4783-b6a9-55b46b5c1317"
      },
      "source": [
        "!pip install wordcloud"
      ],
      "execution_count": 61,
      "outputs": [
        {
          "output_type": "stream",
          "text": [
            "Requirement already satisfied: wordcloud in /usr/local/lib/python3.7/dist-packages (1.5.0)\n",
            "Requirement already satisfied: numpy>=1.6.1 in /usr/local/lib/python3.7/dist-packages (from wordcloud) (1.19.5)\n",
            "Requirement already satisfied: pillow in /usr/local/lib/python3.7/dist-packages (from wordcloud) (7.1.2)\n"
          ],
          "name": "stdout"
        }
      ]
    },
    {
      "cell_type": "code",
      "metadata": {
        "id": "2Tqzn8UnR_Mz"
      },
      "source": [
        "from wordcloud import WordCloud\n",
        "?WordCloud"
      ],
      "execution_count": 62,
      "outputs": []
    },
    {
      "cell_type": "code",
      "metadata": {
        "colab": {
          "base_uri": "https://localhost:8080/",
          "height": 198
        },
        "id": "Bt5YDV0iSC1t",
        "outputId": "9394c854-3c13-4413-8e81-e0b0b0e40c9f"
      },
      "source": [
        "import matplotlib.pyplot as plt\n",
        "\n",
        "wordcloud = WordCloud(max_font_size=50, max_words=50, background_color=\"white\").generate(text)\n",
        "plt.figure()\n",
        "plt.imshow(wordcloud, interpolation=\"bilinear\")\n",
        "plt.axis(\"off\")\n",
        "plt.show()"
      ],
      "execution_count": 63,
      "outputs": [
        {
          "output_type": "display_data",
          "data": {
            "image/png": "[encoded data removed]",
            "text/plain": [
              "<Figure size 432x288 with 1 Axes>"
            ]
          },
          "metadata": {
            "tags": [],
            "needs_background": "light"
          }
        }
      ]
    },
    {
      "cell_type": "code",
      "metadata": {
        "colab": {
          "base_uri": "https://localhost:8080/"
        },
        "id": "SWd0o2ZiSIxI",
        "outputId": "2654a15d-08b3-4c47-fa29-da41e9b2eb14"
      },
      "source": [
        "from nltk.corpus import stopwords\n",
        "nltk.download('stopwords')\n",
        "# run the code nltk.download('stopwords') if needed\n",
        "stop_words = set(stopwords.words('english'))\n",
        "print(stop_words)"
      ],
      "execution_count": 65,
      "outputs": [
        {
          "output_type": "stream",
          "text": [
            "[nltk_data] Downloading package stopwords to /root/nltk_data...\n",
            "[nltk_data]   Unzipping corpora/stopwords.zip.\n",
            "{\"you'll\", 'there', 'above', 'her', \"that'll\", 'their', 'hadn', 'wasn', 'what', 'against', 'here', 'about', 'over', 'how', 'too', 'but', 'i', 'this', \"shan't\", 'same', 'have', 'his', 'who', 'again', 'being', 'because', 'yourself', 'don', 'he', 'been', 'me', 'needn', 'am', 'some', 'its', \"she's\", 'into', 'mustn', 'yours', 'won', \"wouldn't\", 'can', 'hers', 'each', 'if', 'where', 'while', 'those', 'only', \"won't\", 'such', \"doesn't\", 'once', 'off', \"aren't\", 'on', 'shan', 'at', 'during', \"mightn't\", \"couldn't\", \"you're\", 'most', 'our', 'll', 'you', 'out', 'shouldn', 'the', 'isn', 'ours', 'when', 'themselves', 'as', 'had', 'did', 'down', \"didn't\", 'your', 'and', 'or', 'with', 'not', 'so', \"wasn't\", 'aren', \"shouldn't\", 'mightn', 'whom', \"hasn't\", 'just', 'itself', 'was', 'she', 'theirs', \"isn't\", 'of', 'do', 'until', 'than', 'him', 'below', 'more', 'no', 'very', \"weren't\", 'ourselves', 'to', 'hasn', 'has', 've', \"you've\", 'yourselves', 'is', 'for', \"haven't\", 'any', 'haven', 'be', 'these', 'it', 'having', 'does', 'o', 'we', \"you'd\", 'own', 'doesn', 'in', 'all', 'wouldn', 'were', 'herself', 'between', 'under', 'through', \"it's\", 'before', 't', 'my', 'myself', 'will', 'nor', 'now', 's', 'from', 'd', 'then', 'y', 'are', 'should', 'which', \"needn't\", 'himself', 'an', 'm', 'that', 'couldn', 'they', 'after', 'them', 'other', 'up', \"mustn't\", \"hadn't\", 'ma', 'a', 'doing', 'both', 're', 'ain', 'why', 'by', \"don't\", 'didn', 'few', \"should've\", 'weren', 'further'}\n"
          ],
          "name": "stdout"
        }
      ]
    },
    {
      "cell_type": "code",
      "metadata": {
        "colab": {
          "base_uri": "https://localhost:8080/"
        },
        "id": "tXB4Sa8ZSVSk",
        "outputId": "14072a6a-f2c4-46a3-a9a7-01d311278065"
      },
      "source": [
        "stop_words.update([\"im\", \"youre\", \"id\", \"dont\", \"cant\", \"didnt\", \"ive\", \"ill\", \"hasnt\"])\n",
        "# stop_words.discard('word') # this is when you want to remove a word from the list\n",
        "print(stop_words)"
      ],
      "execution_count": 66,
      "outputs": [
        {
          "output_type": "stream",
          "text": [
            "{\"you'll\", 'there', 'above', 'her', \"that'll\", 'their', 'hadn', 'wasn', 'what', 'against', 'here', 'about', 'over', 'how', 'too', 'but', 'i', 'this', \"shan't\", 'hasnt', 'same', 'have', 'his', 'who', 'again', 'being', 'im', 'because', 'yourself', 'don', 'he', 'been', 'ive', 'me', 'needn', 'am', 'some', 'its', \"she's\", 'into', 'mustn', 'didnt', 'yours', 'won', \"wouldn't\", 'can', 'hers', 'each', 'if', 'where', 'while', 'those', 'only', \"won't\", 'such', \"doesn't\", 'once', 'off', \"aren't\", 'on', 'shan', 'cant', 'at', 'during', 'youre', \"mightn't\", \"couldn't\", \"you're\", 'most', 'our', 'id', 'll', 'you', 'out', 'shouldn', 'the', 'isn', 'ours', 'when', 'themselves', 'as', 'had', 'did', 'down', \"didn't\", 'your', 'and', 'or', 'with', 'not', 'so', \"wasn't\", 'aren', \"shouldn't\", 'mightn', 'whom', \"hasn't\", 'just', 'ill', 'itself', 'was', 'she', 'theirs', \"isn't\", 'of', 'do', 'until', 'than', 'him', 'below', 'more', 'no', 'very', \"weren't\", 'ourselves', 'to', 'hasn', 'dont', 'has', 've', \"you've\", 'yourselves', 'is', 'for', \"haven't\", 'any', 'haven', 'be', 'these', 'it', 'having', 'does', 'o', 'we', \"you'd\", 'own', 'doesn', 'in', 'all', 'wouldn', 'were', 'herself', 'between', 'under', 'through', \"it's\", 'before', 't', 'my', 'myself', 'will', 'nor', 'now', 's', 'from', 'd', 'then', 'y', 'are', 'should', 'which', \"needn't\", 'himself', 'an', 'm', 'that', 'couldn', 'they', 'after', 'them', 'other', 'up', \"mustn't\", \"hadn't\", 'ma', 'a', 'doing', 'both', 're', 'ain', 'why', 'by', \"don't\", 'didn', 'few', \"should've\", 'weren', 'further'}\n"
          ],
          "name": "stdout"
        }
      ]
    },
    {
      "cell_type": "code",
      "metadata": {
        "colab": {
          "base_uri": "https://localhost:8080/",
          "height": 289
        },
        "id": "o-Bf9ZuwSZOS",
        "outputId": "9e1f300b-c6ee-41db-db76-2828d9b123a3"
      },
      "source": [
        "def remove_stopwords(text):\n",
        "    \"\"\"custom function to remove the stopwords\"\"\"\n",
        "    return \" \".join([word for word in str(text).split() if word not in stop_words])\n",
        "\n",
        "ts_lyrics[\"Preprocessed Lyrics\"] = ts_lyrics[\"Preprocessed Lyrics\"].apply(lambda text: remove_stopwords(text))\n",
        "ts_lyrics.head()"
      ],
      "execution_count": 67,
      "outputs": [
        {
          "output_type": "execute_result",
          "data": {
            "text/html": [
              "<div>\n",
              "<style scoped>\n",
              "    .dataframe tbody tr th:only-of-type {\n",
              "        vertical-align: middle;\n",
              "    }\n",
              "\n",
              "    .dataframe tbody tr th {\n",
              "        vertical-align: top;\n",
              "    }\n",
              "\n",
              "    .dataframe thead th {\n",
              "        text-align: right;\n",
              "    }\n",
              "</style>\n",
              "<table border=\"1\" class=\"dataframe\">\n",
              "  <thead>\n",
              "    <tr style=\"text-align: right;\">\n",
              "      <th></th>\n",
              "      <th>Artist</th>\n",
              "      <th>Album</th>\n",
              "      <th>Title</th>\n",
              "      <th>Lyrics</th>\n",
              "      <th>Preprocessed Lyrics</th>\n",
              "    </tr>\n",
              "  </thead>\n",
              "  <tbody>\n",
              "    <tr>\n",
              "      <th>0</th>\n",
              "      <td>Taylor Swift</td>\n",
              "      <td>Taylor Swift</td>\n",
              "      <td>Tim McGraw</td>\n",
              "      <td>He said the way my blue eyes shinx\\nPut those ...</td>\n",
              "      <td>said way blue eyes shinx put georgia stars sha...</td>\n",
              "    </tr>\n",
              "    <tr>\n",
              "      <th>1</th>\n",
              "      <td>Taylor Swift</td>\n",
              "      <td>Taylor Swift</td>\n",
              "      <td>Picture to Burn</td>\n",
              "      <td>State the obvious, I didn't get my perfect fan...</td>\n",
              "      <td>state obvious get perfect fantasy realize love...</td>\n",
              "    </tr>\n",
              "    <tr>\n",
              "      <th>2</th>\n",
              "      <td>Taylor Swift</td>\n",
              "      <td>Taylor Swift</td>\n",
              "      <td>Teardrops on my Guitar</td>\n",
              "      <td>Drew looks at me,\\nI fake a smile so he won't ...</td>\n",
              "      <td>drew looks fake smile wont see want need every...</td>\n",
              "    </tr>\n",
              "    <tr>\n",
              "      <th>3</th>\n",
              "      <td>Taylor Swift</td>\n",
              "      <td>Taylor Swift</td>\n",
              "      <td>A Place in This World</td>\n",
              "      <td>I don't know what I want, so don't ask me\\n'Ca...</td>\n",
              "      <td>know want ask cause still trying figure know w...</td>\n",
              "    </tr>\n",
              "    <tr>\n",
              "      <th>4</th>\n",
              "      <td>Taylor Swift</td>\n",
              "      <td>Taylor Swift</td>\n",
              "      <td>Cold As You</td>\n",
              "      <td>You have a way of coming easily to me\\nAnd whe...</td>\n",
              "      <td>way coming easily take take best start fight c...</td>\n",
              "    </tr>\n",
              "  </tbody>\n",
              "</table>\n",
              "</div>"
            ],
            "text/plain": [
              "         Artist   ...                                Preprocessed Lyrics\n",
              "0  Taylor Swift   ...  said way blue eyes shinx put georgia stars sha...\n",
              "1  Taylor Swift   ...  state obvious get perfect fantasy realize love...\n",
              "2  Taylor Swift   ...  drew looks fake smile wont see want need every...\n",
              "3  Taylor Swift   ...  know want ask cause still trying figure know w...\n",
              "4  Taylor Swift   ...  way coming easily take take best start fight c...\n",
              "\n",
              "[5 rows x 5 columns]"
            ]
          },
          "metadata": {
            "tags": []
          },
          "execution_count": 67
        }
      ]
    },
    {
      "cell_type": "code",
      "metadata": {
        "colab": {
          "base_uri": "https://localhost:8080/"
        },
        "id": "K-2a-VwkSc9f",
        "outputId": "08470a3b-406d-4bd2-e789-06aa65e1e351"
      },
      "source": [
        "from collections import Counter\n",
        "\n",
        "# To get all lyrics in one text, you can concatenate all of them using the \" \".join(list) syntax, \n",
        "# which joins all elements in a list separating them by whitespace.\n",
        "text = \" \".join(lyric for lyric in ts_lyrics[\"Preprocessed Lyrics\"])\n",
        "\n",
        "# split() returns list of all the words in the string\n",
        "split_it = text.split()\n",
        "  \n",
        "# Pass the split_it list to instance of Counter class.\n",
        "Counter = Counter(split_it)\n",
        "  \n",
        "# most_common() produces k frequently encountered input values and their respective counts.\n",
        "most_occur = Counter.most_common(20)\n",
        "  \n",
        "print(most_occur)"
      ],
      "execution_count": 68,
      "outputs": [
        {
          "output_type": "stream",
          "text": [
            "[('like', 406), ('know', 380), ('oh', 322), ('never', 294), ('love', 246), ('back', 240), ('time', 224), ('cause', 213), ('one', 177), ('say', 176), ('see', 170), ('got', 159), ('wanna', 158), ('think', 153), ('baby', 153), ('come', 150), ('go', 149), ('want', 142), ('ever', 134), ('could', 133)]\n"
          ],
          "name": "stdout"
        }
      ]
    },
    {
      "cell_type": "code",
      "metadata": {
        "colab": {
          "base_uri": "https://localhost:8080/",
          "height": 198
        },
        "id": "0FNLK3U5SiKx",
        "outputId": "b5285803-bb3a-4e18-95f6-a27c31ed97c7"
      },
      "source": [
        "wordcloud = WordCloud(max_words=50, background_color=\"white\").generate(text)\n",
        "plt.figure()\n",
        "plt.imshow(wordcloud, interpolation=\"bilinear\")\n",
        "plt.axis(\"off\")\n",
        "plt.show()"
      ],
      "execution_count": 69,
      "outputs": [
        {
          "output_type": "display_data",
          "data": {
            "image/png": "[encoded data removed]",
            "text/plain": [
              "<Figure size 432x288 with 1 Axes>"
            ]
          },
          "metadata": {
            "tags": [],
            "needs_background": "light"
          }
        }
      ]
    },
    {
      "cell_type": "code",
      "metadata": {
        "colab": {
          "base_uri": "https://localhost:8080/",
          "height": 323
        },
        "id": "BWcZB0f6Sm2t",
        "outputId": "34f23200-5fc7-4fe8-f5d4-135203223cfe"
      },
      "source": [
        "from nltk.stem import WordNetLemmatizer\n",
        "nltk.download('wordnet')\n",
        "# run the code nltk.download('wordnet') if needed\n",
        "lemmatizer = WordNetLemmatizer()\n",
        "def lemmatize_words(text):\n",
        "    return \" \".join([lemmatizer.lemmatize(word) for word in text.split()])\n",
        "\n",
        "ts_lyrics[\"Preprocessed Lyrics\"] = ts_lyrics[\"Preprocessed Lyrics\"].apply(lambda text: lemmatize_words(text))\n",
        "ts_lyrics.head()"
      ],
      "execution_count": 71,
      "outputs": [
        {
          "output_type": "stream",
          "text": [
            "[nltk_data] Downloading package wordnet to /root/nltk_data...\n",
            "[nltk_data]   Unzipping corpora/wordnet.zip.\n"
          ],
          "name": "stdout"
        },
        {
          "output_type": "execute_result",
          "data": {
            "text/html": [
              "<div>\n",
              "<style scoped>\n",
              "    .dataframe tbody tr th:only-of-type {\n",
              "        vertical-align: middle;\n",
              "    }\n",
              "\n",
              "    .dataframe tbody tr th {\n",
              "        vertical-align: top;\n",
              "    }\n",
              "\n",
              "    .dataframe thead th {\n",
              "        text-align: right;\n",
              "    }\n",
              "</style>\n",
              "<table border=\"1\" class=\"dataframe\">\n",
              "  <thead>\n",
              "    <tr style=\"text-align: right;\">\n",
              "      <th></th>\n",
              "      <th>Artist</th>\n",
              "      <th>Album</th>\n",
              "      <th>Title</th>\n",
              "      <th>Lyrics</th>\n",
              "      <th>Preprocessed Lyrics</th>\n",
              "    </tr>\n",
              "  </thead>\n",
              "  <tbody>\n",
              "    <tr>\n",
              "      <th>0</th>\n",
              "      <td>Taylor Swift</td>\n",
              "      <td>Taylor Swift</td>\n",
              "      <td>Tim McGraw</td>\n",
              "      <td>He said the way my blue eyes shinx\\nPut those ...</td>\n",
              "      <td>said way blue eye shinx put georgia star shame...</td>\n",
              "    </tr>\n",
              "    <tr>\n",
              "      <th>1</th>\n",
              "      <td>Taylor Swift</td>\n",
              "      <td>Taylor Swift</td>\n",
              "      <td>Picture to Burn</td>\n",
              "      <td>State the obvious, I didn't get my perfect fan...</td>\n",
              "      <td>state obvious get perfect fantasy realize love...</td>\n",
              "    </tr>\n",
              "    <tr>\n",
              "      <th>2</th>\n",
              "      <td>Taylor Swift</td>\n",
              "      <td>Taylor Swift</td>\n",
              "      <td>Teardrops on my Guitar</td>\n",
              "      <td>Drew looks at me,\\nI fake a smile so he won't ...</td>\n",
              "      <td>drew look fake smile wont see want need everyt...</td>\n",
              "    </tr>\n",
              "    <tr>\n",
              "      <th>3</th>\n",
              "      <td>Taylor Swift</td>\n",
              "      <td>Taylor Swift</td>\n",
              "      <td>A Place in This World</td>\n",
              "      <td>I don't know what I want, so don't ask me\\n'Ca...</td>\n",
              "      <td>know want ask cause still trying figure know w...</td>\n",
              "    </tr>\n",
              "    <tr>\n",
              "      <th>4</th>\n",
              "      <td>Taylor Swift</td>\n",
              "      <td>Taylor Swift</td>\n",
              "      <td>Cold As You</td>\n",
              "      <td>You have a way of coming easily to me\\nAnd whe...</td>\n",
              "      <td>way coming easily take take best start fight c...</td>\n",
              "    </tr>\n",
              "  </tbody>\n",
              "</table>\n",
              "</div>"
            ],
            "text/plain": [
              "         Artist   ...                                Preprocessed Lyrics\n",
              "0  Taylor Swift   ...  said way blue eye shinx put georgia star shame...\n",
              "1  Taylor Swift   ...  state obvious get perfect fantasy realize love...\n",
              "2  Taylor Swift   ...  drew look fake smile wont see want need everyt...\n",
              "3  Taylor Swift   ...  know want ask cause still trying figure know w...\n",
              "4  Taylor Swift   ...  way coming easily take take best start fight c...\n",
              "\n",
              "[5 rows x 5 columns]"
            ]
          },
          "metadata": {
            "tags": []
          },
          "execution_count": 71
        }
      ]
    },
    {
      "cell_type": "code",
      "metadata": {
        "id": "d5fhFypxTmZm"
      },
      "source": [
        "from nltk.stem.porter import PorterStemmer\n",
        "\n",
        "stemmer = PorterStemmer()\n",
        "def stem_words(text):\n",
        "    return \" \".join([stemmer.stem(word) for word in text.split()])\n",
        "\n",
        "# since we applied the lemmatization, we don't apply stemming; though you can try it!\n",
        "# ts_lyrics[\"Preprocessed Lyrics\"] = ts_lyrics[\"Preprocessed Lyrics\"].apply(lambda text: stem_words(text))\n",
        "# ts_lyrics.head()"
      ],
      "execution_count": 72,
      "outputs": []
    },
    {
      "cell_type": "code",
      "metadata": {
        "colab": {
          "base_uri": "https://localhost:8080/"
        },
        "id": "C2KTgCw7TqfN",
        "outputId": "b869ddda-cb4c-48fa-86fe-8ee05921a886"
      },
      "source": [
        "from nltk.stem.snowball import SnowballStemmer\n",
        "SnowballStemmer.languages"
      ],
      "execution_count": 73,
      "outputs": [
        {
          "output_type": "execute_result",
          "data": {
            "text/plain": [
              "('arabic',\n",
              " 'danish',\n",
              " 'dutch',\n",
              " 'english',\n",
              " 'finnish',\n",
              " 'french',\n",
              " 'german',\n",
              " 'hungarian',\n",
              " 'italian',\n",
              " 'norwegian',\n",
              " 'porter',\n",
              " 'portuguese',\n",
              " 'romanian',\n",
              " 'russian',\n",
              " 'spanish',\n",
              " 'swedish')"
            ]
          },
          "metadata": {
            "tags": []
          },
          "execution_count": 73
        }
      ]
    },
    {
      "cell_type": "code",
      "metadata": {
        "colab": {
          "base_uri": "https://localhost:8080/"
        },
        "id": "_RIbfjhXTr-P",
        "outputId": "93942a0d-297d-4312-e48c-b67a225e47ac"
      },
      "source": [
        "from sklearn.feature_extraction.text import CountVectorizer # for bag of words feature extraction\n",
        "\n",
        "# Initialize the \"CountVectorizer\" object, which is scikit-learn's bag of words tool.  \n",
        "vectorizer1 = CountVectorizer(max_features = 3000) \n",
        "\n",
        "# fit_transform() does two functions: First, it fits the model and learns the vocabulary; \n",
        "# second, it transforms our data into feature vectors. \n",
        "# The input to fit_transform should be a list of strings.\n",
        "dtm = vectorizer1.fit_transform(ts_lyrics[\"Preprocessed Lyrics\"])\n",
        "print(dtm.shape)"
      ],
      "execution_count": 74,
      "outputs": [
        {
          "output_type": "stream",
          "text": [
            "(132, 2597)\n"
          ],
          "name": "stdout"
        }
      ]
    },
    {
      "cell_type": "code",
      "metadata": {
        "colab": {
          "base_uri": "https://localhost:8080/"
        },
        "id": "B4BrUsKITwBD",
        "outputId": "15b959c2-9b96-4981-8729-74e02b4348a4"
      },
      "source": [
        "dtm"
      ],
      "execution_count": 75,
      "outputs": [
        {
          "output_type": "execute_result",
          "data": {
            "text/plain": [
              "<132x2597 sparse matrix of type '<class 'numpy.int64'>'\n",
              "\twith 10530 stored elements in Compressed Sparse Row format>"
            ]
          },
          "metadata": {
            "tags": []
          },
          "execution_count": 75
        }
      ]
    },
    {
      "cell_type": "code",
      "metadata": {
        "colab": {
          "base_uri": "https://localhost:8080/",
          "height": 253
        },
        "id": "qq0foUeET2q2",
        "outputId": "c49ed06a-b07f-454a-ac4e-8496edb90786"
      },
      "source": [
        "# we can convert it to a dataframe\n",
        "dtm_df = dtm.toarray()\n",
        "dtm_df = pd.DataFrame(dtm_df)\n",
        "dtm_df.head()"
      ],
      "execution_count": 76,
      "outputs": [
        {
          "output_type": "execute_result",
          "data": {
            "text/html": [
              "<div>\n",
              "<style scoped>\n",
              "    .dataframe tbody tr th:only-of-type {\n",
              "        vertical-align: middle;\n",
              "    }\n",
              "\n",
              "    .dataframe tbody tr th {\n",
              "        vertical-align: top;\n",
              "    }\n",
              "\n",
              "    .dataframe thead th {\n",
              "        text-align: right;\n",
              "    }\n",
              "</style>\n",
              "<table border=\"1\" class=\"dataframe\">\n",
              "  <thead>\n",
              "    <tr style=\"text-align: right;\">\n",
              "      <th></th>\n",
              "      <th>0</th>\n",
              "      <th>1</th>\n",
              "      <th>2</th>\n",
              "      <th>3</th>\n",
              "      <th>4</th>\n",
              "      <th>5</th>\n",
              "      <th>6</th>\n",
              "      <th>7</th>\n",
              "      <th>8</th>\n",
              "      <th>9</th>\n",
              "      <th>10</th>\n",
              "      <th>11</th>\n",
              "      <th>12</th>\n",
              "      <th>13</th>\n",
              "      <th>14</th>\n",
              "      <th>15</th>\n",
              "      <th>16</th>\n",
              "      <th>17</th>\n",
              "      <th>18</th>\n",
              "      <th>19</th>\n",
              "      <th>20</th>\n",
              "      <th>21</th>\n",
              "      <th>22</th>\n",
              "      <th>23</th>\n",
              "      <th>24</th>\n",
              "      <th>25</th>\n",
              "      <th>26</th>\n",
              "      <th>27</th>\n",
              "      <th>28</th>\n",
              "      <th>29</th>\n",
              "      <th>30</th>\n",
              "      <th>31</th>\n",
              "      <th>32</th>\n",
              "      <th>33</th>\n",
              "      <th>34</th>\n",
              "      <th>35</th>\n",
              "      <th>36</th>\n",
              "      <th>37</th>\n",
              "      <th>38</th>\n",
              "      <th>39</th>\n",
              "      <th>...</th>\n",
              "      <th>2557</th>\n",
              "      <th>2558</th>\n",
              "      <th>2559</th>\n",
              "      <th>2560</th>\n",
              "      <th>2561</th>\n",
              "      <th>2562</th>\n",
              "      <th>2563</th>\n",
              "      <th>2564</th>\n",
              "      <th>2565</th>\n",
              "      <th>2566</th>\n",
              "      <th>2567</th>\n",
              "      <th>2568</th>\n",
              "      <th>2569</th>\n",
              "      <th>2570</th>\n",
              "      <th>2571</th>\n",
              "      <th>2572</th>\n",
              "      <th>2573</th>\n",
              "      <th>2574</th>\n",
              "      <th>2575</th>\n",
              "      <th>2576</th>\n",
              "      <th>2577</th>\n",
              "      <th>2578</th>\n",
              "      <th>2579</th>\n",
              "      <th>2580</th>\n",
              "      <th>2581</th>\n",
              "      <th>2582</th>\n",
              "      <th>2583</th>\n",
              "      <th>2584</th>\n",
              "      <th>2585</th>\n",
              "      <th>2586</th>\n",
              "      <th>2587</th>\n",
              "      <th>2588</th>\n",
              "      <th>2589</th>\n",
              "      <th>2590</th>\n",
              "      <th>2591</th>\n",
              "      <th>2592</th>\n",
              "      <th>2593</th>\n",
              "      <th>2594</th>\n",
              "      <th>2595</th>\n",
              "      <th>2596</th>\n",
              "    </tr>\n",
              "  </thead>\n",
              "  <tbody>\n",
              "    <tr>\n",
              "      <th>0</th>\n",
              "      <td>0</td>\n",
              "      <td>0</td>\n",
              "      <td>0</td>\n",
              "      <td>0</td>\n",
              "      <td>0</td>\n",
              "      <td>0</td>\n",
              "      <td>0</td>\n",
              "      <td>0</td>\n",
              "      <td>0</td>\n",
              "      <td>0</td>\n",
              "      <td>0</td>\n",
              "      <td>0</td>\n",
              "      <td>0</td>\n",
              "      <td>0</td>\n",
              "      <td>0</td>\n",
              "      <td>0</td>\n",
              "      <td>0</td>\n",
              "      <td>0</td>\n",
              "      <td>0</td>\n",
              "      <td>0</td>\n",
              "      <td>0</td>\n",
              "      <td>0</td>\n",
              "      <td>0</td>\n",
              "      <td>0</td>\n",
              "      <td>0</td>\n",
              "      <td>0</td>\n",
              "      <td>0</td>\n",
              "      <td>0</td>\n",
              "      <td>0</td>\n",
              "      <td>0</td>\n",
              "      <td>0</td>\n",
              "      <td>0</td>\n",
              "      <td>0</td>\n",
              "      <td>0</td>\n",
              "      <td>0</td>\n",
              "      <td>0</td>\n",
              "      <td>0</td>\n",
              "      <td>0</td>\n",
              "      <td>0</td>\n",
              "      <td>0</td>\n",
              "      <td>...</td>\n",
              "      <td>0</td>\n",
              "      <td>0</td>\n",
              "      <td>0</td>\n",
              "      <td>0</td>\n",
              "      <td>0</td>\n",
              "      <td>0</td>\n",
              "      <td>0</td>\n",
              "      <td>0</td>\n",
              "      <td>0</td>\n",
              "      <td>0</td>\n",
              "      <td>0</td>\n",
              "      <td>0</td>\n",
              "      <td>0</td>\n",
              "      <td>0</td>\n",
              "      <td>0</td>\n",
              "      <td>0</td>\n",
              "      <td>0</td>\n",
              "      <td>0</td>\n",
              "      <td>0</td>\n",
              "      <td>0</td>\n",
              "      <td>0</td>\n",
              "      <td>0</td>\n",
              "      <td>0</td>\n",
              "      <td>0</td>\n",
              "      <td>0</td>\n",
              "      <td>0</td>\n",
              "      <td>0</td>\n",
              "      <td>0</td>\n",
              "      <td>0</td>\n",
              "      <td>0</td>\n",
              "      <td>0</td>\n",
              "      <td>0</td>\n",
              "      <td>0</td>\n",
              "      <td>0</td>\n",
              "      <td>0</td>\n",
              "      <td>0</td>\n",
              "      <td>2</td>\n",
              "      <td>0</td>\n",
              "      <td>0</td>\n",
              "      <td>0</td>\n",
              "    </tr>\n",
              "    <tr>\n",
              "      <th>1</th>\n",
              "      <td>0</td>\n",
              "      <td>0</td>\n",
              "      <td>0</td>\n",
              "      <td>0</td>\n",
              "      <td>0</td>\n",
              "      <td>0</td>\n",
              "      <td>0</td>\n",
              "      <td>0</td>\n",
              "      <td>0</td>\n",
              "      <td>0</td>\n",
              "      <td>0</td>\n",
              "      <td>0</td>\n",
              "      <td>0</td>\n",
              "      <td>0</td>\n",
              "      <td>0</td>\n",
              "      <td>0</td>\n",
              "      <td>0</td>\n",
              "      <td>0</td>\n",
              "      <td>0</td>\n",
              "      <td>0</td>\n",
              "      <td>0</td>\n",
              "      <td>0</td>\n",
              "      <td>0</td>\n",
              "      <td>0</td>\n",
              "      <td>0</td>\n",
              "      <td>0</td>\n",
              "      <td>0</td>\n",
              "      <td>0</td>\n",
              "      <td>0</td>\n",
              "      <td>0</td>\n",
              "      <td>0</td>\n",
              "      <td>0</td>\n",
              "      <td>0</td>\n",
              "      <td>0</td>\n",
              "      <td>0</td>\n",
              "      <td>0</td>\n",
              "      <td>0</td>\n",
              "      <td>0</td>\n",
              "      <td>0</td>\n",
              "      <td>0</td>\n",
              "      <td>...</td>\n",
              "      <td>0</td>\n",
              "      <td>0</td>\n",
              "      <td>0</td>\n",
              "      <td>0</td>\n",
              "      <td>0</td>\n",
              "      <td>0</td>\n",
              "      <td>0</td>\n",
              "      <td>0</td>\n",
              "      <td>0</td>\n",
              "      <td>0</td>\n",
              "      <td>0</td>\n",
              "      <td>1</td>\n",
              "      <td>0</td>\n",
              "      <td>0</td>\n",
              "      <td>0</td>\n",
              "      <td>0</td>\n",
              "      <td>0</td>\n",
              "      <td>0</td>\n",
              "      <td>0</td>\n",
              "      <td>0</td>\n",
              "      <td>0</td>\n",
              "      <td>0</td>\n",
              "      <td>0</td>\n",
              "      <td>0</td>\n",
              "      <td>0</td>\n",
              "      <td>0</td>\n",
              "      <td>0</td>\n",
              "      <td>0</td>\n",
              "      <td>0</td>\n",
              "      <td>0</td>\n",
              "      <td>0</td>\n",
              "      <td>0</td>\n",
              "      <td>0</td>\n",
              "      <td>0</td>\n",
              "      <td>0</td>\n",
              "      <td>1</td>\n",
              "      <td>1</td>\n",
              "      <td>0</td>\n",
              "      <td>0</td>\n",
              "      <td>0</td>\n",
              "    </tr>\n",
              "    <tr>\n",
              "      <th>2</th>\n",
              "      <td>0</td>\n",
              "      <td>0</td>\n",
              "      <td>0</td>\n",
              "      <td>0</td>\n",
              "      <td>0</td>\n",
              "      <td>0</td>\n",
              "      <td>0</td>\n",
              "      <td>0</td>\n",
              "      <td>0</td>\n",
              "      <td>0</td>\n",
              "      <td>0</td>\n",
              "      <td>0</td>\n",
              "      <td>0</td>\n",
              "      <td>0</td>\n",
              "      <td>0</td>\n",
              "      <td>0</td>\n",
              "      <td>0</td>\n",
              "      <td>0</td>\n",
              "      <td>0</td>\n",
              "      <td>0</td>\n",
              "      <td>0</td>\n",
              "      <td>0</td>\n",
              "      <td>0</td>\n",
              "      <td>0</td>\n",
              "      <td>0</td>\n",
              "      <td>0</td>\n",
              "      <td>0</td>\n",
              "      <td>0</td>\n",
              "      <td>0</td>\n",
              "      <td>0</td>\n",
              "      <td>0</td>\n",
              "      <td>0</td>\n",
              "      <td>0</td>\n",
              "      <td>0</td>\n",
              "      <td>0</td>\n",
              "      <td>0</td>\n",
              "      <td>0</td>\n",
              "      <td>0</td>\n",
              "      <td>0</td>\n",
              "      <td>0</td>\n",
              "      <td>...</td>\n",
              "      <td>0</td>\n",
              "      <td>0</td>\n",
              "      <td>0</td>\n",
              "      <td>0</td>\n",
              "      <td>0</td>\n",
              "      <td>0</td>\n",
              "      <td>0</td>\n",
              "      <td>0</td>\n",
              "      <td>0</td>\n",
              "      <td>0</td>\n",
              "      <td>0</td>\n",
              "      <td>0</td>\n",
              "      <td>0</td>\n",
              "      <td>0</td>\n",
              "      <td>0</td>\n",
              "      <td>0</td>\n",
              "      <td>0</td>\n",
              "      <td>0</td>\n",
              "      <td>0</td>\n",
              "      <td>0</td>\n",
              "      <td>0</td>\n",
              "      <td>0</td>\n",
              "      <td>0</td>\n",
              "      <td>0</td>\n",
              "      <td>0</td>\n",
              "      <td>0</td>\n",
              "      <td>0</td>\n",
              "      <td>0</td>\n",
              "      <td>0</td>\n",
              "      <td>0</td>\n",
              "      <td>0</td>\n",
              "      <td>0</td>\n",
              "      <td>0</td>\n",
              "      <td>0</td>\n",
              "      <td>0</td>\n",
              "      <td>0</td>\n",
              "      <td>0</td>\n",
              "      <td>0</td>\n",
              "      <td>0</td>\n",
              "      <td>0</td>\n",
              "    </tr>\n",
              "    <tr>\n",
              "      <th>3</th>\n",
              "      <td>0</td>\n",
              "      <td>0</td>\n",
              "      <td>0</td>\n",
              "      <td>0</td>\n",
              "      <td>0</td>\n",
              "      <td>0</td>\n",
              "      <td>0</td>\n",
              "      <td>0</td>\n",
              "      <td>0</td>\n",
              "      <td>0</td>\n",
              "      <td>0</td>\n",
              "      <td>0</td>\n",
              "      <td>0</td>\n",
              "      <td>0</td>\n",
              "      <td>0</td>\n",
              "      <td>0</td>\n",
              "      <td>0</td>\n",
              "      <td>0</td>\n",
              "      <td>0</td>\n",
              "      <td>0</td>\n",
              "      <td>0</td>\n",
              "      <td>0</td>\n",
              "      <td>0</td>\n",
              "      <td>0</td>\n",
              "      <td>0</td>\n",
              "      <td>0</td>\n",
              "      <td>0</td>\n",
              "      <td>0</td>\n",
              "      <td>0</td>\n",
              "      <td>0</td>\n",
              "      <td>0</td>\n",
              "      <td>0</td>\n",
              "      <td>0</td>\n",
              "      <td>0</td>\n",
              "      <td>0</td>\n",
              "      <td>0</td>\n",
              "      <td>0</td>\n",
              "      <td>0</td>\n",
              "      <td>0</td>\n",
              "      <td>0</td>\n",
              "      <td>...</td>\n",
              "      <td>0</td>\n",
              "      <td>0</td>\n",
              "      <td>0</td>\n",
              "      <td>3</td>\n",
              "      <td>0</td>\n",
              "      <td>0</td>\n",
              "      <td>0</td>\n",
              "      <td>0</td>\n",
              "      <td>0</td>\n",
              "      <td>0</td>\n",
              "      <td>0</td>\n",
              "      <td>0</td>\n",
              "      <td>0</td>\n",
              "      <td>0</td>\n",
              "      <td>0</td>\n",
              "      <td>0</td>\n",
              "      <td>0</td>\n",
              "      <td>0</td>\n",
              "      <td>0</td>\n",
              "      <td>0</td>\n",
              "      <td>3</td>\n",
              "      <td>0</td>\n",
              "      <td>0</td>\n",
              "      <td>0</td>\n",
              "      <td>0</td>\n",
              "      <td>0</td>\n",
              "      <td>1</td>\n",
              "      <td>0</td>\n",
              "      <td>0</td>\n",
              "      <td>0</td>\n",
              "      <td>0</td>\n",
              "      <td>0</td>\n",
              "      <td>0</td>\n",
              "      <td>0</td>\n",
              "      <td>0</td>\n",
              "      <td>0</td>\n",
              "      <td>0</td>\n",
              "      <td>0</td>\n",
              "      <td>0</td>\n",
              "      <td>0</td>\n",
              "    </tr>\n",
              "    <tr>\n",
              "      <th>4</th>\n",
              "      <td>0</td>\n",
              "      <td>0</td>\n",
              "      <td>0</td>\n",
              "      <td>0</td>\n",
              "      <td>0</td>\n",
              "      <td>0</td>\n",
              "      <td>0</td>\n",
              "      <td>0</td>\n",
              "      <td>0</td>\n",
              "      <td>0</td>\n",
              "      <td>0</td>\n",
              "      <td>0</td>\n",
              "      <td>0</td>\n",
              "      <td>0</td>\n",
              "      <td>0</td>\n",
              "      <td>0</td>\n",
              "      <td>0</td>\n",
              "      <td>0</td>\n",
              "      <td>0</td>\n",
              "      <td>0</td>\n",
              "      <td>0</td>\n",
              "      <td>0</td>\n",
              "      <td>0</td>\n",
              "      <td>0</td>\n",
              "      <td>1</td>\n",
              "      <td>0</td>\n",
              "      <td>0</td>\n",
              "      <td>0</td>\n",
              "      <td>0</td>\n",
              "      <td>0</td>\n",
              "      <td>0</td>\n",
              "      <td>0</td>\n",
              "      <td>0</td>\n",
              "      <td>0</td>\n",
              "      <td>0</td>\n",
              "      <td>0</td>\n",
              "      <td>0</td>\n",
              "      <td>0</td>\n",
              "      <td>2</td>\n",
              "      <td>0</td>\n",
              "      <td>...</td>\n",
              "      <td>0</td>\n",
              "      <td>0</td>\n",
              "      <td>0</td>\n",
              "      <td>0</td>\n",
              "      <td>0</td>\n",
              "      <td>0</td>\n",
              "      <td>0</td>\n",
              "      <td>0</td>\n",
              "      <td>0</td>\n",
              "      <td>0</td>\n",
              "      <td>0</td>\n",
              "      <td>0</td>\n",
              "      <td>1</td>\n",
              "      <td>0</td>\n",
              "      <td>0</td>\n",
              "      <td>0</td>\n",
              "      <td>0</td>\n",
              "      <td>0</td>\n",
              "      <td>0</td>\n",
              "      <td>0</td>\n",
              "      <td>0</td>\n",
              "      <td>0</td>\n",
              "      <td>0</td>\n",
              "      <td>0</td>\n",
              "      <td>0</td>\n",
              "      <td>0</td>\n",
              "      <td>0</td>\n",
              "      <td>0</td>\n",
              "      <td>0</td>\n",
              "      <td>0</td>\n",
              "      <td>0</td>\n",
              "      <td>0</td>\n",
              "      <td>0</td>\n",
              "      <td>0</td>\n",
              "      <td>0</td>\n",
              "      <td>0</td>\n",
              "      <td>0</td>\n",
              "      <td>0</td>\n",
              "      <td>0</td>\n",
              "      <td>1</td>\n",
              "    </tr>\n",
              "  </tbody>\n",
              "</table>\n",
              "<p>5 rows × 2597 columns</p>\n",
              "</div>"
            ],
            "text/plain": [
              "   0     1     2     3     4     5     ...  2591  2592  2593  2594  2595  2596\n",
              "0     0     0     0     0     0     0  ...     0     0     2     0     0     0\n",
              "1     0     0     0     0     0     0  ...     0     1     1     0     0     0\n",
              "2     0     0     0     0     0     0  ...     0     0     0     0     0     0\n",
              "3     0     0     0     0     0     0  ...     0     0     0     0     0     0\n",
              "4     0     0     0     0     0     0  ...     0     0     0     0     0     1\n",
              "\n",
              "[5 rows x 2597 columns]"
            ]
          },
          "metadata": {
            "tags": []
          },
          "execution_count": 76
        }
      ]
    },
    {
      "cell_type": "code",
      "metadata": {
        "colab": {
          "base_uri": "https://localhost:8080/"
        },
        "id": "E0e1ooNsT893",
        "outputId": "149e8764-3c95-418b-a83a-f9118e96333e"
      },
      "source": [
        "# Take a look at the words in the vocabulary\n",
        "vocab = vectorizer1.get_feature_names()\n",
        "print(vocab[1:100])"
      ],
      "execution_count": 77,
      "outputs": [
        {
          "output_type": "stream",
          "text": [
            "['16', '16th', '45', '4am', 'aah', 'abigail', 'absent', 'absurd', 'accent', 'accident', 'accused', 'ace', 'achilles', 'aching', 'acing', 'across', 'act', 'acted', 'actress', 'actually', 'add', 'adjusting', 'admit', 'adore', 'adventure', 'affair', 'afraid', 'afterglow', 'afternoon', 'age', 'ago', 'ah', 'ahah', 'ahahah', 'ahead', 'ahh', 'aim', 'aint', 'air', 'airplane', 'aisle', 'album', 'aligned', 'alive', 'alls', 'almost', 'alone', 'along', 'alpha', 'already', 'alright', 'altar', 'always', 'ambition', 'amen', 'american', 'americana', 'amnesia', 'amount', 'andi', 'ane', 'angel', 'angry', 'another', 'answer', 'anthem', 'anther', 'anticipation', 'anybody', 'anymore', 'anyone', 'anything', 'anyway', 'anywhere', 'apart', 'apartment', 'apology', 'applause', 'archer', 'architect', 'arent', 'argue', 'arm', 'armor', 'around', 'arrowhead', 'ash', 'aside', 'ask', 'asked', 'asking', 'asleep', 'assume', 'assumption', 'ate', 'ateam', 'attached', 'attack', 'attitude']\n"
          ],
          "name": "stdout"
        }
      ]
    },
    {
      "cell_type": "code",
      "metadata": {
        "colab": {
          "base_uri": "https://localhost:8080/"
        },
        "id": "ElQfLeu8UDhL",
        "outputId": "70d79e3f-801c-4d01-dcd7-d02fa4d3e593"
      },
      "source": [
        "from sklearn.feature_extraction.text import TfidfVectorizer\n",
        "\n",
        "# Create TfidfVectorizer object\n",
        "vectorizer2 = TfidfVectorizer()\n",
        "\n",
        "# Generate matrix of word vectors\n",
        "tfidf_matrix = vectorizer2.fit_transform(ts_lyrics[\"Preprocessed Lyrics\"])\n",
        "\n",
        "# Print the shape of tfidf_matrix\n",
        "print(tfidf_matrix.shape)"
      ],
      "execution_count": 78,
      "outputs": [
        {
          "output_type": "stream",
          "text": [
            "(132, 2597)\n"
          ],
          "name": "stdout"
        }
      ]
    },
    {
      "cell_type": "code",
      "metadata": {
        "colab": {
          "base_uri": "https://localhost:8080/"
        },
        "id": "xiXEvrxVUOkz",
        "outputId": "ca4d7239-6b2c-48e6-a5d0-716c24853357"
      },
      "source": [
        "# Create TfidfVectorizer object\n",
        "vectorizer3 = TfidfVectorizer(ngram_range=(1, 2))\n",
        "\n",
        "# Generate matrix of word vectors\n",
        "tfidf_matrix3 = vectorizer3.fit_transform(ts_lyrics[\"Preprocessed Lyrics\"])\n",
        "\n",
        "# Print the shape of tfidf_matrix\n",
        "print(tfidf_matrix3.shape)"
      ],
      "execution_count": 79,
      "outputs": [
        {
          "output_type": "stream",
          "text": [
            "(132, 15016)\n"
          ],
          "name": "stdout"
        }
      ]
    },
    {
      "cell_type": "code",
      "metadata": {
        "colab": {
          "base_uri": "https://localhost:8080/",
          "height": 103
        },
        "id": "UcQTMbClUXhR",
        "outputId": "8f8ec670-98f8-4b9b-db15-d33f59008ba5"
      },
      "source": [
        "friends_theme_lyrics = \"So no one told you life was going to be this way. Your job's a joke, you're broke, you're love life's DOA. It's like you're always stuck in second gear, When it hasn\\'t been your day, your week, your month, or even your year. But, I\\'ll be there for you, when the rain starts to pour. I\\'ll be there for you, like I\\'ve been there before. I\\'ll be there for you, cause you\\'re there for me too.\"\n",
        "friends_theme_lyrics"
      ],
      "execution_count": 80,
      "outputs": [
        {
          "output_type": "execute_result",
          "data": {
            "application/vnd.google.colaboratory.intrinsic+json": {
              "type": "string"
            },
            "text/plain": [
              "\"So no one told you life was going to be this way. Your job's a joke, you're broke, you're love life's DOA. It's like you're always stuck in second gear, When it hasn't been your day, your week, your month, or even your year. But, I'll be there for you, when the rain starts to pour. I'll be there for you, like I've been there before. I'll be there for you, cause you're there for me too.\""
            ]
          },
          "metadata": {
            "tags": []
          },
          "execution_count": 80
        }
      ]
    },
    {
      "cell_type": "code",
      "metadata": {
        "colab": {
          "base_uri": "https://localhost:8080/",
          "height": 52
        },
        "id": "qNsAwJm9UepS",
        "outputId": "3d19b37e-ae65-4d92-91ca-2cd32c0d05fd"
      },
      "source": [
        "friends_theme_lyrics = remove_punctuation(friends_theme_lyrics)\n",
        "friends_theme_lyrics = friends_theme_lyrics.lower()\n",
        "friends_theme_lyrics = remove_stopwords(friends_theme_lyrics)\n",
        "friends_theme_lyrics = lemmatize_words(friends_theme_lyrics)\n",
        "friends_theme_lyrics"
      ],
      "execution_count": 81,
      "outputs": [
        {
          "output_type": "execute_result",
          "data": {
            "application/vnd.google.colaboratory.intrinsic+json": {
              "type": "string"
            },
            "text/plain": [
              "'one told life going way job joke broke love life doa like always stuck second gear day week month even year rain start pour like cause'"
            ]
          },
          "metadata": {
            "tags": []
          },
          "execution_count": 81
        }
      ]
    },
    {
      "cell_type": "code",
      "metadata": {
        "colab": {
          "base_uri": "https://localhost:8080/"
        },
        "id": "mrZp9ZCDUgCV",
        "outputId": "c4d2fce7-d0f2-4d03-d585-0b2c61e1d22b"
      },
      "source": [
        "friends_theme_lyrics_tf = vectorizer1.transform([friends_theme_lyrics])\n",
        "friends_theme_lyrics_tf.shape\n",
        "dtm.shape"
      ],
      "execution_count": 82,
      "outputs": [
        {
          "output_type": "execute_result",
          "data": {
            "text/plain": [
              "(132, 2597)"
            ]
          },
          "metadata": {
            "tags": []
          },
          "execution_count": 82
        }
      ]
    },
    {
      "cell_type": "code",
      "metadata": {
        "colab": {
          "base_uri": "https://localhost:8080/"
        },
        "id": "M6vFdo0AUjmv",
        "outputId": "fe26b849-3c62-4aa5-b8a6-d65fc8375190"
      },
      "source": [
        "from sklearn.metrics.pairwise import cosine_similarity\n",
        "\n",
        "# compute and print the cosine similarity matrix\n",
        "cosine_sim_dtm = cosine_similarity(dtm, friends_theme_lyrics_tf)\n",
        "\n",
        "print(cosine_sim_dtm)"
      ],
      "execution_count": 83,
      "outputs": [
        {
          "output_type": "stream",
          "text": [
            "[[0.07295675]\n",
            " [0.05749499]\n",
            " [0.05668202]\n",
            " [0.099573  ]\n",
            " [0.09816136]\n",
            " [0.00975761]\n",
            " [0.16365771]\n",
            " [0.11501093]\n",
            " [0.02125256]\n",
            " [0.15038123]\n",
            " [0.07792865]\n",
            " [0.09200874]\n",
            " [0.17766726]\n",
            " [0.0360492 ]\n",
            " [0.0786839 ]\n",
            " [0.1062023 ]\n",
            " [0.23829304]\n",
            " [0.08566568]\n",
            " [0.15519271]\n",
            " [0.1352231 ]\n",
            " [0.03202563]\n",
            " [0.19158319]\n",
            " [0.09043166]\n",
            " [0.19051587]\n",
            " [0.10639904]\n",
            " [0.12562973]\n",
            " [0.13526614]\n",
            " [0.1340465 ]\n",
            " [0.10332549]\n",
            " [0.14529915]\n",
            " [0.08091962]\n",
            " [0.0428993 ]\n",
            " [0.05358677]\n",
            " [0.11510231]\n",
            " [0.03928371]\n",
            " [0.05463417]\n",
            " [0.0946985 ]\n",
            " [0.0745356 ]\n",
            " [0.24685715]\n",
            " [0.07198268]\n",
            " [0.09507654]\n",
            " [0.11511347]\n",
            " [0.11136921]\n",
            " [0.10401235]\n",
            " [0.1946593 ]\n",
            " [0.15567091]\n",
            " [0.21439196]\n",
            " [0.13088543]\n",
            " [0.11021668]\n",
            " [0.09369712]\n",
            " [0.11888042]\n",
            " [0.06581261]\n",
            " [0.00903711]\n",
            " [0.21465394]\n",
            " [0.22794562]\n",
            " [0.04007421]\n",
            " [0.06975801]\n",
            " [0.05602768]\n",
            " [0.01563873]\n",
            " [0.10146346]\n",
            " [0.13488377]\n",
            " [0.1500909 ]\n",
            " [0.0521599 ]\n",
            " [0.16455472]\n",
            " [0.20490974]\n",
            " [0.17563692]\n",
            " [0.13237606]\n",
            " [0.02857238]\n",
            " [0.03055662]\n",
            " [0.17989569]\n",
            " [0.0790393 ]\n",
            " [0.00461099]\n",
            " [0.09170196]\n",
            " [0.02086808]\n",
            " [0.03288424]\n",
            " [0.11242975]\n",
            " [0.044955  ]\n",
            " [0.02726372]\n",
            " [0.18975469]\n",
            " [0.06574775]\n",
            " [0.08736843]\n",
            " [0.07787518]\n",
            " [0.24627294]\n",
            " [0.04908068]\n",
            " [0.13145637]\n",
            " [0.05978084]\n",
            " [0.14187609]\n",
            " [0.15555556]\n",
            " [0.04961695]\n",
            " [0.05384297]\n",
            " [0.09147674]\n",
            " [0.03362627]\n",
            " [0.09035781]\n",
            " [0.05615828]\n",
            " [0.07207214]\n",
            " [0.0340633 ]\n",
            " [0.16397832]\n",
            " [0.05627802]\n",
            " [0.09116057]\n",
            " [0.06624405]\n",
            " [0.07803834]\n",
            " [0.06365683]\n",
            " [0.04996305]\n",
            " [0.09610043]\n",
            " [0.10304734]\n",
            " [0.19756782]\n",
            " [0.01443376]\n",
            " [0.1750503 ]\n",
            " [0.18845876]\n",
            " [0.05396298]\n",
            " [0.17025131]\n",
            " [0.11426298]\n",
            " [0.10506787]\n",
            " [0.22829105]\n",
            " [0.08403295]\n",
            " [0.06714701]\n",
            " [0.05614346]\n",
            " [0.13715477]\n",
            " [0.01830783]\n",
            " [0.13255879]\n",
            " [0.07392213]\n",
            " [0.08475223]\n",
            " [0.20016019]\n",
            " [0.09798273]\n",
            " [0.10425721]\n",
            " [0.07647191]\n",
            " [0.04792568]\n",
            " [0.23490916]\n",
            " [0.0564445 ]\n",
            " [0.11111111]\n",
            " [0.08512565]\n",
            " [0.05363453]]\n"
          ],
          "name": "stdout"
        }
      ]
    },
    {
      "cell_type": "code",
      "metadata": {
        "colab": {
          "base_uri": "https://localhost:8080/"
        },
        "id": "7maCtoTxUn91",
        "outputId": "b04f55d6-794c-46ec-a401-66c8c31d84b9"
      },
      "source": [
        "import numpy as np\n",
        "max_index = np.argmax(cosine_sim_dtm, axis=0)\n",
        "print(cosine_sim_dtm[max_index])\n",
        "max_index"
      ],
      "execution_count": 84,
      "outputs": [
        {
          "output_type": "stream",
          "text": [
            "[[0.24685715]]\n"
          ],
          "name": "stdout"
        },
        {
          "output_type": "execute_result",
          "data": {
            "text/plain": [
              "array([38])"
            ]
          },
          "metadata": {
            "tags": []
          },
          "execution_count": 84
        }
      ]
    },
    {
      "cell_type": "code",
      "metadata": {
        "colab": {
          "base_uri": "https://localhost:8080/",
          "height": 97
        },
        "id": "2yNNhWjzUrTX",
        "outputId": "a1d2ccf0-b45e-418f-82b1-37fdf18d591e"
      },
      "source": [
        "ts_lyrics.iloc[max_index]"
      ],
      "execution_count": 85,
      "outputs": [
        {
          "output_type": "execute_result",
          "data": {
            "text/html": [
              "<div>\n",
              "<style scoped>\n",
              "    .dataframe tbody tr th:only-of-type {\n",
              "        vertical-align: middle;\n",
              "    }\n",
              "\n",
              "    .dataframe tbody tr th {\n",
              "        vertical-align: top;\n",
              "    }\n",
              "\n",
              "    .dataframe thead th {\n",
              "        text-align: right;\n",
              "    }\n",
              "</style>\n",
              "<table border=\"1\" class=\"dataframe\">\n",
              "  <thead>\n",
              "    <tr style=\"text-align: right;\">\n",
              "      <th></th>\n",
              "      <th>Artist</th>\n",
              "      <th>Album</th>\n",
              "      <th>Title</th>\n",
              "      <th>Lyrics</th>\n",
              "      <th>Preprocessed Lyrics</th>\n",
              "    </tr>\n",
              "  </thead>\n",
              "  <tbody>\n",
              "    <tr>\n",
              "      <th>38</th>\n",
              "      <td>Taylor Swift</td>\n",
              "      <td>Speak Now</td>\n",
              "      <td>The Story of Us</td>\n",
              "      <td>I used to think one day we'd tell the story of...</td>\n",
              "      <td>used think one day wed tell story u met spark ...</td>\n",
              "    </tr>\n",
              "  </tbody>\n",
              "</table>\n",
              "</div>"
            ],
            "text/plain": [
              "          Artist   ...                                Preprocessed Lyrics\n",
              "38  Taylor Swift   ...  used think one day wed tell story u met spark ...\n",
              "\n",
              "[1 rows x 5 columns]"
            ]
          },
          "metadata": {
            "tags": []
          },
          "execution_count": 85
        }
      ]
    },
    {
      "cell_type": "code",
      "metadata": {
        "colab": {
          "base_uri": "https://localhost:8080/",
          "height": 222
        },
        "id": "uIFrHHlnUxXe",
        "outputId": "f0cca77f-ed70-4aac-cfd3-d69823de7817"
      },
      "source": [
        "ts_lyrics[\"Preprocessed Lyrics\"].iloc[38]"
      ],
      "execution_count": 86,
      "outputs": [
        {
          "output_type": "execute_result",
          "data": {
            "application/vnd.google.colaboratory.intrinsic+json": {
              "type": "string"
            },
            "text/plain": [
              "'used think one day wed tell story u met spark flew instantly people would say theyre lucky one used know place spot next searching room empty seat cause lately even know page oh simple complication miscommunications lead fall many thing wish knew many wall break standing alone crowded room speaking dying know killing like killing yeah know say since twist fate broke story u look lot like tragedy next chapter howd end way see nervously pulling clothes trying look busy best avoid starting think one day tell story u losing mind saw held pride like held oh scared see ending pretending nothing tell miss know never heard silence quite loud standing alone crowded room speaking dying know killing like killing yeah know say since twist fate broke story u look lot like tragedy looking like contest act like care le liked better side battle hand would lay armor youd say youd rather love fight many thing wish knew story u might ending soon standing alone crowded room speaking dying know killing like killing yeah know say since twist fate broke story u look lot like tragedy end'"
            ]
          },
          "metadata": {
            "tags": []
          },
          "execution_count": 86
        }
      ]
    },
    {
      "cell_type": "code",
      "metadata": {
        "colab": {
          "base_uri": "https://localhost:8080/"
        },
        "id": "vkHLGXiiUzFU",
        "outputId": "257da0b5-6950-4842-99bb-6548612219e0"
      },
      "source": [
        "friends_theme_lyrics_tfidf = vectorizer3.transform([friends_theme_lyrics])\n",
        "print(friends_theme_lyrics_tfidf.shape)\n",
        "print(tfidf_matrix3.shape)\n",
        "# compute and print the cosine similarity matrix\n",
        "cosine_sim_tfidf = cosine_similarity(tfidf_matrix3, friends_theme_lyrics_tfidf)\n",
        "\n",
        "print(cosine_sim_tfidf)"
      ],
      "execution_count": 87,
      "outputs": [
        {
          "output_type": "stream",
          "text": [
            "(1, 15016)\n",
            "(132, 15016)\n",
            "[[0.02369657]\n",
            " [0.01318075]\n",
            " [0.01128244]\n",
            " [0.03986478]\n",
            " [0.03108815]\n",
            " [0.00181568]\n",
            " [0.02572803]\n",
            " [0.02691028]\n",
            " [0.00512609]\n",
            " [0.04532813]\n",
            " [0.01615807]\n",
            " [0.00787449]\n",
            " [0.03826574]\n",
            " [0.0068687 ]\n",
            " [0.01320367]\n",
            " [0.01245819]\n",
            " [0.09768082]\n",
            " [0.03284433]\n",
            " [0.01891928]\n",
            " [0.05104409]\n",
            " [0.00801751]\n",
            " [0.045455  ]\n",
            " [0.02005361]\n",
            " [0.04590047]\n",
            " [0.0319897 ]\n",
            " [0.01850863]\n",
            " [0.02299573]\n",
            " [0.0238499 ]\n",
            " [0.01617267]\n",
            " [0.03525199]\n",
            " [0.02914826]\n",
            " [0.01417113]\n",
            " [0.01017535]\n",
            " [0.02329621]\n",
            " [0.01165122]\n",
            " [0.00883778]\n",
            " [0.0213434 ]\n",
            " [0.01468301]\n",
            " [0.052752  ]\n",
            " [0.01398688]\n",
            " [0.02316361]\n",
            " [0.02104993]\n",
            " [0.03310764]\n",
            " [0.01013489]\n",
            " [0.04137598]\n",
            " [0.04265813]\n",
            " [0.04249053]\n",
            " [0.03391019]\n",
            " [0.02922056]\n",
            " [0.01882679]\n",
            " [0.01167784]\n",
            " [0.01196412]\n",
            " [0.00448242]\n",
            " [0.03975051]\n",
            " [0.02942139]\n",
            " [0.02500672]\n",
            " [0.0149794 ]\n",
            " [0.01541409]\n",
            " [0.00149821]\n",
            " [0.01839457]\n",
            " [0.03851785]\n",
            " [0.02703587]\n",
            " [0.01044214]\n",
            " [0.01812665]\n",
            " [0.04455981]\n",
            " [0.03015706]\n",
            " [0.03756264]\n",
            " [0.00366365]\n",
            " [0.00325763]\n",
            " [0.0333111 ]\n",
            " [0.01114174]\n",
            " [0.00036564]\n",
            " [0.03036674]\n",
            " [0.00187995]\n",
            " [0.00755594]\n",
            " [0.01588253]\n",
            " [0.01206606]\n",
            " [0.02056343]\n",
            " [0.07499416]\n",
            " [0.01513767]\n",
            " [0.03379185]\n",
            " [0.01961567]\n",
            " [0.04624439]\n",
            " [0.00618851]\n",
            " [0.02567295]\n",
            " [0.01120954]\n",
            " [0.04119311]\n",
            " [0.01641921]\n",
            " [0.00560346]\n",
            " [0.00851409]\n",
            " [0.02050939]\n",
            " [0.0099525 ]\n",
            " [0.01615719]\n",
            " [0.00906767]\n",
            " [0.00936747]\n",
            " [0.01777334]\n",
            " [0.02409146]\n",
            " [0.02385133]\n",
            " [0.03111177]\n",
            " [0.01181365]\n",
            " [0.04510753]\n",
            " [0.0069002 ]\n",
            " [0.0124372 ]\n",
            " [0.00991338]\n",
            " [0.01700991]\n",
            " [0.0369523 ]\n",
            " [0.00665362]\n",
            " [0.02971692]\n",
            " [0.02632021]\n",
            " [0.01001789]\n",
            " [0.02780341]\n",
            " [0.01487108]\n",
            " [0.01907687]\n",
            " [0.03361355]\n",
            " [0.00807426]\n",
            " [0.00985324]\n",
            " [0.01145457]\n",
            " [0.01459391]\n",
            " [0.00972955]\n",
            " [0.03375572]\n",
            " [0.01890663]\n",
            " [0.01118828]\n",
            " [0.02691614]\n",
            " [0.01158261]\n",
            " [0.03914842]\n",
            " [0.01562798]\n",
            " [0.01257735]\n",
            " [0.02771936]\n",
            " [0.0127158 ]\n",
            " [0.03262289]\n",
            " [0.02177201]\n",
            " [0.00782077]]\n"
          ],
          "name": "stdout"
        }
      ]
    },
    {
      "cell_type": "code",
      "metadata": {
        "colab": {
          "base_uri": "https://localhost:8080/"
        },
        "id": "F2XDHLWpU6vz",
        "outputId": "9dbdfd7a-1f23-40fa-8aef-50a45fa9fa19"
      },
      "source": [
        "max_index = np.argmax(cosine_sim_tfidf, axis=0)\n",
        "print(cosine_sim_tfidf[max_index])\n",
        "max_index"
      ],
      "execution_count": 88,
      "outputs": [
        {
          "output_type": "stream",
          "text": [
            "[[0.09768082]]\n"
          ],
          "name": "stdout"
        },
        {
          "output_type": "execute_result",
          "data": {
            "text/plain": [
              "array([16])"
            ]
          },
          "metadata": {
            "tags": []
          },
          "execution_count": 88
        }
      ]
    },
    {
      "cell_type": "code",
      "metadata": {
        "colab": {
          "base_uri": "https://localhost:8080/",
          "height": 97
        },
        "id": "ujeke7FSVD4n",
        "outputId": "e6c736f7-ce55-48cb-cd3d-1940a203f229"
      },
      "source": [
        "ts_lyrics.iloc[max_index]"
      ],
      "execution_count": 89,
      "outputs": [
        {
          "output_type": "execute_result",
          "data": {
            "text/html": [
              "<div>\n",
              "<style scoped>\n",
              "    .dataframe tbody tr th:only-of-type {\n",
              "        vertical-align: middle;\n",
              "    }\n",
              "\n",
              "    .dataframe tbody tr th {\n",
              "        vertical-align: top;\n",
              "    }\n",
              "\n",
              "    .dataframe thead th {\n",
              "        text-align: right;\n",
              "    }\n",
              "</style>\n",
              "<table border=\"1\" class=\"dataframe\">\n",
              "  <thead>\n",
              "    <tr style=\"text-align: right;\">\n",
              "      <th></th>\n",
              "      <th>Artist</th>\n",
              "      <th>Album</th>\n",
              "      <th>Title</th>\n",
              "      <th>Lyrics</th>\n",
              "      <th>Preprocessed Lyrics</th>\n",
              "    </tr>\n",
              "  </thead>\n",
              "  <tbody>\n",
              "    <tr>\n",
              "      <th>16</th>\n",
              "      <td>Taylor Swift</td>\n",
              "      <td>Fearless</td>\n",
              "      <td>Forever &amp; Always</td>\n",
              "      <td>Once upon a time, I believe it was a Tuesday w...</td>\n",
              "      <td>upon time believe tuesday caught eye caught on...</td>\n",
              "    </tr>\n",
              "  </tbody>\n",
              "</table>\n",
              "</div>"
            ],
            "text/plain": [
              "          Artist   ...                                Preprocessed Lyrics\n",
              "16  Taylor Swift   ...  upon time believe tuesday caught eye caught on...\n",
              "\n",
              "[1 rows x 5 columns]"
            ]
          },
          "metadata": {
            "tags": []
          },
          "execution_count": 89
        }
      ]
    },
    {
      "cell_type": "code",
      "metadata": {
        "colab": {
          "base_uri": "https://localhost:8080/",
          "height": 222
        },
        "id": "V8S1L7EaVIJV",
        "outputId": "5d150138-758d-4e9a-899e-a37911342a2f"
      },
      "source": [
        "ts_lyrics[\"Preprocessed Lyrics\"].iloc[16]"
      ],
      "execution_count": 90,
      "outputs": [
        {
          "output_type": "execute_result",
          "data": {
            "application/vnd.google.colaboratory.intrinsic+json": {
              "type": "string"
            },
            "text/plain": [
              "'upon time believe tuesday caught eye caught onto something hold onto night looked eye told loved kidding cause seems thing breaking almost never speak feel welcome anymore baby happened please tell cause one second perfect halfway door stare phone still called feel low feel nothing flashback said forever always oh rain bedroom everything wrong rain rain gone cause said forever always line say something way honest made run hide like scared little boy looked eye thought knew minute sure here everything coming nothing here silence cut core going thought knew minute anymore stare phone still called feel low feel nothing flashback said forever always oh rain bedroom everything wrong rain rain gone cause said forever always mean baby think oh back baby back forget everything back baby back forget everything cause rain bedroom everything wrong rain rain gone cause said forever always oh stare phone still called feel low feel nothing flashback said forever always rain bedroom everything wrong rain rain gone cause said forever always mean baby said forever always yeah'"
            ]
          },
          "metadata": {
            "tags": []
          },
          "execution_count": 90
        }
      ]
    }
  ]
}