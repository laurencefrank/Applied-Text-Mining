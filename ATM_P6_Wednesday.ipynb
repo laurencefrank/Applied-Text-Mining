{
  "nbformat": 4,
  "nbformat_minor": 0,
  "metadata": {
    "colab": {
      "name": "ATM_P6_Wednesday.ipynb",
      "provenance": [],
      "mount_file_id": "1UBsJjEwPFgNrZTaL_Hz2s__qqT7uvvea",
      "authorship_tag": "ABX9TyMZFITOm7t/n2T8XfhuQ699",
      "include_colab_link": true
    },
    "kernelspec": {
      "name": "python3",
      "display_name": "Python 3"
    },
    "language_info": {
      "name": "python"
    }
  },
  "cells": [
    {
      "cell_type": "markdown",
      "metadata": {
        "id": "view-in-github",
        "colab_type": "text"
      },
      "source": [
        "<a href=\"https://colab.research.google.com/github/laurencefrank/Applied-Text-Mining/blob/main/ATM_P6_Wednesday.ipynb\" target=\"_parent\"><img src=\"https://colab.research.google.com/assets/colab-badge.svg\" alt=\"Open In Colab\"/></a>"
      ]
    },
    {
      "cell_type": "markdown",
      "metadata": {
        "id": "hzGeA8lN9eyM"
      },
      "source": [
        "## Applied Text Mining, Utrecht Summerschool 26 - 29 July 2021\n",
        "\n",
        "Wednesday 28 July, practical 6\n",
        "\n",
        "Practical 6: Deep Learning for Multiclass Text Classification"
      ]
    },
    {
      "cell_type": "markdown",
      "metadata": {
        "id": "aYfhqYvv-C2O"
      },
      "source": [
        "Welcome to the sixth practical of the course “Applied Text Mining”. In this practical, we will apply various deep learning models for multiclass text classification. We will work with the famous 20 Newsgroups data set from the sklearn library and will apply deep learning models on that using the Keras library.\n",
        "\n",
        "The 20 Newsgroups data set is a collection of approximately 20,000 newsgroup documents, partitioned (nearly) evenly across 20 different newsgroups. It was originally collected by Ken Lang, and it has become a popular data set for experiments in text applications of machine learning techniques.\n",
        "\n",
        "On the other hand, today we will use the Keras library, which is a deep learning and neural networks API by François Chollet's team which is capable of running on top of Tensorflow (Google), Theano or CNTK (Microsoft).\n",
        "\n",
        "Today we will use the following libraries. Take care to have them installed!"
      ]
    },
    {
      "cell_type": "code",
      "metadata": {
        "id": "W76iiKfF9P6v"
      },
      "source": [
        "from sklearn.feature_extraction.text import TfidfVectorizer\n",
        "from sklearn.model_selection import RandomizedSearchCV\n",
        "from sklearn.datasets import fetch_20newsgroups\n",
        "from sklearn.preprocessing import LabelEncoder\n",
        "\n",
        "from keras.wrappers.scikit_learn import KerasClassifier\n",
        "from keras.preprocessing.sequence import pad_sequences\n",
        "from keras.preprocessing.text import Tokenizer\n",
        "from keras.models import Sequential\n",
        "from keras import layers, utils\n",
        "\n",
        "import matplotlib.pyplot as plt\n",
        "import pandas as pd\n",
        "import numpy as np\n",
        "\n",
        "SEED = 321"
      ],
      "execution_count": null,
      "outputs": []
    },
    {
      "cell_type": "markdown",
      "metadata": {
        "id": "2RTlNsYNRcKE"
      },
      "source": [
        "1. Load the tarin and test subsets of the 20 Newsgroups data set from sklearn datasets. Remove the headers, footers and qoutes from the news article when loading data sets. Use number 321 for random_state. In order to get faster execution times for this practical we will work on a partial data set with only 5 categories out of the 20 available in the data set: ('rec.sport.hockey', 'talk.politics.mideast', 'soc.religion.christian', 'comp.graphics', 'sci.med')."
      ]
    },
    {
      "cell_type": "code",
      "metadata": {
        "id": "hJF5aCvsRi0L"
      },
      "source": [
        "categories = ['rec.sport.hockey', 'talk.politics.mideast', 'soc.religion.christian', 'comp.graphics', 'sci.med']"
      ],
      "execution_count": null,
      "outputs": []
    },
    {
      "cell_type": "code",
      "metadata": {
        "colab": {
          "base_uri": "https://localhost:8080/"
        },
        "id": "2KHlMJ6GRrW9",
        "outputId": "4cc45c2d-e153-456f-d21a-c1d926ba6cdc"
      },
      "source": [
        "five_train = fetch_20newsgroups(subset='train', remove=('headers', 'footers', 'quotes'), \n",
        "                                  categories=categories, shuffle=True, random_state=321)\n"
      ],
      "execution_count": null,
      "outputs": [
        {
          "output_type": "stream",
          "text": [
            "Downloading 20news dataset. This may take a few minutes.\n",
            "Downloading dataset from https://ndownloader.figshare.com/files/5975967 (14 MB)\n"
          ],
          "name": "stderr"
        }
      ]
    },
    {
      "cell_type": "code",
      "metadata": {
        "colab": {
          "base_uri": "https://localhost:8080/"
        },
        "id": "eVW_pMk_R5wI",
        "outputId": "6b53adc6-112a-45b4-827b-9eb47a350dfc"
      },
      "source": [
        "type(five_train)"
      ],
      "execution_count": null,
      "outputs": [
        {
          "output_type": "execute_result",
          "data": {
            "text/plain": [
              "sklearn.utils.Bunch"
            ]
          },
          "metadata": {
            "tags": []
          },
          "execution_count": 4
        }
      ]
    },
    {
      "cell_type": "code",
      "metadata": {
        "id": "BmLncEwvSCws"
      },
      "source": [
        "five_test = fetch_20newsgroups(subset='test', remove=('headers', 'footers', 'quotes'), \n",
        "                                 categories=categories, shuffle=True, random_state=321)"
      ],
      "execution_count": null,
      "outputs": []
    },
    {
      "cell_type": "markdown",
      "metadata": {
        "id": "c6h4Y5XlSQLv"
      },
      "source": [
        "2. Find out about the number of news articles in train and test sets."
      ]
    },
    {
      "cell_type": "code",
      "metadata": {
        "colab": {
          "base_uri": "https://localhost:8080/"
        },
        "id": "JP3a4vhrSZGI",
        "outputId": "1352ebb6-3905-4f54-afd3-df1a90303e9f"
      },
      "source": [
        "five_train.target_names"
      ],
      "execution_count": null,
      "outputs": [
        {
          "output_type": "execute_result",
          "data": {
            "text/plain": [
              "['comp.graphics',\n",
              " 'rec.sport.hockey',\n",
              " 'sci.med',\n",
              " 'soc.religion.christian',\n",
              " 'talk.politics.mideast']"
            ]
          },
          "metadata": {
            "tags": []
          },
          "execution_count": 6
        }
      ]
    },
    {
      "cell_type": "code",
      "metadata": {
        "colab": {
          "base_uri": "https://localhost:8080/"
        },
        "id": "v1lkz2zZSfYC",
        "outputId": "f099cd70-6cb5-46a0-804c-90ec1ab201b5"
      },
      "source": [
        "five_train.filenames.shape"
      ],
      "execution_count": null,
      "outputs": [
        {
          "output_type": "execute_result",
          "data": {
            "text/plain": [
              "(2941,)"
            ]
          },
          "metadata": {
            "tags": []
          },
          "execution_count": 7
        }
      ]
    },
    {
      "cell_type": "code",
      "metadata": {
        "colab": {
          "base_uri": "https://localhost:8080/"
        },
        "id": "_wMqLxgFSkKZ",
        "outputId": "d60b2e58-420d-475f-cf31-264db5a399c1"
      },
      "source": [
        "five_test.filenames.shape"
      ],
      "execution_count": null,
      "outputs": [
        {
          "output_type": "execute_result",
          "data": {
            "text/plain": [
              "(1958,)"
            ]
          },
          "metadata": {
            "tags": []
          },
          "execution_count": 8
        }
      ]
    },
    {
      "cell_type": "markdown",
      "metadata": {
        "id": "qPU6Wnj_Smti"
      },
      "source": [
        "3. Covert the train and test to dataframes."
      ]
    },
    {
      "cell_type": "code",
      "metadata": {
        "colab": {
          "base_uri": "https://localhost:8080/",
          "height": 204
        },
        "id": "ongmFThZSwso",
        "outputId": "61ce4f36-cbe2-47a1-daf0-984c9a5f3bab"
      },
      "source": [
        "df_train = pd.DataFrame(list(zip(five_train.data, five_train.target)), columns=['text', 'label'])\n",
        "df_train.head()"
      ],
      "execution_count": null,
      "outputs": [
        {
          "output_type": "execute_result",
          "data": {
            "text/html": [
              "<div>\n",
              "<style scoped>\n",
              "    .dataframe tbody tr th:only-of-type {\n",
              "        vertical-align: middle;\n",
              "    }\n",
              "\n",
              "    .dataframe tbody tr th {\n",
              "        vertical-align: top;\n",
              "    }\n",
              "\n",
              "    .dataframe thead th {\n",
              "        text-align: right;\n",
              "    }\n",
              "</style>\n",
              "<table border=\"1\" class=\"dataframe\">\n",
              "  <thead>\n",
              "    <tr style=\"text-align: right;\">\n",
              "      <th></th>\n",
              "      <th>text</th>\n",
              "      <th>label</th>\n",
              "    </tr>\n",
              "  </thead>\n",
              "  <tbody>\n",
              "    <tr>\n",
              "      <th>0</th>\n",
              "      <td>\\nDr. cheghadr bA namakand!  They just wait un...</td>\n",
              "      <td>4</td>\n",
              "    </tr>\n",
              "    <tr>\n",
              "      <th>1</th>\n",
              "      <td>\\n\\n\\n\\n\\n:) No...I was one of the lucky ones....</td>\n",
              "      <td>2</td>\n",
              "    </tr>\n",
              "    <tr>\n",
              "      <th>2</th>\n",
              "      <td>\\n\\n[After a small refresh Hasan got on the tr...</td>\n",
              "      <td>4</td>\n",
              "    </tr>\n",
              "    <tr>\n",
              "      <th>3</th>\n",
              "      <td>Before getting excited and implying that I am ...</td>\n",
              "      <td>4</td>\n",
              "    </tr>\n",
              "    <tr>\n",
              "      <th>4</th>\n",
              "      <td>I have posted disp135.zip to alt.binaries.pict...</td>\n",
              "      <td>0</td>\n",
              "    </tr>\n",
              "  </tbody>\n",
              "</table>\n",
              "</div>"
            ],
            "text/plain": [
              "                                                text  label\n",
              "0  \\nDr. cheghadr bA namakand!  They just wait un...      4\n",
              "1  \\n\\n\\n\\n\\n:) No...I was one of the lucky ones....      2\n",
              "2  \\n\\n[After a small refresh Hasan got on the tr...      4\n",
              "3  Before getting excited and implying that I am ...      4\n",
              "4  I have posted disp135.zip to alt.binaries.pict...      0"
            ]
          },
          "metadata": {
            "tags": []
          },
          "execution_count": 9
        }
      ]
    },
    {
      "cell_type": "code",
      "metadata": {
        "colab": {
          "base_uri": "https://localhost:8080/",
          "height": 204
        },
        "id": "iYkyT-NMS8og",
        "outputId": "9389edc1-2eb1-463f-b8fc-9ac71ef26900"
      },
      "source": [
        "df_test = pd.DataFrame(list(zip(five_test.data, five_test.target)), columns=['text', 'label'])\n",
        "df_test.head()"
      ],
      "execution_count": null,
      "outputs": [
        {
          "output_type": "execute_result",
          "data": {
            "text/html": [
              "<div>\n",
              "<style scoped>\n",
              "    .dataframe tbody tr th:only-of-type {\n",
              "        vertical-align: middle;\n",
              "    }\n",
              "\n",
              "    .dataframe tbody tr th {\n",
              "        vertical-align: top;\n",
              "    }\n",
              "\n",
              "    .dataframe thead th {\n",
              "        text-align: right;\n",
              "    }\n",
              "</style>\n",
              "<table border=\"1\" class=\"dataframe\">\n",
              "  <thead>\n",
              "    <tr style=\"text-align: right;\">\n",
              "      <th></th>\n",
              "      <th>text</th>\n",
              "      <th>label</th>\n",
              "    </tr>\n",
              "  </thead>\n",
              "  <tbody>\n",
              "    <tr>\n",
              "      <th>0</th>\n",
              "      <td>hi all, Ive applied for the class of 93 at qui...</td>\n",
              "      <td>2</td>\n",
              "    </tr>\n",
              "    <tr>\n",
              "      <th>1</th>\n",
              "      <td>:In article &lt;enea1-270493135255@enea.apple.com...</td>\n",
              "      <td>2</td>\n",
              "    </tr>\n",
              "    <tr>\n",
              "      <th>2</th>\n",
              "      <td>\\nI don't know the answer the to this one, alt...</td>\n",
              "      <td>0</td>\n",
              "    </tr>\n",
              "    <tr>\n",
              "      <th>3</th>\n",
              "      <td>\\n\\nWe here at IBM have the same problem with ...</td>\n",
              "      <td>0</td>\n",
              "    </tr>\n",
              "    <tr>\n",
              "      <th>4</th>\n",
              "      <td>\\nI was at an Adobe seminar/conference/propaga...</td>\n",
              "      <td>0</td>\n",
              "    </tr>\n",
              "  </tbody>\n",
              "</table>\n",
              "</div>"
            ],
            "text/plain": [
              "                                                text  label\n",
              "0  hi all, Ive applied for the class of 93 at qui...      2\n",
              "1  :In article <enea1-270493135255@enea.apple.com...      2\n",
              "2  \\nI don't know the answer the to this one, alt...      0\n",
              "3  \\n\\nWe here at IBM have the same problem with ...      0\n",
              "4  \\nI was at an Adobe seminar/conference/propaga...      0"
            ]
          },
          "metadata": {
            "tags": []
          },
          "execution_count": 10
        }
      ]
    },
    {
      "cell_type": "markdown",
      "metadata": {
        "id": "aG4LFUs7TC2B"
      },
      "source": [
        "### Train a neural network with document-term matrix\n",
        "\n",
        "4. In order to feed predictive deep learning models with text data, first you need to turn the text into vectors of numerical values suitable for statistical analysis. Use the binary representation with TfidfVectorizer and create document-term matrices for test and train (name them X_train and X_test)."
      ]
    },
    {
      "cell_type": "code",
      "metadata": {
        "id": "dINZbtPzTGSd"
      },
      "source": [
        "def tfidf_features(txt, flag):\n",
        "    if flag == \"train\":\n",
        "        x = tfidf.fit_transform(txt)\n",
        "    else:\n",
        "        x = tfidf.transform(txt)\n",
        "    x = x.astype('float16')\n",
        "    return x \n"
      ],
      "execution_count": null,
      "outputs": []
    },
    {
      "cell_type": "code",
      "metadata": {
        "id": "ZNyOeMWLTh6W"
      },
      "source": [
        "tfidf = TfidfVectorizer(binary=True)\n",
        "\n",
        "X_train = tfidf_features(df_train.text.values, flag=\"train\")\n",
        "X_test = tfidf_features(df_test.text.values, flag=\"test\")\n"
      ],
      "execution_count": null,
      "outputs": []
    },
    {
      "cell_type": "code",
      "metadata": {
        "id": "lJS23yumTkq-"
      },
      "source": [
        "# With CountVectorizer and without the function\n",
        "# from sklearn.feature_extraction.text import CountVectorizer\n",
        "# count_vect = CountVectorizer()\n",
        "# X_train = count_vect.fit_transform(df_train.text.values)\n",
        "# X_test = count_vect.transform(df_test.text.values)"
      ],
      "execution_count": null,
      "outputs": []
    },
    {
      "cell_type": "code",
      "metadata": {
        "colab": {
          "base_uri": "https://localhost:8080/"
        },
        "id": "XKCwJPhwTlke",
        "outputId": "472d3654-4453-446a-faf1-25f4cc22fc3c"
      },
      "source": [
        "X_train.nnz / float(X_train.shape[0])"
      ],
      "execution_count": null,
      "outputs": [
        {
          "output_type": "execute_result",
          "data": {
            "text/plain": [
              "111.5678340700442"
            ]
          },
          "metadata": {
            "tags": []
          },
          "execution_count": 14
        }
      ]
    },
    {
      "cell_type": "markdown",
      "metadata": {
        "id": "Er0-RF-oT2pF"
      },
      "source": [
        "The extracted vectors are very sparse, with an average of 111 non-zero components by sample in a more than 37000-dimensional space (less than 0.3% non-zero features)"
      ]
    },
    {
      "cell_type": "code",
      "metadata": {
        "colab": {
          "base_uri": "https://localhost:8080/"
        },
        "id": "RoHCKsaqT5hC",
        "outputId": "4dec4648-f983-4904-d658-096eb551ed31"
      },
      "source": [
        "X_test.nnz / float(X_train.shape[0])"
      ],
      "execution_count": null,
      "outputs": [
        {
          "output_type": "execute_result",
          "data": {
            "text/plain": [
              "75.78748724923496"
            ]
          },
          "metadata": {
            "tags": []
          },
          "execution_count": 13
        }
      ]
    },
    {
      "cell_type": "code",
      "metadata": {
        "colab": {
          "base_uri": "https://localhost:8080/"
        },
        "id": "asDz4yobT94H",
        "outputId": "3d2639eb-21c0-4aa1-f01e-0eb93083e051"
      },
      "source": [
        "tfidf.vocabulary_"
      ],
      "execution_count": null,
      "outputs": [
        {
          "output_type": "execute_result",
          "data": {
            "text/plain": [
              "{'dr': 11831,\n",
              " 'cheghadr': 7790,\n",
              " 'ba': 5229,\n",
              " 'namakand': 23053,\n",
              " 'they': 33351,\n",
              " 'just': 19216,\n",
              " 'wait': 35850,\n",
              " 'until': 34946,\n",
              " 'are': 4507,\n",
              " 'teenagers': 33019,\n",
              " 'to': 33637,\n",
              " 'kill': 19570,\n",
              " 'them': 33280,\n",
              " 'huh': 17121,\n",
              " 'yup': 36995,\n",
              " 'iri': 18569,\n",
              " 'also': 3839,\n",
              " 'granted': 15615,\n",
              " 'great': 15673,\n",
              " 'deal': 10311,\n",
              " 'of': 24102,\n",
              " 'reconstruction': 27894,\n",
              " 'houses': 17031,\n",
              " 'and': 4048,\n",
              " 'buildings': 6819,\n",
              " 'in': 17695,\n",
              " 'war': 35900,\n",
              " 'torn': 33751,\n",
              " 'areas': 4509,\n",
              " 'malaysia': 21218,\n",
              " 'khak': 19512,\n",
              " 'too': 33713,\n",
              " 'sareshoon': 29498,\n",
              " 'one': 24265,\n",
              " 'the': 33264,\n",
              " 'only': 24281,\n",
              " 'industries': 17864,\n",
              " 'we': 36023,\n",
              " 'really': 27764,\n",
              " 'have': 16323,\n",
              " 'is': 18615,\n",
              " 'construction': 9123,\n",
              " 'there': 33323,\n",
              " 'all': 3748,\n",
              " 'these': 33341,\n",
              " 'unemployed': 34686,\n",
              " 'youth': 36969,\n",
              " 'give': 15292,\n",
              " 'money': 22531,\n",
              " 'do': 11634,\n",
              " 'what': 36180,\n",
              " 'iranians': 18556,\n",
              " 'can': 7145,\n",
              " 'should': 30510,\n",
              " 'be': 5586,\n",
              " 'doing': 11683,\n",
              " 'no': 23621,\n",
              " 'was': 35945,\n",
              " 'lucky': 20918,\n",
              " 'ones': 24270,\n",
              " 'very': 35472,\n",
              " 'little': 20671,\n",
              " 'acne': 3130,\n",
              " 'as': 4694,\n",
              " 'teenager': 33018,\n",
              " 'didn': 11078,\n",
              " 'any': 4271,\n",
              " 'luck': 20916,\n",
              " 'with': 36408,\n",
              " 'clearasil': 8185,\n",
              " 'even': 13206,\n",
              " 'though': 33413,\n",
              " 'my': 22975,\n",
              " 'skin': 30846,\n",
              " 'gets': 15199,\n",
              " 'oily': 24162,\n",
              " 'it': 18719,\n",
              " 'miserable': 22296,\n",
              " 'pimples': 25835,\n",
              " 'when': 36195,\n",
              " 'dry': 11937,\n",
              " 'frequent': 14687,\n",
              " 'lukewarm': 20933,\n",
              " 'water': 35972,\n",
              " 'rinses': 28860,\n",
              " 'on': 24257,\n",
              " 'face': 13628,\n",
              " 'might': 22103,\n",
              " 'help': 16502,\n",
              " 'getting': 15201,\n",
              " 'scalp': 29605,\n",
              " 'thing': 33371,\n",
              " 'under': 34596,\n",
              " 'control': 9253,\n",
              " 'that': 33260,\n",
              " 'could': 9488,\n",
              " 'simple': 30690,\n",
              " 'submerging': 32180,\n",
              " 'bathwater': 5534,\n",
              " 'till': 33546,\n",
              " 'softened': 31132,\n",
              " 'washing': 35952,\n",
              " 'out': 24603,\n",
              " 'taking': 32819,\n",
              " 'day': 10266,\n",
              " 'vitamin': 35674,\n",
              " 'mineral': 22206,\n",
              " 've': 35351,\n",
              " 'heard': 16400,\n",
              " 'iodine': 18521,\n",
              " 'causes': 7431,\n",
              " 'trouble': 34140,\n",
              " 'used': 35080,\n",
              " 'fast': 13805,\n",
              " 'food': 14393,\n",
              " 'restaurants': 28550,\n",
              " 'sterilize': 31837,\n",
              " 'equipment': 12926,\n",
              " 'which': 36213,\n",
              " 'where': 36198,\n",
              " 'belief': 5741,\n",
              " 'greasy': 15672,\n",
              " 'foods': 14395,\n",
              " 'cause': 7429,\n",
              " 'came': 7121,\n",
              " 'from': 14727,\n",
              " 'notice': 23770,\n",
              " 'grease': 15671,\n",
              " 'not': 23752,\n",
              " 'immediately': 17553,\n",
              " 'removed': 28255,\n",
              " 'will': 36313,\n",
              " 'eating': 12165,\n",
              " 'meat': 21706,\n",
              " 'keeping': 19412,\n",
              " 'hair': 16014,\n",
              " 'rinse': 28859,\n",
              " 'mousse': 22731,\n",
              " 'dip': 11193,\n",
              " 'spray': 31549,\n",
              " 'off': 24103,\n",
              " 'warm': 35913,\n",
              " 'bath': 5527,\n",
              " 'soaks': 31084,\n",
              " 'or': 24400,\n",
              " 'cloths': 8275,\n",
              " 'soften': 31131,\n",
              " 'oil': 24159,\n",
              " 'pores': 26243,\n",
              " 'prevent': 26657,\n",
              " 'blackheads': 6106,\n",
              " 'body': 6281,\n",
              " 'hydrophilic': 17236,\n",
              " 'loves': 20872,\n",
              " 'softens': 31134,\n",
              " 'washes': 35951,\n",
              " 'has': 16267,\n",
              " 'chance': 7656,\n",
              " 'why': 36262,\n",
              " 'goes': 15439,\n",
              " 'limp': 20555,\n",
              " 'oilyness': 24163,\n",
              " 'becoming': 5632,\n",
              " 'convinced': 9305,\n",
              " 'best': 5881,\n",
              " 'whitehead': 36229,\n",
              " 'leave': 20230,\n",
              " 'alone': 3815,\n",
              " 'save': 29569,\n",
              " 'him': 16697,\n",
              " 'days': 10275,\n",
              " 'pimple': 25834,\n",
              " 'misery': 22298,\n",
              " 'prying': 27056,\n",
              " 'black': 6101,\n",
              " 'whiteheads': 36230,\n",
              " 'infections': 17913,\n",
              " 'red': 27932,\n",
              " 'spots': 31538,\n",
              " 'usually': 35104,\n",
              " 'break': 6555,\n",
              " 'naturally': 23140,\n",
              " 'won': 36476,\n",
              " 'an': 3984,\n",
              " 'infection': 17912,\n",
              " 'afterwards': 3454,\n",
              " 'tell': 33066,\n",
              " 'normal': 23716,\n",
              " 'some': 31196,\n",
              " 'but': 6940,\n",
              " 'cosmetic': 9458,\n",
              " 'industry': 17867,\n",
              " 'makes': 21202,\n",
              " 'selling': 30030,\n",
              " 'people': 25393,\n",
              " 'idea': 17352,\n",
              " 'incredible': 17779,\n",
              " 'defect': 10476,\n",
              " 'hidden': 16650,\n",
              " 'at': 4867,\n",
              " 'cost': 9470,\n",
              " 'causing': 7433,\n",
              " 'more': 22615,\n",
              " 'after': 3445,\n",
              " 'small': 30976,\n",
              " 'refresh': 28026,\n",
              " 'hasan': 16268,\n",
              " 'got': 15519,\n",
              " 'track': 33836,\n",
              " 'again': 3464,\n",
              " 'get': 15196,\n",
              " 'impression': 17670,\n",
              " 'realized': 27760,\n",
              " 'he': 16365,\n",
              " 'goofed': 15492,\n",
              " 'now': 23802,\n",
              " 'trying': 34184,\n",
              " 'drop': 11914,\n",
              " 'thread': 33425,\n",
              " 'let': 20361,\n",
              " 'miniscule': 22226,\n",
              " 'portion': 26254,\n",
              " 'his': 16742,\n",
              " 'sorry': 31250,\n",
              " 'since': 30721,\n",
              " 'am': 3883,\n",
              " 'logical': 20766,\n",
              " 'person': 25515,\n",
              " 'who': 36241,\n",
              " 'likes': 20529,\n",
              " 'furthering': 14854,\n",
              " 'himself': 16701,\n",
              " 'name': 23055,\n",
              " 'calling': 7091,\n",
              " 'started': 31721,\n",
              " 'trashing': 33980,\n",
              " 'article': 4665,\n",
              " 'contains': 9164,\n",
              " 'such': 32276,\n",
              " 'abuses': 2970,\n",
              " 'without': 36425,\n",
              " 'responding': 28536,\n",
              " 'sometimes': 31211,\n",
              " 'reading': 27733,\n",
              " 'articles': 4666,\n",
              " 'written': 36618,\n",
              " 'by': 6982,\n",
              " 'those': 33411,\n",
              " 'acquired': 3138,\n",
              " 'bad': 5288,\n",
              " 'habits': 15975,\n",
              " 'company': 8665,\n",
              " 'ah': 3531,\n",
              " 'followup': 14381,\n",
              " 'subject': 32169,\n",
              " 'you': 36949,\n",
              " 'way': 35998,\n",
              " 'never': 23405,\n",
              " 'bothered': 6428,\n",
              " 'hence': 16532,\n",
              " 'assumption': 4826,\n",
              " 'feel': 13915,\n",
              " 'up': 34984,\n",
              " 'so': 31080,\n",
              " 'answer': 4194,\n",
              " 'your': 36958,\n",
              " 'memory': 21841,\n",
              " 'does': 11670,\n",
              " 'human': 17129,\n",
              " 'right': 28825,\n",
              " 'issue': 18703,\n",
              " 'area': 4508,\n",
              " 'apply': 4370,\n",
              " 'palestinians': 24913,\n",
              " 'claim': 8103,\n",
              " 'forfeiting': 14472,\n",
              " 'if': 17397,\n",
              " 'possible': 26298,\n",
              " 'then': 33287,\n",
              " 'explain': 13470,\n",
              " 'rest': 28547,\n",
              " 'us': 35068,\n",
              " 'how': 17042,\n",
              " 'exist': 13396,\n",
              " 'use': 35078,\n",
              " 'logic': 20764,\n",
              " 'convince': 9304,\n",
              " 'this': 33388,\n",
              " 'golden': 15451,\n",
              " 'jonas': 19054,\n",
              " 'flygare': 14330,\n",
              " 'well': 36118,\n",
              " 'ok': 24170,\n",
              " 'see': 29960,\n",
              " 'master': 21495,\n",
              " 'wisdom': 36389,\n",
              " 'mr': 22771,\n",
              " 'wrote': 36627,\n",
              " 'wisdomely': 36390,\n",
              " 'responded': 28533,\n",
              " 'names': 23061,\n",
              " 'giving': 15297,\n",
              " 'me': 21674,\n",
              " 'title': 33611,\n",
              " 'first': 14153,\n",
              " 'read': 27725,\n",
              " 'paragraph': 25001,\n",
              " 'above': 2917,\n",
              " 'accept': 2999,\n",
              " 'order': 24420,\n",
              " 'into': 18413,\n",
              " 'um': 34482,\n",
              " 'debate': 10334,\n",
              " 'flax': 14237,\n",
              " 'case': 7360,\n",
              " 'didnot': 11079,\n",
              " 'know': 19704,\n",
              " 'palestineans': 24910,\n",
              " 'were': 36134,\n",
              " 'for': 14418,\n",
              " '18': 736,\n",
              " 'months': 22582,\n",
              " 'coming': 8562,\n",
              " 'back': 5252,\n",
              " 'agree': 3518,\n",
              " 'their': 33273,\n",
              " 'rights': 28833,\n",
              " 'afterall': 3446,\n",
              " 'arenot': 4515,\n",
              " 'negotiable': 23265,\n",
              " 'correct': 9414,\n",
              " 'wrong': 36621,\n",
              " 'isn': 18662,\n",
              " 'life': 20489,\n",
              " '_also_': 2595,\n",
              " 'everybody': 13226,\n",
              " 'however': 17047,\n",
              " 'killer': 19574,\n",
              " 'kills': 19581,\n",
              " 'willingly': 36323,\n",
              " 'unwillingly': 34972,\n",
              " 'society': 31108,\n",
              " 'represented': 28378,\n",
              " 'goverment': 15532,\n",
              " 'would': 36574,\n",
              " 'exercise': 13372,\n",
              " 'its': 18746,\n",
              " 'duty': 12058,\n",
              " 'depriving': 10752,\n",
              " 'israel': 18685,\n",
              " 'israelis': 18689,\n",
              " 'old': 24190,\n",
              " 'eye': 13581,\n",
              " 'thinking': 33377,\n",
              " 'funny': 14840,\n",
              " 'thought': 33414,\n",
              " 'modern': 22453,\n",
              " 'legal': 20269,\n",
              " 'systems': 32749,\n",
              " 'made': 21095,\n",
              " 'counter': 9502,\n",
              " 'exactly': 13271,\n",
              " 'expect': 13429,\n",
              " 'wsidom': 36637,\n",
              " 'insist': 18146,\n",
              " 'titles': 33614,\n",
              " 'did': 11075,\n",
              " 'ask': 4728,\n",
              " 'least': 20226,\n",
              " 'spell': 31429,\n",
              " 'correctly': 9419,\n",
              " 'sigh': 30621,\n",
              " 'intentionally': 18271,\n",
              " 'neglecting': 23258,\n",
              " 'most': 22679,\n",
              " 'important': 17653,\n",
              " 'fact': 13647,\n",
              " 'whole': 36245,\n",
              " 'israeli': 18686,\n",
              " 'presence': 26584,\n",
              " 'occupied': 24039,\n",
              " 'territories': 33177,\n",
              " 'illegitimate': 17469,\n",
              " 'actions': 3155,\n",
              " 'courts': 9542,\n",
              " 'laws': 20159,\n",
              " 'ground': 15777,\n",
              " '_not_': 2733,\n",
              " 'merely': 21902,\n",
              " 'asking': 4737,\n",
              " 'whether': 36208,\n",
              " 'existance': 13397,\n",
              " 'citicens': 8078,\n",
              " 'wb': 36007,\n",
              " 'gaza': 15031,\n",
              " 'invalidates': 18466,\n",
              " 'individuals': 17845,\n",
              " 'live': 20685,\n",
              " 'eloquently': 12467,\n",
              " 'put': 27240,\n",
              " 'question': 27364,\n",
              " 'law': 20153,\n",
              " 'later': 20102,\n",
              " 'adressed': 3317,\n",
              " 'point': 26095,\n",
              " 'post': 26300,\n",
              " 'occupying': 24044,\n",
              " 'automatically': 5074,\n",
              " 'itself': 18747,\n",
              " 'similar': 30680,\n",
              " 'automatic': 5073,\n",
              " 'deprivation': 10749,\n",
              " 'state': 31736,\n",
              " 'deprive': 10750,\n",
              " 'citizens': 8084,\n",
              " '_any_': 2600,\n",
              " 'living': 20695,\n",
              " 'today': 33649,\n",
              " 'conjugtion': 9006,\n",
              " 'group': 15783,\n",
              " 'occupies': 24042,\n",
              " 'others': 24567,\n",
              " 'rule': 29208,\n",
              " 'force': 14429,\n",
              " 'deprived': 10751,\n",
              " 'nice': 23494,\n",
              " 'swedish': 32611,\n",
              " 'government': 15539,\n",
              " 'consider': 9066,\n",
              " 'yourself': 36963,\n",
              " 'posed': 26267,\n",
              " 'worthy': 36570,\n",
              " 'here': 16564,\n",
              " 'applying': 4371,\n",
              " 'related': 28137,\n",
              " 'problem': 26761,\n",
              " 'assume': 4822,\n",
              " 'admit': 3292,\n",
              " 'wouldn': 36575,\n",
              " 'hold': 16839,\n",
              " 'kind': 19592,\n",
              " 'much': 22807,\n",
              " 'another': 4189,\n",
              " 'found': 14562,\n",
              " 'certain': 7576,\n",
              " 'system': 32745,\n",
              " 'international': 18342,\n",
              " 'convenient': 9271,\n",
              " 'start': 31720,\n",
              " 'using': 35095,\n",
              " 'prove': 27016,\n",
              " 'excuse': 13347,\n",
              " 'while': 36215,\n",
              " 'throw': 33458,\n",
              " 'throwing': 33460,\n",
              " 'stay': 31770,\n",
              " 'away': 5157,\n",
              " 'screen': 29814,\n",
              " 'oh': 24151,\n",
              " 'watch': 35964,\n",
              " 'comedy': 8549,\n",
              " 'pipe': 25854,\n",
              " 'through': 33455,\n",
              " 'telephone': 33050,\n",
              " 'll': 20704,\n",
              " 'secret': 29926,\n",
              " 'real': 27742,\n",
              " 'take': 32812,\n",
              " 'word': 36504,\n",
              " 'seems': 29975,\n",
              " 'dept': 10753,\n",
              " 'looking': 20799,\n",
              " 'other': 24563,\n",
              " 'around': 4617,\n",
              " 'violence': 35609,\n",
              " 'occurs': 24054,\n",
              " 'anyway': 4281,\n",
              " 'hamas': 16073,\n",
              " 'obviously': 24022,\n",
              " 'turned': 34283,\n",
              " 'islamic': 18647,\n",
              " 'propose': 26954,\n",
              " 'solve': 31185,\n",
              " 'because': 5625,\n",
              " 'minister': 22228,\n",
              " 'sharon': 30341,\n",
              " 'says': 29586,\n",
              " 'kick': 19550,\n",
              " 'palestine': 24908,\n",
              " 'asked': 4732,\n",
              " 'preserve': 26595,\n",
              " 'involved': 18511,\n",
              " 'assumed': 4823,\n",
              " 'obvious': 24021,\n",
              " 'repeat': 28312,\n",
              " 'mistake': 22344,\n",
              " 'straightened': 31982,\n",
              " 'eagerly': 12111,\n",
              " 'awaiting': 5146,\n",
              " 'reply': 28353,\n",
              " 'joseph': 19072,\n",
              " 'weitz': 36109,\n",
              " 'administrator': 3282,\n",
              " 'responsible': 28544,\n",
              " 'jewish': 18949,\n",
              " 'colonization': 8486,\n",
              " 'said': 29373,\n",
              " 'writing': 36615,\n",
              " 'diary': 11046,\n",
              " '1940': 824,\n",
              " 'between': 5902,\n",
              " 'ourselves': 24599,\n",
              " 'must': 22940,\n",
              " 'clear': 8183,\n",
              " 'room': 29058,\n",
              " 'both': 6425,\n",
              " 'peoples': 25394,\n",
              " 'together': 33658,\n",
              " 'country': 9517,\n",
              " 'shall': 30300,\n",
              " 'achieve': 3097,\n",
              " 'our': 24595,\n",
              " 'goal': 15403,\n",
              " 'being': 5716,\n",
              " 'independent': 17802,\n",
              " 'arabs': 4446,\n",
              " 'solution': 31182,\n",
              " 'western': 36151,\n",
              " 'west': 36146,\n",
              " 'jordan': 19062,\n",
              " 'river': 28900,\n",
              " 'than': 33251,\n",
              " 'transfer': 33909,\n",
              " 'neighbouring': 23285,\n",
              " 'countries': 9516,\n",
              " 'village': 35580,\n",
              " 'tribe': 34060,\n",
              " 'left': 20261,\n",
              " 'able': 2896,\n",
              " 'absorb': 2946,\n",
              " 'millions': 22177,\n",
              " 'own': 24768,\n",
              " 'brethren': 6600,\n",
              " 'davar': 10237,\n",
              " '29': 1203,\n",
              " 'september': 30129,\n",
              " '1967': 854,\n",
              " 'courtesy': 9538,\n",
              " 'marc': 21346,\n",
              " 'afifi': 3430,\n",
              " 'disregard': 11456,\n",
              " 'rather': 27627,\n",
              " 'references': 27993,\n",
              " 'plo': 26017,\n",
              " 'covenant': 9547,\n",
              " 'charter': 7730,\n",
              " 'english': 12724,\n",
              " 'translations': 33943,\n",
              " 'information': 17971,\n",
              " 'interested': 18305,\n",
              " 'translate': 33937,\n",
              " 'credence': 9655,\n",
              " '_private_': 2753,\n",
              " 'paper': 24973,\n",
              " 'older': 24193,\n",
              " 'going': 15442,\n",
              " 'fairly': 13689,\n",
              " 'parties': 25095,\n",
              " 'conflict': 8961,\n",
              " 'share': 30331,\n",
              " 'fanatics': 13749,\n",
              " 'guess': 15862,\n",
              " 'make': 21196,\n",
              " 'lasting': 20095,\n",
              " 'peace': 25288,\n",
              " 'region': 28064,\n",
              " 'ever': 13217,\n",
              " 'willing': 36322,\n",
              " 'tabula': 32777,\n",
              " 'rasa': 27601,\n",
              " 'over': 24667,\n",
              " 'something': 31207,\n",
              " 'either': 12356,\n",
              " 'refers': 28000,\n",
              " 'zionists': 37100,\n",
              " 'jews': 18952,\n",
              " 'donot': 11738,\n",
              " 'suggest': 32315,\n",
              " 'imperialist': 17620,\n",
              " 'solving': 31189,\n",
              " 'think': 33373,\n",
              " 'fair': 13684,\n",
              " 'enough': 12757,\n",
              " 'provided': 27025,\n",
              " 'contradiction': 9228,\n",
              " 'takes': 32818,\n",
              " 'land': 20011,\n",
              " 'greatest': 15675,\n",
              " 'zionism': 37097,\n",
              " 'arab': 4440,\n",
              " 'children': 7863,\n",
              " 'rabbi': 27425,\n",
              " 'shoham': 30470,\n",
              " 'add': 3212,\n",
              " 'cute': 9979,\n",
              " 'quotes': 27408,\n",
              " 'end': 12652,\n",
              " 'bummer': 6855,\n",
              " 'try': 34183,\n",
              " 'posts': 26323,\n",
              " 'credit': 9659,\n",
              " 'before': 5672,\n",
              " 'excited': 13327,\n",
              " 'implying': 17649,\n",
              " 'posting': 26315,\n",
              " 'fabrications': 13625,\n",
              " 'readers': 27729,\n",
              " 'consult': 9135,\n",
              " 'newspaper': 23443,\n",
              " 'tahnks': 32800,\n",
              " 'posted': 26309,\n",
              " 'disp135': 11405,\n",
              " 'zip': 37101,\n",
              " 'alt': 3840,\n",
              " 'binaries': 5994,\n",
              " 'pictures': 25781,\n",
              " 'utilities': 35120,\n",
              " 'may': 21577,\n",
              " 'distribute': 11524,\n",
              " 'program': 26835,\n",
              " 'freely': 14666,\n",
              " 'non': 23660,\n",
              " 'commercial': 8601,\n",
              " 'fee': 13907,\n",
              " 'gained': 14892,\n",
              " 'warranty': 35929,\n",
              " 'author': 5048,\n",
              " 'damage': 10096,\n",
              " 'caused': 7430,\n",
              " 'changes': 7666,\n",
              " 'version': 35455,\n",
              " '30': 1242,\n",
              " 'fix': 14178,\n",
              " 'bugs': 6813,\n",
              " 'file': 14061,\n",
              " 'management': 21262,\n",
              " 'displaying': 11432,\n",
              " 'improve': 17680,\n",
              " 'user': 35089,\n",
              " 'friendly': 14709,\n",
              " 'bug': 6807,\n",
              " 'xpm': 36743,\n",
              " 'targa': 32894,\n",
              " 'writng': 36617,\n",
              " 'gem': 15072,\n",
              " 'img': 17534,\n",
              " 'support': 32459,\n",
              " 'pcx': 25275,\n",
              " 'auto': 5062,\n",
              " 'skip': 30852,\n",
              " 'macbinary': 21031,\n",
              " 'header': 16373,\n",
              " 'introduction': 18444,\n",
              " 'write': 36610,\n",
              " 'display': 11429,\n",
              " 'images': 17512,\n",
              " 'different': 11104,\n",
              " 'formats': 14505,\n",
              " 'special': 31370,\n",
              " 'effects': 12297,\n",
              " 'rotation': 29099,\n",
              " 'dithering': 11547,\n",
              " 'image': 17501,\n",
              " 'main': 21167,\n",
              " 'purpose': 27222,\n",
              " 'convert': 9286,\n",
              " 'among': 3960,\n",
              " 'formts': 14514,\n",
              " 'include': 17739,\n",
              " 'slide': 30921,\n",
              " 'show': 30524,\n",
              " 'limit': 20547,\n",
              " 'size': 30800,\n",
              " 'currently': 9943,\n",
              " 'supports': 32467,\n",
              " '15': 624,\n",
              " '16': 678,\n",
              " '24': 1069,\n",
              " 'bits': 6085,\n",
              " 'want': 35895,\n",
              " 'hicolor': 16647,\n",
              " 'truecolor': 34157,\n",
              " 'vesa': 35473,\n",
              " 'driver': 11906,\n",
              " 'modify': 22466,\n",
              " 'video': 35533,\n",
              " 'please': 25997,\n",
              " 'section': 29937,\n",
              " 'hardware': 16217,\n",
              " 'requirement': 28422,\n",
              " 'pc': 25262,\n",
              " '386': 1426,\n",
              " 'better': 5898,\n",
              " 'msdos': 22784,\n",
              " 'higher': 16666,\n",
              " 'min': 22190,\n",
              " 'amount': 3964,\n",
              " 'ram': 27533,\n",
              " '4m': 1642,\n",
              " 'bytes': 6995,\n",
              " 'maybe': 21578,\n",
              " 'less': 20353,\n",
              " 'work': 36517,\n",
              " 'recommend': 27873,\n",
              " '8m': 2329,\n",
              " 'performance': 25429,\n",
              " 'hard': 16195,\n",
              " 'disk': 11369,\n",
              " 'swapping': 32598,\n",
              " 'virtual': 35621,\n",
              " 'following': 14378,\n",
              " 'description': 10810,\n",
              " 'borrowed': 6404,\n",
              " 'djgpp': 11595,\n",
              " 'supported': 32461,\n",
              " 'wares': 35909,\n",
              " '128m': 482,\n",
              " 'extended': 13529,\n",
              " 'expanded': 13419,\n",
              " 'vcpi': 35345,\n",
              " 'space': 31307,\n",
              " 'supervga': 32436,\n",
              " '256': 1119,\n",
              " 'color': 8491,\n",
              " 'mode': 22428,\n",
              " '1024x768': 193,\n",
              " '80387': 2174,\n",
              " 'xms': 36739,\n",
              " 'vdisk': 35350,\n",
              " 'allocation': 3792,\n",
              " 'strategies': 32004,\n",
              " 'programs': 26846,\n",
              " 'qemm': 27278,\n",
              " 'desqview': 10865,\n",
              " '386max': 1429,\n",
              " 'unsupported': 34936,\n",
              " 'dpmi': 11827,\n",
              " 'microsoft': 22074,\n",
              " 'windows': 36345,\n",
              " 'features': 13888,\n",
              " 'emulator': 12609,\n",
              " '32': 1290,\n",
              " 'bit': 6067,\n",
              " 'unix': 34809,\n",
              " 'ish': 18632,\n",
              " 'environment': 12832,\n",
              " 'flat': 14218,\n",
              " 'model': 22429,\n",
              " 'svga': 32580,\n",
              " 'graphics': 15630,\n",
              " 'installation': 18178,\n",
              " 'drivers': 11907,\n",
              " 'emu387': 12605,\n",
              " 'go32': 15402,\n",
              " 'exe': 13350,\n",
              " 'digital': 11128,\n",
              " 'vga': 35496,\n",
              " 'chips': 7887,\n",
              " 'readme': 27735,\n",
              " 'wd': 36019,\n",
              " 'modified': 22464,\n",
              " 'completely': 8747,\n",
              " 'compatible': 8706,\n",
              " 'original': 24478,\n",
              " 'report': 28358,\n",
              " 'encounter': 12637,\n",
              " 'don': 11716,\n",
              " 'within': 36424,\n",
              " 'search': 29891,\n",
              " 'path': 25178,\n",
              " 'runme': 29230,\n",
              " 'bat': 5522,\n",
              " 'run': 29226,\n",
              " 'choose': 7913,\n",
              " 'xxxxx': 36791,\n",
              " 'grn': 15761,\n",
              " 'nc': 23172,\n",
              " 'example': 13286,\n",
              " '80x87': 2185,\n",
              " 'emu': 12604,\n",
              " 'grd': 15670,\n",
              " 'notes': 23763,\n",
              " 'test': 33199,\n",
              " 'tr8900': 33826,\n",
              " 'et4000': 13105,\n",
              " 'tested': 33203,\n",
              " 'need': 23229,\n",
              " 'doesn': 11671,\n",
              " 'except': 13300,\n",
              " 'users': 35092,\n",
              " 'find': 14096,\n",
              " 'bios': 6037,\n",
              " 'wuarchive': 36648,\n",
              " 'wustl': 36652,\n",
              " 'edu': 12263,\n",
              " 'mirrors': 22277,\n",
              " 'godzilla': 15434,\n",
              " 'cgl': 7608,\n",
              " 'rmit': 28920,\n",
              " 'oz': 24793,\n",
              " 'au': 4989,\n",
              " 'kjb': 19650,\n",
              " 'mgl': 22016,\n",
              " 'command': 8567,\n",
              " 'line': 20573,\n",
              " 'switch': 32647,\n",
              " 'usage': 35072,\n",
              " 'initial_display_type': 18040,\n",
              " 'sort': 31251,\n",
              " 'sort_method': 31252,\n",
              " 'type': 34349,\n",
              " 'default': 10471,\n",
              " 'method': 21986,\n",
              " 'ext': 13525,\n",
              " 'function': 14807,\n",
              " 'key': 19486,\n",
              " 'f2': 13610,\n",
              " 'change': 7661,\n",
              " 'drive': 11902,\n",
              " 'ctrl': 9863,\n",
              " 'f3': 13612,\n",
              " 'filename': 14063,\n",
              " 'mask': 21468,\n",
              " 'match': 21507,\n",
              " 'doc': 11641,\n",
              " 'f4': 13613,\n",
              " 'parameters': 25013,\n",
              " 'f5': 13614,\n",
              " 'picture': 25780,\n",
              " 'eg': 12307,\n",
              " 'flip': 14265,\n",
              " 'rotate': 29095,\n",
              " 'f7': 13616,\n",
              " 'directory': 11220,\n",
              " 'tag': 32793,\n",
              " 'files': 14064,\n",
              " 'untag': 34943,\n",
              " 'ins': 18120,\n",
              " 'menu': 21879,\n",
              " 'f6': 13615,\n",
              " 'move': 22742,\n",
              " 'f8': 13617,\n",
              " 'delete': 10578,\n",
              " 'rename': 28261,\n",
              " 'copy': 9360,\n",
              " '10': 147,\n",
              " 'ascii': 4704,\n",
              " 'hex': 16624,\n",
              " 'dec': 10355,\n",
              " 'modes': 22458,\n",
              " 'free': 14659,\n",
              " 'page': 24864,\n",
              " 'down': 11806,\n",
              " 'tab': 32762,\n",
              " 'processing': 26780,\n",
              " 'target': 32896,\n",
              " 'arrow': 4647,\n",
              " 'keys': 19497,\n",
              " 'home': 16874,\n",
              " 'scroll': 29839,\n",
              " 'top': 33722,\n",
              " 'bottom': 6438,\n",
              " 'effect': 12291,\n",
              " 'escape': 13033,\n",
              " 'terminate': 33149,\n",
              " 'quit': 27393,\n",
              " 'prompting': 26899,\n",
              " 'reread': 28428,\n",
              " 'abort': 2911,\n",
              " 'return': 28647,\n",
              " 'format': 14503,\n",
              " 'gif': 15233,\n",
              " 'japan': 18840,\n",
              " 'mag': 21105,\n",
              " 'pic': 25757,\n",
              " 'sun': 32380,\n",
              " 'raster': 27612,\n",
              " 'ras': 27600,\n",
              " 'jpeg': 19103,\n",
              " 'jpg': 19114,\n",
              " 'xbm': 36690,\n",
              " 'utah': 35113,\n",
              " 'rle': 28914,\n",
              " 'pbm': 25258,\n",
              " 'pgm': 25607,\n",
              " 'ppm': 26388,\n",
              " 'pm': 26052,\n",
              " 'mki': 22393,\n",
              " 'tiff': 33524,\n",
              " 'tif': 33523,\n",
              " 'tga': 33240,\n",
              " 'mac': 21027,\n",
              " 'paint': 24880,\n",
              " 'iff': 17398,\n",
              " 'ilbm': 17452,\n",
              " 'lbm': 20182,\n",
              " 'window': 36342,\n",
              " 'bmp': 6245,\n",
              " 'qrt': 27285,\n",
              " 'ray': 27670,\n",
              " 'tracing': 33835,\n",
              " 'pict': 25776,\n",
              " 'pct': 25273,\n",
              " 'vis': 35631,\n",
              " 'pds': 25284,\n",
              " 'viking': 35572,\n",
              " 'vik': 35571,\n",
              " 'vicar': 35515,\n",
              " 'vic': 35514,\n",
              " 'fits': 14172,\n",
              " 'fit': 14167,\n",
              " 'usenix': 35087,\n",
              " 'fac': 13626,\n",
              " 'extensions': 13535,\n",
              " 'standard': 31678,\n",
              " 'laser': 20086,\n",
              " 'jet': 18944,\n",
              " 'full': 14794,\n",
              " 'grey': 15716,\n",
              " 'scale': 29598,\n",
              " 'dither': 11545,\n",
              " 'allowed': 3798,\n",
              " 'detail': 10890,\n",
              " 'initialization': 18042,\n",
              " 'set': 30200,\n",
              " 'highest': 16667,\n",
              " 'allowable': 3796,\n",
              " 'resolution': 28501,\n",
              " 'enter': 12785,\n",
              " 'whthin': 36260,\n",
              " 'press': 26608,\n",
              " 'like': 20520,\n",
              " 'allow': 3795,\n",
              " 'includes': 17741,\n",
              " 'xx': 36783,\n",
              " 'number': 23855,\n",
              " 'tagged': 32795,\n",
              " 'pressing': 26612,\n",
              " 'select': 30009,\n",
              " 'current': 9942,\n",
              " 'determine': 10911,\n",
              " 'procedure': 26769,\n",
              " 'check': 7767,\n",
              " 'magic': 21115,\n",
              " 'fail': 13673,\n",
              " 'extension': 13534,\n",
              " 'still': 31886,\n",
              " 'error': 12995,\n",
              " 'delay': 10570,\n",
              " 'time': 33555,\n",
              " 'hit': 16765,\n",
              " 'beep': 5657,\n",
              " 'once': 24260,\n",
              " 'successfully': 32262,\n",
              " 'turn': 34281,\n",
              " 'graphic': 15627,\n",
              " 'text': 33224,\n",
              " 'allows': 3800,\n",
              " 'white': 36228,\n",
              " 'true': 34155,\n",
              " 'questions': 27372,\n",
              " 'dependent': 10721,\n",
              " 'finally': 14087,\n",
              " 'prompt': 26897,\n",
              " 'write2': 36611,\n",
              " 'selected': 30011,\n",
              " 'bar': 5402,\n",
              " 'greedy': 15681,\n",
              " 'poor': 26217,\n",
              " 'lzw': 21014,\n",
              " 'lossless': 20840,\n",
              " '24bits': 1098,\n",
              " 'storing': 31962,\n",
              " 'subroutines': 32191,\n",
              " 'fully': 14799,\n",
              " 'document': 11655,\n",
              " 'suggestion': 32318,\n",
              " 'comment': 8590,\n",
              " 'about': 2916,\n",
              " 'send': 30070,\n",
              " 'u7711501': 34387,\n",
              " 'bicmos': 5948,\n",
              " 'ee': 12276,\n",
              " 'nctu': 23186,\n",
              " 'tw': 34307,\n",
              " '140': 563,\n",
              " '113': 318,\n",
              " '11': 285,\n",
              " '13': 493,\n",
              " 'anonymous': 4186,\n",
              " ...}"
            ]
          },
          "metadata": {
            "tags": []
          },
          "execution_count": 15
        }
      ]
    },
    {
      "cell_type": "markdown",
      "metadata": {
        "id": "7bg4g2SnUJu-"
      },
      "source": [
        "5. Use the LabelEncoder to create y_train and y_test from df_train.label.values and df_test.label.values respectively."
      ]
    },
    {
      "cell_type": "code",
      "metadata": {
        "id": "m7RC8fTXUMHU"
      },
      "source": [
        "# Converting the list of strings to the matrix of vectors (to be fed neural network models)\n",
        "# Encode the list of newsgroups into categorical integer values\n",
        "\n",
        "lb = LabelEncoder()\n",
        "y = lb.fit_transform(df_train.label.values)\n",
        "y_train = utils.np_utils.to_categorical(y)"
      ],
      "execution_count": null,
      "outputs": []
    },
    {
      "cell_type": "code",
      "metadata": {
        "colab": {
          "base_uri": "https://localhost:8080/"
        },
        "id": "18akuwnpUO_b",
        "outputId": "51969424-08a1-4b05-9590-aaad5c336dc2"
      },
      "source": [
        "y_train.shape"
      ],
      "execution_count": null,
      "outputs": [
        {
          "output_type": "execute_result",
          "data": {
            "text/plain": [
              "(2941, 5)"
            ]
          },
          "metadata": {
            "tags": []
          },
          "execution_count": 27
        }
      ]
    },
    {
      "cell_type": "code",
      "metadata": {
        "id": "RfeMJC_kYxZ1"
      },
      "source": [
        "y = lb.transform(df_test.label.values)\n",
        "y_test = utils.np_utils.to_categorical(y)"
      ],
      "execution_count": null,
      "outputs": []
    },
    {
      "cell_type": "markdown",
      "metadata": {
        "id": "20qyrahWZXnf"
      },
      "source": [
        "6. Use the sequential API in Keras and create a one-hidden-layer neural network. So, the first layer will be input layer with the number of features in your X_train, then one hidden layer, then one output layer. Set the number of neurons 5 in the hidden layer and activation function as relu. For the output layer you can use a softmax activation function.\n",
        "\n",
        "The sequential API (https://www.tensorflow.org/guide/keras/sequential_model) allows you to create models layer by layer. It is limited in that it does not allow to create models that share layers or have multiple inputs or outputs.\n",
        "\n",
        "The functional API (https://www.tensorflow.org/guide/keras/functional) allows you to create models that have a lot more flexibility as you can define models where layers connect to more than just the previous and next layers. In this way, you can connect layers to (literally) any other layer. As a result, creating complex networks such as Siamese neural networks and residual neural networks becomes possible."
      ]
    },
    {
      "cell_type": "code",
      "metadata": {
        "id": "mMxOM7reZzDh"
      },
      "source": [
        "model = Sequential()\n",
        "input_dim = X_train.shape[1]  # Number of features\n",
        "model.add(layers.Dense(10, input_dim=input_dim, activation='relu'))\n",
        "model.add(layers.Dense(5, activation='softmax'))"
      ],
      "execution_count": null,
      "outputs": []
    },
    {
      "cell_type": "markdown",
      "metadata": {
        "id": "HExn6cgwZ751"
      },
      "source": [
        "7. The compile function defines the loss function, the optimizer and the metrics. Call this function for your neural network model with loss='binary_crossentropy', optimizer='adam', metrics=['accuracy']. Check the summary of the model.\n",
        "\n",
        "![Screenshot 2021-07-28 at 15.57.49.png](data:image/png;base64,iVBORw0KGgoAAAANSUhEUgAABQYAAAIsCAYAAACgM3RzAAAMY2lDQ1BJQ0MgUHJvZmlsZQAASImVVwdYU8kWnltSSWiBUKSE3kTpBJASQosgIFUQlZAEEkqMCUHFzrqsgmsXUSwruiqi6FoAWQsidhfF3hcLKsq6WLCh8iYksK77yvfO982dP2fO/Kdk5t4ZAHQ6+DJZPqoLQIG0UJ4QGcoal5bOInUCIsABCrwBjS9QyDjx8TEAymD/d3l7DSCq/rKriuuf4/9V9IUihQAAJAPiLKFCUABxMwB4iUAmLwSAGAb1NlMLZSoshthADgOEeKYK56jxUhXOUuMtAzZJCVyIGwEg0/h8eQ4A2q1QzyoS5EAe7UcQu0mFEikAOgYQBwnEfCHESRAPLyiYrMJzIXaE9jKIt0PMzvqKM+dv/FlD/Hx+zhBW5zUg5DCJQpbPn/5/luZ/S0G+ctCHPWw0sTwqQZU/rOGNvMnRKkyDuFuaFRunqjXE7yVCdd0BQKliZVSy2h41Eyi4sH6ACbGbkB8WDbEZxBHS/NgYjT4rWxLBgxiuFnSapJCXpJm7QKQIT9RwrpNPTogbxNlyLkczt44vH/Crsm9V5iVzNPw3xCLeIP+bYnFSKsRUADBqkSQlFmJtiA0UeYnRahvMuljMjR20kSsTVPHbQswWSSND1fxYRrY8IkFjLytQDOaLlYolvFgNriwUJ0Wp64PtEPAH4jeGuF4k5SQP8ogU42IGcxGKwsLVuWNtImmyJl/snqwwNEEzt0eWH6+xx8mi/EiV3hpiU0VRomYuPqoQLk41Px4jK4xPUseJZ+byR8er48GLQAzggjDAAkrYssBkkAskbd0N3fCXeiQC8IEc5AARcNVoBmekDoxI4TMRFIM/IBIBxdC80IFRESiC+s9DWvXTFWQPjBYNzMgDjyEuANEgH/5WDsySDnlLAY+gRvIP7wIYaz5sqrF/6jhQE6PRKAd5WTqDlsRwYhgxihhBdMJN8SA8AI+BzxDYPHA27jcY7V/2hMeEdsIDwlVCB+HmJEmJ/JtYxoAOyB+hyTjr64xxe8jpjYfigZAdMuNM3BS44l7QDwcPhp69oZariVuVO+vf5DmUwVc119hR3CgoxYgSQnH8dqa2s7b3EIuqol/XRx1r1lBVuUMj3/rnflVnIeyjv7XEFmD7sFPYMewMdghrACzsKNaInccOq/DQGno0sIYGvSUMxJMHeST/8MfX+FRVUuFW69bl9kkzBgpF0wpVG4w7WTZdLskRF7I48CsgYvGkghHDWR5uHu4AqL4p6tfUa+bAtwJhnv1LV/IGgEBhf3//ob90MXBP7/8ebvPHf+kcjsDXgREAp8sFSnmRWoerHgT4NtCBO8oEWAAb4Agz8gA+IACEgHAwGsSBJJAGJsI6i+F6loOpYCaYB0pBOVgKVoG1YCPYDLaDXWAvaACHwDFwEpwDF8FVcBuun07wHPSAt6APQRASQkcYiAliidghLogHwkaCkHAkBklA0pBMJAeRIkpkJvIdUo4sR9Yim5Aa5BfkIHIMOYO0IzeR+0gX8gr5iGIoDTVAzVF7dCTKRjloNJqETkBz0CloMTofXYxWotXoTrQePYaeQ6+iHehztBcDmBbGxKwwV4yNcbE4LB3LxuTYbKwMq8CqsTqsCf7Tl7EOrBv7gBNxBs7CXeEajsKTcQE+BZ+NL8LX4tvxerwVv4zfx3vwLwQ6wYzgQvAn8AjjCDmEqYRSQgVhK+EA4QTcTZ2Et0QikUl0IPrC3ZhGzCXOIC4irifuJjYT24kPib0kEsmE5EIKJMWR+KRCUilpDWkn6SjpEqmT9J6sRbYke5AjyOlkKbmEXEHeQT5CvkR+Qu6j6FLsKP6UOIqQMp2yhLKF0kS5QOmk9FH1qA7UQGoSNZc6j1pJraOeoN6hvtbS0rLW8tMaqyXRmqtVqbVH67TWfa0PNH2aM41Ly6ApaYtp22jNtJu013Q63Z4eQk+nF9IX02vox+n36O+1GdojtHnaQu052lXa9dqXtF/oUHTsdDg6E3WKdSp09ulc0OnWpeja63J1+bqzdat0D+pe1+3VY+i568XpFegt0tuhd0bvqT5J314/XF+oP19/s/5x/YcMjGHD4DIEjO8YWxgnGJ0GRAMHA55BrkG5wS6DNoMeQ31DL8MUw2mGVYaHDTuYGNOeyWPmM5cw9zKvMT8amRtxjERGC43qjC4ZvTMeZhxiLDIuM95tfNX4ownLJNwkz2SZSYPJXVPc1Nl0rOlU0w2mJ0y7hxkMCxgmGFY2bO+wW2aombNZgtkMs81m5816zS3MI81l5mvMj5t3WzAtQixyLVZaHLHosmRYBllKLFdaHrV8xjJkcVj5rEpWK6vHyswqykpptcmqzarP2sE62brEerf1XRuqDdsm22alTYtNj62l7Rjbmba1trfsKHZsO7HdartTdu/sHexT7X+wb7B/6mDswHModqh1uONIdwx2nOJY7XjFiejEdspzWu900Rl19nYWO1c5X3BBXXxcJC7rXdqHE4b7DZcOrx5+3ZXmynEtcq11vT+COSJmRMmIhhEvRtqOTB+5bOSpkV/cvN3y3ba43XbXdx/tXuLe5P7Kw9lD4FHlccWT7hnhOcez0fOll4uXyGuD1w1vhvcY7x+8W7w/+/j6yH3qfLp8bX0zfdf5XmcbsOPZi9in/Qh+oX5z/A75ffD38S/03+v/Z4BrQF7AjoCnoxxGiUZtGfUw0DqQH7gpsCOIFZQZ9FNQR7BVMD+4OvhBiE2IMGRryBOOEyeXs5PzItQtVB56IPQd1587i9schoVFhpWFtYXrhyeHrw2/F2EdkRNRG9ET6R05I7I5ihAVHbUs6jrPnCfg1fB6RvuOnjW6NZoWnRi9NvpBjHOMPKZpDDpm9JgVY+7E2sVKYxviQBwvbkXc3XiH+Cnxv44ljo0fWzX2cYJ7wsyEU4mMxEmJOxLfJoUmLUm6neyYrExuSdFJyUipSXmXGpa6PLVj3Mhxs8adSzNNk6Q1ppPSU9K3pveODx+/anxnhndGaca1CQ4Tpk04M9F0Yv7Ew5N0JvEn7cskZKZm7sj8xI/jV/N7s3hZ67J6BFzBasFzYYhwpbBLFChaLnqSHZi9PPtpTmDOipwucbC4Qtwt4UrWSl7mRuVuzH2XF5e3La8/PzV/dwG5ILPgoFRfmidtnWwxedrkdpmLrFTWMcV/yqopPfJo+VYFopigaCw0gIf380pH5ffK+0VBRVVF76emTN03TW+adNr56c7TF05/UhxR/PMMfIZgRstMq5nzZt6fxZm1aTYyO2t2yxybOfPndM6NnLt9HnVe3rzfStxKlpe8+S71u6b55vPnzn/4feT3taXapfLS6z8E/LBxAb5AsqBtoefCNQu/lAnLzpa7lVeUf1okWHT2R/cfK3/sX5y9uG2Jz5INS4lLpUuvLQtetn253vLi5Q9XjFlRv5K1smzlm1WTVp2p8KrYuJq6Wrm6ozKmsnGN7Zqlaz6tFa+9WhVatXud2bqF696tF66/tCFkQ91G843lGz/+JPnpxqbITfXV9tUVm4mbizY/3pKy5dTP7J9rtppuLd/6eZt0W8f2hO2tNb41NTvMdiypRWuVtV07M3Ze3BW2q7HOtW7Tbubu8j1gj3LPs18yf7m2N3pvyz72vrr9dvvXHWAcKKtH6qfX9zSIGzoa0xrbD44+2NIU0HTg1xG/bjtkdajqsOHhJUeoR+Yf6T9afLS3WdbcfSzn2MOWSS23j487fqV1bGvbiegTp09GnDx+inPq6OnA04fO+J85eJZ9tuGcz7n6897nD/zm/duBNp+2+gu+Fxov+l1sah/VfuRS8KVjl8Mun7zCu3LuauzV9mvJ125cz7jecUN44+nN/JsvbxXd6rs99w7hTtld3bsV98zuVf/u9PvuDp+Ow/fD7p9/kPjg9kPBw+ePFI8+dc5/TH9c8cTySc1Tj6eHuiK6Lj4b/6zzuex5X3fpH3p/rHvh+GL/nyF/nu8Z19P5Uv6y/9Wi1yavt73xetPSG997723B2753Ze9N3m//wP5w6mPqxyd9Uz+RPlV+dvrc9CX6y53+gv5+GV/OHzgKYLCh2dkAvNoGAD0NAMZFeH4Yr77zDQiivqcOIPCfsPpeOCA+ANTBTnVc5zYDsAc2+7mQOwQA1VE9KQSgnp5DTSOKbE8PNRcN3ngI7/v7X5sDQGoC4LO8v79vfX//Z3hHxW4C0DxFfddUCRHeDX5S3XXBzRVJOPhG1PfQr3L8tgeqCLzAt/2/AI8yiLeDpxWOAAAAimVYSWZNTQAqAAAACAAEARoABQAAAAEAAAA+ARsABQAAAAEAAABGASgAAwAAAAEAAgAAh2kABAAAAAEAAABOAAAAAAAAAJAAAAABAAAAkAAAAAEAA5KGAAcAAAASAAAAeKACAAQAAAABAAAFBqADAAQAAAABAAACLAAAAABBU0NJSQAAAFNjcmVlbnNob3RnogzhAAAACXBIWXMAABYlAAAWJQFJUiTwAAAB12lUWHRYTUw6Y29tLmFkb2JlLnhtcAAAAAAAPHg6eG1wbWV0YSB4bWxuczp4PSJhZG9iZTpuczptZXRhLyIgeDp4bXB0az0iWE1QIENvcmUgNS40LjAiPgogICA8cmRmOlJERiB4bWxuczpyZGY9Imh0dHA6Ly93d3cudzMub3JnLzE5OTkvMDIvMjItcmRmLXN5bnRheC1ucyMiPgogICAgICA8cmRmOkRlc2NyaXB0aW9uIHJkZjphYm91dD0iIgogICAgICAgICAgICB4bWxuczpleGlmPSJodHRwOi8vbnMuYWRvYmUuY29tL2V4aWYvMS4wLyI+CiAgICAgICAgIDxleGlmOlBpeGVsWERpbWVuc2lvbj4xMjg2PC9leGlmOlBpeGVsWERpbWVuc2lvbj4KICAgICAgICAgPGV4aWY6VXNlckNvbW1lbnQ+U2NyZWVuc2hvdDwvZXhpZjpVc2VyQ29tbWVudD4KICAgICAgICAgPGV4aWY6UGl4ZWxZRGltZW5zaW9uPjU1NjwvZXhpZjpQaXhlbFlEaW1lbnNpb24+CiAgICAgIDwvcmRmOkRlc2NyaXB0aW9uPgogICA8L3JkZjpSREY+CjwveDp4bXBtZXRhPgpnSafpAAAAHGlET1QAAAACAAAAAAAAARYAAAAoAAABFgAAARYAAKEAx8JDawAAQABJREFUeAHsnQW8HTXah9OWRRZ3KA4LZdEFFmkp7ny4U6RI8eLuLdriWtylsLiV4tZFim+BhUKLFadQWCi2cL88Wd4hJ3eOXuntOf/8fvfOnJkkk3lmJpP8582bTk0+OAUREAEREAEREAEREAEREAEREAEREAEREAEREIGGItBJwmBDXW+drAiIgAiIgAiIgAiIgAiIgAiIgAiIgAiIgAgEAhIGdSOIgAiIgAiIgAiIgAiIgAiIgAiIgAiIgAiIQAMSkDDYgBddpywCIiACIiACIiACIiACIiACIiACIiACIiACEgZ1D4iACIiACIiACIiACIiACIiACIiACIiACIhAAxKQMNiAF12nLAIiIAIiIAIiIAIiIAIiIAIiIAIiIAIiIAISBnUPiIAIiIAIiIAIiIAIiIAIiIAIiIAIiIAIiEADEpAw2IAXXacsAiIgAiIgAiIgAiIgAiIgAiIgAiIgAiIgAhIGdQ+IgAiIgAiIgAiIgAiIgAiIgAiIgAiIgAiIQAMSkDDYgBddpywCIiACIiACIiACIiACIiACIiACIiACIiACEgZ1D4iACIiACIiACIiACIiACIiACIiACIiACIhAAxKQMNiAF12nLAIiIAIiIAIiIAIiIAIiIAIiIAIiIAIiIAISBnUPiIAIiIAIiIAIiIAIiIAIiIAIiIAIiIAIiEADEpAw2IAXXacsAiIgAiIgAiIgAiIgAiIgAiIgAiIgAiIgAhIGdQ+IgAiIgAiIgAiIgAiIgAiIgAiIgAiIgAiIQAMSkDDYgBddpywCIiACIiACIiACIiACIiACIiACIiACIiACEgZ1D4iACIiACIiACIiACIiACIiACIiACIiACIhAAxKQMNiAF12nLAIiIAIiIAIiIAIiIAIiIAIiIAIiIAIiIAISBnUPiIAIiIAIiIAIiIAIiIAIiIAIiIAIiIAIiEADEpAw2IAXXacsAiIgAiIgAiIgAiIgAiIgAiIgAiIgAiIgAhIGdQ+IgAiIgAiIgAiIgAiIgAiIgAiIgAiIgAiIQAMSkDDYgBddpywCIiACIiACIiACIiACIiACIiACIiACIiACEgZ1D4iACIiACIiACIiACIiACIiACIiACIiACIhAAxKQMNiAF12nLAIiIAIiIAIiIAIiIAIiIAIiIAIiIAIiIAISBnUPiIAIiIAIiIAIiIAIiIAIiIAIiIAIiIAIiEADEpAw2IAXXacsAiIgAiIgAiIgAiIgAiIgAiIgAiIgAiIgAhIGdQ+IgAiIgAiIgAiIgAiIgAiIgAiIgAiIgAiIQAMSkDDYgBddpywCIiACIiACIiACIiACIiACIiACIiACIiACEgZ1D4iACIiACIiACIiACIiACIiACIiACIiACIhAAxKQMNiAF12nLAIiIAIiIAIiIAIiIAIiIAIiIAIiIAIiIAISBnUPiIAIiIAIiIAIiIAIiIAIiIAIiIAIiIAIiEADEpAw2IAXXacsAiIgAiIgAiIgAiIgAiIgAiIgAiIgAiIgAhIGdQ+IgAiIgAiIgAiIgAiIgAiIgAiIgAiIgAiIQAMSkDDYgBddpywCIiACIiACIiACIiACIiACIiACIiACIiACEgZ1D4iACIiACIiACIiACIiACIiACIiACIiACIhAAxKQMNiAF12nLAIiIAIiIAIiIAIiIAIiIAIiIAIiIAIiIAISBnUPiIAIiIAIiIAIiIAIiIAIiIAIiIAIiIAIiEADEpAw2IAXXacsAiIgAiIgAiIgAiIgAiIgAiIgAiIgAiIgAhIGdQ+IgAiIgAiIgAiIgAiIgAiIgAiIgAiIgAiIQAMSkDDYgBddpywCIiACIiACIiACIiACIiACIiACIiACIiACEgZ1D4iACIiACIiACLQJgccee8y99957Wd7rrruum3322bPf9bTyyCOPuA8++CCc0qSTTuq22267ejo9nYsIiIAIiIAIiIAIiECdEpAwWKcXVqclAiIgAiIgAhOawAYbbODuu+++rBhDhgxx6623Xva7I6yMGzfO3XnnnVlRll56abfEEktkvytdQfR84IEHQvSpp57affvtt5UmVTwREAEREAEREAEREAERmGAEJAxOMPQ6sAiIgAiIgAjUN4GJQRj897//7RZZZJHsQpx66qnuiCOOyH5XuiJhsFJSiicCIiACIiACIiACItCRCEgY7EhXQ2URAREQAREQgToiIGGwji6mTkUEREAEREAEREAERKAuCUgYrMvLqpMSAREQAREQgQlPoDWFwaampnBCnTp1qurEfvvtN9e5c+eiaSaExWCt51L0JErsKHf+JZK6lqQtla/2iYAIiIAIiIAIiIAIdBwCEgY7zrVQSURABERABESgrgi0RBj873//6/BJeO2117rnnnvOjRkzJrDBf1+PHj3cpptu6nbddVc3ySSTFDB7/PHH3TXXXOMefvjhLM0ss8ziunfv7nbeeWe30UYbOcTFDz/80B122GHuo48+ck899VSWB8OKzcfg4MGDs+3lVkoNJa7mXCj/JZdckh1uq622CueabfArnNsVV1yRbeK81l577fD7119/dVdddZV78MEH3TPPPBMYrLTSSq5nz55uxx13dAsvvHCWjhUYwIKwyiqruN69e7uzzjrLXXnllW706NGB/w477BD2658IiIAIiIAIiIAIiED9EZAwWH/XVGckAiIgAiIgAh2CQK3C4M8//xwEqptuuqnkeayzzjph4pDJJ588xLv00kvdHnvsUTJN37593bnnnuuGDx8exMJSkc2yr1Qc21dMGKz2XN5///0C8W7FFVd0w4YNs8OEJWLhLbfckm0bNWqUm3/++cOsyAh7iIt5AVH19ttvd2uuuWa2e9FFF3VvvPFG+L3lllu6L774oiD9ZZdd5vr06ZPF14oIiIAIiIAIiIAIiEB9EZAwWF/XU2cjAiIgAiIgAh2GQK3C4BlnnOEOPfTQ7DwQtDbZZBM31VRTueuvv9795z//yfZhPbfGGmuEWYCnnXbabDtpdtppJ8esw8wW/Pnnn2f7+D3zzDO7LbbYwiHcmTWiRUBk41ivvvqqbSq7LCYM1nIuWDc+++yz2TGxauzatWv4PX78eDfllFNm+7AGfPLJJx1Wicsvv7x76aWXsn3FVp5//nn397//PeyOhcG8+BIG86homwiIgAiIgAiIgAjUEQH/NVxBBERABERABERABFqdwP/93//hGDD780ODKzrGCiuskKUhvbeiy9J5Ua9gX79+/cK+hx56qGD7xRdfnKXxFnEF+/bdd9+i+/ysxNm+ala89WJ2DC9KZklrOZfLL788y4vzHzRoUJbf3XffXbDPDxsO+84///yC7X44cNMvv/zS5IXEpltvvbVgn7cMzPLzQ6cL9nE8tvmZmZvOO++8phEjRmRxtSICIiACIiACIiACIlB/BGQx6FvACiIgAiIgAiIgAq1PoFaLQYYQ//jjj6FAWPZ5gTEr3HXXXRd85dmGww8/3A0YMMDdc889wX+gbZ9zzjndiSeeGHzvYW3HJCOWJz4H55hjjhC13OQj77zzjnvvvfcs24LlFFNM4RjqSyhmMVjLuXz99dduhhlmyI616qqrusceeyz8xp/g1Vdfne375ptv3DTTTOOWXHJJ969//StsZ4j10KFDszispOk4p3nmmcelFoP4brzxxhudDc8uyEQ/REAEREAEREAEREAE6o6AhMG6u6Q6IREQAREQARHoGARqFQat9Pjbe+GFF9ybb74ZJsJg3cQvi2PC4JdffhmGB9v2eIlIiFhGefiLJywpJwzus88+zlvsxdll6+RrE3cUEwYtcjXnQprtttsuCHSW/uOPP3Yzzjijm2mmmbKh1EwKwuQsDIeebLLJLKpjGHU6yQgM4yHYjz76qFtttdWaCYPE69atW5aXVkRABERABERABERABOqbgITB+r6+OjsREAEREAERmGAEahUG8fm3++67u/vvv79s2U0YJOLTTz8dLONGjhxZNN1CCy0UZvWda665Qpy2FgZrPRdmFUbMtOCHRru//OUvBROHmH/Ft99+23Fe1QQsGbfeeusCYRBB8dtvv60mG8UVAREQAREQAREQARGYyAlIGJzIL6CKLwIiIAIiIAIdlUAtwiCTaDAs1mbK5dywzCMvLNnmnntut/nmm2enHAuDbPz111/dP//5T4dFHH9PPfVUFtdWVl99dffII4+En+WEwSOPPNJdeeWVlrRgyVBcZjcm5FkMtuRcSMtwZ5s0hTJ733/uggsuCMdjODRWhF26dHHp0GNEQiZkKRW22WYbt/LKKxcIg6R76623SiXTPhEQAREQAREQAREQgTojIGGwzi6oTkcEREAEREAEOgqBWoTB1157zS2++OLZKTBcFmHOhv8iXMXDZE0YfPnll91nn30W0k033XTOT/oR1rGA85NvuF133TXLk5Uffvgh+NFLhcGTTz7ZHXXUUQVxK/mRJwzWei52PMrhJ0OxnwXLY4891p1wwgnZtllnnTUTERFOOec4IJgaH7YzJHnSSSctEAYRHl9//fU4mdZFQAREQAREQAREQATqnICEwTq/wJzeTz/9VOCnqJpTxuE7VgltGbB48LNMZodYZZVV3Pzzz5/91ooItIQAjvnxS4Zo8OKLLwZ/YEsssYRbeumlg1USSyxuFERABFqfQCoM7r333m6xxRYreqAFF1zQfffdd44JMCz4WXfdTjvtZD/daaed5hADLZgweNxxx4XJRmz72LFjCybwWH/99bOhyQyZxcqOZz8VBjn2bbfd5jp16mRZVbTMEwbvvPPOms7FDojVJJOD5AXKHQukCKjXX399FvWJJ54IFoG2wc8y7AYOHGg/3RdffBHEwXjyEQmDGR6ttDIBJs+JJ/HheZl99tlb+SgdNzt8dzLkn3rnz3/+c5hQicmL6iXcfPPNzs+AHk4HS2osnBVEQAQmLgI33HBD8Fkcl3q++eZzTIBWLMTPvsWhbqeO7wjhySefdKNGjQpF4WMo/ptbI+DbeaONNgptKfK78MILsw/SleTPxHa4cyHwLnjooYfCspK0bRan/iZa1hmlBL766qsmfwPV9Pfss8+m2bX6bz/Uq6Bs11xzTasfQxk2JgFfyTZ5Ybvg/kqfBd94bfroo49aHdDgwYObvKAR/rzw3er515Lh448/npWJslUTfKemIO2nn35aTXLFbVAC/uNSyecvfR69uNXkJxcpSOM/FDV567cm72+wyVvQFewj/X777Rfocn/H+fkPAE3ej14T24855piCfRtuuGF2RXj+43Sse+GwyQ9fzuJUsuL9AWb5kJ5Q67nEx1t22WWzfK2cbEuDF12axfNDg5t22223JhhaWpYHHnhgltyLgdk+1hVEoC0IpHXBkCFD2uIwHS7PcePGNXkL3uwZs+fwgw8+6HBlLVWgcu0HOy+WW221VamstE8ERKCDEoifY1unH+VHHOSW2E++1qxuIx3todYI5eqdSo6R1zarJF25OH5SuoJz95O7lUtSsP+3334raJtdccUVBfsnxA83IQ6qY7YvAQmD7ctbR5vwBHiBeeuYggrbXnB5SzrxiA6tGcjTjrXWWmu1ZtY159WrV6+sTJSNl1Kl4dJLLy1I6324VZpU8RqYQCoG2DNRbIkw+MsvvzR5S96C+61YfLZ7X3mBsPfJ19S7d++y6Xg2vfVwwVVJhTM7XkGkMj/yGp+1nkt8KD/pSLNzuuSSS+Io2TqCv5W92BJRkXaBBQmDRkLLtiSQ1gWNIgz27ds395mc2ITBcu2HuL6RMNiWT5LyFoG2IxA/x/F6sTZ/Ko5ZmtYSBsvVO5WQyGubVZKuVBxEwLif513VlIpedJ93B5O9H/iQW0yALZpBK++QMNjKQDtidn4oZXbT2QNb6fKll15q81OSxWCbI264A2B1mneP0wHGUqiYFWFrWg7GLwwJgw13C+qEfyeQigF5z2W8zRpXWL/FjTmLg4CHJTANKNvG82wBIe6MM84o+Apr8VhSHu9awKJnSz8stwnr4Tgu69WEuLxxmWo9Fzv2+++/36xcfpi07W62HDFiRNNKK63ULA3nc+ihhzb5oYwFaWIRVhaDBWj0oxUJpHVBIwiDfHyL2wI8g3y0POecc5q8j9NWpNv2WZXroPNRZ/vttw9/F110UdsXSEcQARFodQJpG8h+x6MM4oPmtZtI05GEwQEDBmR1Ex9qWiMwKszYsPST3NWU7ciRIwvymdDvRfkY9FezEQLj4P0dW3CqM888s/OKd7bNdz4czsvjMNlkk8U/nW/kuM6dOxdsK/ejXBr8zsS+SLyo43bcccdy2Wq/COQSYKIB/JTZTJ5E8hYy7q677irwZ8SMpPgSi58B/Jh5i5vcfKvdOM0002R5e2HQPfjggxVlUe55qSiTIpHwq3HjjTdmezlWpX7ULrvsMrf77rtnaZn1tUePHtnv1lyphYHVb5WeT2uWV3m1HYExY8Y4b1kTJslgZmLeUZVcY+4h0vkh78FnoRfq3FxzzeWmn376koXlXemH/oV33VRTTeX4a61Q67nce++9zn/QyIrhrXEcPn3KBfwL+0ZnqIc473nnnXfC+68pV2jtr1sCqb9R3wFy6623Xs3nW8t7or3S2Enh55RJfiwwE7jvUNrPNlm21Tm2pP2Qd6K8syupy4ulJX21/ZG8vLRNBETgDwLFnknaUMwJEPtkp5+V6gaWkxcG3dChQ+1n7rKSuqrWeqclfYJKyoVvwXvuuSecl/9gHfzHFquPyuXXvXt35123hbyq6S/mQm3hRgmDLQQ4MSePhQvOgw5U+oAjstABQUzACbqJLVQQa6+9tqOR478CF2Bg5kMaPqRhsgdLw4NDmj59+rhlllkmS1NKGKSThsP0Tz75JItPHjvvvHP2WysiEBNgls7jjz8+2+Qti8J9mNfBf+6555o5in3llVfCpCTc+3vssUeWDy+5eAIEdjArKM5jCTjb9l+lwv39/fffO+/bLGznn7cYyJ6Tfv36OSZEOfvss7P93nrA3XLLLWHCA+9PwyGArLzyykG43GKLLbJ4rBx22GFhAhXWETqYiCEOHBcR1MLll1/uEPU41/vuuy8TK9mPwMCLDOe3m2yyiSUpWCJoIpZ66+EgMthOxHzqAcQGbxFlm8NECd6fW/abFW+J6Q455JBs2/LLL++YNdYmHaLjBDsmj3j44Yed98vmvOWSYyIiZpKN64ssE78Cx3PPPdc9/fTT4Y99OEhGsNxzzz3DMeL4WheBiYUAjUTvOzHMmuy/RBcUm+eG96CCCExMBFoqDNIexLk7bUbeZ7QtmUhsqaWWct5Sza255prNcFTbHiWDWtKkB2aCEW+ZEiYa8W5Kst20g5dbbjk35ZRTOt7NtbzPSXv11VcXvD9pQ5x55pnu7rvvdny0I/COZmKmYnXF888/H2Z7p53OOu0UJiKiLcD7c9pppw35kHcl7Qc+6HuL7ZCGd/wBBxwQ1u0f1+uss84Kx+J4fJRdccUVw/WjruODbhyGDx9e0E7iXT9s2LBw7rSTSM/kcbTL9tlnH4mEMTyti0CNBIoJg2SXTmhGPVSsP54nDFK30p+gX/HMM884Ppb60Q2uZ8+ewSAonkytknqna9euzeoI+iP0A+nv0JfyPhDd6aefHvownIPVvaxb+PHHH8O7hbYW5aKuoq6m77H//vuHesrisqR+n2GGGbJNJ554oov7PUwy5f0FujvuuCPrN1G/8r5ikjjeV5TDgrewdkzMZ4GJqrp162Y/23fpFVWFBiWQDm9IJxNgWGXse8jfmQXmrvbbCx0ZQYZxMZzA9hVbYoJrodhQYvLacsstC/LCNNmLLpZUSxFoRsA3NAvumXLOXLmn4vv0ggsuCHn6GTsLtueZ0cfDGRmOR4jzylvHT4efqbQgXlrmON3BBx8cfK6FzP2/+JnMG/aX+jPCl5i3yig4Xpw/65jZFwteeCyZ1nc6mg3N9qJqQXapD5Jrr702TH4Ql6MUg7i+sIz9LGNhcog4j3idazN69GiLrqUITFQEfAc/97lbYYUVqvINOlGdtApb1wRaMpT41VdfLXj3xXW9re+yyy5NXizKGNbSHq0lTXbAaMV3TnOfXysr7W9CLe9z0tEeifNKh/naPpbphH74Yj3ppJOy9HFcW6d8MCdU2n6wtCxTH4P+w2ezIdVxfNa9sBmOZ//SdpIXK4uWmWuvIAIi0HIC6XMZ/06H4aZ1ehyXvlUccIniP9wXfYapc3ATY6GSeietI9L+itWzcT/PttlxXn/99SYmqovLnq4zgZu3+rMkTX7EWUF82msW/EeUsnUd7TgmpbLgxciC/Lx4arvafVmdA512L54O2JYEeDjimz8VBtOHko42lUJeA8QaY8y+GudJGnwa4dct3s66PRR5wiANl1RgpAIaP358WyJR3nVAIL2v7T4rdmrXXXddwb3pv9qEqLUKg/4rU65/M9vuLW+bCYPps5H+jicaqKUjQaOZ46f5WpkQ6ooFJh0hXsqV32ynTvCWfgV5/+Mf/yjILvVBgnAYd2zicqXHsX2vvfZalidO2227LfPSeYvGpu+++y5LpxURmFgI5AmDvJP9UJ6J5RRUThEoIJB2Iiv1pcTHYGYIt7relnl1vrdSy45ZS3u0ljTZAaMVnlPej2m57b2JD1BCLe9z0hV7fxqbeEkZEDwt+BEEFbHk/fnll182Vdp+iI8ZC4MIjPE+W8+7frfffrsVs+p2krfSydJqRQREoDYC9nyyxOCBesy28cxaXYKvYtvOMp34LRYGSRP7Mo7TpevemjgUvJJ6JxUG07woL6GYMIimkNbRaR72Ozag8BaIBece+61mcjdLwxIu9CtjQxK2ewvDUDb+pX6kvdumbF97r0gYbG/iHeh46Us5FgbTCUu4oRHrLBx11FEFNz7qOSEVCOLOvB82UZDm1ltvDWlSYRClnIcifrA23njjJm/qG+LrnwgUI0BjPL5v7KVQLD7bcRgbp7EGe63CoB0rfr7SyUfyXmZYKvqhUuGli5VjXCZeXN5fWMi61o4EiVNRP/4CZuUutiw1K7E3ey8oL5a+FrxJfsE+P+wn7Eo7NvDyQ8TCVznEvNQ6AKfmFrxvyCxP0vGVkXPhmmHBHLPzQ88smZYiMNEQwNKX9yoCoR9Slz3/E80JqKAikBCoVRhM25t0tGijEmhjxh1X6n7rWNbSHq0lTXKaBT8/++yzgvfRQQcdVLC/1vd5+v6kjeDdD4QPYbSh4/YHTHhHE6hX0n3efUd4f9J+Yob3+P3Jh1ML5doPcToTBnkvYx0T76OtQ3uGPoV3e1KwDzHSRhzktZMYPYBQzDs/tfIpNzrEzkNLERCB4gTiZxUxL541l33UFwSexTguH3ri37EweP755xfs8y4FQl8HYQ4tIE4X9x84Tql6J6+OIC8Mi7BANqOKYsLgqaeeWnBs6i2MSRAyqWPiclHHWqA/Eu+zD7YYScXbrR4kHZNNxSIkuooF6sM4HeLihAoSBicU+Q5w3LRxEAuDNB5oXNif90GSlZiXeSrceefoYT/DHuObm+GBVBY04njQmOXY/sySKxUG4/SsU0kgmCiIQDkCmITH909ckRdL6/3ZFaShk0FoT2EwfRFy/PQZ87492FyzhQFpS71g2V8qlBIGSZc2/s2KOJ0h2j4ipB2bdBZD74ukWYePlycWDPE1HjhwYEGxqWfil28l90BBBvohAiIgAiLQ6gRqFQbj+hzhiDo+DriViN8J3vdv2F1Le7SWNHFZ0vX2EgZpq8ch7bjCiJB25r0frzhZE0Og474BH+gslGs/xNfAOsSpJQx5pCEd1mzDCdNOv31UtPSpsQH5KIiACLSMQPwcIwz++9//LqhfrU6g32JxqZdTg6JYGIxF/Hi7lZRn2/JiST1koVS9k9YRpM2bHbiYMBh/VKLeS2eKT/sp5p4oHQVlhlNp/4TyUC8xUoyPJN7fYaaBwDUOMDQGE7LfImEwvioNth6//LkZY2HQUHAjMwyARgeNLV72cSPNbmITBlOF3fazpGLwjpCbGEsfh3LCYOp3JE6rdRGICaQvJu477uFSIb1n6bwQ2lMYTIfecny+ysXPjzX8a7UwIM9SL1j2lwrlhMF0eJJZBMduBHjx2Qs0feHi0zQNxx9/fAEDhgqlFp682Pm6Fv/F3FiXtXFKVr9FQAREoH0J1CIMphYYfpKKZoXmHR+3ZxlhQkjf7fF7oVh7tJY0zQoUbWgvYTAencPhUwsda6On71Q6qpWGcu2HmK8Jg+nQ7Ntuu63Z4Sh7nPa8884LcdJO/8UXX1yQFiODOJ2fyKVgv36IgAhUTyB+phAGCfEwYOpajIfiePTt07raBMDUGo70cXud9bj+Jl90AQul6p20jsBSMC/kCYNYHsfnYIJnXvp0Wyx0piJeaiRhx+AcGe1EX8ks3uN803TxvvZclzDYnrQ72LHSBzEVBrFQikUIu7nzltbo4BQRENK80zSbb755NjSqnDBIWvkO6WA3TwcuTipcjxw5smRpU2e1vOAI7SkM2tf8uKDp8Nz+/fuH3fEzyXoa8iYfsTilXrAWp9iynDCYNhToGKRCLZ0SC6kwmFqBEC+1CGCo8ZVXXlnwMk/rlrzffuYzO6yWIiACIiACE4BALcIglhZxne5nf8wtedxRi4doVdseJfNa0uQWym9sL2Ewbb8z2UfMzdrovJfj7VjmVxrKtR/ifE0YTNsNNvIhPmZqZWMTHKSd/lRUTF3HSBiMqWpdBGojED/HJgwy9Dfenlr44WOvmDBIHyxOW8n6TTfdlBW+VL2T1hHpxwPLJE8YTD9IMKy40hBbGqb9MOol3EeVOk80Ej5CxSGd1yHe157rEgbbk3YHO1Yq3sUNi3feeafZTY2qj38UXvSp6b81OuwUqSDwHcLX3VjIiB8UM/vPEwZjk1rS4PfNLI3sGFqKQB6BtPPB0KBiIR12yr1mM/ilwuCuu+7aLJv4GbIXqEWK95XzMZg+P+TB8P34eeHFTIifp/RLFfvTlyiCnYV0XzlrSkvHMm3gM7tyGtL8sXKMz8H8HJEuFQZxZJwGhjnF6fEdBat4G7Oc7bXXXiX/8qwR02PptwiIgAiIQNsRSN/NlUw+koo/+BvMC/EHQd4JcaimPWrpakljaeNlNcJgNe/z9P1JeyUOxYTB1EUJ55kGXPdg5cNf7MYnfb+n7Yf4vWzCYFoOLAjT8O677xa80/FpRkg7/fyOQ3pvSBiM6WhdBGojED/H1q/Jm/DP4pn7JeoS28bSLAZTowE+3JRrs8cfEErVO2kdkX48MAJ5wmDq5iDv3cKHE6sLWdqHlNSC0o4TL0eMGNF09tlnN2HBHvcHY0Zx/Rt/3EIDmVBBwuCEIt8BjpveqLEwiL+v+OY1B55W7NSSx4QNhj/ef//94S8WARiugCVWnCdj9AmpMIgpMJMPxIo86XBYrCAC5QjwYojvM9bNWW6clkYtDck4Ls8EX68JqbVb+lUofdnZC9SOET9fdq/bvvRlZlaKtp8l93tcNoR2AgJ9vD3tEMQvLOKVEgarEdtTYTDPj0c6bCguJ2bycUg7NlaHxHHiSUbIi2uD9XCcb169gENjxED7i/PUugiIgAiIQPsTqEUYpJTxuzR9j7A/FZZsuHEt7dFa0lCGYqGcMFjr+zx9f6btgFSQs/dr2q6gvR4H2j0xb97BFtIOetp+iN/LJgymVjnxTJyW7/XXX1/wTrfOfdpOkjBoxLQUgbYjED/Hcb8GA514n63baKZiwiAljY19GDGYBuoSa6+zRISzUKreKVdHWB55wmDqgoK6OA0nn3xywTm/8sorIUqcHxxswiR8I5oGgkWguTHiAwv9I0RR48YyHi0W17tpfzMtV1v+ljDYlnQ7eN7xTcgNGguDaaMjHsrLw5SavFqjIx4jz7qp66DAOit+IMwPTCoMmsVWnq8XLBkVRKAcgdQxLPcdQ5CGDRsWnNoy02fsONfuy9QM3bbb0l4KHD+dKTF+gbI/fr5YtxcE+9KXGfuZBMUCQnpsAcHx+WJH4Lmx8rBExLfnjBdSvI/1UsIgPnoqDakwaH6A4vQ843EDIC4LfjXikNYx8IutBtN6wYaHpceAUzxUGM5xAybvZR+XQ+siIAIiIAJtTyAVBvfee++mQYMGFf2zoVbpB6LYJy/vg3R4LBNsEGppj9aSphS5csJgre/z9P1ZqTCI1X38Xub9GFutpLN0xjP9ph30tP0Q52vCIO/jtC3E8HAL8Ek7yzbxQNpOkjBo1LQUgbYjED/Hcb8m7QNYPCZ9JJQSBtPJkGKLQNKmhkNxfVaq3ilXR5A3IRbyqI8sxD7QOR8+qFgYO3ZsQd1F38aspBlBZufP0gyhUt0itYo//fTTC9JZHZoaopg+YmVpz6WEwfak3cGOFb+subFjYZDGWnzTIwSidjOhQNoII5594UunNefLAA8GaVMhBhNbQioAmDDIvrRCYIiIiSDsVxCBPAKYcMf3byXrvADpZMSBWbXTtGwjbro9foGSR9rYJT7bhg8f3kwYtLy437GYTZ/N3XbbLSvWcccd1+zY5FvMp0UsDKb+B61MeVZ32QF/X6EzZuW0JaIcL/w4HHnkkc3iET8uB/HTjg1xyG+XXXYJDnrtGLbEqsAC9ZBttyViYB67tDNheWgpAiIgAiLQfgRSYdDq7mJLcySfWokTn7x4n8WuNdjO+9naiLW0R2tJU4pgOWGw1vd5+v6MO9KUp5jFIPtS/2CMzqGNkbZZaIdQfgvl2g/xdTRhkLSpRSD50tahc51+SIwtCst1+jWU2K6MliLQegTi5zju13z++efN2t0Mf7VQShhE7I/zZZ36hnonHR1I3RaHUvVOuTrC8ikmDKYzLlMuxMJUr2B7v379LLtmrpXwf05IJzShrqN/hRDKyMu0b2d9zrQcxXzphoO08T8Jg20MuCNnn96gsTDIlNzp/vShjn/bUGMaJ/E4+ThOvE4c1HhCKWEQk+I4HesXXnhhR8aqsnUQAoiDaachvZfsN2KUmYLHxc8TwywNy7hRG79AyYMZruK4to5vvvRlZvvylrw045kDU78YaZq0cR8LclhSpPH5PWDAgPi0c9fT4VqWDy/cOKRDh4i3zTbbxFHCetqxKVXf8KK2F6hlRIPCylBsyTWwTqKl01IEIMAXWnxgMpkNf7EVS0chhNNuKx/L+FnuKGVUOUSgUgK1CoPkn856n1fn8z6mg2WhlvZoLWnseHnLcsJgre/z9P1ZjTBY6TmmLljKtR/iaxILg1jZpGJkHNfW+bhHx9pC2k7idxwkDMY0tC4CrUPAnkeWab8mrcOZvNFCKWGQOLS34rzz1rFgTts5peqdcnWEla2YMMj+1HVaXrkYhRb3QV599dWCc7n22mvtUBW9qzgGLtkspJaGNgrT9rfnUsJge9LuYMdKO+KxMEhRUcBTkYGbmQeMcfHxw8NL3wKNDhotaf4Wn6+E8VdIfJXZPpaxxSB5pj5RiJOW1Y6tpQjEBH744Ycw5DfvPuY+YthQbDoep7V1RO/4/mQdy7ZnnnkmWMvZvvQFitDYu3fvZmnzhEFm4EqdgpMvQ6jSlyTlYkh0LEoSl+eNF1zq/zNOTwOdSX/StJUIgxwXP4ep2JoKg8SDj3FhmZrTEyft2DBMO7XQ5JwYsp36MiI9gUZB+rWR43F86g2Jgv/j1Kj/aVDSGOUPq/U48PzG92jqRiCO25brpco4cODAgjIiuiuIwMRKIO1Uxs9f3no64RfuNmI3EXEa/Armfdyrtj0K21rSFLsm5YRB0tXyPi819I48S1kMsh8fXlhH5rXTeafbEDfiWijXfoivh1l7WlqWxd7XtEdou6TveTrHcZ4SBmOaWheBtiEQP3P0keJw4403FjyTo0aNynaXEwaJiMFGsTr80EMPLXAnZBmXqnfK1RGWRywMUt+kIa//AQfqxzPOOKPggwVpqavivkfqN5G6Ku3PGFcMo2j3xYGJXW0/y9itUhyvPdY7cRBfCAURyCXgO9bO+/Vz/iZ1k046qfMPgptuuuly46YbvW8R57+GOt8wcv7BdrPOOqubZ5553J///Oc0qn6LQJsT8C8t531hOP+V2S288MLOi4Vukkkmqei43Mu+U+7GjRsX0s0999wVpSOSf4E432Fx5DHFFFO46aef3nmBzW2yySZZHv4l4rxPiRDHWy6FclFGnrligWfTD7Fy3veg69q1q/vrX//qunTpUix6wXaqfcrkv86HY1CmStOSkZ/cw3mLK9e5c+dQH0w22WRZ/l60d7PPPnv227+Enbf8bcbavwiddyeQxfOdMTfTTDOFuoY6Z5pppnELLrhgOEYWqcgKZXnrrbfCXvLg+lR6bYtkqc11QIB7iOee4IfauwcffDA7q2effdZ17949++2FQbfHHntkv9trpVQZ/dd45wWArCjUQYsuumj2Wysi0IgEvKgV3n1+krrw7ptrrrlcp06dSqKopT1aS5qShSixsyXv8xLZVrSL97MfleB4j9PGn3baaUuma2n7gbaH98nlvAWO69atW3jvlzygdoqACNQVAepwPyIitM/of8w777yhf1TqJFta75TK2/Z5Y5JQN/nJQoJm4Y0MivYlvMs1t88++1hSZ32YbINfoT9En9MbaIS+En2jOeaYI47iOBb9Fmuremtrd/PNNxfEac8fEgbbk7aOJQIiIAKeQDFhcGKFg8C42mqrhRefN4kvOA1v8ef8zF4F2/hRTBhsFlEbRKBGAqVEN0R1bzGT5dynTx+3yiqrZL/ba6VUGe+55x7n3RlkRfGOq91ss82W/daKCIiACIiACIiACIhA+xKwD1Mm6HmrZ+fdF1VdCG/16Ly7pCydGYpkG9p5RcJgOwPX4URABESg3oRBvobNOOOMuRcWi2GsBtMgYTAl0pi/sZSpxlrVKGGFjsVqqVBKdCuVrjX22WCMcpZMrVnGSpiUOreWpi+Vt/aJgAiIgAiIgAiIQL0QOPbYY513zxROx/tHdH5yyapPDQtB7/ohpPPDjN2LL75Y1Eqx6sxrSCBhsAZoSiICIiACLSHQCMKg97nozjvvPOf9bOSikjCYi6XuN+Je4rrrrnN33HFHGA5oX1sZ2r/uuus6LPcWX3zxXA40nu6+++7Q+GIYCoLzkksu6fzkQW6LLbbIGlPkgRWr992Z5eN9xTjv4yz89rPLuT/96U/u6KOPzvbvvPPObrHFFnMHH3xwtm355Zd3BxxwQPabldtuu835WbGzbaeeemoYBoPLAO9L03kn1O65555zY8aMCXE4bo8ePZz3F+q8z7SqysiQej+jZ3YshhYzbDIOL7/8smMYNMvnn3/e2fEYJk3Z02GBV199tfP+FkMWDF8555xz3Jlnnhm4ev+nYbt3tB2GMK+99trxobQuAiIgAiIgAiIgAiLgCTBMOB4a7Ce/Cq6qKoXz5ZdfuplnnjmLzoirNddcM/s9IVYkDE4I6jqmCIhAQxPgZUIn3gJfmvATOLEGRJGnn346+MjAh+gyyywTfASWOh/vSN75mY6zKIhCsa/CbIdW6oYAwlPPnj3Lng8C23rrrZfFw8ctQzTiYbXZzt9XEKL9DPdBCCtnpUc5sDZMfQwiMGL5amIlIhvWsLG/ypVXXtn5CbPCUW0/lnZ+oqECITItH7+9A2zHMJHJJ5+8rE80yugnJSjqYxBLS4ZCx8Oh02MinN5www0FDc1YkKf8DGHxDsXTpOG3nwjM7bjjjrn7tFEEREAEREAEREAEGpnAE088EXyjwwBDiFjoK8eFti3pCfR/4nZvubRttV/CYFuRVb4iIAIiIAIiIAKBgE2+E+PwM94FazpEchPb2E/jClHMwnbbbddMvELUMgHP4iG8DR061C2wwAJh0+jRo21XWOJYn4BPFyasSYVBJh/Zd999nZ/ROsTjH+Uwq1ecS8fD4v1MqO7cc891ftY652fUy9JQNiYXmmqqqYLFX1zOhx9+2K2xxhoVlREfg8UmH7n00kubTZaSx4RCYaVpEybFwmBW4CIrON5GvI+F0SJRtVkEREAEREAEREAERGBiJuD94CiIgAiIgAiIgAiIQJsR8EMkmnxbKfvba6+9smN5i7smLxJm+4jnhwKH/d5yrmC7H3LcNGrUqLDPzzLexO84Xy9kZfl6oSzb52clzraz8swzz2T7SO+H44b9jz/+eMF2L8xl6fwQ6IJ9XswM+9KyeyEuS+OH7Rak8cOYs32slCrjwIEDC9L6WYlD2k8++aQgHXlQbjj6GcOb+vfvX5DOz3ieHfPAAw8s2OfFvyY/Q3OTd6TddNVVVxXkCxc/e2iWVisiIAIiIAIiIAIiIAL1SUAWg77lqyACIiACIiACItB2BLzA5LwAlR0A/3U2fJ7Z3fDn98Ybb2T7GWIx3XTTOS8gBh96tgPHzAwbtoDPP/wDmlUew2K33XbbsLvUxB6UJc9ikGHx+Iz5/PPPQx5YGXohMqzjx5DjEbAcxCUAE6fgyxCLSALDSMyXIb/xpxgPx8UCcMCAAewKoVQZ8SmYZzE4ePBg16tXL8vCYT242267Zb9ZwSqRodUWYDzllFM2mw3ci4Fup512smhuhx12KPBr+OSTT7qVVlop268VERABERABERABERCB+iMgYbD+rqnOSAREQAREQAQ6JAEEtJdeesm9+uqrYZgqgqG3dsuEPSu0CYP4JMTfHiEW6SxeqWUp0a2YMEh+TEBy1llnZVl7y8QwwQjCmgWG5DJpRxwYsvvCCy84zolhzKzjSzMOrSEMxjPhkfenn37qZp111vgw7pJLLgl+GW0jzJdaaqlmwqC3QnSLLrqoRQvDqBlObYFh17HQadu1FAEREAEREAEREAERqB8CEgbr51rqTERABERABESgwxJArMIXn1n3lSqoCYOlxL1S6dlXKm0pYTDdh+XeIoss4jbYYIPskH4ossNHIoEZiHfffXd3//33Z/uLrbSGMJj6XGTyk3TCFWZv9kOIs2IwccuWW27ZTBhMRUVmXCaeBQmDRkJLERABERABERABEahfAhIG6/fa6sxEQAREQAREoEMQSAUnCoUlGsOCEd3uuOOOglmHTRica665gvBGfGbvHj58OKsF4eeff85+M9uwTZZRqzCI0DbPPPNkx0UA/Nvf/pYNaWYYsffzF2Y2ZujxkksuWTAMmkk7EBG7desWJv3YfPPNs/K1hjCYTpCC0MpEJ3G4/vrrw7Bg24ZV5iqrrNJMGGRClZlmmsmiufQ6SRjM0GhFBERABERABERABOqXQH26TtRZiYAIiIAIiIAIdBQCW221VcGkF34ocUHRtt9++4L9XhgM+72oVrD9q6++KkjHBCC+hZb9+RmFs/3xxB6rr756tp2VYpOPWKQjjzwyyzPOn3Uv7lm0phEjRhTE8z76mn755ZdsP5N3xOnjtEQqVcZik48wUUqcJxOcpMH7HCyI4y0DQ5R08hEvDBYkveWWWwrSeWGwYL9+iIAIiIAIiIAIiIAI1B8BV3+npDMSAREQAREQARHoSAS8VWAmOHmLu4KijRs3rkAgQ/QyYdD7+svSsb1v375Z2p9++qnJWx0W7EeIsxCLbqx7/4a2q6ww6Cc5Kcg3FuKee+65LB9v6VgQj5l945CKe6WEwbSMaVqbldj7Cyw4prekbPrmm2+yw/qh0AX7vW/GbJ+EwQyFVkRABERABERABERABH4noKHEvrWvIAIiIAIiIAIi0HYEvMWg89Zo2QG8QBV84L377rtu0KBB7vnnn8/2sWK+73744Qe32GKLhck8LAJDexl+TH6xv8IVV1zRDRs2zKKFobwjR47MfrOy0EILhVl3f/3119xZiePICyywQMFx2ccw4Q8++CDz6ectBt0SSyyRJWOCFHwSMlGJt2Z0p5xySraPlf3228+de+652TaGGxcr42OPPZY7KzGJ8Wl42WWXZfnY8OWxY8cWcCaCtyh0zAJNYNKUs88+O6zzT0OJMxRaEQEREAEREAEREIGGJSBhsGEvvU5cBERABERABNqHAD4EN9tss4oPxkzAiH8EJgNB2IpFwDQj/P69/PLLrmvXrtmuvfbaK/MLmG30K8xyjC/C7t27Z5v98Fy3xx57ZL9Z6d+/v+vXr1/BtqOOOsqdfPLJ2TZ8DC6//PJhpuVsY4mVbbbZxg0ePDiLUaqMiJz4JLQQzyDsh1S71VZbrdmsxxbXlocddpjzlof2U8JgRkIrIiACIiACIiACIiACGQHZToqACIiACIiACIhAWxO48MILmw0Z9o2RpgMOOKDp8ssvLxj+mg7J/eyzz5pSP4Sk5W/vvfdu+uijj5oV/9tvv23q3bt3Qb7E98Jgs6HEV1xxRbP0qf9A0jLEOA3vvfde0zrrrNPsOAzhfeihh5q8lWK2Lx1GXaqM6VDieJg0ZfCTrjSdeuqpuUy9FWPTo48+mhY1+Ec0bizlY7AZIm0QAREQAREQAREQgYYjIItB3zJWEAEREAEREAERaHsC48ePd++884777rvv3PTTT+/mnXdeN8UUU1R8YCz0Ro0a5RgyO8MMM4T0k08+ecn0pPECnPM+BsOxOG5bhDFjxoRhxpNOOmkYcjzrrLNmQ47LHa+lZWTo9Ycffui6dOkShlAzlFlBBERABERABERABERABCohIGGwEkqKIwIiIAIiIAIiIAIiIAIiIAIiIAIiIAIiIAJ1RkDCYJ1dUJ2OCIiACIiACIiACIiACIiACIiACIiACIiACFRCQMJgJZQURwREQAREQAREQAREQAREQAREQAREQAREQATqjICEwTq7oDodERABERABERABERABERABERABERABERABEaiEgITBSigpjgiIgAiIgAiIgAiIgAiIgAiIgAiIgAiIgAjUGQEJg3V2QXU6IiACIiACIiACIiACIiACIiACIiACIiACIlAJAQmDlVBSHBEQAREQAREQAREQAREQAREQAREQAREQARGoMwISBuvsgup0REAEREAEREAEREAEREAEREAEREAEREAERKASAhIGK6GkOCIgAiIgAiIgAiIgAiIgAiIgAiIgAiIgAiJQZwQkDNbZBdXpiIAIiIAIiIAIiIAIiIAIiIAIiIAIiIAIiEAlBCQMVkJJcURABERABERABERABERABERABERABERABESgzghIGKyzC6rTEQEREAEREAEREAEREAEREAEREAEREAEREIFKCEgYrISS4oiACIiACIiACIiACIiACIiACIiACIiACIhAnRGQMFhnF1SnIwIiIAIiIAIiIAIiIAIiIAIiIAIiIAIiIAKVEJAwWAklxREBERABERABERABERABERABERABERABERCBOiMgYbDOLqhORwREQAREQAREQAREQAREQAREQAREQAREQAQqISBhsBJKiiMCIiACIiACIiACIiACIiACIiACIiACIiACdUag1YXBTp061RkinY4IiIAIiIAIiIAIiIAIiIAIiIAIiIAIiIAIdDwCTU1NLSqUhMEW4VNiERABERABERABERABERABERABERABERABEZgwBDqcMDh+/PgJQ0JHFQEREAEREAEREAEREAEREAEREAEREAEREIEGIvDnP/+5RWfb6haDEgZbdD2UWAREQAREQAREQAREQAREQAREQAREQAREQAQqIiBhsCJMiiQCIiACIiACIiACIiACIiACIiACIiACIiAC9UVAwmB9XU+djQiIgAiIgAiIgAiIgAiIgAiIgAiIgAiIgAhUREDCYEWYFEkEREAEREAEREAEREAEREAEREAEREAEREAE6ouAhMH6up46GxEQAREQAREQAREQAREQAREQAREQAREQARGoiICEwYowKZIIiIAIiIAIiIAIiIAIiIAIiIAIiIAIiIAI1BcBCYP1dT11NiIgAiIgAiIgAiIgAiIgAiIgAiIgAiIgAiJQEQEJgxVhUiQREAEREAEREAEREAEREAEREAEREAEREAERqC8CEgbr63rqbERABERABERABERABERABERABERABERABESgIgISBivCpEgiIAIiIAIiIAIiIAIiIAIiIAIiIAIiIAIiUF8EJAzW1/XU2YiACIiACIiACIiACIiACIiACIiACIiACIhARQQkDFaESZFEQAREQAREQAREQAREQAREQAREQAREQAREoL4ISBisr+upsxEBERABERABERABERABERABERABERABERCBighIGKwIkyKJgAiIgAiIgAiIgAiIgAiIgAiIgAiIgAiIQH0RkDBYX9dTZyMCIiACIiACIiACIiACIiACIiACIiACIiACFRGQMFgRJkUSAREQAREQAREQAREQARGY2Ai89tpr7tZbb3WjR492H374oZtpppncvPPO63r06OE22mgj16VLl4ntlCZIeX/77Td3yy23uJ9//tmttdZabrbZZgvleP31191LL71UcZm6devmlltuuYrjK6IIiIAIiEDbE5Aw2PaMdQQREAEREAEREAEREAEREIF2JPCf//zH7bLLLm7IkCFFj7rgggu6q666yi211FJF42jH/wh89913btZZZw0/HnrooSCs8uO0005z/fv3/1+kCv7vu+++bsCAARXEVBQREAEREIH2IiBhsL1I6zgiIAIiIAIiIAIiIAIiIAJtTuCnn35yW2yxhXv00UfDsZZZZhm38cYbB2vBzz77zN17773uxRdfDPtmnnlm99xzz2WiV5sXbiI9QCXCYPfu3V3nzp1LnuGmm27q9tprr5JxtFMEREAERKB9CUgYbF/eOpoIiIAIiIAIiIAIiIAIiEAbEhg6dKjbfPPNwxGOOOIId+yxxzY72sUXX+wOPvjgsH3PPfd0Z555ZrM42vAHgUqEwS+//NJNMcUUfyTSmgiIgAiIwERBQMLgRHGZVEgREAEREAEREAEREAEREIFKCBx//PHujDPOCFFLiVVYET788MNuscUWC1aDleTdqHEkDDbqldd5i4AINAIBCYONcJV1jiIgAiIgAiIgAiIgAg1L4JtvvnH7779/OP/zzz/f/fOf/3S33367e/zxx8O2lVde2e2zzz7B195HH33kLrnkkrBv5MiRbo455giTTRxwwAHZhBMxyHHjxrkLL7zQPfvss+755593Cy20kFtttdXceuut51ZYYYU4aljH99/NN9/s/vGPf7j33nvPcTyG8+Lnr1evXm7LLbcsSHPUUUe5jz/+2B144IFu0kknddddd5174okn3CuvvBIEvXXXXdcdfvjhLu7U7LTTTmGiDDL64osvCvbFmd90003upJNOCpteeOEFN/nkk8e73SOPPOLuvPNO9/TTT7s333zTLbzwwm6zzTYLrC677DLHxBsMjUVgJFA20nAuxjvO8NVXX3Vnn312sKq76KKL4l1hAo/LL788CJQwIcCe82Po7ZxzzpnFJ96wYcPcJptsEiZQgSUCJ39cW9IRKPMVV1wR8uRaLr/88m7VVVcN5Z1//vmz/Gzl119/dddee23gyzl/++23gfH2228fjmX5FvMxWEqEtWPYkuty6KGHhp+cz7vvvhuuGXkvvfTSDkvPUvvNwvOrr74K9yvXj+Hh3CPcdyuuuKLbeeedw287JkusRMeOHeuOPvrocN/dcMMNYcg596INL4/ja10EREAEGoFA/A6t5Xw7NflQS8JiacaPH19sl7aLgAiIgAiIgAiIgAiIgAhUSeDzzz938803X0iF4JI3+QPiHKJQnz59gliXHoKJOhCjpppqqmzX8OHDHaKRCVnZjt9Xrr766gKhD4Fy7bXXdswUXCwwkcUhhxyS7f7b3/7m3n777SDknHfeeQ5hMQ3EQSycZJJJwi7ET86TwDDhE088sag4GCIl/xDITj75ZDdw4MBkz/9+IpAxOy/iVr9+/TIBCyFr0KBBboMNNgjiZ5qY2fJSji0AAEAASURBVJF79+7tpp56avfpp59mu6+//nq3xx57ZL/TFY7H+c0+++xh16677uoQNY877jj33//+151yyilZkrfeeiuIiNdcc43be++9s+3xCsdHwFx00UWzzQi85Msw7LyA/8Bnnnkm7GoNYZBrynUjILAiWMKTwD3Yt2/fkvvPPffcIIJut912WbqQOPqHb0nuaWahtsBsytxD+JnEqvTx38Vxno9S96Wl11IEREAE6pGAhMF6vKo6JxEQAREQAREQAREQARH4nUAsDLKJobPHHHOMQ+x76qmnHNaAcUCcW2eddRwC2QUXXOAGDx4cdmMRh8Uc4euvv3Z//etfg8iCqIL4xu8PPvggWOGZ9RUCDBaEBKy18O1HQLjr0aOHw3INkeiggw4KVmOIVp988onr1KlTiGfCYPjh/yHmIFIhRmJp9uCDD4Zdcdneeecd17Nnz0xERPRkMpLVV1/dIRbZ7LqWZ7qMhTriw6dbt26hnFhTPvnkk1mSlgqDnAdWlgTOC+EQizkC3LEwJGCViSUkwYRBrh/sCOuvv34Q+o488kiH9RwCLIEl1oucM1aW7EeAgzO/EcoIu+++u8N6jrDVVlsF6032YeXIvWKiHfuLCYMffvhhM6tL4sfBOp+xMMj9iCjH+XBPbLTRRm6BBRbIhMG8/VhlxlaPCLmIiz/88EOwRr300kvDYUmL9WOXLl3CbxMGjR0csMpcdtllgyVoXFati4AIiECjELC6udbzlcVgreSUTgREQAREQAREQAREQATagUAsDCKIpJZ/DFXFsoqAcLfDDjtkpWKG33nmmSeIbAzrZQgmwUQ+RLd//etfbppppsnSYMWG2IKF2ZprrunuuuuusA+RhiGjCE0IVHFAbGJoLAHRqGvXrmE9Fgaxmvv73/8etvMPyy8TthDvEIcsYM2IwBULWrYPIROrPgQohKg4cL6LL754EB45NhZ0iEcWsBTESm3IkCFhU0uFwVtuuSUT/LAijI/FARjmjci62267uXPOOScc04RBfnAuWA/ClgB7hgwzjJjzu/HGGzORlf2IrohqsEPMRZAlLgIoAWs9jmPCLNtIs8oqq2SWocWEQeKWCpybWUrGwiBpEIr5+9Of/hSyKLcfsRNhmPDYY4+55ZZbLqzbv3hyGYZ9M0ydYMIg69yjCIgzzjgjPxVEQAREoGEJSBhs2EuvExcBERABERABERABEWgEArEwiM+5bbbZpuC0sYJDICLgs22yySYr2I+/QKzk8PNnPvlMYMGiEF9uacBKa6211gqb33jjDTf33HM7hrcivGHFhqAVh6uuuioMH2UbQ0tt+KcJg1jEIaKlYccdd3S33XZbEAHJIw6//PJLECXvvvvuYFmYNwwZX3Scv5UHQdEsHLEcxIdgGiifCVEtFQaxlMMv4AwzzFAw7Jpjfv/990HkQ0zFkpBhyoRYGOTc1lhjjbCdf3HZXnrppWDpmO38feX00093lJshyvgexCoRsZaAtaUNWf49elggrpllaWsLg7BE3ItDLAym+/FkZUPaYy5x+lggjcVpu2+Ji4Uj3BVEQAREoNEJSBhs9DtA5y8CIiACIiACIiACIlDXBGJhEBEKsS0O5o8O6z8mYUgD4hhDdk0YxOqLoZ4ERBtbj9MhaiFaEZjAw0RCfv/4449uxIgRwVINazUmLaFcFvKEQSwVsVhMA2XC6oshzgwnLhYYFo3YxDDbBx54IEy+YnERBfE1N9NMMwXfgLvsskvYhaVcbAlp8Vky/JdhwC0VBuM8x4wZE4buItbBgGHYJmbGApgJgybsxXnccccdwe8j27CYtCG0cRzyt6HeXEusNxFVuS/i6xCnef/9990iiywSNhUTBskzFZXjPDp37hysT9kWC395YnWp/VyXv/zlLyFrhj+bpWl8LNa5X/BFGHMyYTDmmabTbxEQARFoNAISBhvtiut8RUAEREAEREAEREAEGopALAxiybfkkksWnL8Jg7GAEkdIhUFmII6t1OK4eesm/CBCnXrqqdkQ0Ly4bMsTBvEtyJDnNGDFhjVbOWEwTccMuuRnQ4Itf2a7ZVIPAuJmsYAVGkOlW0MYZIZohkEjkhYLsZBlwmBsCWfpzjrrLHfsscfaz7JLWO+7775hZl6G1mJ9mRew9DTrumLCYDWzEsfCHxOhpDNYl9qPAMkQa0LeMGIrf2wJi09MZiw2YdCGUVtcLUVABESgkQlIGGzkq69zFwEREAEREAEREAERqHsCrS0Mjho1yi2xxBKBG5Z8DBMuFZgIBGtEJv+wmV+xZmPILtaG/GEZZ5aMLREGGXZrQ4GxJmOocLHAMRGKCJtvvnnws4ivRRMgx44dW3QyDXzyIeRVIwzi7w9fgbGvPfwDIvQRsFzEfyFsWWdyjX322Sf4EMwTBpkRGvErDvHEKem+OB7rWPBhbbfffvuFiU5gZZO5pHHx1WjDu1tbGMRHZWp1GguD6f54XzqUOi43IjRD32PeJgzCBn4KIiACIiACzkkY1F0gAiIgAiIgAiIgAiIgAnVMoLWFQfy3TTvttIEYM+cyyUUaiIPAR1h00UWDZZcN+UQg23jjjQuSMPutTQTSEmEwtmxjduVDDjmk4DjpD5sQBb+HDMNllmYs5wjFrNGwPptzzjlDnFgYPPzww8MszsX8IWKlNmDAgAKhyiYXYUj2fffd16xztvXWW4chxXnCYLwtFMb/i30kMiwcQTYN48aNcwwNnnzyyYMPQspE2RDQRo8e3awMpEcwNH+LrS0M4oOSCW7iEIt/6X4mgJl++ulD9FKWf1tuuWWwCGW254cffjjEN2HQrFjjY2pdBERABBqVgITBRr3yOm8REAEREAEREAEREIGGINDawiDQNtxwwzD8FNEFoSiexZb98aywiE0IiDajMcKUzT5LXAKWXVh4EVoiDJIei0EEMoQuhk5jeZcXmGjDhlWfcsopjpluv/nmm2xGZARPyp2G0047zSE6EmJhcODAge6EE04I27Gwizta48ePDz762G4WbL/99ltYJwHDlxEW40BcZkjGsjEWAW0ocbzN0hGXmadZMstv3rDibbfdNvh/XHjhhYOvwVgMZSj1nnvuadmFJeVEyH300UfD7wktDFIIhFz8IcISy83pppsulM3+4UuSmZQJiMN2vSQMGiEtRUAEROAPAvH76o+tla918rNCNVUevXxMXpoKIiACIiACIiACIiACIiACrUOgLYTB2DKNYbj46JtlllnCxCL43kN8QpwySzxmFN5pp53CCcXDOGn7X3TRRZlfPyLEfhBtVmLzARgyiP7l+Ri8//773RZbbBFi4TcR0Y3fWMgRmK2YyUYY1ov4RmACFJtcIxb4mIgEqzSEJ8rKUOODDz44pOFfLAzG54goh+8+0jFZRt++fd3QoUNDOhMG+WGTmHCe99xzT+bH75VXXgnDiFkSYpGylDBI3HiWYcrHcGQ6fQiyN998czYDNX4NbaZhm3ma9Oeff77r1atX4MVwagTLWCAtJgwyc7UxJp+8gKUp1palLAJJV25/fP/B7sorrwzWj3RNETBhZCJsLBxKGMy7KtomAiLQ6AQkDDb6HaDzFwEREAEREAEREAERqGsCbSEMAuyYY44JIpTBY9iqCW1sQwBDJMRf3scff+yWXnrpIBayD8GOySDwCUjAyg0xiEA6LA4ZelyLMEgeeZNwUA5mzU0n+cDPHxaQFhA08YGI0GWB8jILcRpiYZDZlrHCixnE6VZdddUgSMbCIBZ9lNUC6TkOZSDw28rLcGOGN5cTBhEwYRfPMByXg3yx9ESInGKKKfgZjoH4GJ9jmiZE9P+KCYO2v9QSwfjyyy8vK/yVEwY5BsImlp4WuP+4BsaO7elQdwmDRktLERABEfiDgITBP1hoTQREQAREQAREQAREQATqjkDsEw9LK3z+xaHSWYkPPfTQYCEXp2XyByzyTNSzfVgRInoh+FkYNmxYGK5rQpdt79OnTxB4yJ+yEMyqcPnllw8TlpxzzjnBws/S2DLPYtD2ca5Y/5mlnm23JeLf3nvv7ZZddlnblC2xKsRSEAvBWOjjfM4999xwbsyOGwuDJB45cqTjfNhnAcGKCT7wochszrEwiL+8I488MgihFp8lxznvvPPcrLPOGgRVtpEPfgPLCYPExccjVpYIrHH52YfFI3/mJ5JtBOIddNBBQfiLxTX8IJIXwiShJcKgDX+OhT/Wu3btGvK2f+X2WzxmND7qqKOySW1sOxPdILjG9x/7TBjkPjOrUkujpQiIgAg0KgEJg4165XXeIiACIiACIiACIiACItBKBL7//vsgDmKRxyzFU045ZW7ODPUcM2aM+/TTT4PQRVxmx7WAaMhwVCajSP0WWpxqlwyh/fDDD90HH3wQkmIJxwy7qV+6YvkyFBiLR0SmaaaZJkSzSUNSYdDyIA0TfCB4lZu1mTQIcZSRyVM4zlRTTWVZue+++y4Ijt26dSvKNYucs8JwYPw8zjjjjGEYL5aapQI+BZl52srCNe3o4YcffnD4jOTewTJ0kkkm6ehFVvlEQAREoMMQkDDYYS6FCiICIiACIiACIiACIiACIjAxECgnDE4M56AyioAIiIAIiAAEJAzqPhABERABERABERABERABERCBKghIGKwClqKKgAiIgAh0aAISBjv05VHhREAEREAEREAEREAEREAEOhoBCYMd7YqoPCIgAiIgArUSkDBYKzmlEwEREAEREAEREAEREAERaEgCTBiCT7utt95ak1g05B2gkxYBERCB+iEgYbB+rqXORAREQAREQAREQAREQAREQAREQAREQAREQAQqJiBhsGJUiigCIiACIiACIiACIiACIiACIiACIiACIiAC9UNAwmD9XEudiQiIgAiIgAiIgAiIgAiIgAiIgAiIgAiIgAhUTEDCYMWoFFEEREAEREAEREAEREAEREAEREAEREAEREAE6oeAhMH6uZY6ExEQAREQAREQAREQAREQAREQAREQAREQARGomICEwYpRKaIIiIAIiIAIiIAIiIAIiIAI1A+B7777zm255Zauc+fO7u6773ZvvfWWe/HFF8MJdurUyfXq1SvsK3fGzz77rHv77bdDtKmmmsptuummzZL89ttv7uGHH3aPPvqoGzVqlPvyyy/dnHPO6eadd1634YYbuuWWW65ZGjYMHjzY/fe//83dl7fx559/dldeeaU7+OCD3WabbZYXRdtEQAREQAQiAhIGIxhaFQEREAEREAEREAEREAEREIFGIXDkkUe68847zx1zzDGO9QsvvNAddthh2ek/8MADrmfPntnvvJWmpia31FJLZcLgfPPN51577bWCqG+88YbbYYcd3JtvvlmwPf6x5ppruquvvtpNP/302WYEwWmnnTb7XcnKSy+95JZeemk388wzuxEjRripp566kmSKIwIiIAINS0DCYMNeep24CIiACIiACIiACIiACIhAoxJ4+eWXg+iHcIa1H8tUGOzdu7cbNGhQSUTDhw93q622WhYnFQY//PBDt9JKK7kvvvgixNlggw3cyiuv7OiIvvfee+6aa67J9iEO3nbbbW6SSSYJcWNhEKFvoYUWyo5TbOWWW24JZT7ppJPcIYcc4vr3718sqraLgAiIgAh4AhIGdRuIgAiIgAiIgAiIgAiIgAiIQIMRwILv9ttvdyeccEIYdsvpp8Ig2z799NOSVncHHHCAu+yyy4gaQioMYo149tlnh3133nmnW2uttX6P+b/FTz/95PbYYw+HoEe4/vrrs6HIsTB41FFHuaOPPvp/icr8//rrr8MwZaKNGTOmwAqxTFLtFgEREIGGIyBhsOEuuU5YBERABERABERABERABESgkQlgxbfwwgsHBK+//nrw88ePWBjEgvA///mPu+KKK9w222yTi2v8+PFu/vnnD/EsfioMYh2I30KW999/f9F8sAgk7Lfffu7UU08N67UKgyTebrvtHELkKaec4vbff/+Qn/6JgAiIgAg0JyBhsDkTbREBERABERABERABERABERCBuiWA8MZQ2+7du4cJQexEY2Gwb9++7oILLigp6GHlt9NOO4Xke+65p7v44otdKgzONttsQThcddVV3X333WeHarY88MAD3UMPPRT8A1577bVhf0uEQSZT2XbbbYOvwdGjR1c0iUqzQmmDCIiACDQAAQmDDXCRdYoiIAIiIAIiIAIiIAIiIAIiYATwCYhvwIMOOsideOKJtrnAYnDYsGHZxCNMJoLgl4aNN944CIt9+vQJk4SceeaZzYRBZj0eMmRISMqQY8Q6ZjyuJLREGPz444/dggsuGA7DrMmLL754JYdUHBEQARFoOAISBhvukuuERUAEREAEREAEREAEREAEGpUAw4Ox4iMwI/Guu+6aoYgtBr///nu3zDLLhJmEjzvuOHf44Ydn8ViJhyM/8sgjQfzLEwbxY4g/QwuLLbaYQ1BkQpK//e1vJf0XxsLgwQcf7I444gjLJnc56aSTZhOX/Prrr26aaaYJ8QYOHOiwgFQQAREQARFoTkDCYHMm2iICIiACIiACIiACIiACIiACdUkAS8B11lknnNsdd9zh1l577ew8U2GQocQIgnPMMUcQCDt37pzFRQREMMSScMSIEe744493ecIgCa688kq37777ZmnjFcTH9ddf32FZuMACC8S7XCwMFuwo8uOcc85xu+22W7YXEfLdd991G220kRs8eHC2XSsiIAIiIAJ/EJAw+AcLrYmACIiACIiACIiACIiACIhAXROILfiYFMQmIeGkU2GQGYlNrHvggQeyocVNTU1haC6im81qjEhYTBgk73HjxgVxjmHFjz76KJuahd69e4c8pphiirCvpcLgpptu6h588MFg+fjkk082O542iIAIiIAIOCdhUHeBCIiACIiACIiACIiACIiACDQIgUsvvdQx0Qfhs88+c1NNNVV25qkwyA7zEYhoN2jQoBD3mWeecWuuuWZYf/PNN91cc80VrAdLCYMh8u//fvzxx2BliJ/Du+66y/3zn//Mdm+yySaOyUe6dOlSYDHI5CblhgPPOOOM2fBhMmT4MROiYPE4cuTI7BhaEQEREAER+IOAhME/WGhNBERABERABERABERABERABOqawNlnn+2OOeaYcI74EYxDnjBos/sSz4REhgUzPBhxEGGPUM5iMEQq8o+hyPghfPvtt0OMp59+2i255JIFwuBRRx3ljj766CI55G8+/fTTXb9+/cLO9FzzU2irCIiACDQeAQmDjXfNdcYiIAIiIAIiIAIiIAIiIAINSuDqq692++yzTzh7JhCZYYYZMhJ5wiDWffPOO69j0pIrrrjCbbjhhm6WWWYJacgLi0JCnjB4yy23uEMPPTTsf+ONN0oOV3viiSeCr0Ei26Qo8VDiWoRB/CPiJ3HmmWd27733XiiH/omACIiACBQSkDBYyEO/REAEREAEREAEREAEREAERKBuCdx3331uq622Cudnlnl2snnCIPtMYFt55ZXdTjvt5HbZZZeQ5IsvvsjEvjxhkPzXWmutEPfhhx923bt3D+t5/8aMGeO6desWdp1yyilu//33b7HFoA2DZvbjeLhy3vG1TQREQAQalYCEwTJXntmr+FJVLEw++eTBp8ZCCy1U8LWtWHxt/4MADYVRo0aFBsByyy33xw6tiUADEKBesdnxZpppJrfeeuuVPGv89zz//PNuyimndJtttlnJuPWw88svv3T3339/OBUa9dS17Rluvvlm9/PPP7tVVlnFzT333O15aB2rzgi8/vrr7qWXXgq+srbddlvXqVOnsmf42muvuZdfftlNN910wTKnbAJFEAEREIEqCDDhCAIfgffdBhtskKUuJgxSJ/Xs2TPEw/oOQbBPnz7u3HPPzdLmCYNYGc4222whDqLgPffc42xikSzh7yvXXXedw48g4fHHH3fLLrtsi4VBBEGGJzPrMdaLCiIwMRL47bffHMI6k/bQf6adPOeccwZLXix41Zdun6taz+0zCYMl7qHYdL1EtGzXQQcdFL6mxQ58s51aaUZg8803d0OHDg1fA/kqqCACjUTghx9+cAiCFsp9RT/ppJPcqaee2jDOs+NOCxYE008/vaFqlyUCLIFOBJ0JBRGolcBpp53m+vfvH5LTkC/WIY7zZwjdkUce6RZbbDH33HPPxbu0LgIiIAItJsCHL3uvUkfZsGIyLiYMsm+ZZZZxfKi08Mgjj7gVVljBfuYOJWYn/gzxa0hAHOQ3H97sQwniIe9b/BYSEB7feecdN8kkkxQIgwiRu+++e4hT6t9f/vIXN9lkkznElKmnnjpEpR1lE6588sknbqmllgrbl19++cxHYqk8tU8EJhQBhuDjfzN+9tKy4OuTYf32XKf79bt1CNRz+0zCYIl7JBYGeUFhFZiGjz/+2L377rvZ5m222Sb43sg2aKUoAQmDRdFoRwMQSIXBBRdc0DHDXzHRQMKghMEGeCzq8hQlDNblZdVJicBET2Drrbd29957b5jld+DAgdn5lBIG8dXHkGLCfPPNF2YVNnGPbXkWg2ynT8XxMAiIA20f9sV9KfpcDz30kGMfIe6PxWlLrb/66qsOcfDTTz91CyywQIgai5j4Glx00UXDdoRKPs4qiEBHJIAP0JVWWilY6FI+rHux9kXE4T6+5pprsn2Ig7fddlsQ1DviudRDmSQMFr+KnZp8KL67+j3jx4+vPlEbpYhfRKWc3fJQInKZiv/kk0+GL2ptVKy6yZahxMxshi+RRRZZpG7OSyciApUQSIVB0tDYplGdFxpNGMR6gIY6HQ6GSHTp0iUPS5ttk8Vgm6FtuIxrEQZHjx7t6NjOOOOM2XC/hgOnExYBEWhTAjZsd+GFF3ZY6Vu49NJLM8u6dBbfWGg78cQTHaOl4lBMGCQO/SpmNz755JOzPlOcFsu+XXfdNQwlnmuuubJdcX8s21hmBRcO8/rJUhi2jNEGeb///vvBipCk9N0kDJaBqN0dgkBsbXvnnXdm/jqtcD/99JPbY489smHy119/vdt0001tt5atTEDCYHGgEgZ/Z8MMXfvtt1/4xZc2nPIqiIAIiEAxAnnCIHFTJ+CWvtGEQTvvCbWUMDihyNffcWsRBuuPgs5IBESgoxHAGGP++ecPMw3jsgDXBe0RsCn5/PPP3QcffOBwFYILpjnmmCNYIBYbNVFrubbbbjuHmMKsyP369WuWDcOIV111VRdbTDaLpA0iMAEJYB1o7nXM93ZaHJ5lLG0J6BG4HlJoGwISBotzlTD4O5v4y9OAAQMyHxmG7sEHHwymvbx4x40bF15CPOhbbLGFm2aaaSxatvz111/dP/7xD/fUU085LBC/++47t8Yaa7hevXoFR6M88FQAp59+ekgzbNgwd/nllwfrO/wSkYavZFQgvAg5DgGrRkRMyjFy5EhnL8SNN944NA5CpOgfZvf4K8DhMGb+vLj/+te/hnJgJYnvjzhUE58HC4fs66yzjsMhexy++uord8kll7gXXnghVIaTTjpp8GGy4oorup133tnxOw5YdDKsG98h7OMr6BNPPOFeeeWV0NBZd911gzVWS8fOx8fUugi0hEAsDOJjk2caKzmcZD/++OPuT3/6U0H2xYRBu/epG9Zee+2CNPzAqTj1AH6BzHcPzwfPKkMOGJLA0CBm6uM5X2KJJcLXSKwAsNLD5w+zF1ImAl/YcQyOFV9eqLSuw2k5DXUCdRf1C8di+NDSSy/t9t57b4c1AuH888/PfASFDf7fs88+62699VY3fPjwUEcw5Iiy4XsIv0VpoPNx5ZVXBitE6j5YU5/RIcBnUeq0WcJgSlC/ayVQizDIM8uzi9WMPQfc64MGDQr3Lduuuuqq4IScZ5nA+/Hggw92PXr0yC1qte//ap6Zcs/zmWeemVsmbRQBEZiwBKxtwTvf6poJW6LWOzp9CbM8/Pe//91sIjH6N/hWlC/h1mOunFqfABP30GalvUp7vFigD2xt6GuvvbYgWjXv87itccIJJ4Q2OhOe0K+eZ555wrBmtAZGNBD3hhtuCH0KfCjjdg2XAcxYnifyV9sOKTiJ5AcaAv0HNI2PPvoo7KVdT59/r732CnpJnITy0Q+46667wuQt7ON80FcoL64HKgmlhEGsm6lX6FMxYSTHpG1Gv4b+iYm38XFgguaBdsM6cXDTgNXnjjvuGCaha0n8OG259ZbqJBIGfydMJ5Ubi8CD8/e//z2sY95Lx/3iiy8Ov9N/dNYR8KaddtpsF4IBJsH4CMgLW221VRANuWmYGYeAfwE60oiNhx12WMHsYtygzOppcfLyxMSezoWZ1ROHr2dUCMUCNyudFPMtUm38Yj4GeZj4wkdHIy/AjAqPIQIWbMaxo48+2vHAUoGmgThcm1TMTOPptwi0B4FYGESsR9DGsTCBxnk6PMca77z0ELYs2L1/xhlnhBehbbflAQcc4C677LIwkzGCIAFBjmd3k002CS8hXkRp4KVPKPbVkZfY9ttvnyWrtq5jhkDKTmDIDw0ee+YR6qhfqM8INGjMmTKWBgiFVr4QIflHXWgfTdhFPYkImlcvWFKEGDse2yQMGhktW0qgFmEwr+FJY5YPAIjgq622mmO4X1648cYbHR/74lDt+7/aZ6bc8xzPWhqXS+siIAITlgAdVywFeT9i5JDXcZ2wJaz96BhG0BZIZ04mR4wJqEtXX331IAxOPvnktR9IKUWgDQnQhx8yZEg4Au15jGms713JYat9n1tbA50BA6Kbbrqp2WFos2MkwDD9vEA/Pm2jVNsOycvXtjFcGq2kWKCvRJ9/9tlnD1Hw04hOYwJimg4dBPdFlVhN57XPyI9jYLyEv/i8QN0Kg9h44bHHHivQbNJ0lAeDC9OJqo2f5lfut4TBEoRinxalfAzyMt1oo42Cak5233zzTSY+xR0CrHU222yzIACg6PPCIqROb1G5Temnc4zyPt100wXrwSOOOCKk4V+eMMhN9+OPP4YXPPnS8cZfB1/NzJqI5f777+9mnXXWYFFHB5sOOQ8FFnZ8mcD3H8MLCMRHSOAho4OOAMFNSkBMZDayauOTNk8YjPMhDn5IqHwQUbCgtEqGB4Uhl+Z3zMQR0hAoI+dPBcDXBCsvwgjXQEEEJjSBVBjk5crLHv87BJ5Fc7zN77YQBsmXQP2G5S6z9+HLBHHeApZ0bJt77rmDk3FEN+q8uP4hbrV1XSwk8DzTcOF8sXaiPqUuM6EuFgatwcIxSXfIIYc4/CNh7Ui9aS9k+yBCPKsfyJP4nBNfOrHItpkY+eCCBZYFCYNGQsuWEoifDTrheV/R02PkNTzje5/4iN0MGWJ28wceeMCdddZZ4dnkOaL+sMDzXM37n3TVPjPlnme+4CuIgAh0TAJ86ONjJP0URj3VQzDhj/c+9SH9qDjQV2IkBHVj586d411aF4EOReD222/PDAcoGG1fPv4xIQnvavrvpUK17/O0rUF/HS2BdjPt5NjYieeLOoMZvnEPgE5h7Q9mFTdhrpZ2SLFzom9vE8LS1+/du3ewyCP+4MGDs9nPY9dutP0vuuiikOU555wTPq5iaEAdgAEFgY8EGGuVC3ntM/pP6BXmqxULRPp1uElAoIyNGTDuQFMh2LWhT4WBFQZa9LH4wMtxCBhpMRqEUG38kKiKfxIGS8CKhUHMQGmEx4Hx/HRYuQkt8FWcL1MEfGcw7JaQZ82DOIjFDsEENvJjMg4CNyrCWByIR6eZEHfMUxU+djzKeaD4YxVEWm62+EvDJ598Eh5obkSzVMJUmY4yIfU78ssvv4QOPGJi//79Q0e72vjkmycMIlgi5BFQxdPhfVRG9nDw1QTrCYI9KKzHFpv85rwQOwl5TMMO/ROBdiaQJwzGzyIvOzr7Jn63lTCYWv4xpJdGB4E6hmEC8YsifgapA9hXS10XCwkci8YEfzaE2vypsM+EQeoyrLFJSxmpQ2NXDLhpQCTkmWeINEMx4wZEahVI3scff3yon+P6lO0SBqGg0BoE2kIYXH/99cP9HXdoaZzbUEDuezrCtbz/a3lmyj3PrcFReYiACLQNAdr1fGTgHcpHtckmm6xtDtSOufKRFWMABA19mGhH8DpUmxBgCKy5A0oPwEg62gRYFtoM3Banlvd5LAwyMoh2v+kGuDpD2yBfAm112t0WmDTN3JmgDSCW1dIOsfzylgz9t7kcmAwpFUYxKqBcu+22m0MEJKCDYICA7sLQ5zggdvbt2zdsGjt2rCtnPZwnDMZlYqSVzTthx8F4oWfPnuEnTOl7xa4O+LCbWkBifYhRlAmW1ca3Y1ezjPt71aSzuA0zlNhOuNQSJRoLPwsIVwhRqOmjRo3KOvi2n+X//d//BbWai4+fr7PPPjtY57DPOsOsxwGBEquYuCMbC4PpzKYM0zOBjfH4JjzGeWJqjwWjDVNE5V9yySVDFDrY3LCmbrMRIQC/hwzv42tAtfHJIxUGUe5R1gmo/wx1TENcucCByotgwiAVIw9nGrguDM1OrYLSePotAu1FIE8Y5Ng0ZDHPJ1Af4JOC0BbCIM80HwxicYFjmSh27LHHBrGObRawsrNGtokPtdR1sZBA/cSHgDjkCYPxi7WY9S/WwfjpwCoL1wK85PFFSKBeiV/4fOGDLx93rO6zMhgD+R4yIlrWSqAthEH8CvOFPg740DI3Jvaur+X9X8szU+55jsupdREQAREQAREQgeoIINzTXmVYMT7/8gLtXHz62siEWt7nsTD4xhtvBD988bFsdBMCHB/c4/Dzzz9nrn/od9NfqKUdEueZriPwYYE4wwwzBDE03s8s6oiAGDnEWgJGW2bIRf8BQylzLYahF24UCFgi2vawIedfnjDI6M577703aDP0VczIIU6OYZNZWzK6lL4XozMxsmCkB4ZR1oYjHdeOkZS4msL/IX2WauLHx650XcJgCVKIUDammwuWNsJJiuBHB9ZCbJES3wDp5BoWnw4snWvUftZRrFGusRZirHtewIqQyQqKCYPpQ3zHHXdkvsAQxswCKc4bs1Y7D1Pf8WGEtZAFysi4eKwn+UsV+mrjp8Ig1lLm+BM136wp7fi2ZNgjlplxR96EQYQA9qcBh6wMQ2YYMRWCgghMaALFhEEEcl5Y9tI3h9ltIQyaVV3Kwhwd85JK6y7qBJ51ggmDtdR1sZCAj8XUT0meMBjXZdQXsbVgeg55v2lUMcThrbfecnBlCAHlIMT1Cb8lDEJBoTUItIUwmDckOX6H8pwyJCV+Zqp5/9t5V/rMlHueLT8tRUAEREAEREAEWkaAofAjRowI/XSEvNgFEP1nXOuk/f1K3+exMIjQlgascPE7iNGNDc+N41j72YTBlrZD4rzTdYyosFJEx0CARJxj1BAhFgbjEZfsQ8NYb731gt7CkGysHs0qkv2lQp4wyCgmxEjcwTFKNC8g6GLVSaCszJXAKI/YfQPaDr4Q0YEQXrt27VqQVbXxCxJX8EPCYAlIsTBYyscgX+a5qQix5Qvj/4uJe+lhrVNqaRAGTNlO4/IQMla+mDAY+zgkLdZ+WP5UGuxmRUFHhKTTbg9ZnAfDfo877rjMAqfa+KkwGAsBecOI7djmC4XfX3/9dVDSTRjMG7JNPCw3sWqSMAgNhY5AoJgwSNn4cmUTAeH/Bv8iPIuYp1tdYedQy71vk4+UEwbzBLs8YdDqLStTqaWVPxYSzJVCnC6uD8x6miEBiP+EvMZKnD5e5+sdFtGl6mMrl6Wzho0sBo2IlrUSaAthMO/+N59alNOEwVrf/9U+M+We51rZKZ0IiIAIiIAIiEBpAoiETGBoH7vxw28j/6p9n1cqDMbCW1w6az+bMFhrOyTOM123flHe5IkWNy0fE8ViyGA+EC0eS/pStNUwfCoXUmEwHvGIEQfGSHkBS0esGQlmSEZaDJbQU7AcTAN6EOWy2dWrjZ/mV+63hMEShCoVBskitpgxv1uMFcfXHx1OLnipgOULF9/Gk3Nj2oQZabo8n1g2lJhhy2YOa+nimXsQ1UoFzFr50hDfGPgeoZPB1wj892FlYwFrIvMJaNsqjZ8Kg3HHAt8gNsuz5WtLxBEePNR+rBsJtYgjlp+WIjAhCJQSBilP7MsPgY7h+rUIg1YPxaJ4awuDdoxq6rr4ef/Xv/7VzC9KnjBoQ5bhk34AYVteoNGAtTOBOoOGEy9mPqxgCc6XTCZUkTCYR0/bWoPAhBQGa3n/4yqk2mem3PPcGhyVhwiIgAiIgAg0EgE+TtNmJzAiMO6fpxzoo+NSi4B4hWVfLW3g1hYGa2mHlDpPrBU5NwJteWZAXmKJJcI6Q22ZVJA4qTAYEvh/jHZilCbiKZONxIJcOq+CpYmXqTDIPqz/yIdrhSFCXuCYWCkS7OOtxUPw4/riJga9BVHVAudI/JhJtfEtr3LL+Bjl4ubtbxgfg6UsBgGDDytuQAKqPTem+QtMZwgMkX7/x83JkCBmFaRjyhBhLIMIzO5jqvvv0cMC0RC1O89iMO3ckoCbyYb+IRoiHqYB8+L3338/WP/hgxAHl4xrx+efqdSWBoGCsfSm0vMgYNJcTXxuvFQYjP0S2CQodsx4adO2x8OtJQzGhLQ+MRAoJwzi4JeZgvEniqC16aabhqEB6TNOB55nEVP0PMfENsS/LYXBWuq6WEhI3R9w/fKEQSyJsXIkFHt54zgdJ8345ODjChMkmVm/DcsOGfz+zyywU65W98piMKal9VoITEhhsJb3v3185FwrfWbKPc+1cFMaERABERABEWhkAohXa621VkDAqBf6vsUCo2tsHgH0BEb21fI+b21hsJZ2SLFzZLtNLsIoTSY4ScUs8/cXC4O4EMJHH9pJ7Gsc7QFDDJs1+JhjjsnWi5UhTxhE8EP4i+c/SNOff/75md92tBOGLqPLYJRl183SMCKSmeKZfISAheGyyy5bVXw4VRtSltWmlzD4O7G4E4vSi1BFh95mMmbMu4lzBpnJOxiTzs2Bb0GmqcYajwlJCJjepjPUxGPkKxUGGQaMOMmSWT/zhhWbI1HG2HMuiJNUKsVEzXh2JIRCflcTnwlLUmGQc2bYJPwQQhA7mFUxDi+88ELwc8g2hlPT6SdIGAwY9G8iIlBOGORUeJEtvfTSBWeVClj2MrJZq+LIsdl6WwqDtdR15YSEuE61ocSxDzUcCeNrNA58oKAOo061iYgQVBEI85wkI77Cjzon5SphMCar9ZYQmJDCYC3v/1qemXLPc0v4Ka0I1EoACxosYAl0rvGfWywMHTo0vDvwJ07bvKMFOp18wKcDaRMKdpQy4oIIt0qVho54DpWWXfFEoD0J8A63egtREAs3m1gkLQdDUm3yQvQEhKRa3uetLQzW0g5Jz81+I+6hERAYjcmEq3Gg/b/44osHzcOEQVyvzDLLLCEajOgPxYE88eVHOZmQEGOHUiFPGLTRjKTLE3DJm3JRPgw6qM9jzQctBW0kDrG1J+VmshXTiCqJn55nnHexdQmDxcj47dUMJcbhpDUksB40U1HzvcVNzJBbZudhthte7giBDAEmxD71TBxjOx1fhhiTBlHQpudmX6XCIHHNood1TFwxs+XiYyl48803B1WafQiC+OOLLXMYJn3YYYdlMwZzU+NwlJvaOtPVxudYecJg/FUBsQ/BkQYEJrNMxoDpMMdPhUMJgxBVmJgIVCIMcj5Yu/HFz4I9c/abL4I2nP/GG28MdQ/WcghrvBSpmwhtKQySf7V1XTkhIU8Y5Dh8EDBnx3zk2G+//UJdhgiKqwTqDAKWg1gXY0XJNuqMhx56KLyY2Y/IyJdBhhsQ2I+PNpuhWcJgwKJ/rUAgFgZ5b8Zfq/Oy5503aNCg8NWadgXWsYRyjfU8H4Okq/b9X8szU+55phwKItCeBH766acwmyYdMgIWIdT5xYK1vYtNYlcsXXttz2sz13psRDws9emIFnPbU03ecR1XSTrqmNjhfiVpFEcEGpUA9ZaJVYiD/GYyUJssgzqO0S02aoiRgQhHaAe1vM/LtTVs8hET3tLrYu1n8zHI/mrbIWme8W9mDmbEJX1/hFIEMwKjKdE3zIdgPF+DjZ6iD0W734wuEAXvvPPO4GaIPOgvYHFYKuQJg99++22Y0ZhrQX+CyV/4GMU1on0EM/o1hAceeMD17NkzCJEm+mJIRt/GJhvB0AHjJ45FYPTG9NNPn4nElcSfe+65Q9pq/kkYLEGrGmGQ4cDzzDNPyA312nwKMksOjQ3ELAvclNzQFnBSic88C9xAKPzWobfttmRmQUxLqxEGmRgE34FYxlhIyxF/ieDceTD4gmoBSxwsbCifBTovVAzVxid9sUaOWSvaMajgeECsccd2JmbhgbcgYdBIaDmxEKhUGMRnJy8QhC9CKgzGVoHs54VEsOeF5xqLvrYWBqut68oJCcWEQepSXrZxPUQdEdex8blSh1HXWMAKmg8iFp96zdwikM9TTz0V3CdYw0ZDiY2clrUSqLbTTIOe+w4hozWEwWrf/7U8M7yjeQ8T8lwD1MpO6USgVgJ09vA9ZSHuLNu2eNlIwqANL8wbaRAzqXQ9ruNoc9gHtmLp6eMwe6eCCIhAeQJ5fWxS0Z5lX6wXUM/xEZx9hFre53w46NWrV0ifN9FZLcJgte2QcPAi/zAKYFSlBdrx6CrW74nb9TYpLB9lzWiLdHCiPzVq1KiCdBhhpaMV7Ti2zBMG2cdw3y222MKihf4YH4Ktv8EOhgfjLs1CavzBdZtsssmyPh/x4vkcqo1vx6l0KWGwBCketmmnnTbEKOdjEMXZbkw65lgEcmEJjBPHGWU8hTbbuSm5uZlwJH2J0nHlxuEGtQ4wQ+EwER47dmz4AmCmqORlk4+kogH7LHA+3FCMpY9vUvZjFcifnS/bGOp8+umnBysce9jYTqADQPzYTLXa+CYMks8JJ5zwv4x//895w9zEENtJI4bKwCo8285kAsRl1tLddtvNNmdLzUqcodBKByGANYN95cqb/TcuJl+/bKasvGecFz91Q/xc84zw/OLzlHomFst4trBGbumsxEz+Y0Ik5a2mrouFQdbtK5md96uvvup69OgRfmLdxwRNFmhg8CWNei+umygL54YLBqt/SQNfrEDiuNS/uFZgSDL1mTWsbCIUEwaZnIQOo4II1Eog7jRXkgfCIF/seTfG7/khQ4YEK1jyyGusF7MYJH617/9qnxnaQCYM5j3PlEFBBNqTgFmxc1+aBUlswZKWRcJgSqTy33Edh6FEsaGOleeomCIgAjEB3uFMzInxjH3MjvfT/kWwoy+Qzg1Q7fscN0aMuCHktTUqFQbTiUSrbYfE5xev4xeQD6foGf/P3nlAS1WdbXhjia6VuEziUmJEaUoVTLARG9gNiGiiEQxEQTToAtTYgAgCFiyIDSUiCMYAsdFLlCIRFAVEFFtUQBQVo0aQgCjo/PPu3++sPefOzJ07kLnDzLPXupwzZ/dnDzDz3q+ERd97JNrVrFkzsgjUZ/33knH8VCQOyuVX13jRdwEZde21117xqgqvLTlk+PnMGklolGdTPIGsNCKdnTxH42X06NHujjvuiL6HWL3Wrl+g6LOgrD+tVLW99cvlijCYC6Xt1EbusB988IFP0qEv9zIfjQuC6abSl9ldd901cj+SheGIESOcLAf15sinSFxcuXKl/wtQq1YtH6g/0ziyWNIXDiUX0RtGfvrmq5+uT1XbpxvDnsmqSl+SpLjLQjL8i2FtuEIAAs4H1ZW4JXFQrogyOa+uku+/dfmsV/82KQah/k2VW1Smf1P1QUKxppRYSf+W6D9cK/qwIgFVH6aUCIoCgVImkOv///ydKeV3QWnvTb+cb9Kkid+kfimvXz4rVE2mX4apIcJg/u8JhMH82dETAlUhoM/XSk6qz7P67Kskofr8q8+12QT5Yvv/PNfPIdnYSB+RriJDC4mCYmFFxkryZNL3IftFv9XJiEHfHSR6SggUv8pCvFjfXK/ysJTOIkMGuT5nOxuNqV+uSmeRwYXOWN9RZDCx8847p52yqu3TDpLmIcJgGijV+Ui/abfsQ6EpsK1JX/qVEltFsQIthbl/wB8QgAAEIAABCEAAAmVPYP369T4rpUAoG6JCyUyYMMEHPNczeaEoHpOSbcgNSzFaFQxdX6b0RUmfReVtYTGQ1MeKvFruu+8+98ILL7jFixf7Lz6K4SRXrZYtW1qz6KovcIpnrTA4st7QfPrio7nlsmbWKdZBlt/64qZfhCtmrgKvK5GILP/kXi+rC4XtyfQlRvHr5HWjOfTLZcWcVTxeFb2OB3nX81AYVIB3xZpSwjtZgGidCuTftWvX6DO4+liRBY/4yRJF95pXX9TlMquY3Olc0/RLKvXRHAqdoX2KnbwD5Emk12ExLxvtQ8n+VMRFHjZan+0v7CPLe8X20pdSxa+Slb1igoujvm/IysgsWORZUL9+/ah7Vc44X2FQ32nse4xiJeuXmwqjoO8/igEmq/5s9bKyUakqS1ngSJiQJ4HOauzYsT6Oud6bFgcsAsENBCAAgTIhkOn/1Fy3X9JZiXOFsD3byXJFFnz6EKUPP8OGDXOHHXaYkxWe/iNXthz7z1xZwHIxed2e62MsCEAAAhCAAAQgAIHiJiCrEolTKhJY0iV7kCiiIOlyowpjX9vOZIWxYMGCFEsMWd516tQpbXv1kwgXCn0SKCW6xUPD2By6KjSE3K+syP1Xn3Ul3Mg1TJ+J40VtJBbGPUn0OfrAAw/01vMWzyn8pbpiektwjBcTBrVnzZ2uSEhT4PrWrVtH1WHyvehhcKPP8nIrC0P1SKRV/EOtK12Ri5rOxQwB1CadMCjRTLG+M1lCKhmi4oBr3bJEMRfAdHMqvq4F5K/qGecrDIqzhSDQdxpxNSZ6T/bo0SNrvUKi5MNSYrfeU7ImVYileUlBXEV/X7K9T30j/oAABCBQogQQBovwYOPBK9MtsbKYZOn68AwCEIAABCAAAQhAoPQJhMKgdiuBStksJXxJBJI1YFgkzp166qk+yZx+Ka0kbyqySrN40nLBaty4sRdVJKLIKk+v5dYmwc2srSS4yIJQRdZZFgtKAqVix9arV8+LbxLuZCUm4UqxZC3LpgmDfoDkHxJvlNRC4qUsyyx+U7g2aysLOktOp4ze2reKxErF6dS6FUs2HnbChEEbR6KULAflnvb88897C0WrC60Oba0a99Zbb3VNmzb1fMaNGxdllJQrszioyF1M+7eiuFMSxBQ6RxaVChWkonVrXnMl2x7CoMbTWclyUNaNei/oTFRkISpjg3zOOBQG5dpXmVueffkMhUHtV6Kc1qT3iM5QFowmHKarl6VkPixNGDQR2CwnZRUqK1oKBCAAgXIkYP8257t3LAbzJVdJP2X1U/xAiYQWFF+/QdR/jPpwEZr7VzIU1RCAAAQgAAEIQAACZUQgFAYlgMQt/xTUXFZpKhLuOnfuHNFRzKbatWt7gUtuvbLcUzGRT5aGEtfCpFCy1JNb6sKFC91JJ53kE+iojz636nOsREkFjA+LXEbPPPNM/0gikSWhMrFNFbIKlOeMFVl6mXuzxE0Ja2GR666SjCjYuwmVqjfrOd3rs7VcqcMSCoMS+CQMhuXll192xxxzjH+kAP9yY5ULqwX6V2I8Jb4Ki1yCJfaF2X/l8itxU0XWhsqaGRYLbK9nDz74YJQddHsIgzZPtqzE+ZxxKAzaHJmuZr2o+lAY1GuJlPpRXHWVyurzZWnCoObQe1ZiLB5YokGBAATKmQDC4A5w+gpCab9F3QGWyxIhAAEIQAACEIAABKqRQCgMpvMyUXw7WeypSOAKM7nrmeIFyqpMbreyBlQxQUUWhRK94kUWaRYnW7/gPuCAA7x1moRGCW+yqguLfgFuApxcSc111oTBNm3a+JhzYR/dm/gXT8IXugzLdbpnz55RVwWat8R5HTt2jMQ5a2DCoERPWQTGXZTV7tJLL/X70b3GUwB4WaxpXomvEvxCEVNx7GQhqHiBcm/W53kLkC8XX7kBx4sE1iOPPNLHKgwF1kIJg1U9YwnI20MYlEAqoTQsoTAYr98WlrZHzSULx5/+9KfhtNxDAAIQKEsCCINleexsGgIQgAAEIAABCECgVAmEwqDisJlLpu1X7qQSuiSEKelCvChxhlx2TRhUjDrzVpFIY/dhP4llU6ZM8Y8mTZoUiYR6sHnzZp/9Xck59KOkJVqXlXTCoCwVZbEYL1qTrLzk4ix3YitKiHLNNdf4lxIGzZrP6pW0T2KTijJ6/uQnP7GqKPmIYnkrYUe6Ihfpc88911fJClJCo9ypw/iNEj9PPPFE7/osq0SzglQnuUtLIFRRwguzlvQPgj+0Z8XPUxIYJYNRKYQwmO8Zh8KgrDTjInOwNe/CLTFRJRT+0onX2eq3haUJg5nE2XC93EMAAhAoFwIIg+Vy0uwTAhCAAAQgAAEIQKAsCITCoCz5DjnkkJR9mzAYik9hg7gwqAzEErxyLSb0SGwaPHhwBQu9+DjphEHFFpTLc7zIhVhutqEwKAsyxZwz4S/eJ/5a4p9EQCtmMSg3WxMXrc6uIQNZUyrEj+aVONm/f/8ocYa111Wx8iScSaSUaGYuzOnciK1faM2pmH+yOCyEMBjuz9aS7WpnHAqDn332mc+CnK2f1YXCn2JDxjNaZ6vfFpYmDErUNatZWxNXCEAAAuVKAGGwXE+efUMAAhCAAAQgAAEIlCSB7S0MrlixwjVv3tyzkiWf3ISzFcXjkzWi4utZple5/iopiawN9aN4gWbJuK3CoDLpWsITWe1lslqTtaKKYh8qOYkVEwZ79erlhUx7Hl7DDMSKsRhaTUoglPu0YjnKElJxDq1oPVqfkqfYfmVZmUlolZAq9+0wHl8+wqASoFx00UUp42hNmWIM5nPGcv/eHsJgnKfWGQqD8fqwrqosTRiUAKsM2xQIQAACEHAOYZB3AQQgAAEIQAACEIAABEqIwPYWBhX7bs899/SElLHYMv+GyNRGAp+KsvNKSDN3WYlU7du3D5u7V155xWeg1cNtFQYVq1AxCyWmrVy5MuMXnND116z+NL8Jg/FYdqqzooQjsgxUUVxGxRiUG7YyHDds2NCa+ass/WSNpuQjKkp4Ios4c1/OZq1mGZSViXn27Nm+fzph8Nprr3WK95gpFqPtNRQYNVgmYTCfM1Ysxu0hDEpUNRdjv+HkH6H4F6//5ptv8mZpwqBZPNp8XCEAAQiUMwGEwXI+ffYOAQhAAAIQgAAEIFByBLa3MChA7dq1c3PnzvXx85RROJ4YL8yoK3FOAqJlNF63bl2UbdZgyypO1nEq2yIMhpmKu3Xr5uPz2RzxqywG5QKsImu6u+66y9+bMKgXEuMkyoXlq6++8u7Ysvoz8XDevHmubdu2vpkSluy7775hFx9L0eaSu7Fcn20eiXVay49//OOUPkuWLHGtWrXyz6666io3cOBAf59OGFT25EGDBvl6JUAJv9Rt2rTJNWnSxLs35yoMaqCqnnHNmjWrRRjUWvNliTAoehQIQAACqQTC/0NSa3J7VSNpOp/IrWlurfQfGQUCEIAABCAAAQhAAAIQyI/A/0IYDN11JVQpBqAScCixyMKFC52y/Uqkk2AzceJEn1H4ggsu8BsI3Tb1WX/48OGR9Z0ahHEQLStxrjEGJbp1797dz5MuVp2vCP44+uij3bJly/wTZQ1WpmATmfRQQprGlGuyLOI++ugjLyJKCFQx19VQkFQGYe3Jko2IiUS9e+65x/d58803vft1yFD7fOihh7y1ob5OSXS98MILIzEvFA7TCYOPP/64M769e/f2WZglNCoxhywo//GPf/i548KguSorvqTaKCuvGGiv4fpyOWNNEFoMygpz99139/Nm+kOWp7Vq1cpqEai+2SwGVR+utSosEQZFjwIBCEAglQDCYCoPXkEAAhCAAAQgAAEIQGCHJvC/EAYF5LrrrktFGaNeAAAgtElEQVTJ2qs4grJWsyIRSiKh4upJUGvRooUXC1UvIUqJNJTRV+Wggw7y4o/u1U8Wh3I9rqowqIQeSkahOZcvX17BklHjhyVM7qEkJuedd16KMBi2je8vnslW4qVcc61oT4pvaHEV9VyC6ciRI62Ju+mmm9zNN98cvdYcEhIlNFqJu2unEwbVp1GjRin8xVhWjSqtW7d2EjPjwuCjjz7qunbtalP56/z58/1Z6UVVzljtQ2FQrysrxqMy4a+yes2TD0uEwcpOiHoIQKAcCSAMluOps2cIQAACEIAABCAAgZIloBh3sspSkWWVYv6FJdesxFdffbUbMGBA2NVbzCnWnoSbsEi86tevnxf87LmScVx22WXebdae6SqXX4ljGl9rUTGrwiOPPNILa3LzlbtvvIRZibU2S4oiCz2531ZWZCVYr14930zJUaZOnepdgiWi9enTx8euU3y+UKiT6HjllVe6Ll26VBhesQ0Vf9AET2sgwU9ZldVP1nhhkWVj3759UwRE1Ws9Q4cOTWGo5yYMaixzH9bzt99+27OUMGpF8yqJylFHHeUTnMSFQcXn05nIqtP2qIzEzZo1syGqdMZVFQZNXA2FP92btaUtorJ6a1dVliYM6n139tln2zBcIQABCJQ1AYTBsj5+Ng8BCEAAAhCAAAQgAIGqE9i4caMXB2UhpyzFP/zhD9MOIjfZNWvWuLVr1/pMxWqrhB1W5DIr91Mln4jHLbQ2hb5+++23Tll6FRuxQYMGFWIBxtejRCQSHLVH7VfinISunXfeOd405bViFyo+ofYv8TEuIKY0zvJC7sOrV6/2c1aWMTrLMBWqcj3jCh2r4cH2YlkNS2dKCEAAAtVOAGGw2o+ABUAAAhCAAAQgAAEIQAACEIAABCAAAQhAoPAEEAYLz5wZIQABCEAAAhCAAAQgAAEIQAACEIAABCBQ7QQQBqv9CFgABCAAAQhAAAIQgAAEIAABCEAAAhCAAAQKTwBhsPDMmRECEIAABCAAAQhAAAIQgAAEIAABCEAAAtVOAGGw2o+ABUAAAhCAAAQgAAEIQAACEIAABCAAAQhAoPAEEAYLz5wZIQABCEAAAhCAAAQgAAEIQAACEIAABCBQ7QQQBqv9CFgABCAAAQhAAAIQgAAEIAABCEAAAhCAAAQKTwBhsPDMmRECEIAABCAAAQhAAAIQgAAEIAABCEAAAtVOAGGw2o+ABUAAAhCAAAQgAAEIQAACEIAABCAAAQhAoPAEEAYLz5wZIQABCEAAAhCAAAQgAAEIFDWB5cuXu+7du7vjjz/e3Xjjje6ZZ55xa9as8WuuWbOmO+WUU3Ja/+TJk92XX37p2x544IHuV7/6VcZ+b731llu8eLGvb968uTvkkEMytv3888/djBkzMtbHK/bcc083Z84ct2TJEvfwww87rYUCAQhAAALOIQzyLoAABCAAAQhAAAIQgAAEIACBiMDWrVtdq1at3LJly9zMmTPdcccd584991w3bdq0qM3atWvdHnvsEb1Od/Phhx+6Bg0aRFUXXXSRu+uuu6LX8ZtwDgmIs2fPjjeJXj/33HM5i5Pq1KhRI3fbbbe5M844w7Vp08Y9/vjj0VjcQAACEChnAgiD5Xz67B0CEIAABCAAAQhAAAIQgECMwPDhw91VV13lTjvtNPfkk0/62lC004NRo0a5Dh06xHqmvrzzzjvdddddFz3MJgx+/PHHFaz4XnrpJS/oRQMEN6EwKNFvr732Cmor3tapU8eNGDHCi4nqO2nSJHfyySdXbMgTCEAAAmVGAGGwzA6c7UIAAhCAAAQgAAEIQAACEMhE4Ouvv3YNGzZ0n376qXe9bdmypW8aFwZlRShrwkwlkUi4Zs2auVWrVkVNsgmDJiLuvffevr3mv+KKK7wbczRAcBMKg9OnT3etW7cOajPfzpo1y5155pnuiCOO8O7RmVtSAwEIQKA8CCAMlsc5s0sIQAACEIAABCAAAQhAAAKVEpCL7QUXXOD2228/969//cvVqFHD9zFhUO7DGzZs8M9ee+01V7du3bRjvvDCC+7EE0/0ddYnkzD43XffOcUUlIjYp08fp9e33nqrd1VevXq122233SrMka8wuGXLFrf//vv7PcybN88dfvjhFcbmAQQgAIFyIoAwWE6nzV4hAAEIQAACEIAABCAAAQhkIaCkIhLd/vznP7u+fftGLU0YPP300927777rlCikf//+7tprr43ahDeXXXaZGzlypDvhhBPc+vXrndyCMwmD8+fP927L6r906VL37bffRoLd2LFjvYVfOLbu8xUG1VdrHjZsmPv973/v3Yv1jAIBCECgXAkgDJbrybNvCEAAAhCAAAQgAAEIQAACAQFZAv7sZz/zTyZOnJiS3CMUBo899lgvrsmqUALhTjvtFIzi3KZNm5y5BI8ZM8bde++9WYXBbt26ufHjx7tf/OIXXvDTYEceeaSTReJJJ53klNk4XrZFGHziiSfc+eef7y0SlWl5l112iQ/PawhAAAJlQwBhsGyOmo1CAAIQgAAEIAABCEAAAhDITGDOnDk+a69aLFmyxDVu3DhqHAqDd999t6tfv76ve+qpp9wxxxwTtdONuSPrXrEClcQkk8XgunXrvNuy2g4dOtT98Y9/1K0XE3v37u3v33jjDVe7dm1/b3+EwqASpCjmYbay++67RwLmokWL3PHHH++bL1iwwP3yl7/M1pU6CEAAAiVNAGGwpI+XzUEAAhCAAAQgAAEIQAACEMiNgOL6DRo0yDdeu3att6iznqEw+Oijj7pzzjnHzZgxw1ve3X///dbMX9u1a+fmzp3rZAkoEVGiXSZhUO7GcjtWUYzBffbZx99/+OGHrkGDBv5emY0VezAsoTAYPs90LzGwadOmvjrMgByKkZn68hwCEIBAKRNAGCzl02VvEIAABCAAAQhAAAIQgAAEciRw5ZVXur/85S9eEJQwGJa4MDhlyhTXsWNH3+STTz5xP/rRj/z9+++/H1kaygJRWY2zCYPmMtymTRtvaRjO2bZtW6cEIXJLVlzD0OV3W4RBJTdRQhSVq666yg0cODCclnsIQAACZUUAYbCsjpvNQgACEIAABCAAAQhAAAIQSE+gc+fObsKECe7QQw91zz77bEqjuDC4efNmV6dOHZ/dd9SoUa5Dhw6+/ZAhQ9z111/vsxUvX77cZzXOJAwuW7bMHX300b6fREYlNgmL1iI3YZVJkya5k08+OaoOhUFZHUqAzFYUD/EHP/hB1ETxDN955520Fo9RI24gAAEIlAEBhMEyOGS2CAEIQAACEIAABCAAAQhAoDIC7du3d7Nnz/YxAU2Qsz5xYVDPLbuvhL+ZM2e6RCLhmjVr5l2Cb7jhBvenP/3Jd88kDJqFos2R7fqb3/zGPfLII1GTUBicPn26a926dVSXy41ZI0qMlGs0BQIQgEC5EkAYLNeTZ98QgAAEIAABCEAAAhCAAAQCAl26dHGPPfaYO/jgg92LL74Y1DiXThh8+eWXo8Qjr7/+uvvoo48iqz5lK95///39GOmEQWUurlevnrc4lKvwXnvtlTKfvfj88899AhO9XrlypatZs6av2lZhUFaRWmOnTp3cAw88YNNxhQAEIFB2BBAGy+7I2TAEIAABCEAAAhCAAAQgAIGKBJTg45577vEVGzduTGmQThhUAxPY+vfv7z744AM3evRod9JJJ7nJkydH/dMJg7LS69q1q2/zzDPPuCOOOCJqH96ozlyMBw8e7Hr16uWrt0UYlGWjxUS84oor3I033hhOyT0EIACBsiKAMFhWx81mIQABCEAAAhCAAAQgAAEIpCcgUdCy/yqJSGjFl0kYHDZsmHcpVjKPDRs2+IHHjBnjsxbbLOmEwVNOOcVJ3Ktbt66zWITWPrxu3brVHXjggd5q8KCDDnKyUqxRo4bvqzFUqupKrGQpslZUUSbmHj16+Hv+gAAEIFCOBBAGy/HU2TMEIAABCEAAAhCAAAQgAIEYgcWLF0ex+iTaKUGHlUzCoLIX169f35r566effurCL5pxYVBJP2zsMBZhyiDBi379+rmhQ4f6J7NmzXJHHXVUijAocTKTxaENo4zGDRs29C+XLFniWrVq5e+zWStaX64QgAAESplA+O91PvuskTTDTuTTMVMfxZqgQAACEIAABCAAAQhAAAIQgEBhCcg6r1atWt7yb/z48e6MM86IFpBJGFSDc845x82YMcO37datm7v77rujfrqJC4MDBgxwt99+u28TxiJM6RS8kEWhZR22mIChK3HQNOOt4hi+9957vn7ixIk+tqBefPHFFynZin0D/oAABCBQRgQQBsvosNkqBCAAAQhAAAIQgAAEIACBbAQk7EkU7Nmzp7vllluipp07d3YTJkzw8f7iWXynTJniOnbs6NvOmTMnEvGsc1wYrFOnjncNPuGEE9zUqVOtWdarxTJUo88++8wtXbrUmStx1o7fV+63337u7bff9q969+7t7r333rR7yWUs2kAAAhAoJQIIg6V0muwFAhCAAAQgAAEIQAACEIDANhAwN1vFDFQykV133XUbRiu+rlu2bPHZkhUPUYLmiSeeWHyLZEUQgAAECkgAYbCAsJkKAhCAAAQgAAEIQAACEIBAsRNQVuGFCxc6udxWxSqv2Pel9T399NPurLPO8klPXn31VbfTTjvtCMtmjRCAAAT+ZwQQBv9naBkYAhCAAAQgAAEIQAACEIDAjkdg3rx5rm3btj6hx9y5c30W4B1vFxVXrPD4cl9etGiRi2dOrtiaJxCAAATKgwDCYHmcM7uEAAQgAAEIQAACEIAABCCQMwHFDJSrreIJnn766Tn3K+aGimfYoUMHbwUpa0gKBCAAAQi4lCzy+fAgK3E+1OgDAQhAAAIQgAAEIAABCECgiAmsWrXK9e3b1zVo0MANHDiwiFea+9IGDx7sk5YMGTLE1a5dO/eOtIQABCBQwgSwGCzhw2VrEIAABCAAAQhAAAIQgAAEIAABCEAAAhDIRABhMBMZnkMAAhCAAAQgAAEIQAACEIAABCAAAQhAoIQJIAyW8OGyNQhAAAIQgAAEIAABCEAAAhCAAAQgAAEIZCKAMJiJDM8hAAEIQAACEIAABCAAAQhAAAIQgAAEIFDCBBAGS/hw2RoEIAABCEAAAhCAAAQgAAEIQAACEIAABDIRQBjMRIbnEIAABCAAAQhAAAIQgAAEIAABCEAAAhAoYQIIgyV8uGwNAhCAAAQgAAEIQAACEIAABCAAAQhAAAKZCCAMZiLDcwhAAAIQgAAEIAABCEAAAhCAAAQgAAEIlDABhMESPly2BgEIQAACEIAABCAAAQhAAAIQgAAEIACBTAQQBjOR4TkEIAABCEAAAhCAAAQgAAEIQAACEIAABEqYAMJgCR8uW4MABCAAAQhAAAIQgAAEIAABCEAAAhCAQCYCCIOZyPAcAhCAAAQgAAEIQAACEIAABCAAAQhAAAIlTABhsIQPl61BAAIQgAAEIAABCEAAAhCAAAQgAAEIQCATgaITBjMtlOcQgAAEIAABCEAAAhCAAAQgAAEIQAACEIBA8RCokUiW4lkOK4EABCAAAQhAAAIQgAAEIAABCEAAAhCAAAQKQQBhsBCUmQMCEIAABCAAAQhAAAIQgAAEIAABCEAAAkVGAGGwyA6E5UAAAhCAAAQgAAEIQAACEIAABCAAAQhAoBAEEAYLQZk5IAABCEAAAhCAAAQgAAEIQAACEIAABCBQZAQQBovsQFgOBCAAAQhAAAIQgAAEIAABCEAAAhCAAAQKQQBhsBCUmQMCEIAABCAAAQhAAAIQgAAEIAABCEAAAkVGAGGwyA6E5UAAAhCAAAQgAAEIQAACEIAABCAAAQhAoBAEEAYLQZk5IAABCEAAAhCAAAQgAAEIQAACEIAABCBQZAQQBovsQFgOBCAAAQhAAAIQgAAEIAABCEAAAhCAAAQKQQBhsBCUmQMCEIAABCAAAQhAAAIQgAAEIAABCEAAAkVGAGGwyA6E5UAAAhCAAAQgAAEIQAACEIAABCAAAQhAoBAEEAYLQZk5IAABCEAAAhCAAAQgAAEIQAACEIAABCBQZAQQBovsQFgOBCAAAQhAAAIQgAAEIAABCEAAAhCAAAQKQQBhsBCUmQMCEIAABCAAAQhAAAIQgAAEIAABCEAAAkVGAGGwyA6E5UAAAhCAAAQgAAEIQAACEIAABCAAAQhAoBAEEAYLQZk5IAABCEAAAhCAAAQgAAEIQAACJUxg7ty5bvXq1X6Hp512mtt3331LeLdsrToJPP744+6///2vO+GEE1zt2rXzWsqCBQvcO++84xo3buxatmyZ1xil0glhsFROkn1AAAIQgAAEIAABCEAAAhCAAASqgcDXX3/t9t57b7dhwwY/e//+/d3AgQOrYSVMWQ4EatSo4bc5ZcoU165du7y2fPrpp7vp06e7K6+80g0ZMiSvMUqlE8JgqZwk+4AABCAAAQhAAAIQgAAEIAABCFQDgSeffNKdffbZ0cz77LOP+/DDD90uu+wSPeMGAtuLAMLg9iL5/+MgDG5fnowGAQhAAAIQgAAEIAABCEAAAhAoKwJyHX7qqadcixYt3NKlS/3ep02b5tq2bVtWHNhsYQhMmDDBfffdd+7YY491NWvWzGtSuRKvXbvWNWrUyB188MF5jVEqnRAGS+Uk2QcEIAABCEAAAhCAAAQgAAEIQKDABN577z1Xt25dP+usWbNcv3793AsvvODat2/vJk2aVODVMB0EIFBVAgiDVSVGewhAAAIQgAAEIAABCEAAAhCAAAQ8gRtuuMEppqC5D48cOdJdcsklvk7uxD//+c8zkvr73//uLQ2ff/559/HHH3uB8aijjnKXX365a9iwYdp+ufaROHn33Xe73XbbzY0ZM6bCWEpeoXVu3brV3Xrrre6AAw7wbXr27Ok+++wzN2DAAL+nv/71r06C56pVq9zrr7/u2yiW4tixY924ceP88zVr1vi2hx56qPvDH/7gOnToUGE+Pchl7YsWLXJ33nmn73/99dd7i7b4YF988YW79NJL/ePu3bu7Vq1axZtkfa3kHbK6E+MePXr4GHsvvviie+mll9xBBx3kdAa/+93vvEVeONCzzz7rhg8f7hN26MyfeeYZL/7KOvTmm2925557rm/+xhtvuAceeMAtXLjQvfXWW348JQr57W9/6+rXrx8OGd3rPSA+OrfFixe7Bg0auGbNmvl9qm9YunTp4jZv3uzjAx522GFR1dNPP+30/tM+Vq5c6WrVquWaNm3qOnfu7NcWurYPHTrUz9OmTRtfHw2SvNF7QuPMnz/fr+fTTz91xx13nNNc4q73elhGjx7tNPepp57qBfFhw4a5efPmOSXkqVevnuc4aNCg6D0W9i2K+wQFAhCAAAQgAAEIQAACEIAABCAAAQhUkcCWLVsSSZEkkRQ3Etdee63v/cknn/jXepYU3NKOmBTWEp06dYraqW38JylepfStap9k3MNozJSBvn+RFPOi+ldffTVqsscee/jnSTEwkRSkojZJgce3SYpyiebNm0fP4+vW66RIFo2nm6qsPeneGo3dp0+flHHsxSOPPBK1SQqq9jjnazIxjO+vvSbFs2is+F7uuOOORNJlNxo3KZb5tq1bt06IT9h+/Pjxvp21CevsXvOFrNVB4yeTf6SMZe3t2qtXr2gNurHnyeQj0fOkQB09t/rw2rVr15S9JN3cfftk8pFoDN0kM2snjj766Ixj6f0+Z86clD5an+Y6//zzE4cffnjavtp7UqxM6VcsL1yxLIR1QAACEIAABCAAAQhAAAIQgAAEILDjEEjGFYxEkFdeeSVaeDJTrH8uMe3bb7+NntuNCSkSU84555zE1KlTE0uWLPFCYihUrVixwrokqtpnW4XBpMWa34MEnaQFYOKuu+7ya0la2EV7TrpNJ8RA65wxY0ZC+9We1CcU1Kq6ds2ncSRCJa3XIgZ28+tf/9rXn3XWWfaoSlcTBjWHfjTe5MmTEzrDv/3tb9E+VDdx4sRobBP9tC7tUfUS0ZJWlonXXnstkbQo9M9szNmzZ/vnSavLSEBWv48++igaMzwnCa5JK8zEsmXLEqNGjUoR6Ex4VEeNrx8TBiWO2jPtJWnpl0haePr1GCvVP/fcc9G86YRBvVdDYe/iiy/2YyTjZiYkktocun7wwQfRWOH5qi5p8erXoHWE7xfdF2NBGCzGU2FNEIAABCAAAQhAAAIQgAAEIACBIieQdDf1YkmTJk1SVpp0CY1ElKS7aUpdMiZhVHfhhRdWEA6TLphRvYlx+fQJBaeUBXz/ojKLQQk8Eo+SbqQp3U38k7gWLzNnzozWrvFV8lm7LNJMhPrnP/+ZMs2///3vqE6Caj4lFAaT7r0JWX6GRXs2YVRna+KkCYO2ttCqU2OoreokWIbCqMZOupVHYuItt9zip1Mfm0ei4Lp168JlJP7zn/9EfZIxK6M6m9+EQYma9iwUqNXhm2++iUTJ0JIznTAo8dHGkRVjvEi8tvoLLrggqg6FQQmI8SILS/XTHouxIAwW46mwJghAAAIQgAAEIAABCEAAAhCAQBETCF2Gk/HaUlaajN8XCSjJ+G4pdcn4eVFdaHUVNrr33nsT11xzTUIusyr59NkewmAy1mC4LC92Pfjgg4lkDDlvJZhSmXwxYsSIaG/mNprP2mW5ZgJkMoZgyjSaXyKTrPYkeuVTQmHwzTffTDtE6K4sCz6VUBi87rrrUvrJRdhEs2SMwZQ6e3HTTTf5NrIKVQmFtscee8yapVxlian3wvXXXx89t3lMGHz77bejuSUgxt9XEmeXL1/uxUkbJJ0wqL4aW+wzsQ0tAE1QNWFQ1pDJ2Ic2RXRNxlv046q+GAvCYDGeCmuCAAQgAAEIQAACEIAABCAAAQgUMQFZ85lAI2HwiSeeSPkxSzC1+fzzz6OdmLDSokWL6FllN/n02VZhUNaM2cpXX32VSCbKSDz00EOJq6++OnHsscdGPLRnEwbzWbvmvf322yMxSXNZsbiHmeIPWrtsVxMGJYBlKrIatPMVS5VQGJSrblhkPWjtzzvvvIQE4fhP6Kb75ZdfJsI+cWvBcOz4vc1jwqDqW7ZsGc2ves2luJfJxCiJ9evXx4fw1qBqF8YYNDFWrtGZiua0+e2MTRiUW3W6ItFTfRAG09HhGQQgAAEIQAACEIAABCAAAQhAAAI7FAG5iYbCnwklma733XdftD+L+Ra6hkaVGW7y6bOtwqC5u8aXpPh4suLLtFd7bqJRPmvXnGHcvEmTJvllyB3Xxs9k6Rdfb7rXJgxKZMxWbC5zjw2FQbOWs/7iZe1zuYrPbbfdFvWxcXK52vihMLhx40Yv0Ep8s/rwKgEwFFjjFoN6T1v7TElztDa5Kls7c5M3YTDTe9pc6xEGczld2kAAAhCAAAQgAAEIQAACEIAABCBQ1AQWLlwYiSOyslJsuXQ/JqCEsdWUbETPKxOlQgD59KlMGHz33XejPYSZck1YGj16dLgEfy8Xae3F9iXLOCXJUNINCYZvvfVWVGfCYD5rt4kthqPGUJELs+bOZJlm/Sq7mjAYnku8j4Q226exMGFQbszxojZhe73O9PPwww8nNP79998f9YkLjfHxw9c2TygMWr1cgHUeN954Y0pWafUJ3drjwqD6a19q17dvXxuuwnXu3LnRmu19gzBYARMPIAABCEAAAhCAAAQgAAEIQAACEChVAhdddJEXRySiSeDJVJS110ScRYsW+Wb2TH0zxXGTRZ5cQa+44oq8+0yYMCGaO54IQ4POmjUrqjeBR89NGLT4hnpmJUwuYu61Vqerstfafk0YzGe/Nma4RiXiMHdZCW7bUkwY1Fo1brqiDL62FyWEUTFh0GIEhv1CsVjxJ9MVzSVGFoMw3F88aYj1V0xFvRckhlqGa1uXCYOKBamsyKtXr7Zu0VXxBy0pivrZ+zWdMGhJQk499dSof/xGbvM2v42FMBinxGsIQAACEIAABCAAAQhAAAIQgAAESpKA4rWZMBJPjBHf8Ouvvx61veSSS3y1YhFaf2WBjZfQVdOSmuTTR9l8bR6JXPFilnxqk6swGLq+phM1+/fvH81pwmA+a7e1SgiTCKc1yorN9qP4fNtSQmEwzNQbjilrSJvPYkRmEwa1JhNVJYamK8pWrDEl1KmErtHp3kty/TUrvnbt2kVD2rpMGFRiEj2Te3u6Ysk/1EZzqqQTBkMuCxYsqDCU3vu2HomVVhAGjQRXCEAAAhCAAAQgAAEIQAACEIAABEqagJJtmDCTTnCLb15JRqz9hg0bEnIZDS24Jk+e7J/p+ezZs1OSeMjdVyWfPu+//340r0SlFStW+LE2bdqUUOIOW5OuuQqD48aNi/qFVnuyHBs8eHBUpzFlGZfv2n3H7/9QvLtwrfGkKIpfJ0FOP8r6m0sJBTCNLQHWrN8kfilph80ZutVmEwY1b7hWrcXGlKWguUFrXAmsVpTow+YaNGhQ1EcC8cUXXxzVhSKytTdhMLQ87N27d0LvMyuyXjRLwNDSMZ0wqAQoJm7qqozIZm0qN3GJgTa3hGcr+QqD+ntgZ6f3ZXUVshJXF3nmhQAEIAABCEAAAhCAAAQgAAEI7GAETBxRbEETTbJtIRSEFFtORYKiCTAmtMRfK/5cWPLpE1oFah6zvtO9CUO6z1UYXLNmTcq6NZ5lstU4YUIW7UfWgir5rN32rtiFGtt+4pZscnm2Olks5lLiwqD1D/eiZzrr0NW4MmFQQmA8O3PIXGPKJTgUwSTchdzUxqzybF0WY9H2Zs9NGJRwHJ6n6iW6xcfV+q1Y+zArseqmTp0a8dQ4Osf4eiSchiVfYTBkYyJqOG6h7hEGC0WaeSAAAQhAAAIQgAAEIAABCEAAAjswgXfeeScSTTK5oMa3F2bXPfnkk6NqxYMzccaEHl0lTlkW3qjx9zdV7SNRSwknwvF1r2cSp+x5OmFQlnjpiizFQotHG0OusEpOIos+exZaFVZ17eHcsnjUmOnEWFnS2XwDBgwIu2W8N2FQIt1TTz1VYT8SwxTfMcziq8EqEwbVRiKdLP/iYprWKGu+L774Qs1SikSxyy+/PEV0VXutY8iQIYnNmzentLf9yqLPiqwEZQmqPlZvV1mtPvbYY9bUX+29pzXFi97nlk3axtBV5z5t2rR484TERdVXNStxKMTGWVeY5H/44P8AAAD//yMeb8QAAEAASURBVOydCbx91fj/V32TKEOG+mkuEWUWMkbJHDJmTtGfIvP4k2RMiojKGGXKUBKlHyqEUjIUkYSQSqVEkTj//V712Z677t7nnr3Puffc+/1+ntfr3r3P3mv87L3XetZnPetZKw0qSRYjYASMgBEwAkbACBgBI2AEjIARMAJGwAgsMALXXntt+s1vfpOuuOKKtPHGG6db3vKWc5agaxzS/uUvf5lWX331dIc73CEtW7ZszjyGBYBG+f3vf5/+9Kc/pbXWWittuOGGaeWVV66j/PznP083utGN0kYbbZRWWmml+jonXctOXpT5nHPOSe9617vSK1/5yhnp8ePSSy9Nt7rVrdKRRx6Zdthhh1n3ywtvfvOb01577ZXuf//7p5NPPjnfPv/889MFF1yQ1l133bT++uuXUXr9vuSSS9Kvf/3rXDbSXHXVVedM549//GPGdr311kvrrLPODFznjFwF+Ne//pVI48ILL0w3vvGN09prr53/Rolbhvn3v/+dzj333HTVVVflZ8AznbS84hWvSF/72tfSz372s0knPXJ6K5kYHBkrBzQCRsAIGAEjYASMgBEwAkbACBgBI2AEjMCCIXDiiSembbbZJucH4QVZFuWf//xn2n333dNHP/rRBBE3CrHaRAzGNH2+MAj88Ic/TFtuuWWCHNxvv/0WJtOGXEwMNoDiS0bACBgBI2AEjIARMAJGwAgYASNgBIyAEZgGAldeeWU688wzs3Xhc5/73HTeeeelnXbaKR166KGzinPEEUekHXfcMb3xjW9Me++996z7TRdMDDahsvDXbnvb26a//e1v6dRTT83WpQtfgutyNDE4LeSdrxEwAkbACBgBI2AEjIARMAJGwAgYASNgBAoETjnllHTf+963vnqTm9wk/fjHP06bbLJJfU0nLMO+7LLL0j3veU9dmvNoYnBOiBYkwHHHHZce9KAH5SXuC5JhSyYmBluA8WUjYASMgBEwAkbACBgBI2AEjIARMAJGwAgsNAJnnXVW2nbbbdPVV1+d7na3u+Vlpve+970nVoyjjjoqWx9uvvnmaZ999plYuk5oaSJgYnBpPjeX2ggYASNgBIyAETACRsAIGAEjYASMgBEwAkbACIyFgInBseBzZCNgBIyAETACRsAIGAEjYASMgBEwAkbACBgBI7A0ETAxuDSfm0ttBIyAETACRsAIGAEjYASMgBEwAkbACBgBI2AExkLAxOBY8DmyETACRsAIGAEjYASMgBEwAkbACBgBI2AEjIARWJoImBhcms/NpTYCRsAIGAEjYASMgBEwAkbACBgBI2AEjIARMAJjIbDoiMFLL700/eAHP0hnnHFGOu2009Ill1ySNttss3S7290u7bjjjmmjjTaaVeE///nP6Stf+Uq+/rSnPS2tttpqs8Islguf//zn09/+9re0zTbbpA033HBGsag799lufJVVVkm77757+te//pVOOOGEtOqqq6ZnPOMZM8JP+8fJJ5+cfvWrX6U73vGOaauttpp2cZy/ETACBQJnnnlmOv3004ur1/1caaWV0g1veMO05ppr5jZ24403nhVuKbWtswrvCyssAj/96U/TEUcckc4999x0/vnnp1vf+taJ9/uBD3xg2mGHHdKyZctmYTOsb54VeIlc6NtHo4t8+ctfzrXcaaedEm2FZTII/Pvf/06HHXZYTuzRj350WmuttUZOuO/zHDkDBzQCRsAIGIGpIHDiiSem3/72tzPG1OgyP/zhD7Oe/vjHP34q5VpsmfbBpE+cst4rzHhosIik2jJ7cJOb3GRQPYzWv1133XXw17/+dUapKyKxDl8ptDPuLbYfqluldM8o2l/+8pdZdf/2t789+MxnPpPrBi7TkGOOOWZw6KGHDn7yk5/Myr5SanPZXvGKV8y65wtGwAhMH4G3vvWtdduotqftuP322w+qSYsZhV5KbeuMgvvHConAFVdcMeA9bnvHuX77299+UJHls/BRnLJvnhVwCV3o20cff/zxNYbXXnvtEqrx4i/qP/7xjxrbb37zm50K3Pd5dsrEgVcYBK655pqs36PjX3jhhStMvV1RI7AYEWhq3/fff//cX9zlLndZjEWeSpnaMKmMyXJ7hv5SSlucMtyw323jod///vd1Ozos/lK5lxZDQVE8X/7yl9fKEgp6ZVE3eOMb3zh4//vfP9hjjz1mkGYPf/jDB//85z/rorc9rDrAIjppG3wccMABdf1f8IIX5Lr/4he/mDoxeK973SuX6x3veMcsFJsasVmBfMEIGIGpIRCJwfvf//6DymKq/qusfDNJojaJ44Mf/ODBf/7zn7q8S6ltrQvtkxUSAQiX7bbbru5H6bvotz7ykY8M+A7Ul/GeV1Zagz/96U8zcNJ3YGJwMDAxOOPVmOgPE4MThdOJjYEARhZq97773e+OkZKjGgEjMC4CTWPqSRBa45ZrscVvw+R1r3tdbs/QA0tpi1OGG/a7bTx03HHH1e1oHD8NS2sx31sUxGC1rKIGldn8aintLMywBHjyk59ch9tzzz3rMG0Pqw6wiE6++MUvDqolS7Nm5zSgecpTnjKjtJVZcQ7/9a9/fcb1hfqhwVQTMfid73wnl61arrhQxXE+RsAIdEAgEoNXXXVVY8w//OEPA0hDDRB+/vOf1+Fod2mvvvCFLwxsOVTD4pNFiEDlTqR+h6N+EIt64IEH1mFe9KIXxVuDtr55RqAl9qNvH21icP4e9DjEYN/nOX+1ccpLGQETg0v56bnsyxsCJgZHe6KVi5g8LqncrM2IMIwYbIszI4E5frSNh0wMzgFc19sMVpm9Z1C6+eabD1hS2yZYCd7jHvfIYYlT+WrJQZcSMdhWNywkweD1r399W5CpXB9GDE6lQM7UCBiBkREYhRgkMUzwRQwedNBBI6fvgEZgsSAgpZD3uI0Ep6ysOCCMl+a0PzkTg+3YjHtnHGJw3Lwd3whEBEwMRjR8bgSmi4CJwfHwlw7YZDE4XsrDY5sYHI5P57ssFdaAFMuUuQRfGAr//e9/PwcfRgzS8R188MF5+dx6662X40IqPvKRj8zLdMv8UNrIgyV1hMO3H1aMT3/60wcnnXRSGXzQNXzlyHtQbaKSB+IkxnJpfqtO5MVvwiGnnHJK/r3LLrvk3/Efg5/99ttvUDlTr8vK8sA3v/nNg2rTlhi0PocAIC1IWOrGH+evetWrBpWT9jocvhwpB/cpG2H4/cxnPrMOg2ku17D4LIX899577wENHTiCPdaQPO+4DFzx8FNIWtWmM4OzzjprwG+RwAzg+OD//ve/K7iPRsAIjIDAqMQgyyrVBtH+SarNhfJ3ybdJW4owecNv/phBo1OkTdlkk01ye8FyZZZvNpnUY3V49NFHZz9whCdP2gfarX333Xdw9dVXK+t8xKqLfHCrcNlllw1wuUCbcoc73CG3ydw78sgjZ8SJP3BRQRiTnRGV5fOc56x3eFhfcfjhh+d3lfcvvm9l3xxRwhcc7xITZfSJvIO8U8R/1rOeld8x9bnl94El43Oe85zcB9IPEl4+DvFN89rXvrZOl372ZS972eCCCy6I2dfnXfvVYX005XzLW96S60Kd+A4f97jHDVidYGKwhnziJyUxSPuFXqX2k2fwzne+c5a/VwrS9Dw/9rGP5fePdps2Ev1PE82kybv3u9/9rrEeo+qDRP7Wt76V80GvQ7DWwM0PebzwhS/M93i38VvXJOjrfKP8jePProvei+5Pfli8Y0jAt08Zedf59iSVY/r8fdN38S2gc9Kn4fe8Sbrq/V3DK89jjz02jwUYF1Bm6vLBD35wcPnllytIPgpb9Hjqecghhwye+MQn5rqovcLaVPLHP/4xp0UYtZm8M6S/zz775GDDnvdnP/tZJTXogl21mWLOg3zOPvvs3HfP9e5TV8ZfxHFfX8PukxYELrroovod431Dd3zTm96Udcy4SoC2cq+99sruR/hG6NsZZw5bUs8YGeMdiCfi0J9zTtvbNK7tyj8sBDFI387qS9ptvn3qwGTpJz/5yQF4NcnPfvaz3NZL/yE8fRRWeKX0HcuTx2677Za5hjgugOPgWUVh7wPag9e85jX5MuMNftNOEpdnw2/+GMMgZRzGLQrTtjcFuhthaKPAphwPfeMb38j36TfUjsJzEIf8aI85R89qk49+9KM5DHVfLDL1pcRaHszL2fZSlmARDuVjLotBFF86eD2wpuPb3/72Onk6b32YTWG5RgMg6RqeeEpXfowYCOhaeSR82+Yjv/71r2virIzHbz4MGsQolL0prK7xDFAYEOLrenlUmsKq3HyETVNQYsp4+k3jct555ymZfNQHTQPeljdE4ajvyIzE/cMIrKAIjEoMsoxS32ccMDVNujCoU9h3v/vd9bmu6QjBEQWicOedd24NTzwUDrXrxFVbAFmhwS7hUGrUttOeNAltpMrSNsBriudrSxOB+C4yABhGDjbVUO+K+maFQTHVvfIIyaBrmliL3wdLmnU/HukfTzzxxKyUx+s6pz+88sorVYR87NOvtvXRuP/QwEB5xiPflH7bhcCMxzD2D/RGYavJT/2OR9q3Uk9qep6Qc8SDAIzPLaZFO1qm1UUfpNIMvkiTSXPa45g+AyD9ZsDVJBBthEHn7Std9V4GdOTJwGyvigRQGTnqe4Xgj9fLc/qsuClXV72/a3iwIQ5tWFkW/eY5M76RqP+m3WCAqXDlkXAIY4Pynn6zeRMy7HkzLkH6YKd8urz77usz3P43AgLx3abNi2NR/PcjEOmMd/UulsdPf/rTs3KizZM+WobnN99k1Dm68g9k2NS+T8I3nipDO9hUdl2jrSsn9NUOKEw8ggcTA1H6jOXL/iTmwTnff2zvSkzUzpfx+M3kF1LGwQhJ4T/xiU/EKtTnWl3CZB1SjoeGYYM+CjeiPEpyk/TAWu9hOV7i/rRk6sSgXiJY1b5SPiylEztWFHSYchQLZuGkFPNi60NgVlEPEeuAH//4xzk8g0qF576sDLqGp1xKX4MPjsxiCgc6ZX5rRq6JGERRj4QisxxYMzLD9+pXv7rOgzJrkM1gX3njT4xZZj5o/mKcD3/4wxk+mHLKoYYQApffscFsasSi5RH5YQVUbbU+OPnkk2coLHzoccCh+quM73vf+3I8rIuw7tT1z33uc3q8PhoBIzAHApEYxNoIxUV/zMSfc845WbnXd05HGKWpbY3EB98l7QzfJTuX037EtkmDL9IkjL5jOnIsxMkfJU1tCfexJJCoXGof+E1fgeUglhNKj3RKede73pXvE4eBlmX5RoB3QO8L7wUDghe/+MUD+thyo5EmJPQuqW8mTPR/TL+JLkCfST8ohU7x9K6X3wd9HfGYEW8aSDM5ia5BPxmJxtjX9e1X9V3FyTssG2LZmYzDSoLvEF/Cqo+OsZ9uws3XuiFAWyRsdWQQQVuLHvfSl760vs+7Ix2OXJqep4hBpUV8rMP4izow55Ku+iDxNAjiu9J3xjfBN0bbrwE473Ap6MyKg5/PPtJH79WAUf0HGKFjY/XDc2AsINwoP1YzkOZchwDVvTho66r3dw0PNrHfJm++TdqHt73tbXWZwF4iYlDlpR9nvMPgl7SEPTgg1J02DItKxWGMhI6vnbKHPW9W9fTBru+7775eT9rHuRCIxCDtJ+837z0TE4xrsQ7T94Duih5K38z7HCdWIKsksb0k7gc+8IHcXn/pS1/K1qz6hkQ8Ei+2vaPwD8Rpat9LQotwfSTqEIyp6R/Yz4EJxzjGjhaT3FPdCIOFHN8+epHae/CIKxxiW0vcUcbyisPzYMwPoYtOFDeljfsclJhQF9outdmkx2/+/vznP2e4yjhc1FiFupXCeEl114RKOR7ivSCPOBmjfMGJ90ppwLmUwopQ3aetXiwyVWIQ6y+BMo5vvfJhCVxeMtLX0gdd5xjXhON8H9FLyIsusjDfqP7hkF9lheRCuoYnjtKIgw+uyxqmxKGJGIwD7KZlvCwlUT4oE4jS4bqWBOYb1/9Tg8iSkCi6Hj9K3W9qxGgYlTfKTCnR+Xtk6dUwEPfUU0+dEY3yKk1mpi1GwAiMhkAcYOgbajvy7ZfLwJra1kh8oBzEmTxKxeBWeWBOL1HbgNl9KZCUiqNJEcJIgeMe7Y06ee6Rr+I0mepLKXSbAVorhtDnSGHVu6Ej+gCDbJTIJlE49c0QMuqXGISXfgvRG+L72UQMEr+0/ItWs6WyyMBZaWLhJNG3Qxm79KtNfTTkveoqyx/lwxF8dJ+jicGIzvjnJTlS6jvk0OZip+l5RmKQwU8pGizRHkr66IMiivRulK5/IJh1r3zn+aZ07+KLL1YxOh376L0iBsmb7x8CU8L4Q983bYZcAcT7LAtTuTX51FXv7xqeDQeVJ4PqUuLYRYP4SAxCfEYymfhxTBAtV6JurbSU37Dn3Re7vu+++3o9FR/nQiASg3xHkHJRrxVhxzdfLsnnvaavJ16cJI/ED4RPKWpj6buVV1f+gTSb2vcmQqvMf5TfEG5qV2I7SFzKLL1JqyjBQsQZ7spKToTVhdJV5H6AtNSmklfZt8X2Rnp5JODo90rBjQBpRb+BbZhgJFWGVXpNcd7znvfUmJTtP/wEaVFH6X5N4yHSj21yiZPeJ96RUmRRGPvmMsw0fk+VGIS5B3j+mAnrK00Pi4eDAsyLhpVgKR/60IfqvLXEAiVd5cH3X6nc0CAwm6iBcNfwlEHpa/ChcnUhBun4SYcPsHwJSY9yv+ENb8iWgOrsaQjAomkgwDIJNWLMqkTpQgxSFtWvTEdpxsYmNrxqTKhbk0hBo5GwGAEjMBoCXYhBOkDazEgENLWtkRikYy2FQYkUBtpZCbO1tEFNxEyceGHGTaJ0aFfKjpswz3/+83ObQ/sV20KsDtUWlUsdlLaPyycCKLmQy/QZ8f3R+8ARcrrUC3RffTMEnK5hfdMk6AkK00QMxndZ8fkGFIeBcikaZGDJj4zTrzYNNOh3yb9NfyBPuXghXGwPuGcZD4FIjkBcNQl6knQyBmWSpucpYpB3vel9krUV9yV99MFIFKFfloL1id7rUs/U4I73qq/00XsjMVh+w0yaq7xN3ynlxDejwuBTC+mq93cNL6tiBupt357GC/R/SCQG5b8037j+H2MX1YO+VhIH6hor6N6w590Xu3Hefff1ejI+DkMgEoP4ri5FOkHUTWOYODFGmxb73zY/cHxT+Lujz8Yyjzhd+QfK0NS+NxFasbyjnjOxoTaApbFYu0VhQgJ+Q+7E0JsVPrYZMY4smFmBIOk6lme8IFKSuCWZiDEA5dLEDPm0YdKVGMTSUXWMbuLIQ88iGks1jYcIO4wYxApdeURfv7Ttqjdt/mKSqRKD8YOLJrhdAWp7WEqHZQyYbNJBw1JHR5E8MBGDDHjVaOhBYmLKy0+nqZkApds1PPGUrgYfSksd/SgWg/rw5HhTaYx6ZADD7AGKDss+Yp1LQq8LMUiDovqxfKJNxJI3NSbMOjeJZmzGUSyb0vU1I7A8IxCJQczaIUPiHwNEvlW1P3y/LEWTNLWtkRjUsiOF11GD2qYOD0WAgQqDR753lBS1GxzjIE1tU9kuKZ9oih8VCtWb9suy4iKA8sV7j9IXyS7eM97RaL2kd1B9c1Toou+giCZLaxSviRiUxX6MowE3SmGTaFmPiMFx+lUpt3EpsZYRD9Mf+AZVrzZyoqnsvjY3ApEcicvFy5hYt/IM0PckTc9TxGBcWqrwHGVpR1vaJKPqg3pvKRMD5ibRu0s5JUw8611iANVX+ui9Igajrqn8hQtlG+ZqQJbn6oO66v1dw8uiiXKhnzf96RtW/xaJQVm3qJ4cYxsSJ8pGJQbL590Xu3Hefff18Yn6vA2BSAxGXZLwkQiCNGz6tpiIie1VjMPkdlcZlX8g3ab2vY0E61oOwlNn1Y0j7Qd6APViI8EoWIQrLBM7TViJHyAcbQmidrrLWB6rTuXFEd0MTojnpxWdsWxtmHQlBklTmEdDJayqVR6tECVs03iI68OIQXRHjWPwVy2Jy7TbNj9R2IU+TpUYpLJyQBvNRIeBgCLPg+RPDuXbHhYfdFyCowddHkUMki8semwYYlgU+XKWoWt4pafBh+qqgflcxCCDaqXRtMxA6TUd6cxlGqw0yqOUH8XXhz/KUuL4HJqWOynNaDGhnZzUmLTVCdaespoYFIo+GoG5ERBBxrfTNGBQClioqA0irDr5+E2r84rEYJtfjCZikG+dZQrqJGPbE69FZU7X41IFlVlHDdyiHyi1J8zaWoyAEEB/kOUR71/sb/Q+qm/mndM1xS+P0YF1EzHY9H2IYGkiK0hf5IqIwfgNdu1XpfSKGITkU52iklrWC8Jf4UwMluiM9zuSIwwO2qTp/SufJ3FFDMpBepke1rM8S9rSKF31Qb23pEV/0ST43NJ7Qz+BaICJ/twWrymteK2v3itiMA76lK4Gl5R3mGhCIbrA6Kr3dwkvi17hOOyoNiQSg011YXCtdPoQg+Vz64vdOO8+9XJf3/R0fS0iEInB0gqW3/oORjmii8aVA039ecw7nvfhH5rad31rk1huCkmFcZT06hID9ATtoRD7nzJc02/xKNK9o24VcWkay2Mkxu68sqAr04eTidZ2bZj0IQbVP5GnJorxv8pv2lf6HknUxTQe4t4wYpD7muSDf5FoAmgxroIc3iOqBvN41BIDHkITM1xmDbOtl0ZKVdPDYpZSnQjhyYcXjzh8sLHx0Asd88L3AFZ1KOclmUY6pYwaXmXX4EPpaFA+FzFIeH3UXZZf08Apbwbt+F2kfpjo0hBIgRqHGIyYlss2VE+O5E1ZoqLapzGJafrcCBiB2QiMSgwSExJNbYR8kDS1rX2JQdoWpc8gi2XItBPnnntuXjKldq2JGMTiq03kQJ34DGAou/KR24e2uL6+fCCAFSxKJX/SC9pqFq1kWG4s0Tujvjm6G2FA2yRRIZwvYnCcfrVpoCHlu8n3sup45JFH1t+QiUGhMpljJEfQwdpEVhQ8L0nT8+xDDPbRB0UMxvKoXDpGX1U46Eee+MQn5neJZffjiPqHLnqv9NqddtppVtbo8frmNRE2K1B1QSuMmialR9X7le4o4Skr5WJQSr837I/vFJlPYrDpeffFbpx3n3q6rwcFyzAEYn/5q1/9akZQfuubx6Jt2LfFPbiBuKS2yQ3OjAyu/9GXf2hq39tIsKZ8R71GO42exPhA3INwwTIQof66NhdO+OPTqopxxvIQhOCN8ZDch6kM8BbKow2TPsQgBhPqW+jjEBmHlTpS03iI8FEPpA6lwLOoHoxPwF95xk1uynjT+j11YhCrPwH22te+dk4cnvOc59ThxWw3Paz4oOg0S4kz/SIGYaRZ4tbky+qEE06o89XMYdfwlEF11eBD5dLHOQoxKHPgJkWF9Ph4KCPWfhpky/KPuPq4lDdHLecbhxjEIkj1G2bhI4uNuPRlnMYk1sPnRsAI/BeBLsTgIYccUn+/KFdIU9vahxhkmYLaBpYql51ntAhRm0X+6jzjNa5HiWb/EI0aUNNXWFYMBOKAU86zh9VcFq1Y50n0fqpvjlZzbQMCJg4Vb76IwXH61aaBhnwYxroLAx3RxVQvE4NCZTLH+K7SVrUJq2h4BtFpedPz7EMM9tEHRQzKSq2t3PK7SR4QYXqPykF6W/y26330XhGDpV5LHt/61rfqspWWRSoDYwz1QSI2u+r9XcPj4gfM0InbBAtExjAckfkkBpued1/sxnn3qaf7elCwDEMgEoPlEngmjtUeiVQv0yIM3xZ/nEdXCJrsKOPg15P2jj84hD78A2k2te9tJFhZhrl+w2tQNtqjUvDfFw2g4AiipeRFF11URsm/+R7BKfog7DqWh5ijXDENZYZVXjQeO/HEE/OtNkz6EIMkKOs9+tw4Vin7rKbxEPHj8y7HNtxHtAkJHA9kIO8hbeti1K+mTgwCopYTA5SWB18H5cz/DPr0UceZ/qaHte+++9ZhS9+ApCrlhfREDOrB8ZI0yY477pjTZFCBdA1PHJVfgw+uIV2IwRe/+MV1OmXDR1pyXkxep512WjaFVb5Nu3fy0Uv5KRUoKZBNg62mRkyzq6RHo1EKfsBUFj5iSdfGRPF8NAJGoB2BUYlBFKDYDvMbaWpb+xCDUclgUFGKOkrahkgCql2K18q4/JY1IrOddLakw+7IlhUHAREHvDNYobZJdML9rne9qw6mfkl9M0qprjEJVyp8rDzQ+0m4+SIGKWDffrWpj447lKLUl0K/Heu1GBXXssxL6XckR8C5yaoZv5h69yJ52PQ8uxKDcRKmiz44KjGI9a7KziCI80hu9n1WXfVe8hlGDEaSqc2VkQag1IHBH9JV7+8aHp9Wwq/JmoTNBWX1K3/AkyAGoy8t6jnseffFbpx3nzIh7uuvw8H/mxEYRgwSQxMufJdln879Aw88sP7+5HtU41OO0o0JK5G7Adpz+IY+/ANpNbXvaoPGXUq811575XpRhybRJlW0PfgkxYpaekDsg2JcWdbFJbLCatSlxNFPM/mWEvtC3F8gbZj0JQbj+OSAAw7IOKFPltI0HiJMJAbj0uMYnzEM2NJ2yyocXWwxytSJQUCJg0KAw3wT9lgKKbOOmkXjPi+r/JcQv+lhaY044TGDlcCE4y+P6/qTcixLE67jGD82AD/+8Y/rzlg7gXUNTxmUpwYfKlcXYhDGX+lAUspnCEw3/mSkNHBPGGqwzOA/WkTiHD0SAnzoUTQg4TofbST7mhqx+IGRrmYBaIAhdlU2nmFMq2tjEsvocyNgBJoRiMQgzrtpK+If3z8+NkSq0K5Ep8FNbWsfYjC2WbvuuutAvkVpnxjUSAEhfxQzia7PRQzGdoc0aO/aOmil7ePyhcAxxxxT94s8f/p9rSqgpijsKHDqg3hPWOIh4Td/sW+W2wuuswEWM8joEJDOsjpUvPkkBuP73aVfbeqj6Xf1XXGkLvpWGFRFFyzUTTqEcPJxPAQiOQK+4B31JKxP4jsqv0fk2vQ8uxKDpNNHHxxGFJFmlNJP3lztd4zbdh77kFH13mHEIPnEcQWTStJJaSsY2OrbjsRmV72/a3jKJfz4PvHbqLEIhgAixigb7QLSlxiM7yJYsAMoxCMy1/Pug13Mr+u7nwtV/YttIWm4rxcyPoLAXMRgfH8wMBKXgK4AF6G+MVrUs0Gf2gJWvKlNxmJXRBL3tYlqH/6Bsje1720kGAZMlJU/WdKRRptEnoUVAfrOCY9xkFYS8D1J4jeOCwetNqSdjHsFQIRKuo7lo2sX2r3oUo5n8vKXv7zGnp2TkTZMpK9RByaHKafazrY4pAc/Uepz5X4ShGsaD3Ed/PV+oE8xqRx1T8KAnd4thZVRGvcRCFY902E+4a8LPX//FwUxSPUgjUrQ+C0FRkByjbBRmh4WL1dMj3Tig9fLS7qE48OH+Ir5cR2lrbymnQa7hqfMqkccfHC9CzFI+DiroToobR1VTsKz85Cuc9QLqGvRjDgy5ZCgCqMj6SFNjRjXNTOh8Ci58VlwvTTj1vMYdZaBfCxGwAgMRyASg/oehx3pmGOH1tS29iEGKWWcgKA9iG0Ov2M7q40X1G6MMrCM6TVZOA9HyneXBwSaHGbT78d3Q+9/uTpB12PfjNKqzUB0Px4hE/R7PolBnk2ffrWtj44Otyk/31kko1QnjiYGJ/tllOSIsOYZqL3TNcjtKE3Psw8x2EcfnIsoiuWMPiqpC8vxJiFd9d65iEEGXyLhhHkcJ3CNfunss8+ui99V7+8anozIr/weY/9IudRHEr4vMUjcMl2ID2Su590Hu3He/Vyo6//F9tx9fUTG53MRgyAUXYDwLZXfGu0wls8SiCNZBaqdKOPQbmDEhPThH4jX1L63EVpxgqDJspj0okCQKX3Vge9IY29d47uXQGbJOEj3y/YCy8tIYim9LmN5vmGlz5E0yglK+T6kbG2YfPKTn5yRDmmxanJYnHyz+lfqjnFzEYVpGg9xjwmbWH7O3/3udytafcTCW+GarNQjtiJh68gLeLJoiEHqjGLNx1cqRwJy5513rtn9iBEWfwqjD5P7LFmLHYjCwOqjqMQPSwoYLHNU9hWHIx+VrAuVf9fwSu/YY49VEvnYRgxiOkscGqFS8HtUfjyEJS1tHqA4WOhoHb3KwJEPEP+JzFjreswLRlum17qvNNXINPmGhLxtKhtp0XCXorAsg26Spp2MmsL5mhEwAv9FYBRikO+dwcDHPvaxWUsrmtrWuMRS1sr/zfG6Mw2u4vfM7KraDLUlHGkT6FhxYKzr8g+ovgBL6LmEzUwUXyTNXHF8f/lDAIuApvdM7wY+a7CeLUX3y74ZYowZ8WhVS3/FtxWdSmsGfq7vY64Bt4jI0t8w5e3arwqHpj6aiUMtc1TdOaIXRaLBxGD5poz3G2s04Q3OTXoZkyhNfu+anic7SZJel12J++iDc723ERXSV9stK5p4f5zzLnrvXMQg5cBalr4jDsrAk/LzLTQt9e6q93cNT7loRxiLCEe9M/TX+AOWlS9hmczQfX6XAlGh+2WfDakQx0laNTTK8+6KXSQGu777sU7u6yMaPo8IRGIwWp/FMJwzeSESS98GR6wIm8aokIMsty3bCeLQxsnyUPn04R+a2ndNhuDWKwp5qtz4Qx5F0FFYblu2KaRDn6OlujEtCEWWvNLuKD8d0SvK9rHvWB4LPY0blD5H8sXlhSz/KFsbJvQ78ESxfqz2HBYn36z+RYt0eKgmaRoPKRxtUsQIi8pSWA2gurEqtZRY/2igUYab798rkUFV0EUn1QedKqU7VR9j2nTTTdPGG2+cVl111c7lpHrVgDRVvgJS9dDShhtumFZeeeU6nYoQSze60Y3SRhttlFZaaaX6esXWJspQdc5pzTXXTOuss0662c1uVt8vT7qGL+OP87t6gVLlNymX/7a3vW1affXVW5OrGoZUfQCp+oDSZpttltZYY406bEWWpqpBTHe84x2HplFHGOFEZVtttdUSZVtllVVGiOUgRsAILK8IVMuVcpt8wxveMFWKWbrBDW5QV7Xy25bbXNqgrm3F7rvvnioiMlXESqrInTpNn6yYCFQKa6oI4tzfgUCl0Gc9gv68r9Bv8nfTm940J1FZ3qVqIJEqRTRV1oV9k+0cb5L9KvVBD6IOlWI6Qz/qXDBH6IVAZXGRqmXqqSJasv6FTroQMl/6ILrz+uuvn6tQkfDpPve5z8Sro28AvX0uvXfUzGkzeA7o+7QXc0lXvb9rePJnDEM7VhEPuUy3uc1tFuU3Ogp2tDWMBZCKzEiVEUPq8+67r88Q+t8EEOCb/OUvf5nQR+EBho2flZ3e9Vvc4hZpgw02aOUm+vIPymeuYzUhkKoJoVQtBc78xlzhdb8i2VJlyZzblBvf+MZp7bXXzn+633as3JClypIy3epWt8rtex9Opi1trsP30M7B14AdnM26666bli1bNizakrkX9UXqCfalVBN96Wtf+1qqfCuWtxbs96IlBhcMAWdkBIyAETACSxqBylI8T+BQicoSIT3hCU9Y0vVx4aePAIrpne50p4QyXG1Skp797GfPKBQkzgMe8IAE8cEAl4GuxQgYgZQqC5NULX1PlSVa4wCnsrxJtNmjSmXRntMaNbzDLU4EmojBriV1X98VMYdfHhGADHzUox6VKov+VK0QXB6ruNzV6UEPelCqLN5T5f4jvfe9751Vv2oVR9pyyy0T5OB+++036/5CXTAxuFBIOx8jYASMgBGYKALVco1svVU5HU5HH310tqioliV3tjacaKGc2HKDwFOf+tRULa/J1nSVu5H0mMc8Jlu4Vi420itf+cr8zlHZame9tO222y439XZFjEBXBPgmWHVS+cdLO+64Y47ON1PtwDgrqS222CJbqc660XKhWnZVp9kSxJeXAALjEIPu65fAA3YRFwyBajO0dPDBB+fVMaySsSxOBCD7sEat9rFIjFMQrNJZCVsKlu/0oaeeemq2Xi3vL9RvE4MLhbTzMQJGwAgYgYkiEN0/kLCtBScK7wqfWOUbLD3kIQ/JbkXawKh8xKXK503bbV83AisEApUfzlRtalLXtfJZlSp/n63L7OqAPllhEBiHGHRfv8K8Jq7oCAiwUgF3DSy1tSxeBB7xiEekyjd0XcA2a0ECHHfccQmrwlGWs9cJzsOJicF5ANVJGgEjYASMwPwjgJ9U/KuyZK1yqpwqZ/Pzn6lzWKEQuPjii1O1MU/CPwwzvfhl433DD2a1KZYtBVeot8GVbUPgsMMOS5Dk+Ed86EMfmpff46vPYgSEAO4Xnva0p6VqE5JUbSiQ7nrXu+rWnEf39XNC5ABGwAgsMgTQET/1qU/lPSqqzaSyiw0sCBezmBhczE/HZTMCRsAIGAEjYAQWDQL4HiytVxZN4VwQI2AEjIARMAJGwAgYASPQAwETgz1AcxQjYASMgBEwAkbACBgBI2AEjIARMAJGwAgYASOw1BEwMbjUn6DLbwSMgBEwAkbACBgBI2AEjIARMAJGwAgYASNgBHogYGKwB2iOYgSMgBEwAkbACBgBI2AEjIARMAJGwAgYASNgBJY6AiYGl/oTdPmNgBEwAkbACBgBI2AEjIARMAJGwAgYASNgBIxADwRMDPYAzVGMgBEwAkbACBgBI2AEjIARMAJGwAgsJQSOOuqodPnll3cu8pOe9KT0z3/+Mx1zzDGtcW9wgxukDTbYIG266aapaWfyb3zjG+n3v/99a/xVVlklrbvuuum2t71t2nDDDVvDdb1x+OGHp2uvvXakaHe7293S3e9+93TJJZeMVdczzzwznX766a15spHZrW9967Txxhsndt5etmxZa9guNyaN8W9+85t0xhlnpNNOOy3/3eQmN0n3vve905Zbbpnuec97plve8pYjFe/SSy9NP/jBD+q0wJd63+52t0s77rhj2mijjUZKp28gdgi+5ppr8gZy7BLchvdVV12VjjjiiJzNfe5zn7T55psPzfJ73/te+uUvf5lWXXXV9IxnPKM17HnnnZd++MMf5j+wJH/qv8UWW6SnP/3p6aY3vWlr3AW7Ue2wZzECRsAIGAEjYASMgBEwAkbACBgBI2AElmMEKqJjUBENnf8qgmjw7W9/e+R4O+200+Ciiy6ageQ222wzcvwddthhUJEpM+L3+fGvf/1r5DzB5a1vfWvOZty6ks6oON/lLncZfOtb3+pTvVlxJoUxuL3mNa+Zsw6f+9znZpWhvFCR0YOKUBya1q677jr461//WkadyO+KkJuR99e//vXWdP/4xz/WYQ866KDWcLqx22675fDUr0nA8U1velOdZtM7Qdz99tuvKfqCXrPFYPV0LEbACBgBI2AEjIARMAJGwAgYASNgBJZnBCoCJv3iF7+YUcUrrrgi/fSnP83XNtlkk2y1NyNA9QMrqnPPPTc96EEPyrewpIrWYhUBkrCKuvjii+uoW221VTr55JNr66xtt902nXDCCfn+Ax/4wDqcTmI5uHb7298+W1itscYaCtL5iKUglozIWmutla20hiXyvOc9Lz372c9O3/nOd8aq69ve9rb0hje8IWd1//vfP6288sozsv3HP/6Rn8OVV15ZX+cZ3PnOd65/9zmZBMYVoZut+E466aRcBKwEK8Ix3fe+901/+9vfUkViZnxUvpe97GXpne98Z42zrv/73/9Or371q9O73/1uXcrpPOABD8jP4pxzzkmHHnpoEgYPf/jD05e//OVsfVdHmMDJHnvskQ488MA6JSwUP/OZz9S/48kFF1xQv/8VMZhe+MIXxtuzznffffdEODCqiM0Z97GKxBqwIiLzdcI89KEPzThiMYgF4ac//ek6zpvf/Oa055571r8X/GRBaUhnZgSMgBEwAkbACBgBI2AEjIARMAJGwAgsCgTOP//82qLpwx/+cGuZohVdtWS1MVxFOg4q0q9OryJg6nCyZquIsvpaeVKRRIOnPOUpdfz999+/DNLpd7QY3GuvvUaOO25do8VgtTy1Md+KOMuWYhUBlOv76Ec/ujFcl4uTwHj77bev8X/yk588aCo/FqQVcVuHO+CAA2YV87DDDqvvE5Y4pVRk8IA8hEFFjJVBxvr997//vbZWvMc97lHnUxHYjelO0mJw5513rvOjjpSlFKxiI47DrBnLuJP+nSadoNMzAkbACBgBI2AEjIARMAJGwAgYASNgBBY/ApMkBqltJFde+tKX1gCMQloR+KyzzqoJlcriqo7f52Q+iUHK01bXUYhB4lO+ypIx15clpePKuBizpFkkHct7K4vL1iJddtllA5ZBE56y/+Uvf6nDQiaqXixfj/fqQNefVL4rByLtiANhOimpLPLq+kDCqW7ve9/7GrOIz3OcpcSV9WedF8vqh9Upfn+V/8PGci3ERRODC4Gy8zACRsAIGAEjYASMgBEwAkbACBgBI7DIEIjExLgWg6qarKCq5aG6NBiVtCLCeuutl4kVrNfGkfkmBilbU11HJQaJv8suu9Qk0jAijrBzybgYV8u/67L8+c9/niu7wbHHHluHjxaZ73//++vrn//85+dMp1pSXIf//ve/P2f4UQM8+MEPzumKYJY1Ks+sSSZFDOIjUyRkteFOU1YzrkEeKny1zHzGvYX6YWJwoZB2PkbACBgBI2AEjIARMAJGwAgYASNgBBYRAvNBDMpaDCJGMipphQWZSJJxN2VYCGKwqa5diEHIU+q7UEuJeR5NGGPVJ9wrv4F6bEOPWMJpQ5t73etedVgtD4bg5RmMIoSrdg4eal03SjoKU/kwrOsDgYkcffTR9bUmAnJSxCAWlGAJ4TeK/Oc//8l1p/7TEhOD00Le+RoBI2AEjIARMAJGwAgYASNgBIyAEZgiApMmBiP5svfee9c1G4UYxGKO5cciqE477bQ6fp+TSAy+9rWvzX7e8PXW9BcJrFF8DFKetrqOSgyyq6/qWm3S0aeKM+KMg/Hpp59el6XaBGRGusN+QCKqDhBciKwoq40+hkWd13vV5i+5XJB0Ityuvvrq2ufg85///Fn5T4IYvPDCC2s8PvjBD87KY7Fe8K7E1VtsMQJGwAgYASNgBIyAETACRsAIGAEjsKIhUC11TBtssEGudrWUOLEzb5PEnXqrpaIp7ixcWY6lihDJO9ayQ62k8heYtthii/xTO+ZWFnaJnWKjVKRc3tH4mGOOSX/4wx/yLXZ0Pfzww2ft6BvjzXUedyWeKyw75FYWXjnYuHWNuxK/6U1vSqusskqdPVhdfvnlecfmivjM1ysiLX3ve9+bsdNzHaHDyTgYf/azn01Pe9rTcm4/+clPUuU/cKSceRde/OIX57AVsZZ3HNZO0K9//esTWCy08D5V1or5nWLX5Lgz8m677ZYOPvjgXCR2wr7pTW9aF28SuxLzHNmJGjn++OPTwx72sDr9RX2yWBlLl8sIGAEjYASMgBEwAkbACBgBI2AEjIARmD8E+lgMVgRHbRXVdr7PPvvMKLSs2drCx+tYc0ULvhkJdfhBGjHdYeef+MQn6pSjxeCwOLpX1jVaDCpM25ENPC666KI673FOxsH4Qx/6UI3Vr371q5GLEXcfZuOYSy+9tE6nIgVHTmeSAbF4FN6l1WlF+tb3PvrRj87IdhIWgzFv8loqYovB6o2xGAEjYASMgBEwAkbACBgBI2AEjIARWNEQ6GMx2IYRlm93vvOd08tf/vJ0v/vdb0YwWbNVSztTtanIjHv8qDa7SKecckq68sor872KXEv/+7//OytclwvRYvBFL3pRwnqsTdZdd910wxveMN+OFoNt4YfVNVoMVn4WZ1gMkl61lDlVPu6yRRu/Kz+D6atf/WpatmwZP3vLOBgfd9xx6VGPelTO++STT66t3uYqTKwrz2711VevrTxf8IIX1NZ5c6UzyfuPf/zjU7XMOydZbX6SVlpppTr5arlz4pkglV/E9IMf/KC+NwmLwR/96Eep2mU5p/mZz3wmVcup6/QX9clSYTBdTiNgBIyAETACRsAIGAEjYASMgBEwAkZgcgj0sRj8xje+0bkAsmarllm2xsVyTptZVCTK4LLLLmsNO8qNaDEYd82dK260GOxT12gxeNVVVzVmh9+7Zz3rWbX1WrXstDFcl4vjYIyVIJjzF60n58pfdWATFklFjOV0tttuO10aerz44ovz5itswHLUUUcNDTvXzWj1p/oMO1bLpuskK2KwxuDAAw+sr7ed7Lrrrjk8fgwlcROXd7zjHbo89HjiiSfW9e9irTk00Y43vflIR8Ac3AgYASNgBIyAETACRsAIGAEjYASMwPKAwGIiBsEzbsjRh5SLz2QxE4OUM5JYXYjLWMd4PgoxSPgmjCEqRaBV/iNjsq3ncdnwIx/5yDpc5R+yTqvyGVlfbzv5yle+UoeHlB1HKh+XdVqQzG1/qmvcgTm+L/F6W3kgPkmH5eBRtCsxeWtDlni/PH/Na15Tl7mNSC7jTPq3icFJI+r0jIARMAJGwAgYASNgBIyAETACRsAILAEEFhsxCJEk0qaL5VoT1JHo6UK8LYTFoMq7ySab5PpWG5/oUu/jqMRgG8aveMUrauy/+93vzlmOt7/97XV4yD0JVn96huwGPZc85znPqcOzc3BfqTZ2GQjPann20GS22mqrnCckXiTjZLE6zLKVhHm3sJKknuXuy5CKqv+xxx47tBzUV2Xm+U1LTAxOC3nnawSMgBEwAkbACBgBI2AEjIARMAJGYIoILDZiEAsrkSoHHHDAWMgsBWKQ5bPU93GPe9xYdSXyqMRgG8aVn8ca+2pX38HZZ5/dWqYvfvGLddjSwpD0tZyYug1bHswSaj3vyvdfa36j3GBJrtKq/PsNjfLBD36wDlvtyFyHjdaOX/rSl+rr5Um1G3Mdv1wy/Kc//am+B44///nPy+j17ze84Q112EMOOaS+vtAnJgYXGnHnZwSMgBEwAkbACBgBI2AEjIARMAJGYBEgsNiIQSCRJdarXvWqGiGW3WLdxd9c1mCKtBSIwZ133jkTQ3E5ap+6UudRiUHCNmHM9fe97301UQXWhx9++OB3v/sdtwbVZi6DM888c7D33nvXYSDiqg088v347+tf//qMMMSBICMN5PLLLx/EZb/kdeGFF8YkBtWGMfUzh/SbS+TvkDJVG7wMDX7JJZfU5YuWepChIhc57r///jPSIl2IQIUBR/wKloKFqsIIx2qjnzoY310sL2UQNnWgBTwxMbiAYDsrI2AEjIARMAJGwAgYASNgBIyAETACiwWBxUgMajknyz0l5513Xk20zLXMU3GWAjEYl51eccUVueh96krELsRgE8bCDWs7kVo6QoBBcOk3R5bAxs07FF9HrAHLOPzGii6mw7WmzVd22WWXOhxE4zCJ/g6r3ZCHBa3v7bDDDnX6cdOPgw46qL6uclLmstzci0uo64SrE5Y177vvvrPSacKx2uG6Jl9jGgt5bmJwIdF2XkbACBgBI2AEjIARMAJGwAgYASNgBBYJAnEn1g9/+MOtpRrX714X0kpWdBAvp59+ei5TH7JsKRCDhx12WE0evec97+ldVyKOi3HO/Pp/P/vZz/Ly5pLY45lACO62226NlnIxDc4hnp/85CfPIghFuPGsS0tBpQHBp3Df/OY3dbnxeOihh9ZhTz755MYw5cXoCxF/iVHOOOOMARuqKP/yyNLvSCbGuPGc74al1mV8/d5nn30G//jHP2KUqZyvRK5VoSxGwAgYASNgBIyAETACRsAIGAEjYASMgBFYtAjc9a53TRUBlioSbdGWcVIFWyx1rZbApsoyMK2++urpbne7W1pzzTV7VbHa9CRVS5FT5YMwbbrppmnjjTdOq6666tC0vvzlL6eKhEsXXXRRqqzthoadj5tXXnllqpZS57/KCjCXmXKvscYanbIj7rnnnpuq5dTp5je/ea7/uuuum1ZeeeVO6cxXYBOD84Ws0zUCRsAIGAEjYASMgBEwAkbACBgBI2AEJoLARz7ykfT85z8/QRZtv/32E0lzsSayItW17RlABj7qUY9Kle+9TEy2hfP18REwMTg+hk7BCBgBI2AEjIARMAJGwAgYASNgBIyAEZgnBKoNOVLl4y1tt912mRhcbbXV5imn6Se7ItV1GNrVcuV08MEHp2OPPTZVy3qHBfW9MREwMTgmgI5uBIyAETACRsAIGAEjYASMgBEwAkbACMwfApUftlT5mcsE0WJZfjlftV2R6joMw1NOOSWtv/76iSW3lvlFwMTg/OLr1I2AETACRsAIGAEjYASMgBEwAkbACBgBI2AEjMCiRMDE4KJ8LC6UETACRsAIGAEjYASMgBEwAkbACBgBI2AEjIARmF8ETAzOL75O3QgYASNgBIyAETACRsAIGAEjYASMgBEwAkbACCxKBEwMLsrH4kIZASNgBIyAETACRsAIGAEjYASMgBEwAkbACBiB+UXAxOD84uvUjYARMAJGwAgYASNgBIyAETACRsAIGAEjYASMwKJEwMTgonwsLpQRMAJGwAgYASNgBIyAETACRsAIGAEjYASMgBGYXwRMDM4vvk7dCBgBI2AEjIARMAJGwAgYASNgBIyAETACRsAILEoETAwuysfiQhkBI2AEjIARMAJGwAgYASNgBIyAETACRsAIGIH5RcDE4Pzi69SNgBEwAkbACBgBI2AEjIARMAJGwAgYASNgBIzAokTAxOCifCwulBEwAkbACBgBI2AEjIARMAJGwAgYASNgBIyAEZhfBEwMzi++Tt0IGAEjYASMgBEwAkbACBgBI2AEjIARMAJGwAgsSgRMDC7Kx+JCGQEjYASMgBEwAkbACBgBI2AEjIARMAJGwAgYgflFwMTg/OLr1I2AETACRsAIGAEjYASMgBEwAkbACBgBI2AEjMCiRMDE4KJ8LC6UETACRsAIGAEjYASMgBEwAkbACBgBI2AEjIARmF8EJk4MXnXVVfNbYqduBIyAETACRsAIGAEjYASMgBEwAkbACBgBI2AEjEC68Y1vPBYKJgbHgs+RjYARMAJGwAgYASNgBIyAETACRsAIGAEjYASMwHQQMDE4HdydqxEwAkbACBgBI2AEjIARMAJGwAgYASNgBIyAEZgqAiYGpwq/MzcCRsAIGAEjYASMgBEwAkbACBgBI2AEjIARMALTQcDE4HRwd65GwAgYASNgBIyAETACRsAIGAEjYASMgBEwAkZgqgiYGJwq/M7cCBgBI2AEjIARMAJGwAgYASNgBIyAETACRsAITAcBE4PTwd25GgEjYASMgBEwAkbACBgBI2AEjIARMAJGwAgYgakiYGJwqvA7cyNgBIyAETACRsAIGAEjYASMgBEwAkbACBgBIzAdBEwMTgd352oEjIARMAJGwAgYASNgBIyAETACRsAIGAEjYASmioCJwanC78yNgBEwAkbACBgBI2AEjIARMAJGwAgYASNgBIzAdBAwMTgd3J2rETACRsAIGAEjYASMgBEwAkbACBgBI2AEjIARmCoCJganCr8zNwJGwAgYASNgBIyAETACRsAIGAEjYASMgBEwAtNBwMTgdHB3rkbACBgBI2AEjIARMAJGwAgYASNgBIyAETACRmCqCJgYnCr8ztwIGAEjYASMgBEwAkbACBgBI2AEjIARMAJGwAhMBwETg9PB3bkaASNgBIyAETACRsAIGAEjYASMgBEwAkbACBiBqSJgYnCq8DtzI2AEjIARMAJGwAgYASNgBIyAETACRsAIGAEjMB0ETAxOB3fnagQmhsBZZ52VvvCFL6Tzzjsv/f73v0+3utWt0kYbbZTud7/7pcc+9rFp2bJls/I68sgj09///ve09dZbpw022GDW/fm+QJl/9KMfpZvf/OZp++23n5fsJpXHj3/843TmmWemW9/61ukRj3jEvJRViV5yySXpuOOOyz+f/OQnp9VWW023Oh+vuOKK9OUvf7mO97CPSSuMAABAAElEQVSHPSytvfba9e+2k9/+9rfpO9/5Tn37CU94Qlp99dXr311P+tRpUs9OZT3iiCPSNddcM7X3XeXw0QgYASNgBIyAETACRqAZgW9961vp/PPPzze322679D//8z/NAX3VCIyIwGWXXZYY9zK+WWWVVdL/+3//L93mNrcZMfZ4waY93u5aehODXRFzeCOwSBC48sor084775yOPfbY1hLd7na3S4ceemi6+93vPiOMiJ7Pf/7z6VGPetSMewvx433ve1963etel+50pzulU089dV6ynFQe73jHO9Jb3/rWdN/73jd94xvfmJeyKtEf/vCH6UEPelD++Yc//CGtueaautX5CKF5//vfv473xje+Mb3mNa+pf7edvOxlL0sf+tCH6tu/+tWv0jrrrFP/7nrSVqc//vGP6cQTT8zJPfOZz5yR7KSenRKd9vuucvhoBIyAETACRsAIGAEjMBuBf/7zn2nDDTdMjG8QxglveMMbZgf0FSMwIgIYSWy22Wb1O0W0//u//5sxPhoxqV7Bltr4w8Rgr8fsSEZgugjQeT7pSU9KJ5xwQi7IPe95z/S4xz0uWwtedNFF6Stf+UqCkEGwdIN8i9Zi026oJk385IoW/yaVx/JCDK677rrpF7/4RVp55ZULpP7786qrrkqbbLLJjA50vojBr3/96+nxj398zvxvf/tbWmmlleqCTOrZKcFpv+8qh49GwAgYASNgBIyAETACsxH40pe+lJ7xjGfUNxi/nHvuudnKq77oEyPQAYEPfOAD6dWvfnWO8bznPS+PiZ/61KcmDGcWQpba+MPE4EK8Fc7DCEwYga997WvpiU98Yk71ta99bdpzzz1n5XDIIYekV7ziFfn6C17wgrT//vvXYY4++uj0n//8J8+YrLXWWvX1hTqZNPHTVO5J5bG8EINgdPzxx6cHPOABTXDlayxJf85znjPj/jSIQZbF/+QnP0m3vOUtawvKGYXq+GOpdcwdq+fgRsAIGAEjYASMgBFY0ghg4MDKnLvd7W6JVS/IF7/4xXl347OkQXPhhyKAuyqMaBgzH3bYYUPDzsfNaY+3u9bJxGBXxBzeCCwCBPbaa6+033775ZLgw+1GN7pRY6nUyc7nkt3GjOe4OCnSblg2k8pjeSAGb3KTm2QrQEi/gw46qBU2vS8KT8BpEIOtBex5w8RgT+AczQgYASNgBIyAETAC84zA7373u7T55pvnXFj19OY3vzn94Ac/SI95zGMSfqItRqAPAo9+9KPTSSedlF71qlelN73pTX2SWKHimBhcoR63K7u8ILDTTjsl/AMif/7zn1Pbh/zZz342+8cj3Omnn15vZoHjVZYj77HHHuke97gHt9Phhx+evvnNb6aHPvShuSPG4pBNKGhQN95447yZCZaJ66+/fg4f/11++eXpk5/8ZF6yTBw2Fdl2220Tloo///nP01FHHZU3fnjuc5+bow0j7a699tr08Y9/PPuf++53v5vWWGONXCZ877H0dNhS2FimYXmcccYZ6SMf+UguL77uEJbasrnIC1/4wrTeeuvVSUViEOXkgAMOyFiyecptb3vbtNVWWyU26Ij+/OrI1UmX+rT544vpjXoefQy+/OUvT+9+97tz1AsvvDBB/JXCxjV3uMMd8uUYPhKDr3/969MFF1yQnv70pyc2MykFfNg8haXtL37xi/Ptsk5YAvJ8SYfnizCTx3PFvP+Rj3xkToO0eNfe8pa35DC8R/vuu28+h9z86Ec/mr797W+n0047Lb8jPAfeuR133HHGsmQiDCMGeXdZanDKKafktG5/+9unhzzkIbkcpGkxAkbACBgBI2AEjIARmD8E9tlnn6zvafkweuJLXvKSnCHLiYdtFsF4CEtD3Cah4+KnEP3tRS96UeuS0VHj4KNO5YBYYnPHUjDWgNh81rOelfVQ7rNi69JLL03/+7//m5evfupTn8qWa2yAIVdP+FJE1/3c5z6XN8ZgPEL98QuPns0mhE0yStkZ873//e/P0dHd0W1LQf996Utfmi/vsssu6YEPfGAZZKTf+ERnTEW90MlvetObZr9+6PRPecpT0qqrrjorHTYE+eAHP5jHU8QjDM+MsRRjxTKOxh/4QeceY1Y2qmGsg/EL4zf8qGs8jG943huNlVk6jCXqDW94w5wvpDNjCdKKftVVUFwc8dz//e9/5/dSY1/GzqTJ8zz77LPTP/7xj7xBDs8Mv/8lhk3jbeXxs5/9LI+dqf9Pf/rT/N4yfmIc1LQxZ1cMlE+Xo/DrEieGXWlQSbww7jk+rixGwAgMR+DAAw9MLCFGIN8gT7p8zE1ECbMpNJL498AXnTquWBIIJQiU2DFCKEHYEacUOri73vWuucPGt8N73/veHKSNtPvTn/6UG1YInybZdddd85LoUcjBtjwgMGmo2wSCkM5GSoiIQepOZycisYxPOMiw6Cuva33AfD42H4Hw5RmhhECoQZ6VAnEI8QsJjDWqlqpHYpBOld/ch0AtBQXjwx/+cCZK6bSRsk7slLzbbruVUfNvFEMwbHp2vBN0lggbwXz/+9/P5+U/lBCIvvg9NL3vxEMxYOOTtmeKYtqmmJX5+rcRMAJGwAgYASNgBIxANwSYQN90002zoQMT04xpMHrQWAOSB0KoFJE3GEG0CTr/DjvsUN/uGufiiy/OejEJfO9738tjmjqx608gpn7zm99kw4HnP//5+Sq7KaNzY/2IznxSZWSBoGOfddZZCcKRCXbO22TvvfdOr3zlK+vbXcoey00apFUKuEEIIrjwib7oy7Btv9lE8GlPe9oM3+QxLEQX7q+iTo5RAGNNnnGTEIdlv3r+hNH4A6KVMYI2qInxCcP4jZ2HSaNpXEr4v//974klvpCv+p1Pwj+MF+SHkLHCFltskQ1qiEN92gSyM26o2Db+YKwkUrYprWc/+9n5vVF8wnTFoCndua7F5zRX2Kb7JgabUPE1IzDPCDALgq84NYwQcGxGss022+TGcK7GXQ0Nsx7alVjEoIrOTBtLSxF8fGBBiER/hXTmNFR0iAgdz9Zbb52uueaavDW84nBvFGJQJt+Eh6hi5uivf/1r+sQnPpFnVbg+6i5lTeQSBJBmzSCXWFori8nPfOYz6T3veQ9ZZGIJq0xExGD+Uf2jI6cuzEgy24MCo/rTycZZnq71KUm0Se1KTCdM/Zg9hHjEqi8K8zt3vvOdcz1YvsG5FKlJE4NM/mBVysyuZukgKxFI5Dve8Y5zEoOERblitzoUsvPPPz8Tkuw0hkAuQjJKmt73v/zlLzkvviHS4jmSN2mhhIoYR6nDgtBiBIyAETACRsAIGAEjMFkEmLx+7GMfmxNFN0SvQ5iYPfbYY7OOhkVVaRQQxy2s3IG0gZCDhDv44IPrSV/IN/Q8pGucSLD1IQYhl9CjMS7Aqu1e97pX2n333bNFocZIGHrc7373y5v/ERZylHEFcTAwkMFB17JrdRljxF//+tdp2bJlGQP9Q89HbwZ7xghdJY6pKCvjBwg5ysy4EUtIJI7/2CCTTQ4lb3vb29KDH/zgdPXVV+fwGhfwDoC3yixSTPEgWxnHUQasFaX/Y5TAu8B7w/iRsQCYMtbF4AHSkPFyH2Iwbo7DijveN1a18X4xNtVYEEvR1VZbLRe1afxBWTXG4tm8853vzOMuLC8Zh8o4phzLdMVAWHU5mhjsgpbDGoFFhAAzGFhHNc240AHil4PGns6mlKaGKnY4kGE0elGw1qKxorGm40aOPPLIbDrPORtXyKKL3whm9+9617vyeewYmkg7lhtrlgXiSIRdjlz9k19FOh9mtuZqvJrygAgV4de0pBbSDEKIGT+WDCORGMTqDpKSjkVCB8ASVjoeluLyXOjI+tRnPolByD9tPBKVJOqBFSh1QJhhwzxenRb1WmeddfI9dUrjWAyK7Oy6K3G0GOT9ZpaSDlUCSY0ZP8oI8stf/rJeEt70vrPMA6WMNFA4sQaVkBYKHFaJLK1HgbAYASNgBIyAETACRsAITBYBrKPQ3dChNSlLDnFDPCa0taKGe0ziMpmLMMnPxHckDhlHoMchuKGBjOsTZ1xikPwpB4QXG+pJGEtBJDHBDakUJerH0sH7lB3rORl/lJsP4p8eAwekafwWy9N2jhWniDyWLut5KLzGjYzbWF12gxvcIC/PhchD0OPvfe97K3g+opdr40ys6mTVp/EHgajXlltuWcdjgh9CGMEKD7JRIgMNxriMSSV9iEGeE2PLkrAlTcYcGreyrB3SEinHH4wvKDvPlfEHrq1ucYtb5LD8K8cyuF/Cmhbpi0GOPOK/ucbWcyVji8G5EPJ9IzCPCPzrX//KpAXLM5mBkAVhzBKrO0ybNVvGvbKh4pqIQRo8fGXghyHKxz72sWyJxX1INUSbVdCw08CXgv8KluYicxGD+OaAaITsPPTQQ8uk8mzSrW51q3ydsuC7Ypg0EYMQYljP0QiXS0QxLb/Pfe6TO+q4SUckBvErKIvDmHc0x4dkw+KuT33mkxikQ5Fp/Rvf+Mbsi0N1YFYKTLE4PeaYY/K7tJiJQZa884xKgTAGewSLUy0Zb3rftcwDZVK+L2N6zFRut912+RL+DaVAxTA+NwJGwAgYASNgBIyAEeiHQFwyLHcySgm9fK211so/Wa4qQokL6G74lEPOOeeceqyRL1z/D5IJKyxIOFzo9IkzCWIQUiySP0zUY2SAvzpWIcXxGUVnDMSqLYSVSSyp7VP2//znP+kud7lLHtfEMRjp4ioHshRyCpIK0q6LUAes5RDcPGnFVUwDsoyl3IRlnMGzVJw4zopxIMYYi2GkECfmRYpBdMpvYIwncrkcQ06SGMQakVVzCCQhJKTqwzWMKqgr496b3exmXJo13o7+39tcO0Wf73EZfV8MckFG/GdicESgHMwILHYEcJBK486sDTNDkGwSOh1M60WsNRElIgaZ5WC2oxRZB0ZiEJIMM24aSGa9moSGHcur2Ck1kXZq8GhQ46xgTFOm7m3+MmLYpjzifZQFZmJQKOh4WTIqYjV2WCIGwRBisUmwGtxggw3yrU9/+tOZMO1Tn/kmBqVYgDGdLrOrUfFCUYAwjWbumq2kcqrTtC0GhzmiFvmJH0NZq5bvO8Q2G8cgkNo6zxeu/wcuEO4IywdEEl5/2wcjYASMgBEwAkbACBiBMRDAJ/SrX/3qnALEoDZ5UJJYeaGHIujtWnWiVR/opdrITnHajn3ijEsMxvFEU7nYvOLMM8/MOjl6OZt3xPqIGOxTdvLDtzubVjB2++1vf1svcRVhNsp4qqncUY/G2lPWmU1hdY0lxrJ+Y/MOVmE1CeWl3IxVGKMhGn/gY5D7pch6kWXE8nFOGNVzEhaDvAsQrRorkj7ELivz2HSE8UdJsJbjD42liTvMryPkKGPO+P70xYC8RhUTg6Mi5XBGYIkhgJk4G0TgZwGJZE7ZUHFfxCBLkNklqxSZ9IsYhIjU8stonVXGw7IP0m0YMcisFumOKrGhbIvTRgzSKGNmTgfcJjF9EYP4wPjqV7/aFqWeFSI8M3196jPfxGDsyLWsIC6vZuaWTmGxE4M4bY7LueNDkRUrSoqWFZfve1w6HeO2nbfN6rWF93UjYASMgBEwAkbACBiBdgSwrmI3VxF/7SGvu4NVGtZpiPzjtY1Zrosx83+fOOMSg/ivxmdgKejjjBeiFWQZht8iBvuUnfjRpx9jO/CKBF3bSijiDhPcJsn/dpvvxTJ+HOM0LSNWeFa5CTP8gbNzsEixOJZVeI5Nmx9yfZLEIOlhDAOZKsMBrkmwvsTtVVyFVI4/NDYlDgYIbaJVZ6z6Y0yG9MWgLY+m6yYGm1DxNSOwiBHAJ4UaY2ZcaDTaJPpdwOkquzwhZUPFta7EIHG0HLPJRwb3EfntG0YMEg5TeYgpZl+0Iy7XmwRLxdIvRRlOjW/0iRiX/GIByK5YzP5wjjNczOoJ00QMxnTKvNhQgw4B0Y5UfeoTO804M1rmN8rvaK7O7CMdCiJnzqqjOs34fPoSgyzdZdlAnLFrq1P0ocJOa3KuTBmbnl30MVguyyCOhG8DhYVnK98n5fuOE2aeO8Lso6w9lUZ5xDcjz9NiBIyAETACRsAIGAEjMD4CkVxCDy9dGCkHTeRHPVzEyVyT9kqDY584oxCD0vfxTV7uSqwxQSwHhBCue7QKieWv6K6sXuGPsZt0dhGDfcquPLXMVrq5iLe2FWKKN+xIuTQOQ59v8mdfxocAVr0g1uTbvAwngwwZonC/LymmMU5Xi8Homoj3lF2Jo7CxCX4sWRGH/0u9o4Rh4xswR8rxB+NwjHYQyOE2IxLGwozd9MwI3xcD4o4qJgZHRcrhjMAiQQCfFPJVUW5l31REOlLIRBoZNsRAyoaKa32IQS0TbuuYo++QSDw1ET+y9IpLQClXFPxVYHZPJyz/DfF+PG/KQyQlnRnWf2UDKOtGkWakpw6Kc2aKbn7zm3M6Q6IFGtvYY1Lepz5tJNqMzEb80UYM0hnjqwVhExnM1RF2hdtqq63yeRsxqGW6pR+YHKn6J1IudmRtdRqHGGzbKTgui95zzz0TO70h5fuODxO9PyxP1254OfD1/wiD4oOgELRZKF4f3AcjYASMgBEwAkbACBiBERFgdQ3+9CBHhm0qiNUdeifCJDG6qK4RVxtblNm+5CUvSVjEQVoRv0+cOI5R3jGfqHc2EYNNK06i/iv3QzFN3ByJaBMx2KfsShPrPCwFEcYxWB9CdjWRlooz1zHWO1pyxnhgzzNAyAvSU0vBqY+sAmMczmXAEInLvqRYGzEYx0KlcQJliJiJGOQ9I+zaa69dj8MJi0TjhWjlV44/Tj755PTwhz88x4njrnzh+n8a50IQR1ddfTGIac91Xo6L5wpf3l90m49cdtll2ccag2IGpPj+Yqtw1rSzPXWTA3mWXML2IryM2mK6rOxi+M0ySD7GrbfeepaVC3XnPj4EGMRivcPmFOzegxnuXJs1LHT9MD3GcmezzTarZx0WugxLNT8RMHSI4Bi3fo91whfbXe9613zp7W9/e91Alw0VAfoQgyzJJV1Em27kH9f/Y+t6tmFH5iIGMQ/HBBth9624exfXItHVRuYQTlISg3G5crn5BnHo/Nm4goa4jRhsI2IxG//c5z6Xs5alX5/6tJFoqlOXY8QrWgzGDgcrR+rNTC0+TmS110YMaocxbVISy8PMp0jGrsQgmMfd5MpnRz6x04WQxu+fyqtyRIfNkTxset+33377dMIJJ+Sdw1DSyrTizmjD/IAobx+XPgK0EfhX5b2gb0I3WG+99fJEBO+LZscnWdOmfvs2t7nNJLNwWkZgbASmqa/R9rMhmnXFsR+jEzACiwYB9D7tJBvHB00FxBoLMhDBIg8CDh2QlSGI/GPnH9f/izqpJrP7xGEcLYMAxjTaMVd5sXMuy1iRUYlBwrFaBWGTxtIvHRtOYJSAiBjsU/acQPUP3YYdnyEFGevJ//YwizXFHXYUUQXPgn/7cgJdVo6RvJUlHNd4rsJW+ZAOHAcS/R8qr0ktJZ6LoFPZKYeIQRnDsAHJ/vvvz60ZstNOO+WNURhTyRq0HH/ETTmbxlIkqDEQ5zx3+TjviwHpjCrLFTHIbpo0GDQ2bbLzzjtnIoMXUjLJwbjSnK9j+YIpH3xuoTTFujO4v+CCCxIvKvWlAVhogXCFnOVlxnItCstFsa5iNkHkUrzv83YEwBWiG8E5K0QXv0Vq05Gx2QjfA8QPgkPbzTffPJ83vUd9iEF8P7A9Pe8dJBMdJDM8DKhZ5hyfa+z41ejFZQGYZbNEmLS4ziwbRzo0SCt2tOJb5V3GAvJGN7pRrkvbv6Y8tFkK7yPthSwvIdFYRswRwYJMG51Ei0HuoWDssssu2dqQsu677755B1zugSGOkpE+9Wlri1BEwBOBgGzbnCUHuP5fGzHIbXZyYyMSSTlz10YM8q3KHwqznBCFTDpQbshUngsyCjEYiT7aAZ41z5R3uOnZxfDkwdILlBs21Lnmmmvy7ty0dQgETtwlu+l9p6OHYEdoi1A22DEN4pSlAVhV8nyjpW0O7H/LJQLsPI0iGJeDlBVFKWQAohnv8n7X3239NrPNw/rOrvk4/PwjQJ8r37y0GdpJc/5zXpgcpqmvTTPvhUF3aeYCyaB+9pnPfObSrIRLPTUE4g6vbZZTsXD0i9LR8ZuHrqjdawmHbixLLEgfxh/axIMxBAYUccfbUeMQDv0U/ZbxFrr4lltumccmGONI7yTcqMRg9O0drfZwS8QyVMZ0Evnv61t2pYNVX9wkMhpAEAY/8toJmTEH45m5JJKV7BZM2dHJaRu4p01l4vgv6t6MxT72sY9l/gJ/k0zKMr5i3FoSh31JsTaLQYw44E0Qys5YDkLv6quvzuM8xgQSEYOy2uQ6uiCWlyJDeceYQKbsGItojNU0/ojPgrEGeUGQokcwxoIQRRjryXCN330xIO6oslwQg2yCwMvOYFLC0kYICsgKrKZogBjkISj3fJQMaJG2wXi+ucj+Nb1gFDHu6sQHSL2xEKQRpdGaFjGopZtNsyxW9sZ7udjwg+WSUeSjoxzc4jePBkvS9B71IQZJD8usNmtU3kMsFrHCiR1DE/FDWrGT4TfvLaJvl3O+XRrxuaQpD/ACN4lm0JQ+v4WdyKWSGFRcsBYRxjVmMzFNj7NfXevT1haxvPoTn/hEzjpawqksTcdhxCDm/fjNk7BEG8soSRsxGGdgCVs+H9pcSLVRiEEsQERUK1/N6jY9u0gMkq+eGYoaSoiEexCNdKCSpvede/QbdNAS3lcR6VwjLerDs7YsvwiwPITl/3r2LLmh70JBwgKfb0/30B/Y1EbK4DiotPXbzL4P6zvHydNx5wcB2iNZv4wyyJ2fUsxfqtPU16aZ9/whuvRTjsshm5biLf0augbziYD6OPSruGKlLU/5xeM+RghPf/rT80oldraVPsi9qB/yO5J1/GZ1U9c40SqQNKKuiA4Kn8B4IOYlH+xNS4kx2rnHPe5RlzumQfroANqQhfqwgoUy9yk76SEYB7GUV8K4DJ1dEn2wx+Wrut90hMzDlx4EqSRiwzWeL+SmNqvkWlxtxm/iMCkfn2O5MqwvKdZGDJJvtArkdxxPsIEhYwlExCCbtmDNqDEHz4aVqBjJxGtxDNI0/oB83HHHHfPYOGdQ/SvHlJSF8R4GLZK+GCj+KMflghjk5YF0QPiYjj766FlLhnnZGFzr5cX3lEiVtsH4KAAudBjqhgUVMydxRlrL4lCgtMEEZWNJJvWDrJB1zEKWWQ1/EzFIQ8GsD4x9SRAsZBmXcl40VizVVeNV1gWrKt77e93rXjNuqaHC5yDWDYi2h2/b4avclTgmCJlGQ48jVgbQNJY0nsx6YdUFmRet6bRMEzINwicKljuY5WumT/cIy1LeUd/jpjywLKPD414U2g3IKPxG0FkjdFSQApQfK0AmG/CHwQyYyEPCUVfId8LIYpPrki71iX5F6IDUkUZLPXaZlpm98mg6DiMGCQ+e1AOig3YlShsxSBjeNczoRZRwDfzACeWOdjUSg211Ih4zasyUKS3tbt307CIxiG9E8qGcUSCMeY7lUsym913xIHN5T6WE6TptKXlQN8vyjUAkiCHztWxDtcavK645aMcQNthhpnhcaeu3SXdY3zluvo4/eQSWd2JwmvqaicHJv6+TSNHE4CRQXDHTiBvAtbnoKZGJu+vGJZhM7DFmKMdBEC1MNsu3Xkyvaxys9Q488MAZFnekB7GGhRc6OkRbEzHIxKJWeMUyYNVIvDie4D58BtaOjJlkEBCtCruWPeYp331NZCz6DWMZhGXOjAlHEchB3PiAtcgxxaMupBX5Ct1jAo08tORW13m2jAVK3RvrUMJGjBWHY9ddiYnDsl6s87RCjGsIVnw8b6wfERGDnONaiOdTxuEeZCLjCbnw4lrb+AMu56CDDspjlogbY0rGUBilyBc66SB9Mbgu9mj/lzwxCOvKUkYGllj7YIZaAikoIAUgFRgwM+jn4eLXaikRg6pLeRzGiJdhF/K3BzcLgzaNG50FRDDCTAMbdETrtYUpSUr4zCJfvi06jLvf/e6ZdME6Rp3OKGWhI8bal1kkdo3Vst9R4s4VhkEceDHgp/NZY4016ijMfJ9zzjmZsFaDXt+8/oS4EHfrrLPODEu7Mlz8PW592CwFoheykvZrmkKHxuwo7S7E/qSWVg6rUyQGcU8ACcu7Rjl4fsyEjmPFhe9WyEF2xeN9a3v2w8roe0sTAfVTHOOyjVibuPP4HnvsUfv/iWG6ng/rt1Wmpkm1rvk4/PwjsLwTg/OPYHsOJgbbsZnmHROD00TfeZcIoGOjH+PGh/HPKGOGrnEYM6AnwifAPczl0qgsY/mbMRJLWrHmQ69H94z+tiEN0XWxSiv9YHctexyPQWxBSpaCTr3++utn0qtpU74yfPmbsSjjNsYEpKOVmWW4+BsehzjUE8JyHD0+ptvlnHeGcR96PxZ6y5YtmzM6YwYsPxmPUF8MEmTMMWfkIoBwIw3G79OUJU8MRtPiUWbxCcPMP4JvDJYLDiMGUfbwG4PvAhocWF0+XsgOzJhh36PQaMC644Pg7LPPzqQG5sSEx78hy5WidA1P2YnDwATLJhyU8kHJkgGSA1NTBrdgg185CBkeNMx0FD5GzKNZKscfBAwNHT4adt1118ZG9YwzzsizI1jsiOHmJYYlZ/ttLUfEHxzYMYPDEdKWjR342DCrRrDsIT3y0y6pKh+NE+XHCSnPh8aFHVOxlGTtftnYMOvAB/qyl70s32PpOJuuQALjG4Ly4Vdt3Bde5fPxOgQwPcf6lo1CeCfKBj1anqFEapct49cNgYsvvjhbKKEIgPOKKE3E4IqIg+s8eQS05AerYAj4NqF/oR2j742W+YTn28TnDJbO9Lv4WaW/Iiz9aSTzh/Xb9G3D+k78EkqhZ0ab/FgJcVLlUxaBUMRfKjoHfTT9KPdQeumrsYZkZl3LXnOk6h8uWeivqQO6C4Q7ZUZRZ4d1rIRlEc1MP30sgjVGaQ2BZQf9AgMR+v3SWXuOuMD/GHxh2YE+wfNBgWdSAzcYTLiUOsWouh8TRFih4xsIa1OE9wjs7nKXu8zYdVHvCLonz40JDSy2eWYsE4sDQsHDgAG9lXYfi3wm3bbddtv8PLBGx+ofC3L0oihddSieEQMcrDsoOzosE+3ovWA2TF/rim2Xd406TZIY7KL38r5g1cOzYZDMOACrIP54fhrA8d3QbmBVgosMdE58kKHXRssRPZ+uen/X8MoH/Qu3B7w7vEe8l7xrfK9xAEu5GR9QH3xoYf3Ds+c7R2jHeD+kv9Ge0E6gc4MDwjPi/eV7wvcwuIEf3xjfB/03fp2ZeGF1hdoMNlbg/eYd++lPf5oJEFYzkEZ0f0MefD9aHYbOD2nCagfqR3vLd8A4gfZWE3sM+GkvaYuwwmkjOygj3zJ1xTe3xQgsbwhEHRreoFxZQzuDjoOVIsYPoxCryxtGrk8amyeZ+q7EWh9Oh4aSVBITTQ+ZzoVOApKKjowOic4SQcGR9QsKOMssSzPXmGY0geajgiwszZljeJR0OentGp501NlBBLJsTssBYx46h82WaTCmqXHzEZR+ygFx1iSERwmNpryRVG2KwzOAjKOx0UCrKRzlQtqUPRQNdprS8sIyDerMoIwZIYnW3aPUosCi1JdCGMo3yjtSxvXvZgT45rRMGX8JLMljIAn+DKD5PhHM7VGmLf0QkIl8XPrdL6WlGysqNbIYXLq1cckXEwJaXkOZmCxjQF/Ozg8rL0o0xAwTbE0C0YKyLRcAw/pt+t6m/ot06TuZJKCNRSDfWL5TCvnRRzKI1gReDEO/zsBdltLoQ7icKMnOGAcCi/YHnQmranyUavm9HLsTnrQY9EsPYvIPcmCaAhHHM23DledBeTVx2EX3AwN0iyZBR9OkLaQDk8O0Y00CmcEuh5Ec5L2ClCqXmhGfZ9zkv5d7fXQo6Wz4NMK9A+QPwruGDtymr3XFtuu7Rhna8uZeF+mq9+IEn8lPloYxbsDKRoJfXgbOEEoQYG0ClkyaS7rq/V3Dkw9xIM5KlykqA+87JJ1WV0GuMXahXWBV1Yc+9CEFnXFkwzEmCWjLaC+aRH6CFYaxFe5X4nJOSEXa3NJvW5kevsvAT+Me6iWygm+ubfwCMYtBh8YIWn5HvZu+P94L4iClP+6yTP5tBJYSAvR5kO+0X0zuqQ2EiyhF7qJo0xjLWVZMBKQH9a391IlBEUJ0MnQ2faSNGGSGTB0rCjizZexqhCKIrzE+MJR4FD4GEXGjASz66GhRvFGq+NAIj2hQ2zU8cdVBihjE3xgzYnTGlAtFFCUK8gvlvIkYZLYWS0kpm6yvR+mnDijHcsaPQsgMHooqgws5wITkYTcj+WJjnb3iaLko6TBDCaFBw8RMHcumIGNlZdmk7EUfEtQXv3UPrmY5meVltlYKC504Pm9k7qv3gDgIygTlpNwobfJFhpUDZbFMDgGWuuHnsE0YwKCEYjli6YcAM/pY47J0eUUVE4Mr6pOf/3pjcadJDHKjf2EAjIU/fQv9fJuwrJ4+Cj0CgfxhkoS+n4ko+n6JrPaG9dvEG9Z3RmKQdCkrSjyDeibz6HOjMHmJVT79Pj495Rcn9oWx/pSdQTztNVZn0YctmxZJD4AMxDoHoa+lz0fvYMCBfoTQ95arAfKNBfwXdReeI/0VBAF6G9ZU6BUIJOp73/vefN5F92NJGX5KoyUn+iLPg0lSkcFaNk4G+E/CMgndDQKFSVckDsgYyPHuSW/kOZIW+fG8pJsSL5a9rw4lYpByo0uCFSstmPjDArVJX+uDbZ93rSlv6t1F+ui9IgaFCfmhY2+xxRb5WWH5q83MeJ7o0vTTDMSZpAYfJJJNXfX+ruHJj901eV8QVu+g82IRy2Qt1npInKwVMZhvVP8YDzCGwb/W8ccfn+uIHg8OkHHUi7YGSz3p5FoJBFnNyiMRg+h/2lSAPHmnwRXSW35aCUM7Q5uDcQbjCRF4lF+TH5EYVFm5x9gMVw+Q2toJlHaRiRrGL+x6SjoIPo833XRTRc9HvnuIVN55LD5ZcWUxAssDAowdol923nG+C00uxjpiHc4mGqw2sKy4CCxpYhDFSTNecWODro+zjRikY0EpQ+mOyj3p08Eyk4ugRDFgJwzWanx4IgtzgOofs4si0rCcooPsGp60SmJQ6UvpLHFoIgajYtakuNPRspwAYeaZjlzpcA3LQ+oYhVlBcMQEH8egEl1v8pPUpOxh8q/ZVy31VloctSkB58w2Qr4ilJHngDAYYxmHBIVGy6YYNEE2WiaLAEtOUATZMQulkfeDzoWZWgZZ5fsy2dyd2oqAAEsf1A6zzK1c+rciYOA6zh8CcfBY5gKRBCHApFbc1Y9wsW/EWTQD6ihxB3Cs9ONMfVu/Tfy2vjMSgwzUo+Uf8bBOkuUf/WUkPBlY46uIPpGBMOQFon4XckOTaPlG9Q/ySkuOaOO1BJD7kAIsPUKwpmKZsizIsfY5+OCD871p/qN8Ii9wTQJpEYUli5AQ9FGQFTe4wQ0y2dpF9yO9qGfQH4o05R6WllopAqEiXZB7yF577ZUnMykDvq9RzKOehiUH5YwCwcOGT0gkBvUsud5FhxIxSDwIQTDDRYikSV/rg63K1+Vda8pb5Rr1GPEcVe8VMUgeDKQh+BgXIAyiIQgRiHT6pLgaBXKfCXj0IeJiOUuf1VXv7xoeP9N6x0trRcoaxy56TyMxSDuHtV20XI1jAuoj39UxrXJXYhGD5IlAfosIZOyGjo7ODikINrIEJCz3mWCBuEdE5pXEYKnrEzZOTChPSHtNqmL9iVuhKLIo9PggouLz5QEBVnXxTUPO49qCfjqOj5eHOroOk0VgSRODMNvyaYeSBCnWR5qIQZY70LHREbGcuGTX8cHxohe9KGfH7CAm68zAY6qL0JnTyWipDtfw20O6LLmF0OwanjQmQQwyuMFigUEFg5ZyyRQdPLOgzEyj8KDgYvUISUjnLYs/yoOwvImOFUUaS8Loy7BtcEO8UtkDG+FVpkN4BIWBvLB2ZFYThQYRMUgDyECtFAYpKBn4EuLZWeYPAZ5j+U7NX25O2QgYASMwGQQYzGNRR/+Ij60moW9iyaecjuNTC0sVdAT6U4ilUqIFGoNUEQjjEoNY6WDhFyUOjLH4K61fRIRB6mDxhGDth6UMFjvyI6Y046RmmR9tPZNzWMwhDPJxAYJugb4gfUVpLfQx6hQs1dXKhlgO6geBQFisitg9savuR3rDiEG5vGnTP1gRod0PIah5p7BYZRIZcgmCrxTeVXRJRMRgrG9XHSoSgxCkkaghj2H62qjYrr322r3etTJvytNV+ui9kRjkHce3o4TVMSyRReJSet3nGMlIkbRd9f6u4bU8l2+RnV+1qiaWS+0O7g+wsIvEIBMNpcUQYxeRCdE1wKjEIEQchJwEq0OIYaRsUxSGdxDf5AjtFO1VJAZp92SlqDgcGSMwHmA8gj9BWUgzXkP3p53meUlHxYpb9cW6SmRvTNPnRsAIGIEVBYElTQxGJUiKUZ8H10QMxnRg2ulIIKP4w3E1Sq9ExCAz+TDyKIgSSEUUbZYkYXUQBw1dw5OmFG3IL0gwiTr6USwGRaKx3EeWgUpnlCOm/szg0aFSdwZFqnOpjHYhBrGylIk/s6+yyCzLhKUDpv8oxZQBUZ2wgOB+KZrZZkkFipbFCBgBI2AEjEAbAur3GSwycI59Pn0TVnkMurWyAEs9LHSaBKJRE2rSFwjX1m9zr63vjBaDlIm+L4osdSAGsGoqBasdrAIjMagwLIuGKGMiEGse+nn6d0nTIF5Lj6JP4CbLPKWxkEdWN8jCk4lBLOG6iN6BuXQ/0hxGDEo/QWfhuTaJCAyWo7IMlCXbWGcxydzm74nJUZaFSf8dR4cSMVjqcCprSc6Ni22Xd63MW2XqctQz6KL3ihiMuqbylE6p5bW6Ho/ReEHfTle9v2v4OAnRtowfC1neLfnci8Qgm3ho0kN1ie9VJM9GJQaxWsJSWRIJUyxkIYybRJZ8eicjMYge3+YWiKX8bMwUnw3jNlw+INHSUMuuhUUO4H9GwAgYgRUUgSVNDPLMmHVi9mmbbbbJfszmeo50etqVeKeddsq7XrURgyg+LA3S0ta2tKOiT2eLYqcZ9BgHRZ0lI3H3uK7hxyUGUca0rLNpmUEsb3lOZ84yXJTkNlEHrvttgxvul8pefA6aXVU68RgtIlC8WJ4hpa+tTlhvMpNqYjAi6XMjYASMgBEYBQEmB7H8kssKfNwyESgrd1m1NKUF0cYgF2FXTpFD4xKDlKHc9VTEYBOZQf5NxCCrA3CDQv+pST7CIugLuiZy47o7//3PhJxciJAvOtm4yuV/U+9/Fv0rNWHVlnIf3a+NGIw6V1t+8To6FKSGdo1l9YZ01hiOc1mrihgcR4cSMchksXxExvxKfa0vtn3etTLvWK5RzuMzaNMRm9IRMRhXpyicytR0T2E4Ctfokqir3t8lvCxNYxnaztVGRGJQmwPGOOw+DMmG9CEGo5U0adDWQHgjTfnlG9U/Wdpq2XkkBpnckNWhwuvIN7PnnnvmnzF9EY3Rb6HGDvKPrjR8NAJGwAisiAiMq7tNffMRSDY5j0Zhlx+JtofJkhk6dEQdS1SmtCsxnQlkIwo9whIQHHgy+8wfSiAdChKJwXyh+odfHnzJMJvLQCCSafjdYWlrlFHDj0sMkqcUlS7Lr/GtgpKEYIrPrsEMijhnQxacUxNmHGKQ5ydMy2UbOePr/0HWMghjwIICj6hzb1P6TAxeD54PRsAIGAEjUCOA9b3ckGDZMkwpwtJElvoMbukTcSOCtVxprV9nUJ3EjXPiwHqxEIPsMAqhiDDYZgkefsro37H0gUBA52kiBrEqLJcf41KF5dbTFnQzluIiWDeV5WwqX1/dr40YJA+9I6wgkf7ZlDfXsBSkzNLTIqFUxtHEq4jBcXQo5cfEq/whxvxEhOEjED9VfbAlvT7vWpl3LNeo56pfF71XxGDpG5Q8wRwrz2GWZlicyk8jxDk+uKOMqvcrzijhIZFZGs83G5fvKo14hHzmW59PYrDJchlra+3UjA4vY4VYNs75XrCK1oR+JAYZ99F+NgnkNn4Ry7wx8uD9JT/GeozLNGED+Smf9U1p+poRMAJGYEVAYJgOPEr9p04MstupfOxgQs8mF8MEXygsU0W0O3ATMRhN5D/96U9nfy8x3agMixjEJwb++TCLL/2zxIGBZr+6hif/SRCDEJwMTtTZxnpxzu5eLJVCqUGJA18poCisX/3qV2cNnjRzPQ4xyEzymmuumYvTNmvNTfmKibuqmRjMsPmfETACRsAIdEAASzI2zUC0MVhbdAaTm222Wb4NOcIgUz77hlkOYQHG8jYEElGK12IgBiOhhR8uBtTyv0V5o7VVSQxCoqHPiJDCZQp1RZo2zMg3FvAf5cNnIIJ/QfS/UvALyXNEIMV4xnJjMqruR9yIozZ14DoiKy70KW0Yct2d//5nCTc6FyQiBIWWCbP8EZ2rFN4jwiIiBsfRoUSclc84Z1D9K8m5PtjiE5x8kC7vWpl3TqDjvz56r4jBUq8la3bR1XgjftOxWPjj45tAWJJPGbrq/V3D855DJsdltLFMnGOByOop/FpCIM4nMSirxFgG/BiyUzpSfisKp2+B70rL6SMxSHsqq0DF0XH77bfPPmIZt2CYIYl+OTE+oO2nvcPQQRsUKayPRsAIGIEVEQHpp33rPnViED+DD3jAA/LSFSqB1RqdQpPQATE7hqBoaOe+JmKQ2T3t2EdnEn0DEh+LNSzXEBGDUuTaZstZuox1ArPwWCJ2DU9ekyAGWeqs3QJL3x/kIefFnGP1COmmGb2mHb1QinBaTgdeKlAiFPGZQ75RmpQ9zRCSH7N52v1M8fBdtPXWW+ef8sXDDxODQshHIzBZBJjUYGMCCBFZ30w2B6dmBKaHQCR0mGxisrH0saXSxY0ATjrppLwDryzYCdNELJI+/SP9ZGldNAoxWPad0cdg0/LYrkuJ45LQ448/PutTqi9H3HqwCRlSkkYQanK1cuqpp+bVFGAIUUgfDummHY1zAlP4J90AogT9QRu/qCharkh5IWFYUthV9yOt+B6V7wErGXAjg7BrrKzI8oXqX9yMASs09FTctkA+I6ecckp+h/KP6/9BSkFOISIGOe+rQ3UlBsmrK7a8D5BjSJd3rUlXzIl0+NdV72Xn6GHEYJzsL79RFUvl5reee1e9v2t4VikRBxEZmX9c/w/jBfyi0h5BzvIOTYIY5P2POxkPa4ciQdfmBiouN/7Sl76UJ28iMcj3CpleWvkxbqCdRZrIQ1ms4n+RZwhJykoyEbjXw+SDETACRmCqCDB5o4kNDKJWW221BSnPuMQgO7lNVKpZyEHXv6rzG1Ro1X/VbNmgmqkbVGb3Oa3Kce6gIvLq+1WHMqh2rKrzqTqH+l41W5yvf/zjH6+vVbPIddiqMx1UCll9j3wr5Tzfrzqh+jrxK78adbxKsRtUZu35frX8uVd4cFE9K4KxTpvr1axyvlctZ5pxXfWgzsK16jjrdCqSclANDPK9yqR/UHXmdTm5JwyrWb8cp1IEB5XyXKdVmfkPuKZyVQptfY/8KmuCfI/r55577qDqhOv7lSPwfK8aXNTXqkFInRbp8hxJp1JmBtUMX1026hPTqpT+HK9SwOu0VF+O1RKOfL+ykmy8H8P6vPs3aMyWX8yavlM/7+X3ea+Iz7baSKDudypia1BZaOU+R1jQN1aWcHUY+nL17+gX9Ef0gRyPOuqoOm5F+AyqQWodryJDZvQ/bf02+bb1negu6m+le6icHA866KB8nz47Xtd5RRzl+9SZa1Ef2HnnnQeV3958nb6/spir60ae1fLgOs1qKV9djooYqa9HfaoiKAYVYVDfUxkW8litEKnLWS0DH1STHLk81cZlg2rjgfpeRa7l69KZqO+ouh/1qXaArtNC36yIoMFFF12U04zvSEXKDCoSNV8HG56h3hHen2owkO+hi+q94n2ryJGcXjURPag2WKvzopwqO+Xoq0Mpr4r8zfmXz6ipH+iKbd93rSnvsnxz/Y55j6r3VqtlMs7VhHcjJrzf+harCYL620E3rdwF1feqCfU6/kKME1QunukRRxxRt1WVIcCAuqjMvCvgxneua004VkR/fV/jBcJVg9b6ekWuDXhnq5VYOc252qE4JqtIulqfr0jDAXq8ylMZF9TYxW+M+3xLcYxQWSLWYwTu61uPdYrfB2FoJ6fdRsXy+dy6ld+B5ecdoD1Dj+Av8k6jPOOoS4mbGiXeuGHGJfWmbjFYNexZsAbEHJxZK0nVKWYHzswISbjGUuJtt91Wl1KTxSD+JpgxVHqYw7PJRfVgczxmn5kVR0jzkEMOyb4qsGZTflzHPw8bZMRrzE4x08pOX13Ck9ckLAZJh/Ky9FpCWVVXXYs7HmKyj0NfyR3ucIdcJ8Xhd6V45dtYFVWdbz5nRvLQQw9VtHysXtp81GwqVgeaGedGnCnnN35CWFagvLimWXXOEfDkedjH4HV4+L8RmBQCbd/ppNJ3OkZg2ghce+21eSMH+uYo9PPcU7/PPfojXI1wT8Ks7pOe9CT9zDoBs7tY5UiadkMdZjHY1ndO2mKQ8rEcGKs1BF0AfUf9Ob/xRSYdht1Y8Sl897vfPffJWOeccMIJMyzx5OOL9Fiqh7P/aUml5GafzmyeJuEZxmfDKg6sL6lnH91PS4+1k7DywR8lq0QQrJ7QUSXgikS9hrDyYck9LL5w09Ik1IGNZ7BOjBaDhO2jQ/WxGOyKLWXr+q6xOmdSfVBXvXeYxSB1+fWvf52Xicf2gXcp/mYpOP7wpLt31fu7hqdcFemdLUfjO843rW+YMHzHYIv0tRhkJcHmm2+e09A/fe/DLAYJe/XVV2c3Rby/khI7ysw3wHeFRItBxeHY9C1VA/FGX5mEp81S+9Zm7Uk4ixEwAkZgHATo3+U+o81tQlv6TdxUW9hJXh/XYnDREIOAUjGq2RcFSntUtgQYG37QCcjnjK5Hf4F0wtoNDj8YkFbqQBQeJQwiC2fjdH6IOqHzzjsv34O4KqWa9czOgOMugl3DS7morBJyx6882gYYKMMslUGJ/O1vf6vg+YgijHKgDVZ0E0WG5QUsN5DguwY/HyhWURgcYfKPX0WIVCTmRZ4MChg4SEpisMk3JB9QNSs+q2wsO4CgjIMy0tVuY00OnrnvzUdAwWIEuiMwqUFZ95wdwwgsHAIQgPidglQp+3xKweATogBXIeuvv/6sgkESsFyRTc2iMGlGmvT/pbT124Rr6zuZaMRXG8Iy4C222CKf699cA3LtShw3S4Ew2GOPPfKSOqXDkf72/e9/f94AQBsnQG6xyygDdgTllTpGYQDPRh/CER1r0003jUEW9BwCiwlKSItIjlAI9DmWDke9sI/uR1pMiPIOqN4sCY66IK5b0EWYdI0CUYFuqmW28R5p8f7g1gWih/eQCWXcuuCvEDIxPkvF7apDiRjk/Ykkt9JTP1Dqa12x7fqu4futLW+Vrcuxi947FzFIvow18OlXWebNGHdAarHBBt/VsmXLZhSxq97fNTyZ0U7wXvCdxvEQ+jkT/WzcqKW/xx57bPbdTTzp55xL2nYl5j7tw/9v7zzArCnKtF0EQYE1YbiEJSkILoIuiCKrGDGgCIgBFQRRUBAUVIIoOUhSkhJFJBhWRECCokT9JIssiB+SUUQBBRR/s56/7lqe3pqa7jOnT/jmzDdPXddMn9Nd8e4+3VVPv/UWL+QlQmoV7anuQ6TFf2m0LExjiPx3yTWOD3TcNORThXNhEP+fTAUuxyQYCbDw0dprr00RtYE677rrrukY05F1P62N7J0mYAIm0CeBQYRB0vLiBJ/PuMgrnyN9VmnKZPOVMJi3locMvv948LCKMJZ7WPy1DXR6EBxZOYsH6rLLLls9TMmLThuWAeSfO+zm4crDlAVOWFADPzsSHOvq0DZ+XR797uPNXZzmm+rPGzuJj3X5caHih4cHNOLcEkssUUXDdwlvKvFF1i2PKkEPH1Q3GFO30j9QD1k4igmYwAAENCgrLXsHyNJJTWBsCfDMxyoPn2A8+3nGMcjn+dPkezBvzD//+c/AQJ5FvLB06SVNnn46P+PThjYvuuiiScjLfSvz0jRO5UvP95n8HMa/Gf0d+mUIvE39wn77fr2cP0Ro6sBMCPqU5WJ1TXnAH7/LCDrUD6tNZkrgFxEf1nVhXvahemVLPaf7WhMX+u1T9XvruNbto8/PHyJ46R+7Ln7bfn/b+JTJdUKfPU5rT/cxBGAJgnV1mq59unYYK3G/rQu5MIiYiUDOfZaXMtx3GXv0cr/FIALBGX+cGFk4mIAJmMAoCAwiDI6iPr3kOd8Kg7003nFMwARMYDYSwJk9q4ZicYTFDyI/lkes2klnOw9NwiAdcaZeRp9cYe7cuWn6FC9PGGSxCieWVaWzXF6kYF3Nm34+Kz5WTFh0l4OptvGpNwMMBsq08dprr03iDJY4rB5bZ0WAZQ1twDE+U8AYlDzvec8L7373u5OlykwWQfLz6M8mYAIzhwAL6bF4AguVsLBLeR/CMpX7JoFZMlhozpbAIjhYrfYamJ5dWrX2mtbxxodAnTDYtnZcN0sttVRKVrfqeNv8HN8ETGD8CDC2wRqZ/jwLdbFIGjMXL7/88mTIxWJDzILk+UpcXMwxFuCFFS90ceERfS5PetGA0Id1OO4hmNWBERrjGF7SMWZgkRACL1LJ/+9//3tyI8I+ZmMSd/XVVw+4lmFmAvXihQZxGRex+B2uafbee++UJ25ZCNHHdTK4wgIdIyxe3mIZnRtnEY/8yJeAZTiGcW2DhcG2xBzfBEzABGYoAawHeMDwEGoKrNrHFDWFOmGQfIinld0VN9+yMiJv42WdwDQ7rW6ax9NnXBcw2NXUobbxyYcH/GabbTZpuqDKQADUg5t9uEyg09AUECvpXOTW4E1xvd8ETMAEhkWAacdrrbVWyi4ugpGmq/LShYEJQiAuYgisAp37aUs75/N/uY+4Xppa3vd7SeM440dgEGGQqfjM2sINFNOrEQz4jZWC+/i12jUyARNoS0B+U3lm4mqMF21lQKjDgIHna13AbQqWxQq8VMDKuHS/puNs5bMUS37cGtQF+R6Wu4W4wFLYZZddJoyPeGY9+9nPDhwjMJODWQ6MuXBRQcCQ4/DDD0+f+YcxhNbPiItMpbFLdbDFBwuDLWA5qgmYgAnMZAJ6WNIGhDj8YWFJgbUcD5wrr7wyNS8fSNUJg/JdSmQeqgh+q622WppqiNimRRzIV47DtUAQD2riYKHIIJe39vgpJSDSaVGktvHxqYSlH3lSBm/a+M6UUJysYxlJYFCABSFTq3jwEnjY44+JwQIPYHwmyVccbxHrLA1TQv8zARMwgRER4H7IvbIpYH2AhQH3XgcTmN8JDCIMlu6NbC04v18tbt9sJpCPdeDAOAafsVgI4m84903KcxT/w1j94UYGS30txobLD9wbEBibKB1xsNJnDIEIiAUgM47wj4q1IOsy4LMaMRE3TATSMDuL/JiZJWGQ8rXAKi/6GPtQV9wklMIg+eAfFotFAmUgBv7hD38IL3rRi5JRBGM6XoT0K/D1my5VKP4bq8VHVClvTcAETMAEJhLArxUPDh5iiIJYneR+T5mCywMFYQ2hD3N5Qp0wyIMOk3VWmJSAptJ4QOlBKkf2+MbSgg1yTq74bPWgY7EDBrpt45OHHto8ZG+88cYJbaPtLP6A8IklI52G888/P7zjHe8gaZqqly+2hPk/D3AcqusNYIrofyZgAiYwDwnwYoL7KNYATFti4MEABisI7nl8dzCB2UAA9yX40mQQzeI7bQRxvWikWzbMAwAAQABJREFUj8NLwCYrodnA0W00gfmdQC4MMosIQU8zf7iPYDSgBY/KBdTyBWkZJ2BZSGCMgPjHYlPlrCvGUxtttFGKxxhL7goYTzWtSixhMCWK/04//fTKPQj7qFedMMgYC1GSujDeQcTEyEMLnZXtUf69bi0M9krK8UzABExgBhPAeu9lL3tZasFpp52WVv0rm4PIh58LHHizUiehThjEIvCee+5JHfPStxWr/GmFcnxB0QFnESjerCG0IbghKiJSKrBIExZ8LASA4/a28clHq2qy4iBCYxlYjXK99dZLu5lChPinFeIRQhEssRhUwNIQXx5aPEr7vTUBEzCB6SCACwcNbqajfJdpAiZgAiZgAuNOIBcG6e+zQGwe3vWudyVrO4Q3fPrlAWs/+v2EM888MxkV8OxFyMNqmRlGzErKA1aI22+/fdrFwrfLL798+tyrMMgq6bzsyEOTMEic/Bh1QSQknHjiicnXYfrS5z8Lg32CczITMAETmEkE8PfHmzMCpu65tWC3dtQJg4qPgIcQiM8N3pLxpo2pugoSBvnO1F7M9RV4mGECj+k8D2e9YdPxNvFZNV5Odl/84hdXn5UXW1Z0xOyecPbZZyeRkCnF+CVUwHcVJv5YQvJnaxyR8dYETMAETMAETMAETMAExptALgzS9y8DU3XxO4gf8WOPPbY8nBb6YKeEwTwCFss33XRTWkCRBRJZ5PBHP/pRFaUfYbBOvMzFP/kYrAqJH3DBlFsuMr5jccdBg4XBQQk6vQmYgAnMAAJHHHFEZQVY96BsakKdMMgbNR5K+OLjjVgeENO0LxcGeeOGpSJvxbAcLMNb3vKWcMghh1RTjtvEz53ulvnWfVe98OFxwAEHBL6rznl8pkxT33J15TyOP5uACZiACZiACZiACZiACUw/gV6FwaZFOuSTNBcGMUD4zGc+k2Y8dWthP8IgvgjLhZCmEgaZabXssstWVWmaLVVF6PGDhcEeQTmaCZiACcxkApiY77jjjqkJdQ+hprbVCYOsSIxZPQHLOkQ9fHZgBYjJPlNyEdokwOV5I/jxdmzOnDnpLRsPXgXSY8GXP5h6iY8F5Oqrr56yYQp0/rBU3vmWKdUy9Wc/04opl7d+l19+ebjsssuq6Ew5YOqzgwmYgAmYgAmYgAmYgAmYwPgSGLYwiDEFPtC1IjH+yZlxxEwl/hjv4MeU0FYYxE/g3XffndLm/6YSBjfffPPAQpB5wJJRiyrm+9t8zsdfbdIprhcfEQlvTcAETGCMCVx66aVpURGqePXVVydHumV1WY34S1/6UvL1h7/BBRdccJKPQR6AcqaLTw2mB+d+r5herCm4Egb//Oc/pwcf+a288soTimU1YVb00ipb+PtYa621WsXHz+GTnvSklC8OeBEqy8ACJDywCayIjANf/BouscQSlZWi0rAS2Tvf+c40VYB9WDgO+rBU3t6agAmYgAmYgAmYgAmYgAkMn8CwhcF8cZG6Fc3zBUvaCoMYUtx6662TIHQTBlmo5IMf/GBKwxiMmU+MzXClxNjtcY973KT8et0x6FjHwmCvpB3PBEzABKaRAFZ1LOxB+MAHPhCOPPLICbXBbwYr9iGCrb/++uGMM85Ix0uLQSzreFNGuPDCC6sFTdKO+C8XICUMYoH3pje9KUVBdNOqxUqDnw78+xGYbvzUpz61Vfy3vvWtYYMNNgiXXHJJ8lnIQzwXK8mXVclYxZNw5513JivAAw88MC2GwqpeZUAg3WGHHdLuujqX8f3dBEzABEzABEzABEzABExg+ggMWxjMXTE98sgjk4S3/fffP00zpsVNwuBFF12UxieiolWJ2wqDd9xxRzVDCstFFj7BXyJ+Ewn4HWTl5H6DhcF+yTmdCZiACcwwAixpL0e7e+yxR/jIRz6SLOEwj8dpLWIYAcvBt7/97elzKQz+8pe/TAIiB7faaqvw2c9+NlkY/vOf/0wLj/AWizdXBI596EMfSt9lZfja17421UGLjSBI7rPPPslnIWnmzp2bVgRrE5+pw7lgSZ3xf/iMZzwjkP+VV14ZmBJMvVhRjIVYcgETwXCXXXZJ1oPUAXEUp8Ss0Nz00CaegwmYgAmYgAmYgAmYgAmYwHgQGLYwiKHElltumRrHWEkLOeKnnDFVvqLwFVdcEV7wghekuKxijKEDAfGQccWiiy6axhr9CIO4PWLRRqwJmYJ8/fXXV/kzy0mLP2I1iJunfoKFwX6oOY0JmIAJzEACCF7rrbdeWkFY1efhwn4FrO+w2lMohUH288CRlR3ThhHPsPoj8J0Vj3/1q1+l7zvttFN6ICLU7bXXXmkf/1ZaaaX0gJTPDvbl/vzaxic9b8kOP/xwPqZQto26IRLiy5CpxTxIv/vd7yp6EjwROFlhWeGYY44JOCh2MAETMAETMAETMAETMAETGF8CwxYG77vvvrDGGmtURg+MeRZZZJFw1113JQiMZzRuYJzBDKWNNtooHXvuc59bjYfYoRlZ/QiD++67bzj44INTvrhf0kwsdrA4Cn4OMYBg7MMY7clPfnKK2+afhcE2tBzXBEzABGY4Ad5wYaHHQ0mWfTSJh9nuu++e/FbwRktBwiBWdTyUCIh+WBvmohr7cc7Lylgs4rH11luzK7znPe8JJ5xwQvqMyTtWhHqYpp3xHw+xbbfdNk31zVfmahuf/L797W+nt3d6SKsM2oGVJA9whT/+8Y/h0EMPTdaSOQuO84ClzQilDiZgAiZgAiZgAiZgAiZgAuNN4IILLqhmPbFwSBmYdsv026lWJWY8gYUegQUTP/rRj1ZGEMoT10y4Jdp5552rRRlzq0JmJzFbS8YT+EDHF/pUwmDutxBXUEwhZuFEQj6uUj3Y5paNWCdqhlgeZ6rPFganIuTjJmACJjCfEuAt2L333pss/vD7x+IgbcJvf/vblB4hEf+FucNbHmQPPfRQWmwkF/tYnIRFP3i7xYrDiIJMK15ooYVqi24bX5nQGUAcpG5MNV588cV1aNIW83xYUC8eikxB5s/BBEzABEzABEzABEzABExgdhNgzMKYifELYxfGFvm4CfHv8Y9/fFhuueUm+TmfKeQsDM6UM+V6moAJmIAJmIAJmIAJmIAJmIAJmIAJmIAJmMAQCVgYHCJMZ2UCJmACJmACJmACJmACJmACJmACJmACJmACM4WAhcGZcqZcTxMwARMwARMwARMwARMwARMwARMwARMwARMYIgELg0OE6axMwARMwARMwARMwARMwARMwARMwARMwARMYKYQsDA4U86U62kCJmACJmACJmACJmACJmACJmACJmACJmACQyRgYXCIMJ2VCZiACZiACZiACZiACZiACZiACZiACZiACcwUAhYGZ8qZcj1NwARMwARMwARMwARMwARMwARMwARMwARMYIgELAwOEaazMgETMAETMAETMAETMAETMAETMAETMAETMIGZQsDC4Ew5U66nCZiACZiACZiACZiACZiACZiACZiACZiACQyRgIXBIcJ0ViZgAiZgAiZgAiZgAiZgAiZgAiZgAiZgAiYwUwhYGJwpZ8r1NAETMAETMAETMAETMAETMAETMAETMAETMIEhErAwOESYzsoETMAETMAETMAETMAETMAETMAETMAETMAEZgoBC4Mz5Uy5niZgAiZgAiZgAiZgAiZgAiZgAiZgAiZgAiYwRAIWBocI01mZgAmYgAmYgAmYgAmYgAmYgAmYgAmYgAmYwEwhYGFwppwp19METMAETMAETMAETMAETMAETMAETMAETMAEhkjAwuAQYTorEzABEzABEzABEzABEzABEzABEzABEzABE5gpBCwMzpQz5XqagAmYgAmYgAmYgAmYgAmYgAmYgAmYgAmYwBAJjJ0wOMS2OSsTMAETMAETMAETMAETMAETMAETMAETMAETMIEREVigE8OI8na2JmACJmACJmACJmACJmACJmACJmACJmACJmACY0rAwuCYnhhXywRMwARMwARMwARMwARMwARMwARMwARMwARGScDC4CjpOm8TMAETMAETMAETMAETMAETMAETMAETMAETGFMCFgbH9MS4WiZgAiZgAiZgAiZgAiZgAiZgAiZgAiZgAiYwSgIWBkdJ13mbgAmYgAmYgAmYgAmYgAmYgAmYgAmYgAmYwJgSsDA4pifG1TIBEzABEzABEzABEzABEzABEzABEzABEzCBURKwMDhKus7bBEzABEzABEzABEzABEzABEzABEzABEzABMaUgIXBMT0xrpYJmIAJmIAJmIAJmIAJmIAJmIAJmIAJmIAJjJKAhcFR0nXeJmACJmACJmACJmACJmACJmACJmACJmACJjCmBCwMjumJcbVMwARMwARMwARMwARMwARMwARMwARMwARMYJQELAyOkq7zNgETMAETMAETMAETMAETMAETMAETMAETMIExJWBhcExPjKtlAiZgAiZgAiZgAiZgAiZgAiZgAiZgAiZgAqMkYGFwlHSdtwmYgAmYgAmYgAmYgAmYgAmYgAmYgAmYgAmMKQELg2N6YlwtEzABEzABEzABEzABEzABEzABEzABEzABExglAQuDo6TrvE3ABEzABEzABEzABEzABEzABEzABEzABExgTAlYGBzTE+NqmYAJmIAJmIAJmIAJmIAJmIAJmMBMIXDJJZeEe+65J1X3DW94Q3jWs541U6rues4wAmeccUb44x//GF796leH5ZZbrq/az5kzJ9x2223hec97Xlh77bX7ymN+SWRhcH45k26HCZiACZiACZiACZiACZiACZiACUwDgb/+9a/h6U9/enj00UdT6XvuuWfYZ599pqEmLnI2EFhggQVSM7/97W+HDTbYoK8mv/nNbw7nn39++PjHPx4OO+ywvvKYXxJZGJxfzqTbYQImYAImYAImYAImYAImYAImYALTQODMM88Mb3vb26qSn/GMZ4Rf/epXYeGFF672+YMJDIuAhcFhkfzffCwMDpenczMBEzABEzABEzABEzABEzABEzCBWUWAqcMXXnhhWGONNcL111+f2n7eeeeFN73pTbOKgxs7bwh861vfCv/617/Cy1/+8vDMZz6zr0KZSvyb3/wmrLLKKuH5z39+X3nML4ksDM4vZ9LtMAETMAETMAETMAETMAETMAETMIF5TODuu+8OK6ywQir1+9//fthjjz3CVVddFTbccMNw9tlnz+PauDgTMIG2BCwMtiXm+CZgAiZgAiZgAiZgAiZgAiZgAiZgAonAfvvtF/ApqOnDX/ziF8O2226bjjGdeKmllmok9fWvfz1ZGl5xxRXh17/+dRIY11lnnbDjjjuGlVdeuTZdr2kQJ4888siw6KKLhi9/+cuT8mLxCur5j3/8Ixx88MFh2WWXTXF22GGH8Nvf/jbsvffeqU2nnnpqQPC86667ws0335zi4EvxK1/5SvjqV7+a9t97770p7pprrhne+973hk033XRSeezope7XXHNNOPzww1P6vfbaK1m0lZk9/PDDYbvttku7P/ShD4VXvOIVZZSu31m8A6s7GG+//fbJx97VV18dfvzjH4eVVlopcA7e8Y53JIu8PKMf/OAH4dhjj00LdnDOL7300iT+Yh164IEHhne+850p+s9+9rNw/PHHhyuvvDLccsstKT8WCtlkk03Cc57znDzL6jPXAHw4b9dee2147nOfG1ZbbbXUTtLm4X3ve1/4y1/+kvwDvuhFL6oOfe973wtcf7TjzjvvDP/+7/8eVl111bD55punuuVT2z/3uc+lctZff/10vMokfuCaIJ8f/vCHqT4PPvhgWHfddQNlwZ1rPQ8nn3xyoOzXv/71SRD//Oc/Hy677LLAgjzPfvazE8d99923usbytGPxueNgAiZgAiZgAiZgAiZgAiZgAiZgAiZgAi0J/P3vf+9EkaQTxY3OrrvumlLff//96Tv7ouBWm2MU1jqbbbZZFY+45V8UryakbZsm+j2s8pyQ0WNfophXHb/xxhurKP/2b/+W9kcxsBMFqSpOFHhSnCjKdVZfffVqf1lvvkeRrMqPD23qHqe3Vnl/8pOfnJCPvpx22mlVnCioanfP27gwTEpPW6N4VuVVtuWzn/1sJ07ZrfKNYlmK+8pXvrIDnzz+1772tRRPcfJj+kx5OWsSkH9c/GNCXoqv7Uc+8pGqDnzQ/rj4SLU/CtTVfh3Pt1tttdWEtsRp7il+XHykyoMPcWXtzn/913815sX1fvHFF09IQ/0oa4sttuistdZatWlpexQrJ6Qbly9hXCriepiACZiACZiACZiACZiACZiACZiACcwcAtGvYCWC/M///E9V8bhSbNqPmPbPf/6z2q8PElIQU97+9rd3zj333M51112XhMRcqLrjjjuUpNM2zaDCYLRYS21A0IkWgJ0jjjgi1SVa2FVtjtOmOzCgnhdccEGH9tIm0uSCWtu6Ux75IEJF67WKgT688Y1vTMc33nhj7Wq1lTBIGfyR3znnnNPhHJ5++ulVOzh21llnVXlL9KNetJHjiGjRyrLz05/+tBMtCtM+5XnRRRel/dHqshKQSXffffdVeebnCcE1WmF2brjhhs5JJ500QaCT8EhC8udPwiDiqPbRlmjp14kWnqk+YsXxH/3oR1W5dcIg12ou7G2zzTYpj+g3s4NIqjLY/vKXv6zyys8vx6LFa6oD9civFz6PY7AwOI5nxXUyARMwARMwARMwARMwARMwARMwgTEnEKebJrHkP/7jPybUNE4JrUSUON10wrHok7A69v73v3+ScBinYFbHJcb1kyYXnCZU4LEvU1kMIvAgHsVppBOSS/xDXCvDd77znaru5E/op+5YpEmEuvzyyycU88ADD1THEFT7CbkwGKf3drD8zANtljDKuZU4KWFQdcutOsmDuBxDsMyFUfKO08orMfGggw5KxZFG5SAKPvLII3k1Og899FCVJvqsrI6pfAmDiJralwvUJPjb3/5WiZK5JWedMIj4qHywYiwD4rWOb7nlltXhXBhEQCwDFpako43jGCwMjuNZcZ1MwARMwARMwARMwARMwARMwARMYIwJ5FOGo7+2CTWN/vsqASX6d5twLPrPq47lVld5pKOPPrqzyy67dJgyS+gnzTCEwehrMK9WErtOPPHETvQhl6wEJxyMX0444YSqbZo22k/dsVyTABl9CE4ohvIRmbDaQ/TqJ+TC4Ny5c2uzyKcrY8FHyIXBT3/60xPSMUVYoln0MTjhmL4ccMABKQ5WoYRcaPvGN76haBO2WGJyLey1117VfpUjYfDWW2+tykZALK8rxNmbbropiZPKpE4YJC15w76JbW4BKEFVwiDWkNH3oYqottHfYsqX4+MYLAyO41lxnUzABEzABEzABEzABEzABEzABExgjAlgzSeBBmHwm9/85oQ/WYIR53e/+13VEgkra6yxRrVvqg/9pBlUGMSasVv485//3IkLZXS+9KUvdXbeeefOy1/+8ooHbZYw2E/dKffQQw+txCTKUpDfwyb/g4rXbSthEAGsKWA1qPMLS0IuDDJVNw9YDyr+u9/97g6CcPmXT9P9wx/+0MnTlNaCed7lZ5UjYZDja6+9dlU+xykLv5dxYZTO73//+zKLZA1KvNzHoMRYpkY3BcpU+TrHEgaZVl0XED1JY2Gwjo73mYAJmIAJmIAJmIAJmIAJmIAJmIAJzCgCTBPNhT8JJU3bL3zhC1X75PMtnxpaHWz40E+aQYVBTXctq4R/PKz4mtqq/RKN+qk7ZeZ+884+++xUDabjKv8mS7+yvnXfJQwiMnYLKkvTY3NhUNZySg8vxe9lC59DDjmkSqN8etkq/1wY/H//7/8lgRbxTcfzLQJgLrCWFoNc04rftGgOdWOqsuJpmryEwaZrWlPrLQz2cnYdxwRMwARMwARMwARMwARMwARMwARMYKwJXHnllZU4gpUVvuXq/iSg5L7VWGyE/VOJUjmAftJMJQzefvvtVRvylXIlLJ188sl5FdJnpkjTFrULyzgWyWDRDQTDW265pTomYbCfuqtg+XAkDwJTmCm7yTJN6abaShjMz0uZBqFN7RQLCYNMYy4DcfL4fG/6O+WUUzrkf8wxx1RpSqGxzD//rnJyYVDHmQLM+dh///0nrCpNmnxaeykMkp52EW/33XdXdpO2l1xySVVnXTcWBidh8g4TMAETMAETMAETMAETMAETMAETMIH5lcDWW2+dxBFENASepsCqvRJxrrnmmhRN+0jb5McNizymgu600059p/nWt75VlV0uhEGm3//+96vjEnjYL2FQ/g3Zp5AvLqLptTrGltVr1V4Jg/20V3nmdWQhDk2XRXAbJEgYpK7kWxdYwVdtYUEYgoRB+QjM0+ViMf4n6wJlwUg+CPP2lYuGKD0+FbkWEEO1wrXqJWEQX5CsinzPPfcoWbXF/6AWRSGdrtc6YVCLhLz+9a+v0pcfmDav8pWXhcGSkr+bgAmYQA2Bhx9+OPnfwAcHf5jG9xJ4oCoNW97SDRJ44JDPWWed1XM2/aTplvnpp5+e6oAT3FGFYZWBTw54NT2oh1l/3r5RFp0KBxMwARMwARMwARMwgfEkgL82CSPlwhhljW+++eYq7rbbbpsO44tQ6VkFtgz0O3Vci5r0k4bVfJUPIlcZZMlHnF6FwXzqa52oueeee1ZlShjsp+6qK0IYIhx1xIpN7cE/3yAhFwbzlXrzPLGGVHnyEdlNGKROElURQ+sCqxWTJ0IdIZ8aXXctMfVXVnwbbLBBlaXqJWGQhUnYx/T2uqDFP4hDmYQ6YTDnMmfOnElZce2rPoiVChYGRcJbEzABE+hC4Mc//nH1YOGGvN9++3WJ/X+Htttuuwnp7r333v872Mcn/GNQfmk2z8pVMnUvs21KU8br9Tvl86cHWa/p2sQbVhlyorz33nu3Kb6vuHUP574yciITMAETMAETMAETMIGREeBFrvqadYJbWTCLjCj+o48+2mHKaG7Bdc4556R97L/ooosmLOLBdF9CP2l+8YtfVOUiKt1xxx0prz/96U8dFu5Qndj2Kgx+9atfrdLlVntYjn3mM5+pjpEnlnH91j0lfOwf/u7yupaLouC/DkGOP1b97SXkAhh5I8DK+g3xi0U7VGY+rbabMEi5eV2pi/LEUlDToMkXgVWBhT5U1r777lulQSDeZpttqmO5iKz4Gk/lloe77bZbh+tMAetFWQLmlo51Yw8WQJG4yZYVkWVtyjRxxECVjfCs0K8wyO9A547rcrqCVyWeLvIu1wRmGYFSGOSmLFPwJhQ8SHRj1g14VMJgPi1AN3/Vy8Jg6FgY1NXgrQmYgAmYgAmYgAnMbgISR/AtWPab68jkghC+5QgIimU/v/yO/7k89JMmtwpkPCHrOz5LGOJzr8IgY5G8nuSnlWzJJ1+QhXhYCxL6qbvaju9C8tZfacnGlGcdw2Kxl1AKg0qft4V9nOt8qvFUwiDjNxkWKM+cOfuYEpyLYAh3OTfiyCpPecjHotqm/RIGEY7z88lxRLcyX+qvoPj5qsQcO/fccyue5MN5LOuDcJqHfoXBnI1E1DzfefXZwuC8Iu1yTGCWEyiFQW6y+VuWOjxavUk3frbTIQzypvKMM87oMNV1GEHt0YNsGHmWeQyrDD3YLQyWhP3dBEzABEzABEzABGYfgdtuu60STZqmoJZU8tV111tvveow/uAkzqjvyhZxSqvwVpEf+9A2DaIWC07k+fOZfYhT2l8nDDIWqQuMYXKLR+XBVFjcHmHRp325VWHbuudlY/FInnViLJZ0Kq/XPruEQUS6Cy+8cFJ7EMPw75iv4kt9phIGiYNIh+VfKaZRR6z5cDFVBkSxHXfccYLoSnzqcdhhh3X+8pe/TEii9mLRp4CVIJagpNFxbbFa/cY3vqGoaatrjzqVgetcq0krD7acd1wtlQFxkeNtVyXOhdiSdVnGKL8vQOaxAQ4mYAImMFIC0ZQ+rLnmmqmMeLMO8cYd4kMzxIdLY7lveMMbQnxQBcUnYhQGw9JLL92YZqoD0Uw+xBt3iFOJQzRPr6J/97vfDfHmn77HN59hgQUWqI4N+4PyjsJgiA/5YWef8htWGeuuu2744Q9/GGInI+y1114jqasyffOb3xzOP//8dH5iB0C7vTUBEzABEzABEzABE5iPCfzjH/8Id911V4hTWMMKK6wQllxyySlb2zYNef/85z8Piy++eFhllVXCQgstNGUZ3SIgo0RXRCGKniEKYGG55ZYLCy64YJUkLq4RnvCEJ4Tll19+0riibd0pizrHRTTCoYceGj7xiU9U5ehD9AEYnva0p4W44EqIfvy0u3EbhbvUt4/CYIgWiClenHodonViGmsts8wyjWnbHIiLgoQ4hTvVjTwXWWSRKZNHH4CJbbSmC0sttdQErlMmjhGiMBnI4ze/+U1YbLHFwjOf+cz010vaMk6c4RaikUiIInI6B5zTYQfGpoxFoz/OYWfde34Igw4mYAImMGoCucVg7rOiyXEub9TinSz95fFzi0HezGy66abJ90Nd/VmAg+NyWkycclowfkyII8s4ynzHO96R9mFGTmBLnNxk/Kabbkr72M8bLsrgTR5vxnjzw1vIU089tXZ6hdpVZzHIW80owHV4m8rbLsz3efPVi/+WVNnH/jWVAe9jjz02tVem69SZN2K53w7lJS68fcRPCm9CeeNG3fDVwRs2OVZWmnzbpj16a8d5zQNOq/E1qTez1JcV2Xh7mE9tyNP4swmYgAmYgAmYgAmYgAnMDwSYtaS+vRbOyNuFNZ2sFFmdt5eQWwz2Et9xRkPguuuuS+e2HP+MprTmXD2VuJmNj5iACQyRQC4M5j428IlRFw466KB0k0Rkw1xbD8NcGJTPiKOOOqouiw4rn5Eu90lRCoMyh1f++VaCYpmGwvIHNCb4ebr8M6t5lf4idLwUBlmNV2Kd4uRbnB33GpQuLwOzfRZd0bG6bTklRMKgWNelQSREYC1D2/bUCYO5I+G6smlP3XSEsi7+bgImYAImYAImYAImYAIzhQAv8xkzMW1Z00233HLL2urL/VKv/gXJxMJgLcp5vpNzi9FDtJid52XnBVoYzGn4swmYwMgI5MIgn/EhgdCD1VkZcGKsByCre+E7QqLQsIVBViNGnMxXP+Y7fz/96U9T1aYSBqkb9SUNq2chxuU+KfDPkQe1JRftovl/5Q+DvPBpiKUcbZeDZ9IhlPUS6srYfvvtK4577LFH8ifC6myUId6IfLkTaQmDyo/zdumll3auvfbazuGHH17lx/H8DWY/7akTBiVIUj9WrMM68YYbbuh87GMfq8rmGnEwARMwARMwARMwARMwgfmFAC/Y1f9mSx9dqyqXbaR/jOVZm2BhsA2t0cVlHIZfyukOFgan+wy4fBOYJQRKYVBm0zzoyoccb8f0IGRK8SiFQeFvuypxbjGIaMVqWnnA6S5TktWO6LOjOqx9uTAo0Y43Ro888kgVlw/kJavE17/+9ROONX2pK0PiHx2BMuTtz8XXXBhECCxDfh5pg0I/7SmFQaZCqB2sZlcGrDE5njuxLuP4uwmYgAmYgAmYgAmYgAnMNAK4LWJcgCBIf/zqq68eahOiL8LkBil3lTTUApzZjCJgYXBGnS5X1gRmLoFSGKQl8hm33377TWjYNttsM0HwGXdhMF/2Pm8IqxnXCVvalwuDPPTZf8IJJ+RZVJ/jAiBVXr2YmpdlYAV44okndhDYSiGWQihXaXKfgRIG6ZggUNYF+TQhvUI/7SmFwejst1rNDMvBskP04IMPdug0RUfMKtZbEzABEzABEzABEzABEzABEzCBFgS8KnEcyTqYgAmMnkC+KnEUCUNcwCIcccQRIU6zDaw4FS0D04pT0R9fWGKJJVKF4mIYIS7uEaI1W1h//fXTvmjNVq1KvPLKK6fVuaKPwbDDDjtMakScHhziQhsh+hgMcXn6dLyfVYnr0sTptOHVr351ypNVr1gxqy6suuqqgVXJPvKRj4QjjzwyRSlXDGY1M6WPi2qElVZaaVJW0cQ8nHXWWWk/PFixuVsoy8jjRgfFaUVm6jV37txw1VVXpZWHFScKg2lFOL5rVWJYfuELX1CUCds4xTdstNFGaR+rf7Gqcz/tqVuVOPpKCVE4rsqLVo/hda97XWAFtVe96lXVtVBF8AcTMAETMAETMAETMAETMAETMIHeCbQQER3VBEzABPomUGcxeN9991VWajjWJbDARryDpT8t2jHuFoNNlnS0h6m/tAdrOAW1TxaD+dRpHeu2xZfhVEHpVQbx4c2qwjrWtK2zGNx///0bi8zrf8011yRHyU151+1Xe0qLQQrE0vGkk06qLAfL9BtvvHGH6eYOJmACJmACJmACJmACJmACJmAC7QnYYjCOMh1MwARGT6DOYpBS3/KWt4Rzzz03xOmoIU7JDa95zWtC9N8XooCVrP2I06/F4Pve977w5S9/eeQWg9EXXlhyySWp6qTw0pe+NFnkbbHFFqkuRCit+eKU48pKcO+99w7LLbfcpHzyHa94xSsqi758f/65LANLzHXWWSfceOONKVr0z5dYY5244oorhrjyWVhllVXSsTqLwbjYR4iLsORFVJ/jisQh+vlL32+77ba0ldVjm/bUWQyqkPh4C3ExmPCDH/wg/ckClONYEcYpxWGxxRZTdG9NwARMwARMwARMwARMwARMwAR6IdBeS3QKEzABE2hPoM5ikFxwfBvvVemPFX31GSs0hSaLQfkojFN9FXXCNk7LTfnFqcTV/roVhjmYL76Rr8rLsbo0+eIjTSsFs8KU2rPvvvuSVQraJ2s+LA61Dx51gThRXE1/3SwUlVb5qYy8fWeeeaaiVVvyVpo6i0FYNgVWBVbaOE05+SLU9zbtKS0G//SnP6WVoeOU50lFs+qxFh+hLFZKdjABEzABEzABEzABEzABEzABE2hH4P88xbdLN7LYrEKJCMC0tQ033DCtxLnVVlt1GHg2Odx/4IEHOl/60pfS35///OeR1W0YGUcrl1TPu+++e1J2tD36Q+vssssund13370T/ZZ1iEfbTj/99Enxp3sHiyFQN5ZSdzCBqQg0CYP8ZrVQBQtcIPKwem4uzjUJg6985StT/LpVaXORsa0wyKIXeZhKGGS6cF5fpc0X9MjFQ4lmEu2ITxvYz+rDdXkdffTRlfgWfRKqiMZtWcYhhxxSpf/b3/42KV305VcdrxMGyW/OnDmT0iHeRR+RKW0uHvbTnlIYjJaIVZ24H5bh5ptvro5zb3UwAQjw2+cZyqrgXJMbbLBBJ/r47Jxxxhmdf/zjH7WQuj2baxPMgJ39PqPpi6hPVXcvmgFNH9sqcv2JbbmS/VSV7vd8TpWvj5uACZiACUwvAYwNyjE1fRn2Rf/i01u5MSq9Hyb9pCmbPJO0prLubb6PlTDIhS+BQIPacstqpXHK24Q24tNK8bAiGeegeuaCAPV9+OGHJ7U9TpnrxMUXUtvgMh0hTvHsnHzyyWmgVZZfDuLL4/5uAjmBJmGQODvuuGP1G+Y3ctBBB+VJ08sC/Xbi4iPVsdxfHlZwf/3rX9Mx7gmIi0rTizCIxZniX3bZZR3uJXrRMJUwSDqs13hwEKiHfrscywUzjquc/D6AwK79CBpxEQ+ipjogKure+MY3vjHtn+qf8lIZue9GftMK+HHMLf5Ih/WgglYlZj91wPJQFouci7gAS1XvCy+8UMnSCwPVodf2lPcU7vXKA/E1P/ecmzi9uTquly0IiNSTP9I4zB4Cv//975MIqGumbsvq1tddd90kKIqr38ukCDNwR/l76rUJ/I7Fo0lI7TUvx5tIAItqsb344osnHpziW7/nc4psfXiWEuAFIX0B/tTfmKUo3GwTmHYCdff3urHHtFd0mivQxOTaa69N97J8HKKqNqXR8V62TVrTL3/5y1Qu99H5IYyFMEjHMx/g0WlisIkFy+c///n0pl+DYo4x2JMAwEloOlnjeILUISwHH3F11qqziNhB22+55ZZKXKD90xHWWmutVC+EgzLU3cTKOP5uAiLQTRhkoK7fBttf/OIXSpa2TRaDvAXK00kQ0j6s7/jcizCIRbLSaaspynUPlXwqcX5/kvWc8uAYbc+DjpX3AayFdYytLCi1j7zuuOOOPKvGz0qjMhDVynrm4imCidIQ75vf/GbKOxcGdZxtWbfoI3JSXdq2p+6ecuCBB1b1olzqufrqq0/Yt/nmm1dlY+2oenL+HWYHAQQXWaly/nl28dyKfkvTDAQ9y3Ttlla3umb0e5kfqNX9nnppl4XBXij1F8fCYH/cnGr4BPIXb7nrluGX5BxNwASmIlD3vK4be0yVz/x+vInJJz/5ydT3r5tB1pSmDasmrSl30zQ/zLAYC2Hw1FNPrQZyDPrqpgxjCcDgXp33PfbYozqfTSerijBGH7BqYjpT+XZOAxosa/KAFQzx82mI+fFRf9Zgqk4YZFoLdYtO/0ddDec/HxDoJgzSPPkLrLPyahIGSXfeeedNEqm4j3CzxvKQe0YuDGpKLtd2GQ4//PAJefFiglCXJhcGESix5NP9SVumMNZNgdVx2lUGfPLlIp3icm/gZUGvQenyMlj5WZx1nC0vI/CHiLin/Xr7JYtAXlbwAiMXF4mLuMiU6abQpj3qGO22224TsiP/XMRUHREn99tvv8qCkUQWBiegmzVfuA/ousj7BzkA/Y6Jt/322+eHOk3P5gmRZtiXfp/RFgZHd6IHEQb7PZ+ja41znskELAzO5LPnus9vBNT//fjHP141bRiCVpXZfPIhLtaYtAfGYHnoJgw2pcnTT/UZHQrNA6OJfCaFhcGpyLU8jn8qWZ4wYGVKbVPASnCNNdZInX/SyA/YTBIGm9qmwTd+kcYpdBMGx6mersvsJsC9IK6G2+Gt97xyJ5ALg5pyjG8u7kcslqHptv2eGYQ6xNS4Em8S7frNp0zHG6177rmnc9VVVyURTfdRxcNvH+Ja05svHohz585NU4UfeughJZtyO2h7qCciK9alTBmgDfnDuawAVoVMUXeYHQTUKUT0o1/RFHjxQByuD4d6AhYG67kMY+8gwuAwynceJiACFgZFwlsTmH4CFgYHOwfqA9ZZDA6Wc/fUFga782l9FIscveVHiZ0qYMWi+Fr0opswyIOPBT2YDqcpfoiKWPfgA6wMdNoog0UNiId1DNY7+A/D71gZ2sbfcsstO5tuumka2JIXVjh8V5soi+/EIzB453vdND0GP4cddlhn4403ruqKLzNWP0WgqAsMqMkLEZa28cfnnXfeecL0TXw5Uq6sg4jD980226zKljcZ7MPiswyUv88++3S40cER9lg8cb7zaeBKxxsS8sK3GUII3yUCM4DjB48vNAcTGBcCdcLguNRtttfjxBNPTPfU+Wla6Gw/p1O1n+eHnqPdnhWnnXZasj7FAlWCPnmXz+a8PHzB4e6EF2U8E3muHXPMMSk909gpW89cXm7ynT/eMGPJuMUWW6RnIM9B4svHIb5psI5Vvjxnd9ppp859992XF199bvtc7faMpp5Y29IW2sRzmgXfmJ1gYbBCPvQPpTCIRTX9Kq5HzgPn4OCDD659GVR3PnFMz7VGv5UXNfT/9KKZPLn2eIlSF3rtD5IWa3PKoV9H4PnHgj6Use2226ZjXNt1C1sRn/66fhfljBmO9xra9Hvp+1MmFh68WOK3Tx251vntKdx4443p9804gXNAn5N+cpPD/7b9/rbxVS+s/bkvMS6gzrTl+OOP7zzyyCOKkrZiSz+edh533HGdTTbZJLVF9yusTRV4wUZexNE9k2uGffLv3O18f/3rX1dWnTbseFlKGfzxcrGXa5+2Mv4iDfGbAvdn4nBfdpi9BFjQSdcY1xuzbPbee+/k5zufJcC9cq+99kruR/iN8AxmnNltSj0ujjDeQXgiDc9zPnPvrRvXttUf5oUwyLOdGVTct/nt0wZelrLAaZMxA8YC3OvVTyE+zyis8MrQ71ieMrbbbrtqRhP3O/QMNI7SAIG1DzjHu+66ayoedzF810wrzo2uAQxGCGUaxDzFaTImoe9GHJ7PsCEvpeHcsjgi33N3S+gc7KM87sd8pp/VFE466aQUh7aPS5j2qcSaHszF2XRRlrCIR+dDli5NwiAdXx7wevDVbfFfpcDDWz/Murjs4wag0DY+6ZSvBqwMBLSv3BJfCxhwoecBP2MSzsp0fCd+Oe2QutfF1T7OgaY9kl77y63qIVa52TPHWDSFH3WZTt+5ueSrnpJGP2hu4E1l095erxHydDCBURKwMDhKuv3njS9F7jV02HLhp/8cnXImEMAfqJ4xDAC6iYN17VFaPZsVh46pjpVbRAbtk19URA/tY0qzPudbno+XXnpp6pTn+/WZ5+Gjjz6qKqRtP8/Vpmc07j80MFCZ+ZZntL53s8qdUEF/6YkA/Uax7daHo+9a9pPqzicDNvJDAMzPm8pgS5+qzKtNf5CGMfgiL16aIx7n+TMA0ncGXHVBbiro8/Yb2vZ7GdBRLwZmiACqI1v9XhGS8v3l56222mqCSNu23982PmxIwz2srIu+c57z2VW4QeAY9w0GmIpXbolHYGxQHtN33J8Qup1vGVX0w07ltLn2NY6j3XWB60L5Nom5dem8b/4jkF/b3PPysSgucwgI6Yx3dc2UWxbqK0O+AGAZn+9cm3mfo63+QHl19/dhTiXmPlhXd+3jXlfOFNJ9QHHyLc8VXgzkoZ+xfPk8ycvgM7///H5XMtF9vkzHd15+Eco0GCEp/imnnJI3ofqs2SW8rCOUWlM3NvRH0UZURilukh+sdR3yQnhcwrQLg7qIUFX7DeXJUj75g5UOOko5DxDewqlTzIWtHwJvFXUSeft0ww03pPg8aBSf4xpsto1PvZS/Bh9seYspDjyU+a43cnXCIB31XFDkLQfWjLzhy539U2eJp7wdVdk45OctMz9o/vI0WNoQUMqph0Q6BFy+5zfMupsYDt1VDttDDjkkTYecM2fOhA4LP/R8wKH2K+1RRx2V0p1zzjkTfLd94xvfSPXzPxOYbgIWBqf7DNSXz/2Z+5fuffWxvHd+I3DrrbdWzyueIwwIdthhhw7P2HKhkbq269mjZzNxcv/HPDfpC/DM5DmoDp3SSWjIhUGO8awjHW/E6wbSvJykr4HbgFxozJ91/T5X657RWDbkdedlHFYSDJbK1cmpf/6cruPmfe0I5MKgrh0GEfRj6cfh/kD7uXby+1jd+ZQwqDSkxzqMv7wPzGeFtv1B0mkQxO9K/UJ+E/zG8LGrATjXcBm4JysNfj77Cf30ezVgzPuX9LGx+uE8MBYQN+qP1QyiOfsRQHUsH7S17fe3jQ+b/ffff0LZ/Da5PxxwwAHV/nxhLQmDqi8DWsY7DH7JS+zhQKDt3MOwqFQaxkj08bVSdrfzzayeftj1e+1jJal6cp8vw6GHHpqO007KcJi9BHJhkPsn1w3XPS8m6BdiHabfA2NkZirybOZ6zl+sIFYp5PdL0n7hC19I9+uzzz47WbPq2pTwSLr83tuL/kCauvt7KWgRr5+Q9yGYMcnzgfUceOGY+0fPLSY5prYRBws5fvv0i3S/h0c+wyG/15K2l7G80nA+GPMj6NInyhelzdc5KJnQFu5dumeTH9/5e/DBBxOuMg07paPQtjIwO0Nt1wuVUmviuqCM/GWMyoUT15XyQHMpAzNCdZx79biEaRUGsf4SlEF865UnS3Al5mnqg/azzeeEY2FC0EXIhS6xMB2I//AZproichHaxieN8sgHH+zX1I+SQ50wyIBB+dRN42UqiY7TmSAoH/ZjAlsG3RCZEpIH7c9/lDpedxPjxqiy6cyUIXf+nqv0ujGQ9uqrr56QjPoqT95MO5jAOBCgg8ogg7+6aQTjUEfXwQRmEwGeOeqw6pmhLf0BBvh0IuuC4unZjCCj5xKD8NJvYbnKd50wSPrS8o+38iqr7CwyqNWgBQsnhX6fq3XPaE2zpw6y/FE5bOGj+rG1MJjTGfxzKY6U/R1KaHKxU3c+c2GQwU8ZNFhikKzQT39QQpGujdL1DwKzjpXXPL8pHXvggQdUjVbbfvq9EgYpm98/AqYC4w/9vrlnyBVAfpxpYaq3BKm2/f628VlwUGUyqC5DPnbRID4XBumP5GIy6fMxQW65kvetlZfK63a++2XX77WPtZCY1E3LkwDk8YHO3uzd5sIg1wyiXO7eQIIdv/lySj7XNc960iGuK+TCD4JPGXSP5dmtstrqD+RZd3+vE7TK8nv5juCm31B+HyQtdVa/SbMoYSHhDHdlpSbC7EL1VeR+gLx0T6Ws8tmW32/0W80FOC32SD4KuBEgr9xvYBMTjKTKuMqnLg2LTYpJef9Hn+AYbVTfr0lryu/JJSddT1wjZZBFYf5sLuNMx/dpFQZR7nVSeBPWb6g7WZwcOsBcaFgJloFVLlW2pljQSdc+fP+VnRtuCLxNlElr2/jUQflr8KF6tREGefCTDz/A8iIkP+r96U9/OlkC6mHPjQAWdQMBFgXQTYy3KnloIwxSF7WvzEd55jeb/MarmwltqwvqoHGTcDABEzABEzCBOgJ0crG455mhjqueS9riE6bsF+iYns2IjNqH9U1doJ+gOHXCIG+Py5CLPnXWLRpkYMlPGOS5WjfQ0PSYpv4DZcrFC22zMAiR4YVcHEG4qgv0k9QnY1CmUHc+JQxyrdddT7K24rhCP/3BXCiif1kGrE/0Wyj7mRrccV31G/rp9+bCYPkb5qW56lv3O6We+GZUHHxqEdr2+9vGl1UxA/Wm357GC1tvvXWqUy4Myn9pOvDYP8YuagdGDgr5QF1jBR3rdr77ZTfItU9baQO/i3zcg69Cta2c1qi2eDt7COTCID7qyqA+ARpAXchfjHFPy5+/TX7g+E3h745nNpZ5pGmrP1CXuvt7naBVV++p9vFiQ78TpsZi7ZYHXkigb8idGL8lxc/vGXkaWTAzA0Gh7VielxgSJUlbiolY/FEvvZihnCYmbYVBLB3VxtxNHGXoXOTGUnVaE3G7CYNYoauM3Ncv93a1m3v+OIVpFQbzH1xugtsWUNPJUj5MY8Bkkwc0KnXuKJITJmGQKUC6aehEYmLKxc9DU28ClG/b+KRTvhp8KC896HuxGNQPT443lUevWwYwvD2go8O0j7zNpaDXRhjkhqL2MX2iKUglr7uZ8Na5LuiNzSAdy7p8vc8ETMAETGD+JEDni+kcdPpysYvnFAPM3HpJzy49m/MOXe47KCfF1BqlqxMGZbGfp9GAm05hXdC0HgmDgzxX1bnN/QBrGnG3/gNCidrVJE7U1d37piaQiyP5dPEyJdatnAP6ewp151PCYD61VPHZytIuFwbz4732B3XdUicGzHVB1y71VODFs64lBlD9hn76vRIG876myhcX6tbN1YCs0dQ3btvvbxtfFk3Ui/553Z9+w/TPCbkwKOsWtZNtfg/JxbNehcHyfPfLbpBrP592l4sHmnYtFnm7/Xn2EciFwVLwz4UgRMO63xYvYvL7VZ6GqchtQ6/6A/nW3d+bRLC29SA+bVbb2PKboR9Au1goLQ9YhCsuL3bqWEkfIB73EoLu023G8lh1qiy29M3QhDh/mtGZ162JSVthkDzFPDdUwqpa9dEMUeI2aU3dhEH6jtJY8FetkE/Tblr8RHHn9XZahUEaKwe0uZloNwh05DmR/MnJbNPJ4gedT8HRiS63EgYpFxU9vzHkcenIl28Z2sZXfhp8qK29CoOo68qjbpqB8qvb8jCXabDyKLfq/Ci9fvi9TCXOz0PdNGLlmVtMaAqmbiZNbUK1p64WBkXRWxMwARMwgTYE6D/I8ojnSf680bNQz2amx2hfUxm5A+s6YbDOb4wEljqxgnIkrkgYHOS5qk6vhEFEPrUp76SW7cPPmOJZGCzpDPY9F0cYHDSFuuuvPJ+klTAoB+llfljPci5LYbBtf1DXLXlh0VgX8Lml6wZBjKABJv3npnR1eeX7+u33ShjMB33KV4NL6tst6IUCBgUKbfv9beLLolccu211D8mFQdUx32pBLvLqRxgsz1u/7Aa59mmPRNrc56PGDvKPnrfbn2cfgVwYLK1g+d7t91QeQ5jKZw7UPc+bCPejP9Td3/VbG8Z0U0QqjKMkVJXtpZ+AkEnInz9lvLrv0lH0e8z7VjmjurE8RmKszisLujJ/NJnc2q6JST/CoJ5PlKkXxfhf5Tv319wtQ94Xy8W8bsIgbddLPvQXBb0AGsdZkN2fiGrBCLeaYsBJqFOGy6JRtnXRqFNVd7J4S6mHCPEphwuPNPxg85uHLui8LHwPYFVH57wU08inDL3GV901+FA+vQqDxNePus3069wCADUev4u0DxNdbgTqQA0iDOZMy2kbaidbyoZD3lHt52aS5+nPJmACJmACs5MA04LpVPKnfkETidxKhunGCuWzOXc3woC2LuQdwlEJg4M8V+sGGup81/leVhu/9a1vVf0sC4OiMpxtLo7QB2sKsqLgfCnUnc9+hMF++oMSBvP6qF7a5r6qcNBP2GSTTdK1xLT7QUI//V71a7fccstJRdOP129e1i6TIsUdmmFU91K6136/8u0lPnWlXgxKsXTu9sfvlDBKYbDufPfLbpBrn3ZqsRSuBcRKpsTrHMrFE/EcZi+B/Hl52223TQDBd10vWLR1+21xDG0gn1Lb5J94QiHxS7/6Q939vUkEK8ts8537NP0krG2lPYgLloEE2q99U3HCH59mVQwylkcghDfGQ3IfpjqgW6iMJib9CINYWOvZwjOOIOOwso9UpzURP+8H0oYyoLOoHdyz4K8y80VuynTT9X3ahUGs/gRst912m5LDFltsUcWXsl13svITxUOzDPmbfgmDKNL44iidUJI2X4FUbw7bxicftXUQYVDmwHUdFcrgx0MdsfajA0iQ5R9p9eNKBx77x9tm6jaIMIj1n9qXOyPNy+GzLDbyqS+D3EzK/P3dBEzABExg9hDIB5xynt2t9XQyeVZhnaegZ5eezbnVXNOAgBeHSjcqYXCQ52rdQEM+DPO2i4G29MXULguDojKcbX6tIv41BWbRcA5yp+V157MfYbCf/qCEQVmpNdVbfjcpAyFM11E5SG9K37S/n36vhMGyX0sZl19+eVW30rJIdWCMoQGchM22/f628XHxAzP6xE0BC0TGMGwJoxQG6853v+wGufZpZz7FD+MDieeMCx1MAAK5MFhOgUdM1v1IonpJjTj8tvjjc+4KQS87yjT49eR+xx8aQj/6A3nW3d+bRLCyDlN9R9egbtyPyoD/vtwACo0gt5S8//77yyTpO79HOOU+CNuO5RHmqFeehwrDKi83Hrv00kvToSYm/QiDZCjrPZ65TKnWNVI+s+q0JtLn57tOGCSOFiHBXRxiIGVwbx3H/tW0C4NA1HRiQGl6MCDLwINAJyx/0193sg455JAqbukbkHzVeSE/CYM6cVwkdWHTTTdNeTKoILSNTxrVX4MP9hGk2vfiY3CHHXao8ilvfOQl58WUde211yZTWJVbt6IXP3p1fsoOlDqQdYOtupuY3q6SX776GfUi4BtEdeFHrND2ZqJ03k4/AVbGxn8nfzwkegk8eJSG7e23395Lsq5x8AlGXjjR7SVgNq466CVDL+ma4vAmiPy63cOa0o5yPy81qFe36f2jLN95m8C8ICDhgGdPt/tJ7oT70EMPraqm55KezfniaLyEKzt8zDzQc5O0oxIGqWC/z9W6Z3S+Qmnd/Zrndt6ucey4VidtBn7IxRE411k64RdT12MuHtadz7bCYD4tt01/sFdhEOtd1Z3+LJ9zcbPfU9a230s53YTBXGRqcmWkAShtYPBHaNvvbxsfn1biV2dNwuKCsvrdcccdU52GIQzmvrTItNv57pfdINd+amj8xxgFPlg2MbDm82WXXabD3s5yAt2EQdDohQu/y/KZzqVEavkAACldSURBVPGjjz66+v3J96jGp2wRC8sgdwPcz9Eb+tEfyLPu/q570KBTiffaa6/ULtpQF7RIFb8nfJJiRa1+QP4MytPKsi6fIitWvU4lzv00U24Z8mch7i8ITUz6FQZzEfSII45InOhPlqFOayJOLgzmU4/z9LLS594tq3D6YuMYpl0YBIrUUz0MMd9EPVaHlLeOeotGHC5W+S8hfd3J0hxx4mMGq4Aggb88lcVWnWO9fWIfq6rlN4AbbrihehhrJbC28amDytXgQ/VqIwyi+CsfREr5DEHpxp+MOg0cE0M9QBFhc4tInKPnwiw/9DxoQMJ+frS52Fd3E8t/YOSrtwDcgBF2VTfOYZ5X25tJXkd/nl4CuhbZ9joAyJ1Xk47rdtCgeuS/LR7SMoPP7xmUVXffGKQOTQ+rQfIcRtq63+kw8nUeJjBOBM4999zqucjzjt99LvhzL6ADp2cQ9wumeCjU3T/k9oJjLIDFG2T6EAxEZXWodKMUBvt9rtb99nnuqsPPlraoM8ugKnfBQtvUhxAnbwcjkIsj8IV33k/C+iS/RuX3iFLrzmdbYZB8+ukPdhOKyDMPpZ88zVzJ47T93E+/t5swSPn5uAKhSX1S7hUMbPXbzvs1bfv9beNTL/Hj94nfRo1FMASQMEbd9LKvX2EwvxZhwQqgCI+Eqc53P+zy8tpe+6lS8V9+LyQPrmXdvxTH29lLYCphML9+MDDSuIC+AlqEno25RT2LaepewIw33ZOx2JWQxHEtotqP/sAZq7u/N40rMGCirvzJkq7bWc91FmYE6HdOGoyDuMfp96R88t84rsvo+xC4T+ZrBSCEKrQdy+euXbjv5S7lOCcf+9jHKvYy+mhiov4a9wReDlNP3Tub0lBv9ImyP1euJ0G8pjEj/HV90J/ipXLe9yQt7HRtKa6M0jhOQGDVOa1bROp/Y43+/1gIgzQT0aiExnd1YASSfcTNQ93J4uLK8yOf/MTr4iVf4vHDR/jKy2M/nbZyn1YabBufOqsduXjB/jbCIPHztxpqg/LWVvUkPisPaT9bXYDal5sR50o5IqjiaEt+hLqbGPv1ZkLx6eTm54L9pRm3zkevbxkox2E8COg8a4vFwFRBHV+lGZUwmD90yulCdfeNqerd7Xi3B0+3dKM+1vQ7HXW5zt8E5jWBOofZPPfz55vuOaVlr/bnz2buH1oMRMfzLWKCvo9SGIRjP8/Vpt9+7nCb+vN8zsUotYmthcHhXsWlOCLWnIOyn4S4nYe689mPMNhPf3AqoSivZ+6jkvYxHW8YoW2/dyphkMFX2RfJxwnUnf7/3Llzq+q37fe3jU9BlFf+HvNxCPXS4kTE71cYJG2ZL8IHYarz3Q+7Qa79VKnH/uX387rZTHlcf55dBKYSBqGRuwDht1T+1rgP5+MYhCNZBRK/Lg33DYyYCP3oD6Sru783jSvyFwR1lsXklwcEMuWvNvA70thb+/jdKyBmyThIx8v7BZaXuYil/NqM5fkNK3+25FG+oJTvQ+rWxIRZY3k+fGbWZLc06WD8V/Yd88VFFKdpzMgLm7Lcz33uc0pWbbHwVrw6K/WcrUTYKvE8/DA2wiBtpmPNj6/sHAnkVlttVan7OSMs/hRHP0yO4wcjf4AoDqo+HZX8h6UOGCpz3tlXGrb8qGRdqPLbxld+F1xwgbJI2yZhUJZV3LjKgN+j8sdD/uTFtMY84KdI8+hVB7b8AJlqyBtr7c/LQtGW6bWOK1/dZOp8QyLe1tWNvLhxl0FxmQZdF+pWMqqL533znoCuC23rpiflteJ3rrjaTocwiIUtA2ReCgxj8Nv0sMrbPh2f9TvVyqTTUQeXaQLzigAWAbrmdX/Jt/isueqqqyZVR3HKZzP3Bt6Ia6oy8Xhe4bg7dyqtN/D5FGRZ8+eFTTXglhBZuhUhj7bPVXGoe0bz4lDTHNV2tvSLcqFhGPfGvP2z/TPWaOIN57p+GbMtyhdZcKs7n9zXya/NqsT99Aenum7z80r+6sfLiiY/PsjnNv3eqYRB6oG12eGHHz5JIKP+/Bbqpnq37fe3jU+9uI8wFhFHXTP0z4877rgJVnK8zNBx0pYBoULHy3sSokI+TtKsoV7Od1t2uTDY9trP28T5Unv0QiY/7s+zl0AuDObWZyURXl5IxNK1xBYrwroxKuIg021z8UbpuMfJ8lDl9KM/1N3f9TIEt155oEyVjz/kXgJ9FKbblvcU8uGZo6m6eV4Iikx5LcVT0tCvKO+P/Y7lsdArX8pQBuUyppTlH3VrYsJzB50obx+zPbulSQfjv9wiHR2qLjRpTcTlnpQzwqKyDMwG0DljVmoZ8vaXFodl3FF+X4DMY0XHLsQfdIid7hB/jGHFFVcMK6ywQlhkkUVa15PmRXPfEH0FhHjSwnLLLRcWXHDBKp8oiIUnPOEJYfnllw8LLLBAtT+qtYE6xIdzeMpTnhKWWmqp8KQnPak6Xn5oG79MP8j3eAGF6Dcp1f85z3lOWHzxxRuzizeGEH8AIf6AwsorrxyWWGKJKm4US0O8IYbnPe95XfOoEvTwQXV7/OMfH6jbwgsv3EMqR5lJBPS7iTfjwPUVH5zpGst/Z3l7onl6iA+UoPgci8JgeOc735lHa/1Z9Yid5BDfeqf01OeJT3xi+hwHWmGdddZpnW+vCeIbohAHaSE+GEMU5ntNNvJ4b37zm8P555+f6nbYYYeNvDwXYALjQCB2WEMcNKZ7EfXhvkQ/gud5v4HnJn+6p8QXCyEOJNK9LFoX9ptt63TDfK7SHvpB3I9jx3RC/6h1xZygLwLR4iLEaeohCi2p/0WfdF6EUfUH6Tsvs8wyqQlRhA8veclLht4c/QZ47k/V7+21cO4ZnAf6+9wvpgpt+/1t41M+YxjuY1F4SHV61rOeNZa/0V7Yca9hLECIYkaIRgyhn2v/wx/+cIhGBCG+RAnxRU7Kz/9MoB8C/CZ//vOfh0UXXTTpAN3Gz8pf1/pTn/rUsOyyyzZqE/3qDypnqi1jnfhCKMSpwEnfmCq+jkeRLURL5nRPWWyxxcIzn/nM9KfjTdvohixES8rwtKc9Ld3f+9FkmvJmP3oP9zn0Gtih2Sy99NJhoYUW6pZsxhzL+4u0E/ZlYAz53e9+N0TfiuWhefZ9bIXBeUbABZmACQxEQILczjvvHKIz/5RXfFsW1l133Un5crNH6I+WqCFOZwqIhIRcGIzWu+F73/teWHPNNcMnPvGJSXn85Cc/CdGCJ91UTzrppOq46sHDkrTcYHkAxjfTKQ6dUB40L3zhC1PZ8S1+iP5/0rH4tioNjPkS/VQkgZwB//LxhQHHogl5GjCQb7QcCttss00SGVLix/51Ewaj1U2Ib+BDdLQbosVDEuTjFKbwqle9KmyyySatO/pXXHFFYsagK5rKh/jmM6y22moh+kFLne28Xk3CIINQBEPqxUOIcwIfxIG3vvWtITp7rzrxyg8BIa7MFqIfjSQmKP7b3va2EN/UTRJd2sanHDpdRx55ZKCNtG+VVVYJr33tawPtqBN2uVZoQ7SASm1gQLfqqquGaG2RxGa/jNDZ87YNAe5Vz3/+8wOdYe5r733veyck5/fzspe9LF2j3FsY6DqYgAmEEC1MQpz6HqIlWu0AJ1rehDi7p2dUvOgjL4eZTaBOGGzbIq4bvdyhb0dfxcEEZhsBxMD1118/MLYYJ0OE2XYe2rSXMTHjv+j+I41xyrSMYV70ohdNvxFH7Pw6mIAJmEDfBOLNLZlH44QX/zR8ZwpOXWB6lOIz3V2f86nE/fhMoizlxbSafDqB9msrHzpN/iLkU6NumoHywFSd1bTy0DSVGB9Dcuyr9PmWRQ2YktNLYDpDtPqr2prno8/wy4OmJzDlTIF8MLlXmrotvpfyeuXOi+viM4UginoqYtKiUmWaMj4JmQYahb3GeuHUOQ9MMSjzzb/TRtrqYAL9EGBaEdcTv3dcDjAVjt8Ei5AwdVPXWnkv6KcspzGBmUwAn1w803mW63chFz1lu/Kpq4rbbVs37arM09/Hn0A+lbjX6Y9qFU79mcqn+y79hHx6oeJ5awKzgYDca5WuT2ZD22dSG5k+jMuZ+KKsei7Sf6wLTCWOxhadu6LPwukMY+VjcDpBuGwTMIH+CKhDjzCYOx2P05QmZSi/GPiaxMef0g5bGKQDioh07LHHVmWwOiCrI6pDOpUwqLrhMPbSuOoUTmxz3zYcR/RTaBIG8fmpvPA7weAJP0lasp5je+65p7LpusUvj/JCWKON+NCIlpMT/IXlA6k6YVC+S8kLP0z4WozuCJIwp/gcy52uSyjl4XXOOed08D9K2fmqYaz4rtA2Pj6VEGAolzKoU7Rk7NDxwb+K2i1Hy3G6QbUPv2ww5YH6gx/8YMKCEXW+ulRHb02gGwE6cN2Eaq5JfMQ5mMBsJ5CvYMnvAp9V0UJstmNx+zMCgwiDev5rS1/IwQRmKwFeonfzoThbuYxbu8vFrUrDjby+jHWGtVBXnm/bzxYG2xJzfBMwgQkE1FFDGIx+fypxBxEuD9zwFBfhapTCoMrtZ1ViWQxSV4TAMuQOZHNRoE4YRNxSm7U6Vp4fjoA5jiAWfZ3khyZ95u24xDZEwXyhJSI/9NBDFfvcEb2EvtxiUAItbS0D+arOEmzjdMpqX51TXRZ0II1W2mobnzrICT9vzMq20XYtlMCDloA4qXoituYBB//kw3GvWpiT8ee2BOKUnQ6CN0KHhGssnqILgElWw23zdnwTmF8InHLKKen3wX2X50H+0mx+aaPbMRgBFjLCsT+zNrQoQK85qu/DvbfsW/aah+OZgAmYwLwkwFiLfiMvmBnv8XJk3IOFwXE/Q66fCYw5AYkzCIMELcnO9Nk8YN2muIhg4y4MMsBpmqqSr2iuNtYJg3SCaTMDpboQHW9XTE4//fS6KNW+XJCsWz2MiLxx2mWXXZLZuhLWCYPnnXdeB4EPK7syRL+AVZ3UAWf6pIQ2OuhXX331hGQPPvhgMpfH6pDQNj5pJLqwOlldoK66frAMpCx9RwiNi0xNSHb33XenOnmAOgGLvwxIwFPTBwTo5CZgAiZgAiZgAiZgAmNHwIuPxJGlgwmYQP8EtOhHFAbDRz/60bQIBA5UCaxgxWIWhNe97nUhTgMN8Q1KiFN8A6t4aqXvaJlWrUpMHkcddVRabevss89OafN///3f/x023XTTSSuBqh69rkrMoh0vfvGLU9asPs4KYwQ5iGUhDxbaqAvRWi1stNFG6RCrS7GqV93iI6z8zYrh8W1RWmikLq8ovqXd8W1SiNZtdVHSvujjLEShMX3GAbfYNSZ47EDT4iMcjiJHiNOF0wrwrMzGwi60TYG6xanG6Wuc7hyiTz8dSueVcxot+VLbWD0sD23iswoZK0ESWNxlpZVWyrNKn1k1/ayzzkqfv/Od74Q3vOEN4aUvfWla/EGR45TjtPhKtIQM/Gn1WB331gRMwARMwARMwARMwARMwARMoCAwdlKlK2QCJjCjCMRbSrLcksUglZdzcRaHIGDhpXjy+TbuFoP7779/qnvdv3wRFXwVEkqLQazm1OZetk0Ltqj8uBJzlZ/29bKtsxjE9xNTbGWll9cv3yeLQcrBUgpfhrIczNPweeONN+7cc889VZXaxM95lvnWfVe9sDyNq2HXtoN0TJ9meruDCZiACZiACZiACZiACZiACZhAPQFbDMbRo4MJmED/BGSpJ4tBcuLzTjvtlCzlolgUDjrooPCpT30qWZndfvvtgTT9WgyeeuqpYYstthi5xWBcVCNEsa8WTFyFNER/eulYXKAgrLjiirUWg1gSPvDAAyEujhHiCqe1eWnnKquskqzl9L3cYmWJFSMhTnEOCy+8cBml9nudxeAHPvCBEEW+FB/Lure+9a0hirnhOc95Tlh++eXDU57ylBAXjwm5xaAyj4+S8NOf/jTERT7SX5zWrEPp/MYVuMJiiy1W7esl/n333VdZCe69995hueWWq9LXfXjFK14RVlhhheoQPK666qpUn0suuSTwp7D55psHrhkHEzABEzABEzABEzABEzABEzCBGgL1eqH3moAJmEBvBOJtJVmy5RaDUeiprNtY0ZdVZokXBcIq0yaLQfkoxEF1XWB1YfLCsi0PqkecSlztHmTxkTiltcqn/MBiBCpPzmRLi0HSaEWqbitR4dPv+uuv7zz88MNlMRO+sxqvyiwX21DEE088Ma3gy0IdWCwSSovBnDusS59puaWjLPPwhRjFwA51LQOrCWvxEerH+W4bH1+OahsrW9cF4sCJPz6zwAl1yq0UlQ7/g7JaJd+pFnZROm9NwARMwARMwARMwARMwARMYLYRsMVgHDU6mIAJ9E+gzmKQ3N7ylreEc889N8Spp8lqjn2/+MUvwjLLLMPHRovBOIU3RPEvxYmCzgTrsyg4JUsxrPCiMJjySBHjP9WjycfgnDlzkj88xZ/KxyDxyjTsi1NTQ1yAI9x7773Jwu/KK69kd63FYBQQw+67756OxwU6wtOe9rT0Wf+iyBXWXHPN9DUKYiFOx9WhSVus6uTHT34a80hRoEyWdrCJomqAA6G0GMSyDt98hMsvvzz5VExfHvuXW0PKYvDiiy8Or33ta1OMuJhH5Q9Q6aJgGFZdddX0FQtC/DW2iY/vRPmgxGdhXGikOp8qIy6WEnbYYYf0FZ+Exx13XNhnn33SucA/YhniIibhgx/8YNpdV+cyvr+bgAmYgAmYgAmYwPxOAH/N+KpuG972treF6Iom9e2b0j7ucY8Lyy67bJpJI9/ReVz6mHGxuHzXhM/MhqGvywyWqWaPTEg4xRf6s3Fl7Cli/e/hF77wheE///M/Q3wBPVBbmUETFw5sLJNxy9Of/vQ0rsEn+UILLdQYt82BYTOO7qAC4xXGTfwx/sJHO/7kGcMsueSSPVUPf+7R/VKVF3xpN37F8R3PjKVRhq985Svhb3/7WxpfMJuoiTdjTfzZE17ykpekGVXd6nXFFVcExiGLLLJIeM973tMY9c4770x++H/84x8njpRP+xk/RQOL8fCLPtuUULfXBExguATiHTBZe+UWg5SA5ZeOscV6Lg+55VpcfKQ69LWvfa1Kh3XgQw89lI6xuqys38ivF4tBrPlUh4MPPrjD6rlximzKD9+AOobVm0KcWlvtp4y40EW1OnEUAzuvfvWrq+MXXnihkk3yMciB2PGq/N+tvvrqHVn6YZWH5VtcLCPlRTlY2U0VojBWlb3vvvtWlnDku80221THYKggZvjbI2Bhp3aTBn+DhNhh6px55plVfYlz9NFHp2O55SXnEQ4K+PCL066rPFkNuG188ooCa5VHnHbdiYu6pCLIH2tJGFGnOC077c8tKHfbbbfqvHLw/vvv77AqNvHjwi8pvv+ZgAmYgAmYgAmYwGwnkM+oUH+wly3+wqMbmaqvNlWaLbfcMvXHct55H3qq9PiujmJKnryvz/mslKnK5Lh8jA/aVvLppTziMEaIL+v7al+ZaFiM4bbrrrtO2YZoEFBWYdL3KEZX/fgmJoxJGD+MIkQxbkI7GEM0BcabquMxxxzTFK3aH908pfjluFQR4BjdJFV5Ku98S9rDDjtMSaZtG6atZBdsAiYwXxDQja0UBhF0JOYQJxeraHiTMEi6coELxB2VowdeeQPW8XwqMeXkaYmjKcq9CIPKk21Zp3KxkLqpxJQfVxOu6k4+1Dvnwr6yzqSrCwhe0VpxQn5lvaL13YSkpTDIwTXWWKPKg7rknUS+58x22WWXlB+LleQ8qAcdmXxffANXld02PgkpK8+vbBt1iytdpzJ40KptSkM7Sj5f/OIXqzr5gwmYgAmYgAmYgAnMZgJbb711h5fg+V/en8P9T35Mn3ETlItl9Ll0jC0ueMp+G/t48aygPjz9tjytPuf1IA59Or3QVx5tt7kwSP1UVtP2lFNOSUUM2tZcGMTFT1kexgHleODGG29s27xJ8YfBmJfzesHOeaCeG264YXIJ9elPfzq1RX1vttGvfCda402qC+c+Nx4gLvXbc889O3EmUAdXSzkDjA9ksDApswF25IYV1CFaKDbmNkxhEIOU6JO+GtvQVgRvFpRk3Ji7YqJeGH1MZ7AwOJ30XbYJzAcEdEMvhUGaJn+B3OxKP29NwiDp5s6dW1nTkZY/Hub4KNQKtpSbB8W74IIL8t3J2iwXvrghE7DYUxos+xR4cLOfhxZtUvsUlw5TnKaq6NUW6zri8KAvQ5xOMOkhqrjd3lqV+fAdjnAt68V33jbJ56HSSjzDqk4hTuOYJKpRHx5evBGmU6T2xoVelCy1W/4idZwt54YVqOl85QFObeKTFkvTUtyjDKwIb7nlljz71Fn85Cc/OYkF8RE/e3mLOSFDfzEBEzABEzABEzCBWUYguvqp+n34q24KuVgWp6zWRqOvpr40/bHcMECiFUJZU0AIpM9HWv4QUAYJuTC411579ZzVoG3NhcGmWUHMIKLvrrbSZx80DIMxRhSqEwYHdfVnvJD31+vGgXHxvyof4pKmDIwHKUPlMVtsmIFxk8ZMuWFEdL1UW8wwhcGtttqqahdtLMfCVACr2Jxj23FhbSP63GlhsE9wTmYCJjB6AtycEQKZnjqvgjozmH0TeNuFUMlUV01r7rcudE5uvvnmDibtLJ4xaGBKL/VC6NNiI23y5KFIXVjEo3zTB3veXJZiH+VwLPpN6URfI2lqcv42uCy/bXyl/+Mf/1jVjc/dAnWnswELplVrGnK3ND5mAiZgAiZgAiZgAibQ6QxTGIRnLq7wMluhF9GKuPRLJRRhVTVIGKUwSL2a2tqLMEh66idLSwSsQcOgjJnSLPZM7+3Wx2dcJCtP6p4vpIiYqHZhoJEfK9uIlaBEO9L0M6Yp89T3r371q1V7EOHUtqOOOkpRJmzz8znIVGLGUCqLafXd2pT//vLZVxMqNg++WBicB5BdhAmYwMwhUAqDM6fmrqkJmIAJmIAJmIAJmIAJtCOQCxODWgyqZFlB5T7GexWtyENubeQCSPm23Y5aGKQ+dW3tVRgkPe6JJCJ1E+KIO1UYlDHTv1UXpsJOFZippfi5RSZThbX/jDPOmCqbzsknn1zF50X/sIKmREtgljUq56wuDEsYZIaa2o8Bx1QB8VDxy9lfU6Ud1nELg8Mi6XxMwATmCwIWBueL0+hGmIAJmIAJmIAJmIAJ9EBgFMKgrMUQYhR6Fa2wIJNIMuiiDPNCGKxraxthEPGU9s6rqcScjzrGWPWJO34DewlYwsllU+5OSdODEXg5B70E4jELqJt1XS/5KM6tt95atUeups4555xqX50AOSxhUNOXEfx6Cf/6179S28sZXL2kHVYcC4PDIul8TMAE5gsCFgbni9PoRpiACZiACZiACZiACfRAYNjCYC6+7LPPPlUNehEGsZjLfZTjtmaQkAuD+NvGz1vTXy5g9eJjkHo1tbVXYRB/2BLjPve5zw3S1JR2EMa4CVJdel0YkUIREZUOgYsgK8puC32kiCP8x0Ip1AuRToJbvjgmC/GUYRjCIC6NxOP4448vixjb7wtQs1hxBxMwARMwgUggrggV4oMxxDecYbPNNjMTEzABEzABEzABEzABE5hvCcSpjmHZZZdN7YtTicMHPvCB2rb+8Ic/DOuuu246FqeKhvgyvYoXrbxCFERC9FEXDj744Gp/9BcYVl111fT9Na95TbjkkktCtLALcUXaKg4foigXou/rcO6554boQzsdi9M/w2mnnRYWXHDBCXHbfIlCY3jc4x7XU5I4nTVEC68Ud9C2HnDAASEKUymv6Lc8LLzwwlUdYBUXPgxz5swJUfhM+6OQFq644oqw5JJLVvH6+TAI469//evhXe96Vyo2+uwO0X9gT1XgWogr/6a4UVhL51fMd9999wCLeR24nqK1YrqmonAZouhaVWG77bYLxx57bPoeFz8JT3ziE6tjcfXtsPTSS6fv0cdg2HbbbatjdR8+/OEPB+JF8TH84Q9/SFE4j3GBnfT5wgsvDK973evqko7fvrGVLF0xEzABEzABEzABEzABEzABEzABEzCBkRHox2IwqhqVVVTT54MOOmhCnWXN1hQ/3481V27BNyGjFl/II8+32+dTTjmlyjm3GOyWRsfKtuYWg4rTtGUBj/vvv78qe5APgzA+4YQTKla33XZbz9XIVx9m4Zjf/e53VT5RFOw5n2FGxOJRvEur0yj6VsdOOumkCcUOw2IwL5uyZkqwxWC8YhxMwARMwARMwARMwARMwARMwARMYLYR6MdisIkRlm+rrbZa+NjHPhbWWWedCdFkzYZ1VVxUZMIxvsTFLsJVV10VHn300XQsimvhU5/61KR4bXbkFoPbb799wHqsKWAptuiii6bDucVgU/xubc0tBpmFlFsMkl+czhyij7tk0cb36GcwnH/++WGhhRbia99hEMbf+c53wvrrr5/KxppRVm9TVSZvK+du8cUXr6w8P/ShD1XWeVPlM8zjG220UYjTvFOWcfGTsMACC1TZx+nOaWYYO6JfxHDNNddUx4ZhMfiTn/wkxFWWU55f+9rXQpxOXeU/1h9mioLpepqACZiACZiACZiACZiACZiACZiACQyPQD8WgxdddFHrCsiaLQpOjWmxnNNiFlFE6Tz00EONcXs5kFsM5qvmTpU2txjsp625xeCf/vSn2uLwe7f55ptX1mtx2mltvDY7B2GMlSDM+cutJ6cqX21gERaFKIylfNZbbz3t6rqN08jT4isswHLWWWd1jTvVwdzqT+3pto3TpqssozBYMTj66KOr/U0fttlmmxQfP4YK+SIun/nMZ7S76/bSSy+t2t/GWrNrpi0PevGRlsAc3QRMwARMwARMwARMwARMwARMwATmBwLjJAzCM1+Qox9RLj8n4ywMUs9cxGojXOZtzD/3IgwSv44xQqUENBZj7CXk04bf+MY3Vkmif8gqr+gzstrf9OG8886r4iPKDhKij8sqL0Tmpj+1NV+BOb9e8v1N9UH4JB+mg+cBoZD9lK0FWfLj5eddd921qnOTkFymGfZ3C4PDJur8TMAETMAETMAETMAETMAETMAETGAGEBg3YRAhSaJNG8u1OtS50NNGeJsXFoOq77Of/ezU3rjwiXb1ve1VGGxi/PGPf7xi/6Mf/WjKehx44IFVfMQ9Baz+dA5ZDXqqsMUWW1TxWTm43xAXdumIZ5ye3TWbtddeO5WJiJeLcbJY7WbZSsZcW1hJ0s5y9WVERbX/ggsu6FoP2qs6c/6mK1gYnC7yLtcETMAETMAETMAETMAETMAETMAEppHAuAmDWFhJVDniiCMGIjMThEGmz9LeDTfccKC2krhXYbCJcfTzWLGPq/p25s6d21inM888s4pbWhiSv6YT07Zu04OZQq3zHf0xNpbXywGm5Cqv6N+va5Ljjz++ihtXZK7i5taOZ599drW//BBXY67Sl1OGf/3rX1fH4Pizn/2sTF59j6tXV3GPO+64av+8/mBhcF4Td3kmYAImYAImYAImYAImYAImYAImMAYExk0YBIkssXbeeeeKENNuse7ibyprMCWaCcLgVlttlYShfDpqP22lzb0Kg8StY8z+o446qhKqYH3aaad17rnnHg514mIunZtuuqmzzz77VHEQ4uICHul4/u/73//+hDikQSAjD8IjjzzSyaf9UtZvfvObPItOXDCmOueIflMF+TukTnGBl67Rf/vb31b1yy31EEMlLrL97Gc/OyEv8kUIVBw44lewDFioKo44xoV+qmj87vL6UgexqSLNww8WBuchbBdlAiZgAiZgAiZgAiZgAiZgAiZgAuNCYByFQU3nZLqnwp133lkJLVNN81SamSAM5tNOf//736eq99NWErYRBusYixvWdhK1tEUAQ+DSd7ZMgc0X71B6bbEGLNPwHSu6PB/21S2+8v73v7+Kh9DYLeT+DuNqyN2iVsc23njjKv980Y9jjjmm2q96Uuey3hzLp1BXGccPTGs+5JBDJuVTxzGucF2Jr3ke8/KzhcF5SdtlmYAJmIAJmIAJmIAJmIAJmIAJmMCYEMhXYj3xxBMbazWo3702opWs6BBerrvuulSnfsSymSAMnnrqqZV4dPjhh/fdVhIOyjgV/ti/m2++OU1vLoU9zgmC4HbbbVdrKZfnwWeE57e//e2TBEIJbpzr0lJQeSDwKd7FF1+s3bXbk08+uYo7Z86c2jjlztwXIv4S83D99dd3WFBF5Zdbpn7nYmKeNv/M74ap1mV6fT/ooIM6f/nLX/Ik0/J5AUqNlXIwARMwARMwARMwARMwARMwARMwARMwgbEl8IIXvCBEASxEEW1s6zisio1LW+MU2BAtA8Piiy8eXvjCF4anPOUpfTUxLnoS4lTkEH0QhhVXXDGssMIKYZFFFuma17e//e0QRbhw//33h2ht1zXuKA4++uijIU6lTn/RCjDVmXovscQSrYoj7e233x7idOrw5Cc/ObV/6aWXDgsuuGCrfEYV2cLgqMg6XxMwARMwARMwARMwARMwARMwARMwgaEQ+OIXvxi23nrrgFi0wQYbDCXPcc1kNrW16RwgBq6//voh+t5LwmRTPO8fnICFwcEZOgcTMAETMAETMAETMAETMAETMAETMIEREYgLcoTo4y2st956SRh8/OMfP6KSpj/b2dTWbrTjdOVw7LHHhgsuuCDEab3dovrYgAQsDA4I0MlNwARMwARMwARMwARMwARMwARMwARGRyD6YQvRz1wSiMZl+uWoWjub2tqN4VVXXRWWWWaZwJRbh9ESsDA4Wr7O3QRMwARMwARMwARMwARMwARMwARMwARMwATGkoCFwbE8La6UCZiACZiACZiACZiACZiACZiACZiACZiACYyWgIXB0fJ17iZgAiZgAiZgAiZgAiZgAiZgAiZgAiZgAiYwlgQsDI7laXGlTMAETMAETMAETMAETMAETMAETMAETMAETGC0BCwMjpavczcBEzABEzABEzABEzABEzABEzABEzABEzCBsSRgYXAsT4srZQImYAImYAImYAImYAImYAImYAImYAImYAKjJWBhcLR8nbsJmIAJmIAJmIAJmIAJmIAJmIAJmIAJmIAJjCUBC4NjeVpcKRMwARMwARMwARMwARMwARMwARMwARMwARMYLQELg6Pl69xNwARMwARMwARMwARMwARMwARMwARMwARMYCwJWBgcy9PiSpmACZiACZiACZiACZiACZiACZiACZiACZjAaAlYGBwtX+duAiZgAiZgAiZgAiZgAiZgAiZgAiZgAiZgAmNJwMLgWJ4WV8oETMAETMAETMAETMAETMAETMAETMAETMAERkvAwuBo+Tp3EzABEzABEzABEzABEzABEzABEzABEzABExhLAhYGx/K0uFImYAImYAImYAImYAImYAImYAImYAImYAImMFoCFgZHy9e5m4AJmIAJmIAJmIAJmIAJmIAJmIAJmIAJmMBYErAwOJanxZUyARMwARMwARMwARMwARMwARMwARMwARMwgdESsDA4Wr7O3QRMwARMwARMwARMwARMwARMwARMwARMwATGkoCFwbE8La6UCZiACZiACZiACZiACZiACZiACZiACZiACYyWgIXB0fJ17iZgAiZgAiZgAiZgAiZgAiZgAiZgAiZgAiYwlgQsDI7laXGlTMAETMAETMAETMAETMAETMAETMAETMAETGC0BCwMjpavczcBEzABEzABEzABEzABEzABEzABEzABEzCBsSRgYXAsT4srZQImYAImYAImYAImYAImYAImYAImYAImYAKjJWBhcLR8nbsJmIAJmIAJmIAJmIAJmIAJmIAJmIAJmIAJjCUBC4NjeVpcKRMwARMwARMwARMwARMwARMwARMwARMwARMYLQELg6Pl69xNwARMwARMwARMwARMwARMwARMwARMwARMYCwJWBgcy9PiSpmACZiACZiACZiACZiACZiACZiACZiACZjAaAlYGBwtX+duAiZgAiZgAiZgAiZgAiZgAiZgAiZgAiZgAmNJwMLgWJ4WV8oETMAETMAETMAETMAETMAETMAETMAETMAERkvAwuBo+Tp3EzABEzABEzABEzABEzABEzABEzABEzABExhLAhYGx/K0uFImYAImYAImYAImYAImYAImYAImYAImYAImMFoC/x9LDQjPhkkxwQAAAABJRU5ErkJggg==)"
      ]
    },
    {
      "cell_type": "code",
      "metadata": {
        "colab": {
          "base_uri": "https://localhost:8080/"
        },
        "id": "3tgRz-cvaRQY",
        "outputId": "1f7706a6-3980-4c9d-9040-9bc2a2fdb6d7"
      },
      "source": [
        "model.compile(loss='binary_crossentropy', \n",
        "              optimizer='adam', \n",
        "              metrics=['accuracy'])\n",
        "model.summary()"
      ],
      "execution_count": null,
      "outputs": [
        {
          "output_type": "stream",
          "text": [
            "Model: \"sequential\"\n",
            "_________________________________________________________________\n",
            "Layer (type)                 Output Shape              Param #   \n",
            "=================================================================\n",
            "dense (Dense)                (None, 10)                371490    \n",
            "_________________________________________________________________\n",
            "dense_1 (Dense)              (None, 5)                 55        \n",
            "=================================================================\n",
            "Total params: 371,545\n",
            "Trainable params: 371,545\n",
            "Non-trainable params: 0\n",
            "_________________________________________________________________\n"
          ],
          "name": "stdout"
        }
      ]
    },
    {
      "cell_type": "markdown",
      "metadata": {
        "id": "g-D-Rpt2ajc_"
      },
      "source": [
        "8. Time to train your model! Train your model in 20 iterations. What does batch_size represent?"
      ]
    },
    {
      "cell_type": "code",
      "metadata": {
        "colab": {
          "base_uri": "https://localhost:8080/"
        },
        "id": "cPfYCiyxaiXj",
        "outputId": "2d4e17ea-d419-4408-a4ae-7248c4ac8ce1"
      },
      "source": [
        "history = model.fit(X_train, y_train, epochs=20, batch_size=512)\n",
        "model.save_weights(\"model.h5\")\n",
        "print(\"Saved model to disk\")"
      ],
      "execution_count": null,
      "outputs": [
        {
          "output_type": "stream",
          "text": [
            "Epoch 1/20\n"
          ],
          "name": "stdout"
        },
        {
          "output_type": "stream",
          "text": [
            "/usr/local/lib/python3.7/dist-packages/tensorflow/python/framework/indexed_slices.py:449: UserWarning: Converting sparse IndexedSlices(IndexedSlices(indices=Tensor(\"gradient_tape/sequential/dense/embedding_lookup_sparse/Reshape_1:0\", shape=(None,), dtype=int32), values=Tensor(\"gradient_tape/sequential/dense/embedding_lookup_sparse/Reshape:0\", shape=(None, 10), dtype=float32), dense_shape=Tensor(\"gradient_tape/sequential/dense/embedding_lookup_sparse/Cast:0\", shape=(2,), dtype=int32))) to a dense Tensor of unknown shape. This may consume a large amount of memory.\n",
            "  \"shape. This may consume a large amount of memory.\" % value)\n"
          ],
          "name": "stderr"
        },
        {
          "output_type": "stream",
          "text": [
            "6/6 [==============================] - 14s 19ms/step - loss: 0.6917 - accuracy: 0.2637\n",
            "Epoch 2/20\n",
            "6/6 [==============================] - 0s 19ms/step - loss: 0.6824 - accuracy: 0.3646\n",
            "Epoch 3/20\n",
            "6/6 [==============================] - 0s 22ms/step - loss: 0.6726 - accuracy: 0.4137\n",
            "Epoch 4/20\n",
            "6/6 [==============================] - 0s 22ms/step - loss: 0.6626 - accuracy: 0.4451\n",
            "Epoch 5/20\n",
            "6/6 [==============================] - 0s 18ms/step - loss: 0.6515 - accuracy: 0.5095\n",
            "Epoch 6/20\n",
            "6/6 [==============================] - 0s 21ms/step - loss: 0.6403 - accuracy: 0.5432\n",
            "Epoch 7/20\n",
            "6/6 [==============================] - 0s 19ms/step - loss: 0.6288 - accuracy: 0.5776\n",
            "Epoch 8/20\n",
            "6/6 [==============================] - 0s 19ms/step - loss: 0.6172 - accuracy: 0.5918\n",
            "Epoch 9/20\n",
            "6/6 [==============================] - 0s 19ms/step - loss: 0.6042 - accuracy: 0.6225\n",
            "Epoch 10/20\n",
            "6/6 [==============================] - 0s 19ms/step - loss: 0.5899 - accuracy: 0.6518\n",
            "Epoch 11/20\n",
            "6/6 [==============================] - 0s 20ms/step - loss: 0.5762 - accuracy: 0.6623\n",
            "Epoch 12/20\n",
            "6/6 [==============================] - 0s 19ms/step - loss: 0.5638 - accuracy: 0.6781\n",
            "Epoch 13/20\n",
            "6/6 [==============================] - 0s 18ms/step - loss: 0.5486 - accuracy: 0.7001\n",
            "Epoch 14/20\n",
            "6/6 [==============================] - 0s 19ms/step - loss: 0.5358 - accuracy: 0.7146\n",
            "Epoch 15/20\n",
            "6/6 [==============================] - 0s 20ms/step - loss: 0.5217 - accuracy: 0.7228\n",
            "Epoch 16/20\n",
            "6/6 [==============================] - 0s 20ms/step - loss: 0.5078 - accuracy: 0.7474\n",
            "Epoch 17/20\n",
            "6/6 [==============================] - 0s 20ms/step - loss: 0.4950 - accuracy: 0.7560\n",
            "Epoch 18/20\n",
            "6/6 [==============================] - 0s 19ms/step - loss: 0.4827 - accuracy: 0.7629\n",
            "Epoch 19/20\n",
            "6/6 [==============================] - 0s 18ms/step - loss: 0.4694 - accuracy: 0.7753\n",
            "Epoch 20/20\n",
            "6/6 [==============================] - 0s 20ms/step - loss: 0.4571 - accuracy: 0.8032\n",
            "Saved model to disk\n"
          ],
          "name": "stdout"
        }
      ]
    },
    {
      "cell_type": "markdown",
      "metadata": {
        "id": "4ql-JxSMasVV"
      },
      "source": [
        "Note that if you rerun the fit() method, you will start off with the computed weights from the previous training. Make sure to call clear_session() before you start training the model again:\n",
        "\n",
        "from keras.backend import clear_session\n",
        "clear_session()"
      ]
    },
    {
      "cell_type": "markdown",
      "metadata": {
        "id": "hVghya7kaymu"
      },
      "source": [
        "9. Plot the accuracy and loss of your trained model."
      ]
    },
    {
      "cell_type": "code",
      "metadata": {
        "colab": {
          "base_uri": "https://localhost:8080/",
          "height": 590
        },
        "id": "CUEd7j6na4_U",
        "outputId": "38a82047-6d7b-4809-b630-3d6abb4caebe"
      },
      "source": [
        "print(history.history.keys())\n",
        "plt.plot(history.history['accuracy'])\n",
        "#plt.plot(history.history['val_acc'])\n",
        "plt.title('model accuracy')\n",
        "plt.ylabel('accuracy')\n",
        "plt.xlabel('epoch')\n",
        "plt.legend(['train', 'test'], loc='upper left')\n",
        "plt.show()\n",
        "\n",
        "# summarize history for loss\n",
        "plt.plot(history.history['loss'])\n",
        "# plt.plot(history.history['val_loss'])\n",
        "plt.title('model loss')\n",
        "plt.ylabel('loss')\n",
        "plt.xlabel('epoch')\n",
        "plt.legend(['train', 'test'], loc='upper left')\n",
        "plt.show()"
      ],
      "execution_count": null,
      "outputs": [
        {
          "output_type": "stream",
          "text": [
            "dict_keys(['loss', 'accuracy'])\n"
          ],
          "name": "stdout"
        },
        {
          "output_type": "display_data",
          "data": {
            "image/png": "[encoded data removed]",
            "text/plain": [
              "<Figure size 432x288 with 1 Axes>"
            ]
          },
          "metadata": {
            "tags": [],
            "needs_background": "light"
          }
        },
        {
          "output_type": "display_data",
          "data": {
            "image/png": "[encoded data removed]",
            "text/plain": [
              "<Figure size 432x288 with 1 Axes>"
            ]
          },
          "metadata": {
            "tags": [],
            "needs_background": "light"
          }
        }
      ]
    },
    {
      "cell_type": "code",
      "metadata": {
        "id": "82trliepbBLq"
      },
      "source": [
        "# Here we converted the code to a function so we can use it later as well\n",
        "plt.style.use('ggplot')\n",
        "\n",
        "def plot_history(history, val=0):\n",
        "    acc = history.history['accuracy']\n",
        "    if val == 1:\n",
        "        val_acc = history.history['val_accuracy'] # we can add a validation set in our fit function with nn\n",
        "    loss = history.history['loss']\n",
        "    if val == 1:\n",
        "        val_loss = history.history['val_loss']\n",
        "    x = range(1, len(acc) + 1)\n",
        "\n",
        "    plt.figure(figsize=(12, 5))\n",
        "    plt.subplot(1, 2, 1)\n",
        "    plt.plot(x, acc, 'b', label='Training accuracy')\n",
        "    if val == 1:\n",
        "        plt.plot(x, val_acc, 'r', label='Validation accuracy')\n",
        "    plt.ylabel('accuracy')\n",
        "    plt.xlabel('epoch')\n",
        "    plt.title('Accuracy')\n",
        "    plt.legend()\n",
        "    plt.subplot(1, 2, 2)\n",
        "    plt.plot(x, loss, 'b', label='Training loss')\n",
        "    if val == 1:\n",
        "        plt.plot(x, val_loss, 'r', label='Validation loss')\n",
        "    plt.ylabel('loss')\n",
        "    plt.xlabel('epoch')\n",
        "    plt.title('Loss')\n",
        "    plt.legend()"
      ],
      "execution_count": null,
      "outputs": []
    },
    {
      "cell_type": "code",
      "metadata": {
        "colab": {
          "base_uri": "https://localhost:8080/",
          "height": 353
        },
        "id": "eTV8TL1nbGas",
        "outputId": "1b0be8f6-3534-40ba-e9b7-3788b513812a"
      },
      "source": [
        "plot_history(history)"
      ],
      "execution_count": null,
      "outputs": [
        {
          "output_type": "display_data",
          "data": {
            "image/png": "[encoded data removed]",
            "text/plain": [
              "<Figure size 864x360 with 2 Axes>"
            ]
          },
          "metadata": {
            "tags": []
          }
        }
      ]
    },
    {
      "cell_type": "markdown",
      "metadata": {
        "id": "F9qVfJ9_bRZR"
      },
      "source": [
        "10. Evaluate the accuracy of your trained model on the test set. Compare that with the accuarcy of train."
      ]
    },
    {
      "cell_type": "code",
      "metadata": {
        "colab": {
          "base_uri": "https://localhost:8080/"
        },
        "id": "YfqNo_HrbSas",
        "outputId": "48d34a87-b389-4cb7-d1a3-62e76a9c066b"
      },
      "source": [
        "loss, accuracy = model.evaluate(X_test,y_test)\n",
        "print('Test set\\n  Loss: {:0.3f}\\n  Accuracy: {:0.3f}'.format(loss,accuracy))"
      ],
      "execution_count": null,
      "outputs": [
        {
          "output_type": "stream",
          "text": [
            "62/62 [==============================] - 1s 2ms/step - loss: 0.4707 - accuracy: 0.6966\n",
            "Test set\n",
            "  Loss: 0.471\n",
            "  Accuracy: 0.697\n"
          ],
          "name": "stdout"
        }
      ]
    },
    {
      "cell_type": "markdown",
      "metadata": {
        "id": "-CuhmxgcbfvF"
      },
      "source": [
        "You can already see that the model was overfitting since it reached over 95% accuracy for the training set. When training a model, you can use a separate testing and validation set. What you would usually do is take the model with the highest validation accuracy and then test the model with the testing set."
      ]
    },
    {
      "cell_type": "markdown",
      "metadata": {
        "id": "-GlsSu_WbjQx"
      },
      "source": [
        "## The embedding layer\n",
        "Here we want to create a sequentional model with an embedding layer as the input layer and dense layer as the next layers. To do this first we need to apply the tokenizer from Keras and convert text data into sequences to be ready for the embedding layer.\n",
        "\n",
        "11. Use the tokenizer from Keras with 20000 words and create X-train and X_test sequences."
      ]
    },
    {
      "cell_type": "code",
      "metadata": {
        "id": "0fR_6jsabtfC"
      },
      "source": [
        "tokenizer = Tokenizer(num_words=20000)\n",
        "tokenizer.fit_on_texts(df_train.text.values)"
      ],
      "execution_count": null,
      "outputs": []
    },
    {
      "cell_type": "code",
      "metadata": {
        "id": "6ZzkqyJdbxZq"
      },
      "source": [
        "X_train = tokenizer.texts_to_sequences(df_train.text.values)\n",
        "X_test = tokenizer.texts_to_sequences(df_test.text.values)"
      ],
      "execution_count": null,
      "outputs": []
    },
    {
      "cell_type": "code",
      "metadata": {
        "colab": {
          "base_uri": "https://localhost:8080/"
        },
        "id": "5T47HaQMb0Rs",
        "outputId": "13eb146c-74e8-4012-aca2-2dca9bbd9ce7"
      },
      "source": [
        "vocab_size = len(tokenizer.word_index) + 1  # Adding 1 because of reserved 0 index for sequence padding\n",
        "vocab_size"
      ],
      "execution_count": null,
      "outputs": [
        {
          "output_type": "execute_result",
          "data": {
            "text/plain": [
              "38111"
            ]
          },
          "metadata": {
            "tags": []
          },
          "execution_count": 38
        }
      ]
    },
    {
      "cell_type": "markdown",
      "metadata": {
        "id": "uxyw-v1wb260"
      },
      "source": [
        "Note that the a document-term matrix uses vectors of word counts, and each vector has the same length (the size of the total corpus vocabulary). With Keras Tokenizer, the resulting vectors equal the length of each text, and the numbers don’t denote counts, but rather correspond to the word values from the dictionary tokenizer.word_index."
      ]
    },
    {
      "cell_type": "code",
      "metadata": {
        "colab": {
          "base_uri": "https://localhost:8080/"
        },
        "id": "ip1_AyEccK-k",
        "outputId": "f431c461-92a1-45f6-c563-06042302ecc5"
      },
      "source": [
        "for word in ['the', 'all', 'happy', 'sad']:\n",
        "    print('{}: {}'.format(word, tokenizer.word_index[word]))"
      ],
      "execution_count": null,
      "outputs": [
        {
          "output_type": "stream",
          "text": [
            "the: 1\n",
            "all: 35\n",
            "happy: 1043\n",
            "sad: 3422\n"
          ],
          "name": "stdout"
        }
      ]
    },
    {
      "cell_type": "markdown",
      "metadata": {
        "id": "dHmfGff0ckOe"
      },
      "source": [
        "12. Use the pad_sequence() function to pad each text sequence with zeros, so that each vector has the same length of 100 words."
      ]
    },
    {
      "cell_type": "code",
      "metadata": {
        "id": "VpfP_tmVclT8"
      },
      "source": [
        "maxlen = 100\n",
        "X_train = pad_sequences(X_train, padding='post', maxlen=maxlen)\n",
        "X_test = pad_sequences(X_test, padding='post', maxlen=maxlen)"
      ],
      "execution_count": null,
      "outputs": []
    },
    {
      "cell_type": "code",
      "metadata": {
        "colab": {
          "base_uri": "https://localhost:8080/"
        },
        "id": "rRJlLCD8crNB",
        "outputId": "4fabda59-1176-4db5-8aa1-5db07e5d18c1"
      },
      "source": [
        "print(X_train[0, :])"
      ],
      "execution_count": null,
      "outputs": [
        {
          "output_type": "stream",
          "text": [
            "[  555 12221    23    75  1507   379    23    16 15253     3   621    63\n",
            "  5371 10293    73  2745     5   246   686     2 10294     2  2340     4\n",
            "  3927     6   332  4110  1290     3 12222   131    37     2     1    72\n",
            "  7235    34   177    21     7  3928     4    33    16    35    86 12223\n",
            "  3226     4    23   241   753     3 12222     3    47    38  7953    42\n",
            "     4    93    17   364     0     0     0     0     0     0     0     0\n",
            "     0     0     0     0     0     0     0     0     0     0     0     0\n",
            "     0     0     0     0     0     0     0     0     0     0     0     0\n",
            "     0     0     0     0]\n"
          ],
          "name": "stdout"
        }
      ]
    },
    {
      "cell_type": "markdown",
      "metadata": {
        "id": "T4UDEjaWcyBI"
      },
      "source": [
        "Typically it does not matter whether you prepend or append zeros. The first values represent the index in the vocabulary, and the rest are zeros from sequence padding, since you have a short document."
      ]
    },
    {
      "cell_type": "markdown",
      "metadata": {
        "id": "BImEMieoczNF"
      },
      "source": [
        "13. Now it is time to create a neural network model using an embedding layer as input. Take the output of the embedding layer (embedding_dim = 50) and plug it into a Dense layer with 10 neurons, and the relu activation function. In order to do this, you have to add a Flatten layer in between that prepares the sequential input for the Dense layer. Note that in the Embedding layer, input_dim is the size of the vocabulary, output_dim is the size of the embedding vector, and input_length is the length of the text sequence."
      ]
    },
    {
      "cell_type": "code",
      "metadata": {
        "colab": {
          "base_uri": "https://localhost:8080/"
        },
        "id": "rfTtaVUedasG",
        "outputId": "8dbd5d97-6d47-4edb-953b-d1c8daebd1e0"
      },
      "source": [
        "embedding_dim = 50\n",
        "\n",
        "model = Sequential()\n",
        "model.add(layers.Embedding(input_dim=vocab_size, \n",
        "                           output_dim=embedding_dim, \n",
        "                           input_length=maxlen))\n",
        "model.add(layers.Flatten())\n",
        "model.add(layers.Dense(10, activation='relu'))\n",
        "model.add(layers.Dense(5, activation='sigmoid'))\n",
        "model.compile(optimizer='adam',\n",
        "              loss='binary_crossentropy',\n",
        "              metrics=['accuracy'])\n",
        "model.summary()"
      ],
      "execution_count": null,
      "outputs": [
        {
          "output_type": "stream",
          "text": [
            "Model: \"sequential_1\"\n",
            "_________________________________________________________________\n",
            "Layer (type)                 Output Shape              Param #   \n",
            "=================================================================\n",
            "embedding (Embedding)        (None, 100, 50)           1905550   \n",
            "_________________________________________________________________\n",
            "flatten (Flatten)            (None, 5000)              0         \n",
            "_________________________________________________________________\n",
            "dense_2 (Dense)              (None, 10)                50010     \n",
            "_________________________________________________________________\n",
            "dense_3 (Dense)              (None, 5)                 55        \n",
            "=================================================================\n",
            "Total params: 1,955,615\n",
            "Trainable params: 1,955,615\n",
            "Non-trainable params: 0\n",
            "_________________________________________________________________\n"
          ],
          "name": "stdout"
        }
      ]
    },
    {
      "cell_type": "markdown",
      "metadata": {
        "id": "lnh-nOB8dggw"
      },
      "source": [
        "You can now see that we have 1905550 new parameters to train. This number comes from vocab_size (38111) times the embedding_dim (50). These weights of the embedding layer are randomly initialized and then are adjusted through backpropagation during training. This model takes the words as they come in the order of the sentences as input vectors."
      ]
    },
    {
      "cell_type": "code",
      "metadata": {
        "id": "DSmeHag6dolp"
      },
      "source": [
        "history = model.fit(X_train, y_train,\n",
        "                    epochs=10,\n",
        "                    verbose=False,\n",
        "                    validation_data=(X_test, y_test),\n",
        "                    batch_size=64)"
      ],
      "execution_count": null,
      "outputs": []
    },
    {
      "cell_type": "code",
      "metadata": {
        "colab": {
          "base_uri": "https://localhost:8080/"
        },
        "id": "OE3v8VuhdrCe",
        "outputId": "2c9783e1-b21c-4610-8fe2-0a3115708ea9"
      },
      "source": [
        "loss, accuracy = model.evaluate(X_train, y_train, verbose=False)\n",
        "print(\"Training Accuracy: {:.4f}\".format(accuracy))\n",
        "loss, accuracy = model.evaluate(X_test, y_test, verbose=False)\n",
        "print(\"Testing Accuracy:  {:.4f}\".format(accuracy))"
      ],
      "execution_count": null,
      "outputs": [
        {
          "output_type": "stream",
          "text": [
            "Training Accuracy: 0.9772\n",
            "Testing Accuracy:  0.7926\n"
          ],
          "name": "stdout"
        }
      ]
    },
    {
      "cell_type": "code",
      "metadata": {
        "colab": {
          "base_uri": "https://localhost:8080/",
          "height": 353
        },
        "id": "ZcSJ-lKfdyrr",
        "outputId": "6679bdfe-9c89-4358-cccf-bd9f9c0f63c4"
      },
      "source": [
        "plot_history(history, val=1)"
      ],
      "execution_count": null,
      "outputs": [
        {
          "output_type": "display_data",
          "data": {
            "image/png": "[encoded data removed]",
            "text/plain": [
              "<Figure size 864x360 with 2 Axes>"
            ]
          },
          "metadata": {
            "tags": []
          }
        }
      ]
    },
    {
      "cell_type": "markdown",
      "metadata": {
        "id": "M_4Y141yd5sz"
      },
      "source": [
        "14. Another way to work with embeddings is by using a MaxPooling1D/AveragePooling1D or a GlobalMaxPooling1D/GlobalAveragePooling1D layer after the embedding. You can think of the pooling layers as a way to downsample (a way to reduce the size of) the incoming feature vectors. Use a GlobalMaxPool1D layer after the embedding layer and create a new model. Does the performance change?"
      ]
    },
    {
      "cell_type": "code",
      "metadata": {
        "colab": {
          "base_uri": "https://localhost:8080/"
        },
        "id": "0fEOFNaJeU2n",
        "outputId": "412fc18a-207f-4d9a-c56e-793ef62ed22f"
      },
      "source": [
        "embedding_dim = 50\n",
        "\n",
        "model = Sequential()\n",
        "model.add(layers.Embedding(input_dim=vocab_size, \n",
        "                           output_dim=embedding_dim, \n",
        "                           input_length=maxlen))\n",
        "model.add(layers.GlobalMaxPool1D())\n",
        "model.add(layers.Dense(10, activation='relu'))\n",
        "model.add(layers.Dense(5, activation='sigmoid'))\n",
        "model.compile(optimizer='adam',\n",
        "              loss='binary_crossentropy',\n",
        "              metrics=['accuracy'])\n",
        "model.summary()"
      ],
      "execution_count": null,
      "outputs": [
        {
          "output_type": "stream",
          "text": [
            "Model: \"sequential_2\"\n",
            "_________________________________________________________________\n",
            "Layer (type)                 Output Shape              Param #   \n",
            "=================================================================\n",
            "embedding_1 (Embedding)      (None, 100, 50)           1905550   \n",
            "_________________________________________________________________\n",
            "global_max_pooling1d (Global (None, 50)                0         \n",
            "_________________________________________________________________\n",
            "dense_4 (Dense)              (None, 10)                510       \n",
            "_________________________________________________________________\n",
            "dense_5 (Dense)              (None, 5)                 55        \n",
            "=================================================================\n",
            "Total params: 1,906,115\n",
            "Trainable params: 1,906,115\n",
            "Non-trainable params: 0\n",
            "_________________________________________________________________\n"
          ],
          "name": "stdout"
        }
      ]
    },
    {
      "cell_type": "code",
      "metadata": {
        "colab": {
          "base_uri": "https://localhost:8080/",
          "height": 388
        },
        "id": "jA3EWoTpeZzW",
        "outputId": "e9eb3e10-b4d8-4788-e6f1-d159c0a862fa"
      },
      "source": [
        "history = model.fit(X_train, y_train,\n",
        "                    epochs=10,\n",
        "                    verbose=False,\n",
        "                    validation_data=(X_test, y_test),\n",
        "                    batch_size=64)\n",
        "loss, accuracy = model.evaluate(X_train, y_train, verbose=False)\n",
        "print(\"Training Accuracy: {:.4f}\".format(accuracy))\n",
        "loss, accuracy = model.evaluate(X_test, y_test, verbose=False)\n",
        "print(\"Testing Accuracy:  {:.4f}\".format(accuracy))\n",
        "plot_history(history, val=1)"
      ],
      "execution_count": null,
      "outputs": [
        {
          "output_type": "stream",
          "text": [
            "Training Accuracy: 0.9395\n",
            "Testing Accuracy:  0.7559\n"
          ],
          "name": "stdout"
        },
        {
          "output_type": "display_data",
          "data": {
            "image/png": "[encoded data removed]",
            "text/plain": [
              "<Figure size 864x360 with 2 Axes>"
            ]
          },
          "metadata": {
            "tags": []
          }
        }
      ]
    },
    {
      "cell_type": "markdown",
      "metadata": {
        "id": "d8ZibDDCehcK"
      },
      "source": [
        "Pretrained word embeddings\n",
        "15. Pretrained word embeddings are the embeddings learned in one task that are used for solving another similar task. These embeddings are trained on large data sets, saved, and then used for solving other tasks. Here, we are going to use the GloVe embeddings which are precomputed word embeddings simply trained on a large corpus of text. For this purpose, we wrote the following fuction to apply on the pretrained word embeddings and use the corresponding word vectors for words in our vocabulary. Download one of the GloVe embeddings (e.g. glove.6B.50d.txt) and create the embedding matrix using the provided function. (Link to download: https://nlp.stanford.edu/projects/glove/)"
      ]
    },
    {
      "cell_type": "code",
      "metadata": {
        "id": "cAx20PPPejcf"
      },
      "source": [
        "filpathGloveData = '/content/drive/MyDrive/Colab Notebooks/AppliedTextMiningSummerschoolUtrechtJuly2021/glove.6B.50d.txt'"
      ],
      "execution_count": null,
      "outputs": []
    },
    {
      "cell_type": "code",
      "metadata": {
        "id": "Kyo2IdlgjDWw"
      },
      "source": [
        "def create_embedding_matrix(filepath, word_index, embedding_dim):\n",
        "    vocab_size = len(word_index) + 1  # Adding again 1 because of reserved 0 index\n",
        "    embedding_matrix = np.zeros((vocab_size, embedding_dim))\n",
        "\n",
        "    with open(filepath, encoding=\"utf8\") as f:\n",
        "        for line in f:\n",
        "            word, *vector = line.split()\n",
        "            if word in word_index:\n",
        "                idx = word_index[word] \n",
        "                embedding_matrix[idx] = np.array(\n",
        "                    vector, dtype=np.float32)[:embedding_dim]\n",
        "\n",
        "    return embedding_matrix"
      ],
      "execution_count": null,
      "outputs": []
    },
    {
      "cell_type": "code",
      "metadata": {
        "id": "0vL5Gxa1jJOn"
      },
      "source": [
        "embedding_dim = 50\n",
        "embedding_matrix = create_embedding_matrix('/content/drive/MyDrive/Colab Notebooks/AppliedTextMiningSummerschoolUtrechtJuly2021/glove.6B.50d.txt',\n",
        "                                           tokenizer.word_index, embedding_dim)"
      ],
      "execution_count": null,
      "outputs": []
    },
    {
      "cell_type": "code",
      "metadata": {
        "colab": {
          "base_uri": "https://localhost:8080/"
        },
        "id": "xrDDO1VZjWPo",
        "outputId": "ec6915de-0fd7-40e5-af3d-1ce8f801926a"
      },
      "source": [
        "nonzero_elements = np.count_nonzero(np.count_nonzero(embedding_matrix, axis=1))\n",
        "nonzero_elements / vocab_size"
      ],
      "execution_count": null,
      "outputs": [
        {
          "output_type": "execute_result",
          "data": {
            "text/plain": [
              "0.7771771929364225"
            ]
          },
          "metadata": {
            "tags": []
          },
          "execution_count": 51
        }
      ]
    },
    {
      "cell_type": "markdown",
      "metadata": {
        "id": "L9F0pUBIjbRp"
      },
      "source": [
        "16. Build your previous previous neural network model again, but this time with the initial weights from the pretrained word embeddings. Set the trainable argument False so that your embedding layer does not learn the word vectors anymore, and then again back to True. How does the performances change?"
      ]
    },
    {
      "cell_type": "code",
      "metadata": {
        "colab": {
          "base_uri": "https://localhost:8080/"
        },
        "id": "E0jNsGEijdGR",
        "outputId": "572fc5aa-fa2a-49b9-b560-d72c1abd2147"
      },
      "source": [
        "model = Sequential()\n",
        "model.add(layers.Embedding(vocab_size, embedding_dim, \n",
        "                           weights=[embedding_matrix], \n",
        "                           input_length=maxlen, \n",
        "                           trainable=False))\n",
        "model.add(layers.GlobalMaxPool1D())\n",
        "model.add(layers.Dense(10, activation='relu'))\n",
        "model.add(layers.Dense(5, activation='sigmoid'))\n",
        "model.compile(optimizer='adam',\n",
        "              loss='binary_crossentropy',\n",
        "              metrics=['accuracy'])\n",
        "model.summary()\n"
      ],
      "execution_count": null,
      "outputs": [
        {
          "output_type": "stream",
          "text": [
            "Model: \"sequential_3\"\n",
            "_________________________________________________________________\n",
            "Layer (type)                 Output Shape              Param #   \n",
            "=================================================================\n",
            "embedding_2 (Embedding)      (None, 100, 50)           1905550   \n",
            "_________________________________________________________________\n",
            "global_max_pooling1d_1 (Glob (None, 50)                0         \n",
            "_________________________________________________________________\n",
            "dense_6 (Dense)              (None, 10)                510       \n",
            "_________________________________________________________________\n",
            "dense_7 (Dense)              (None, 5)                 55        \n",
            "=================================================================\n",
            "Total params: 1,906,115\n",
            "Trainable params: 565\n",
            "Non-trainable params: 1,905,550\n",
            "_________________________________________________________________\n"
          ],
          "name": "stdout"
        }
      ]
    },
    {
      "cell_type": "code",
      "metadata": {
        "colab": {
          "base_uri": "https://localhost:8080/",
          "height": 388
        },
        "id": "8pxrZDnqjjvm",
        "outputId": "86ace4db-0d7e-40d7-c37c-615a3106469e"
      },
      "source": [
        "history = model.fit(X_train, y_train,\n",
        "                    epochs=50,\n",
        "                    verbose=False,\n",
        "                    validation_data=(X_test, y_test),\n",
        "                    batch_size=10)\n",
        "loss, accuracy = model.evaluate(X_train, y_train, verbose=False)\n",
        "print(\"Training Accuracy: {:.4f}\".format(accuracy))\n",
        "loss, accuracy = model.evaluate(X_test, y_test, verbose=False)\n",
        "print(\"Testing Accuracy:  {:.4f}\".format(accuracy))\n",
        "plot_history(history, val=1)"
      ],
      "execution_count": null,
      "outputs": [
        {
          "output_type": "stream",
          "text": [
            "Training Accuracy: 0.8113\n",
            "Testing Accuracy:  0.7840\n"
          ],
          "name": "stdout"
        },
        {
          "output_type": "display_data",
          "data": {
            "image/png": "[encoded data removed]",
            "text/plain": [
              "<Figure size 864x360 with 2 Axes>"
            ]
          },
          "metadata": {
            "tags": []
          }
        }
      ]
    },
    {
      "cell_type": "markdown",
      "metadata": {
        "id": "NS2bnWoEjw5R"
      },
      "source": [
        "Since the word embeddings are not additionally trained, it is expected to be lower. But let’s now see how this performs if we allow the embedding to be trained by using trainable=True:"
      ]
    },
    {
      "cell_type": "code",
      "metadata": {
        "colab": {
          "base_uri": "https://localhost:8080/"
        },
        "id": "F1cOyH1Tj0F0",
        "outputId": "ca71970b-e9ec-4695-f51b-713aeec65f0f"
      },
      "source": [
        "model = Sequential()\n",
        "model.add(layers.Embedding(vocab_size, embedding_dim, \n",
        "                           weights=[embedding_matrix], \n",
        "                           input_length=maxlen, \n",
        "                           trainable=True))\n",
        "model.add(layers.GlobalMaxPool1D())\n",
        "model.add(layers.Dense(10, activation='relu'))\n",
        "model.add(layers.Dense(5, activation='sigmoid'))\n",
        "model.compile(optimizer='adam',\n",
        "              loss='categorical_crossentropy',\n",
        "              metrics=['accuracy'])\n",
        "model.summary()"
      ],
      "execution_count": null,
      "outputs": [
        {
          "output_type": "stream",
          "text": [
            "Model: \"sequential_4\"\n",
            "_________________________________________________________________\n",
            "Layer (type)                 Output Shape              Param #   \n",
            "=================================================================\n",
            "embedding_3 (Embedding)      (None, 100, 50)           1905550   \n",
            "_________________________________________________________________\n",
            "global_max_pooling1d_2 (Glob (None, 50)                0         \n",
            "_________________________________________________________________\n",
            "dense_8 (Dense)              (None, 10)                510       \n",
            "_________________________________________________________________\n",
            "dense_9 (Dense)              (None, 5)                 55        \n",
            "=================================================================\n",
            "Total params: 1,906,115\n",
            "Trainable params: 1,906,115\n",
            "Non-trainable params: 0\n",
            "_________________________________________________________________\n"
          ],
          "name": "stdout"
        }
      ]
    },
    {
      "cell_type": "markdown",
      "metadata": {
        "id": "ahnCmyyIj4mg"
      },
      "source": [
        "Because it is a multiclass classification problem, log loss is used as the loss function (categorical_crossentropy in Keras). The efficient ADAM optimization algorithm is used. The model is fit for 50 epochs. A large batch size of 64 reviews is used to space out weight updates."
      ]
    },
    {
      "cell_type": "code",
      "metadata": {
        "colab": {
          "base_uri": "https://localhost:8080/",
          "height": 388
        },
        "id": "CZm-j94-j7cE",
        "outputId": "9cd50df0-9f09-44c5-f473-72fd76620944"
      },
      "source": [
        "history = model.fit(X_train, y_train,\n",
        "                    epochs=50,\n",
        "                    verbose=False,\n",
        "                    validation_data=(X_test, y_test),\n",
        "                    batch_size=10)\n",
        "loss, accuracy = model.evaluate(X_train, y_train, verbose=False)\n",
        "print(\"Training Accuracy: {:.4f}\".format(accuracy))\n",
        "loss, accuracy = model.evaluate(X_test, y_test, verbose=False)\n",
        "print(\"Testing Accuracy:  {:.4f}\".format(accuracy))\n",
        "plot_history(history, val=1)"
      ],
      "execution_count": null,
      "outputs": [
        {
          "output_type": "stream",
          "text": [
            "Training Accuracy: 0.9803\n",
            "Testing Accuracy:  0.8539\n"
          ],
          "name": "stdout"
        },
        {
          "output_type": "display_data",
          "data": {
            "image/png": "[encoded data removed]",
            "text/plain": [
              "<Figure size 864x360 with 2 Axes>"
            ]
          },
          "metadata": {
            "tags": []
          }
        }
      ]
    }
  ]
}